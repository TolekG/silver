{
 "cells": [
  {
   "cell_type": "code",
   "execution_count": 1,
   "metadata": {},
   "outputs": [
    {
     "name": "stdout",
     "output_type": "stream",
     "text": [
      "Ваш алгоритм угадывает число в среднем за 6 попыток\n"
     ]
    },
    {
     "data": {
      "text/plain": [
       "6"
      ]
     },
     "execution_count": 1,
     "metadata": {},
     "output_type": "execute_result"
    }
   ],
   "source": [
    "import numpy as np\n",
    "    '''Программа опрелеляет среднее число попыток угадать random число'''\n",
    "\n",
    "\n",
    "def game_core(number):\n",
    "    '''Сначала устанавливаем любое random число, а потом уменьшаем или увеличиваем его \n",
    "    в зависимости от того, больше оно или меньше нужного.\n",
    "    Функция принимает загаданное число и возвращает число попыток'''\n",
    "    count = 1\n",
    "    predict = np.random.randint(1,101) # Используем randint для получения random числа \n",
    "    while number != predict:\n",
    "        count += 1\n",
    "        if number > predict: \n",
    "            predict += int((number+1-predict)/2) # Сужаем диапазон поиска при 1 условии\n",
    "        elif number < predict: \n",
    "            predict -= int((predict+1-number)/2) # Аналогично при 2 условии\n",
    "    \n",
    "    return(count) \n",
    "\n",
    "\n",
    "def score_game(game_core):\n",
    "    '''Запускаем игру 1000 раз, чтобы узнать, как быстро игра угадывает число'''\n",
    "    count_list = []                       \n",
    "    np.random.seed(1) # Фиксируем random.seed, чтобы воспроизводить те же random числа\n",
    "    random_array = np.random.randint(1,101, size=1000)\n",
    "    \n",
    "    for number in random_array:\n",
    "        count_list.append(game_core(number))\n",
    "    score = int(np.mean(count_list))\n",
    "    print(f\"Ваш алгоритм угадывает число в среднем за {score} попыток\")\n",
    "    \n",
    "    return(score)\n",
    "\n",
    "\n",
    "score_game(game_core)"
   ]
  },
  {
   "cell_type": "code",
   "execution_count": null,
   "metadata": {},
   "outputs": [],
   "source": []
  }
 ],
 "metadata": {
  "kernelspec": {
   "display_name": "Python 3",
   "language": "python",
   "name": "python3"
  },
  "language_info": {
   "codemirror_mode": {
    "name": "ipython",
    "version": 3
   },
   "file_extension": ".py",
   "mimetype": "text/x-python",
   "name": "python",
   "nbconvert_exporter": "python",
   "pygments_lexer": "ipython3",
   "version": "3.8.5"
  }
 },
 "nbformat": 4,
 "nbformat_minor": 4
}
