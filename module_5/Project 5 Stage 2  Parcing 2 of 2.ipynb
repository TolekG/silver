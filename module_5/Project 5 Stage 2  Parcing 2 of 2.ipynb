{
 "cells": [
  {
   "cell_type": "markdown",
   "id": "abc44a71",
   "metadata": {},
   "source": [
    " ## Парсинг Часть 2"
   ]
  },
  {
   "cell_type": "code",
   "execution_count": null,
   "id": "33321368",
   "metadata": {},
   "outputs": [],
   "source": [
    "# Загружаем библиотеки\n",
    "import numpy as np # linear algebra\n",
    "import pandas as pd\n",
    "import os\n",
    "import requests  \n",
    "from bs4 import BeautifulSoup\n",
    "import time\n",
    "import json\n",
    "import re"
   ]
  },
  {
   "cell_type": "code",
   "execution_count": 10,
   "id": "7fd25b55",
   "metadata": {},
   "outputs": [],
   "source": [
    "data = pd.read_csv('links.csv',header=None)\n",
    "all_links = data[0].tolist()"
   ]
  },
  {
   "cell_type": "code",
   "execution_count": 24,
   "id": "504bb6c9",
   "metadata": {},
   "outputs": [],
   "source": [
    "# Создаем функцию для парсинга даных\n",
    "def collecting_features(all_links, step, max_step):\n",
    "    \n",
    "    # Создаем пустой датафрейм для последующих записей\n",
    "    df = pd.DataFrame()\n",
    "        \n",
    "\n",
    "    count = 0\n",
    "    for link in all_links[step:max_step]: \n",
    "      \n",
    "        # Создаем пустой датафрейм для цикла\n",
    "        cycle_df = pd.DataFrame()\n",
    "        \n",
    "        # Загружаем страницу по ссылке\n",
    "        try:\n",
    "            res = requests.get(link)\n",
    "            page = BeautifulSoup(res.content.decode('utf-8'), 'html.parser')\n",
    "        except:\n",
    "            print(f'Error get link={link}, {res.status_code}')\n",
    "        \n",
    "        # Загружаем поочередно страницу с блоком JSON\n",
    "        try:\n",
    "            json_data = json.loads(page.find('script', \n",
    "                                     type=\"application/ld+json\").string)\n",
    "        except:\n",
    "            json_data = None\n",
    "    \n",
    "        #  Загружаем блок, где находится ссылка на модель\n",
    "        try:\n",
    "            url_block = page.find('a', class_='Link SpoilerLink CardCatalogLink SpoilerLink_type_default')\n",
    "            brand_model = url_block.get('href')\n",
    "            model_response = requests.get(brand_model)\n",
    "            model_page = BeautifulSoup(\n",
    "                model_response.content.decode('utf-8'), 'html.parser')\n",
    "        except:\n",
    "            print(f'Error get link={link}, {res.status_code}')\n",
    "    \n",
    "        # Загружаем часть JSON по ссылке модели\n",
    "        try:\n",
    "            json_data_model= json.loads(model_page.find('script', \n",
    "                            type=\"application/json\", \n",
    "                            id='initial-state').string)\n",
    "        except:\n",
    "            json_data_model = None    \n",
    "        \n",
    "        # Находим перечень опций данной модели по ссылке\n",
    "        try:\n",
    "            options_dict = json_data_model['state']['compare']['selected'][0]['options']\n",
    "            options_list = [key for key in list(options_dict.keys()) if options_dict[key] == 1]\n",
    "        except:\n",
    "            options_list = []\n",
    "        \n",
    "        # Выводим блок оснащения\n",
    "        try:\n",
    "            json_data_equipment = json.loads(\n",
    "                page.find('script', type=\"application/json\", id='initial-state').string)\n",
    "        except:\n",
    "            json_data_equipment = None    \n",
    "        \n",
    "    # Собираем необходимые признаки согласно перечню в тестовой выборке\n",
    "        try:\n",
    "            bodyType = json_data['bodyType']\n",
    "        except:\n",
    "            bodyType = None\n",
    "        try:\n",
    "            brand = json_data['brand']\n",
    "        except:\n",
    "            brand = None    \n",
    "        try:\n",
    "            color = json_data['color']\n",
    "        except:\n",
    "            color = None    \n",
    "        try:\n",
    "            complectation_dict = options_list\n",
    "        except:\n",
    "            complectation_dict = None    \n",
    "        try:\n",
    "            description = json_data['description']\n",
    "        except:\n",
    "            description = None    \n",
    "        try:\n",
    "            engineDisplacement = json_data['vehicleEngine']['engineDisplacement']\n",
    "        except:\n",
    "            engineDisplacement = None    \n",
    "        try:\n",
    "            enginePower = json_data['vehicleEngine']['enginePower']\n",
    "        except:\n",
    "            enginePower = None    \n",
    "        try:    \n",
    "            equipment_dict = json_data_equipment['card']['vehicle_info']['equipment']\n",
    "        except:\n",
    "            equipment_dict = None    \n",
    "        try:\n",
    "            fuelType = json_data['fuelType']\n",
    "        except:\n",
    "            fuelType = None    \n",
    "        try:\n",
    "            mileage = page.find('li', \n",
    "                        class_='CardInfoRow CardInfoRow_kmAge').find_all(\n",
    "            'span')[-1].text.replace(u'\\xa0', u' ')\n",
    "        except:\n",
    "            mileage = None    \n",
    "        try:\n",
    "            modelDate = json_data['modelDate']\n",
    "        except:\n",
    "            modelDate = None    \n",
    "        try:\n",
    "            model_info = json_data_equipment['card']['vehicle_info']['model_info']\n",
    "        except:\n",
    "            model_info = None    \n",
    "        try:\n",
    "            model_name = page.find_all(\n",
    "                'div', class_='InfoPopup InfoPopup_theme_plain InfoPopup_withChildren BreadcrumbsPopup')[1].text\n",
    "        except:\n",
    "            model_name = None    \n",
    "        try:\n",
    "            name = json_data['name']\n",
    "        except:\n",
    "            name = None\n",
    "        try:\n",
    "            numberOfDoors = json_data['numberOfDoors']\n",
    "        except:\n",
    "            numberOfDoors = None\n",
    "        try:\n",
    "            parsing_unixtime = int(time.time())\n",
    "        except:\n",
    "            parsing_unixtime = None    \n",
    "        try:\n",
    "            productionDate = json_data['productionDate']\n",
    "        except:\n",
    "            productionDate = None    \n",
    "        try:\n",
    "            sell_id = page.find(\n",
    "            'div', class_='CardHead__infoItem CardHead__id').text[2:]\n",
    "        except:\n",
    "            sell_id = None    \n",
    "        try:\n",
    "            super_gen = json.loads(\n",
    "                page.find('div', id=\"sale-data-attributes\").get('data-bem'))\n",
    "        except:\n",
    "            super_gen = None\n",
    "        try:\n",
    "            vehicleConfiguration = json_data['vehicleConfiguration']\n",
    "        except:\n",
    "            vehicleConfiguration = None    \n",
    "        try:\n",
    "            vehicleTransmission = json_data['vehicleTransmission']\n",
    "        except:\n",
    "            vehicleTransmission = None    \n",
    "        try:\n",
    "            vendor = json_data_equipment['card']['vehicle_info']['vendor']\n",
    "        except:\n",
    "            vendor = None    \n",
    "        try:\n",
    "            Владельцы = page.find('li', class_='CardInfoRow CardInfoRow_ownersCount').find_all(\n",
    "                'span')[-1].text.replace(u'\\xa0', u' ')\n",
    "        except:\n",
    "            Владельцы = None    \n",
    "        \n",
    "        try:\n",
    "            Владение = page.find(\n",
    "                'li', class_='CardInfoRow CardInfoRow_owningTime').find_all('span')[-1].text\n",
    "        except:\n",
    "            Владение = None    \n",
    "        try:\n",
    "            ПТС = page.find('li', class_='CardInfoRow CardInfoRow_pts').find_all(\n",
    "                'span')[-1].text\n",
    "        except:\n",
    "            ПТС = None    \n",
    "        try:\n",
    "            Привод = page.find('li', class_='CardInfoRow CardInfoRow_drive').find_all(\n",
    "                'span')[-1].text\n",
    "        except:\n",
    "            Привод = None    \n",
    "        try:\n",
    "            Руль = page.find('li', class_='CardInfoRow CardInfoRow_wheel').find_all(\n",
    "                'span')[-1].text\n",
    "        except:\n",
    "            Руль = None\n",
    "        try:\n",
    "            Состояние = page.find(\n",
    "                'li', class_='CardInfoRow CardInfoRow_state').find_all('span')[-1].text\n",
    "        except:\n",
    "            Состояние = None\n",
    "        try:\n",
    "            Таможня = page.find(\n",
    "                'li', class_='CardInfoRow CardInfoRow_customs').find_all('span')[-1].text\n",
    "        except:\n",
    "            Таможня = None\n",
    "        \n",
    "        # Запишем дату объявления    \n",
    "        try:\n",
    "            advert_date = page.find(\n",
    "                'div', class_='CardHead__infoItem CardHead__creationDate').text\n",
    "        except:\n",
    "            advert_date = None\n",
    "        \n",
    "        # Цена предложения. Отсутствующий параметр в тесте - нужно предсказать\n",
    "        try:\n",
    "            price = json_data['offers']['price']\n",
    "        except:\n",
    "            price = None\n",
    "        \n",
    "        \n",
    "        # Создадим строку из словаря признаков и их значений:\n",
    "        row = {'bodyType': bodyType,\n",
    "               'brand': brand,\n",
    "               'color': color,\n",
    "               'complectation_dict': complectation_dict, \n",
    "               'description': description,\n",
    "               'engineDisplacement': engineDisplacement, \n",
    "               'enginePower': enginePower,\n",
    "               'equipment_dict': equipment_dict, \n",
    "               'fuelType': fuelType, \n",
    "               'mileage': mileage, \n",
    "               'modelDate': modelDate,\n",
    "               'model_info': model_info,\n",
    "               'model_name': model_name,\n",
    "               'name': name, \n",
    "               'numberOfDoors': numberOfDoors, \n",
    "               'parsing_unixtime': parsing_unixtime,  \n",
    "               'productionDate': productionDate,\n",
    "               'sell_id': sell_id, \n",
    "               'super_gen': super_gen,\n",
    "               'vehicleConfiguration': vehicleConfiguration,\n",
    "               'vehicleTransmission': vehicleTransmission,\n",
    "               'vendor': vendor,\n",
    "               'Владельцы': Владельцы,\n",
    "               'Владение': Владение,\n",
    "               'ПТС': ПТС, \n",
    "               'Привод': Привод, \n",
    "               'Руль': Руль,\n",
    "               'Состояние': Состояние, \n",
    "               'Таможня': Таможня,  \n",
    "               'advert_date': advert_date,\n",
    "               'price': price\n",
    "              }\n",
    "        \n",
    "        df = pd.concat([df, pd.DataFrame([row])])\n",
    "\n",
    "        # увеличиваем смещение на количество строк выгрузки\n",
    "        time.sleep(0.05)\n",
    "        step += 1\n",
    "        count += 1\n",
    "        if step % 100 == 0:\n",
    "            time.sleep(2)\n",
    "            print(f'Downloaded from line: {step} counts at the current cycle {count}')\n",
    "        else:\n",
    "            continue\n",
    "    return df"
   ]
  },
  {
   "cell_type": "code",
   "execution_count": 35,
   "id": "469a3b49",
   "metadata": {},
   "outputs": [],
   "source": [
    "basic_df = pd.DataFrame()"
   ]
  },
  {
   "cell_type": "code",
   "execution_count": 31,
   "id": "b0807f6d",
   "metadata": {},
   "outputs": [
    {
     "name": "stdout",
     "output_type": "stream",
     "text": [
      "Downloaded from line: 100 counts at the current cycle 100\n",
      "Downloaded from line: 200 counts at the current cycle 200\n",
      "Downloaded from line: 300 counts at the current cycle 300\n",
      "Downloaded from line: 400 counts at the current cycle 400\n",
      "Downloaded from line: 500 counts at the current cycle 500\n",
      "Downloaded from line: 600 counts at the current cycle 600\n",
      "Downloaded from line: 700 counts at the current cycle 700\n",
      "Downloaded from line: 800 counts at the current cycle 800\n",
      "Downloaded from line: 900 counts at the current cycle 900\n",
      "Downloaded from line: 1000 counts at the current cycle 1000\n"
     ]
    }
   ],
   "source": [
    "data_1 = collecting_features(all_links, 0, 1000)\n",
    "data_1.to_csv('data_1.csv', index=False)"
   ]
  },
  {
   "cell_type": "code",
   "execution_count": 36,
   "id": "c6ce1e6d",
   "metadata": {},
   "outputs": [],
   "source": [
    "basic_df = pd.concat([basic_df, data_1])"
   ]
  },
  {
   "cell_type": "code",
   "execution_count": 17,
   "id": "93f3b650",
   "metadata": {},
   "outputs": [
    {
     "name": "stdout",
     "output_type": "stream",
     "text": [
      "Downloaded from line: 2100 counts at the current cycle 100\n",
      "Downloaded from line: 2200 counts at the current cycle 200\n",
      "Downloaded from line: 2300 counts at the current cycle 300\n",
      "Downloaded from line: 2400 counts at the current cycle 400\n",
      "Downloaded from line: 2500 counts at the current cycle 500\n",
      "Downloaded from line: 2600 counts at the current cycle 600\n",
      "Downloaded from line: 2700 counts at the current cycle 700\n",
      "Downloaded from line: 2800 counts at the current cycle 800\n",
      "Downloaded from line: 2900 counts at the current cycle 900\n",
      "Downloaded from line: 3000 counts at the current cycle 1000\n"
     ]
    }
   ],
   "source": [
    "data_2 = collecting_features(all_links, 2000, 3000)"
   ]
  },
  {
   "cell_type": "code",
   "execution_count": 20,
   "id": "2bc98628",
   "metadata": {},
   "outputs": [],
   "source": [
    "data_2.to_csv('data_2.csv', index=False)"
   ]
  },
  {
   "cell_type": "code",
   "execution_count": 37,
   "id": "5b8f19b9",
   "metadata": {},
   "outputs": [],
   "source": [
    "basic_df = pd.concat([basic_df, data_2])"
   ]
  },
  {
   "cell_type": "code",
   "execution_count": 21,
   "id": "110206b4",
   "metadata": {
    "scrolled": true
   },
   "outputs": [
    {
     "name": "stdout",
     "output_type": "stream",
     "text": [
      "Error get link=https://auto.ru/cars/used/sale/mitsubishi/galant/1105143145-c892091d/, 200\n",
      "Downloaded from line: 3100 counts at the current cycle 100\n",
      "Downloaded from line: 3200 counts at the current cycle 200\n",
      "Error get link=https://auto.ru/cars/used/sale/mitsubishi/carisma/1103043432-7fe216bb/, 200\n",
      "Downloaded from line: 3300 counts at the current cycle 300\n",
      "Downloaded from line: 3400 counts at the current cycle 400\n",
      "Downloaded from line: 3500 counts at the current cycle 500\n",
      "Error get link=https://auto.ru/cars/used/sale/mitsubishi/carisma/1101461701-bc78c558/, 200\n",
      "Downloaded from line: 3600 counts at the current cycle 600\n",
      "Downloaded from line: 3700 counts at the current cycle 700\n",
      "Error get link=https://auto.ru/cars/used/sale/volkswagen/touareg/1105328044-f661f279/, 200\n",
      "Downloaded from line: 3800 counts at the current cycle 800\n",
      "Downloaded from line: 3900 counts at the current cycle 900\n",
      "Error get link=https://auto.ru/cars/used/sale/volkswagen/tiguan/1105326602-0e618ed9/, 200\n",
      "Downloaded from line: 4000 counts at the current cycle 1000\n"
     ]
    }
   ],
   "source": [
    "data_3 = collecting_features(all_links, 3000, 4000)"
   ]
  },
  {
   "cell_type": "code",
   "execution_count": 22,
   "id": "5cf20329",
   "metadata": {},
   "outputs": [],
   "source": [
    "data_3.to_csv('data_3.csv', index=False)"
   ]
  },
  {
   "cell_type": "code",
   "execution_count": 38,
   "id": "37817ef9",
   "metadata": {},
   "outputs": [],
   "source": [
    "basic_df = pd.concat([basic_df, data_3])"
   ]
  },
  {
   "cell_type": "code",
   "execution_count": 25,
   "id": "bd71a5f0",
   "metadata": {},
   "outputs": [
    {
     "name": "stdout",
     "output_type": "stream",
     "text": [
      "Downloaded from line: 4100 counts at the current cycle 100\n",
      "Downloaded from line: 4200 counts at the current cycle 200\n",
      "Downloaded from line: 4300 counts at the current cycle 300\n",
      "Downloaded from line: 4400 counts at the current cycle 400\n",
      "Downloaded from line: 4500 counts at the current cycle 500\n",
      "Downloaded from line: 4600 counts at the current cycle 600\n",
      "Downloaded from line: 4700 counts at the current cycle 700\n",
      "Downloaded from line: 4800 counts at the current cycle 800\n",
      "Downloaded from line: 4900 counts at the current cycle 900\n",
      "Downloaded from line: 5000 counts at the current cycle 1000\n",
      "Downloaded from line: 5100 counts at the current cycle 1100\n",
      "Downloaded from line: 5200 counts at the current cycle 1200\n",
      "Downloaded from line: 5300 counts at the current cycle 1300\n",
      "Downloaded from line: 5400 counts at the current cycle 1400\n",
      "Error get link=https://auto.ru/cars/used/sale/volkswagen/polo/1105237518-c1b416fc/, 200\n",
      "Downloaded from line: 5500 counts at the current cycle 1500\n",
      "Downloaded from line: 5600 counts at the current cycle 1600\n",
      "Downloaded from line: 5700 counts at the current cycle 1700\n",
      "Downloaded from line: 5800 counts at the current cycle 1800\n",
      "Downloaded from line: 5900 counts at the current cycle 1900\n",
      "Downloaded from line: 6000 counts at the current cycle 2000\n",
      "Downloaded from line: 6100 counts at the current cycle 2100\n",
      "Downloaded from line: 6200 counts at the current cycle 2200\n",
      "Downloaded from line: 6300 counts at the current cycle 2300\n",
      "Downloaded from line: 6400 counts at the current cycle 2400\n",
      "Downloaded from line: 6500 counts at the current cycle 2500\n",
      "Downloaded from line: 6600 counts at the current cycle 2600\n",
      "Downloaded from line: 6700 counts at the current cycle 2700\n",
      "Error get link=https://auto.ru/cars/used/sale/volkswagen/polo/1105311247-b4d81614/, 200\n",
      "Downloaded from line: 6800 counts at the current cycle 2800\n",
      "Error get link=https://auto.ru/cars/used/sale/volkswagen/passat/1086264362-dc44fd02/, 200\n",
      "Downloaded from line: 6900 counts at the current cycle 2900\n",
      "Downloaded from line: 7000 counts at the current cycle 3000\n",
      "Downloaded from line: 7100 counts at the current cycle 3100\n",
      "Downloaded from line: 7200 counts at the current cycle 3200\n",
      "Downloaded from line: 7300 counts at the current cycle 3300\n",
      "Error get link=https://auto.ru/cars/used/sale/volkswagen/caravelle/1105171518-cb617768/, 200\n",
      "Downloaded from line: 7400 counts at the current cycle 3400\n",
      "Downloaded from line: 7500 counts at the current cycle 3500\n",
      "Downloaded from line: 7600 counts at the current cycle 3600\n",
      "Downloaded from line: 7700 counts at the current cycle 3700\n",
      "Downloaded from line: 7800 counts at the current cycle 3800\n",
      "Downloaded from line: 7900 counts at the current cycle 3900\n",
      "Error get link=https://auto.ru/cars/used/sale/skoda/octavia/1105328813-f7e3073b/, 200\n",
      "Downloaded from line: 8000 counts at the current cycle 4000\n"
     ]
    }
   ],
   "source": [
    "data_4 = collecting_features(all_links, 4000, 8000)\n",
    "data_4.to_csv('data_4.csv', index=False)"
   ]
  },
  {
   "cell_type": "code",
   "execution_count": 39,
   "id": "dd93939c",
   "metadata": {},
   "outputs": [],
   "source": [
    "basic_df = pd.concat([basic_df, data_4])"
   ]
  },
  {
   "cell_type": "code",
   "execution_count": 27,
   "id": "c321f851",
   "metadata": {},
   "outputs": [
    {
     "name": "stdout",
     "output_type": "stream",
     "text": [
      "Downloaded from line: 8100 counts at the current cycle 100\n",
      "Downloaded from line: 8200 counts at the current cycle 200\n",
      "Downloaded from line: 8300 counts at the current cycle 300\n",
      "Downloaded from line: 8400 counts at the current cycle 400\n",
      "Downloaded from line: 8500 counts at the current cycle 500\n",
      "Downloaded from line: 8600 counts at the current cycle 600\n",
      "Downloaded from line: 8700 counts at the current cycle 700\n",
      "Error get link=https://auto.ru/cars/used/sale/skoda/rapid/1105053165-27e018d5/, 200\n",
      "Downloaded from line: 8800 counts at the current cycle 800\n",
      "Downloaded from line: 8900 counts at the current cycle 900\n",
      "Error get link=https://auto.ru/cars/used/sale/skoda/octavia/1105268215-0294cb64/, 503\n",
      "Downloaded from line: 9000 counts at the current cycle 1000\n",
      "Downloaded from line: 9100 counts at the current cycle 1100\n",
      "Downloaded from line: 9200 counts at the current cycle 1200\n",
      "Downloaded from line: 9300 counts at the current cycle 1300\n",
      "Downloaded from line: 9400 counts at the current cycle 1400\n",
      "Error get link=https://auto.ru/cars/used/sale/skoda/karoq/1104984545-0cb9a121/, 200\n",
      "Downloaded from line: 9500 counts at the current cycle 1500\n",
      "Downloaded from line: 9600 counts at the current cycle 1600\n",
      "Downloaded from line: 9700 counts at the current cycle 1700\n",
      "Downloaded from line: 9800 counts at the current cycle 1800\n",
      "Error get link=https://auto.ru/cars/used/sale/skoda/octavia/1104949072-d926f5d9/, 200\n",
      "Error get link=https://auto.ru/cars/used/sale/skoda/fabia/1096464370-d453307d/, 200\n",
      "Downloaded from line: 9900 counts at the current cycle 1900\n",
      "Downloaded from line: 10000 counts at the current cycle 2000\n",
      "Downloaded from line: 10100 counts at the current cycle 2100\n",
      "Downloaded from line: 10200 counts at the current cycle 2200\n",
      "Downloaded from line: 10300 counts at the current cycle 2300\n",
      "Downloaded from line: 10400 counts at the current cycle 2400\n",
      "Downloaded from line: 10500 counts at the current cycle 2500\n",
      "Downloaded from line: 10600 counts at the current cycle 2600\n",
      "Downloaded from line: 10700 counts at the current cycle 2700\n",
      "Error get link=https://auto.ru/cars/used/sale/bmw/x6/1105021835-5cdfa18a/, 503\n",
      "Downloaded from line: 10800 counts at the current cycle 2800\n",
      "Downloaded from line: 10900 counts at the current cycle 2900\n",
      "Downloaded from line: 11000 counts at the current cycle 3000\n",
      "Downloaded from line: 11100 counts at the current cycle 3100\n",
      "Downloaded from line: 11200 counts at the current cycle 3200\n",
      "Downloaded from line: 11300 counts at the current cycle 3300\n",
      "Downloaded from line: 11400 counts at the current cycle 3400\n",
      "Downloaded from line: 11500 counts at the current cycle 3500\n",
      "Downloaded from line: 11600 counts at the current cycle 3600\n",
      "Downloaded from line: 11700 counts at the current cycle 3700\n",
      "Downloaded from line: 11800 counts at the current cycle 3800\n",
      "Downloaded from line: 11900 counts at the current cycle 3900\n",
      "Error get link=https://auto.ru/cars/used/sale/bmw/5er/1104626269-aac1f536/, 502\n",
      "Error get link=https://auto.ru/cars/used/sale/bmw/x3/1104669007-1b8dc2cc/, 502\n",
      "Downloaded from line: 12000 counts at the current cycle 4000\n",
      "Downloaded from line: 12100 counts at the current cycle 4100\n",
      "Error get link=https://auto.ru/cars/used/sale/bmw/x3/1104240832-2f13885b/, 502\n",
      "Downloaded from line: 12200 counts at the current cycle 4200\n",
      "Downloaded from line: 12300 counts at the current cycle 4300\n",
      "Error get link=https://auto.ru/cars/used/sale/bmw/3er/1105298818-651a9783/, 502\n",
      "Downloaded from line: 12400 counts at the current cycle 4400\n",
      "Error get link=https://auto.ru/cars/used/sale/bmw/x5_m/1105298338-fec8f08d/, 200\n",
      "Downloaded from line: 12500 counts at the current cycle 4500\n",
      "Error get link=https://auto.ru/cars/used/sale/bmw/x3/1105234930-5e948952/, 503\n",
      "Error get link=https://auto.ru/cars/used/sale/bmw/3er/1101150000-80a3f533/, 599\n",
      "Downloaded from line: 12600 counts at the current cycle 4600\n",
      "Downloaded from line: 12700 counts at the current cycle 4700\n",
      "Error get link=https://auto.ru/cars/used/sale/bmw/5er/1105226137-28a78a2e/, 502\n",
      "Downloaded from line: 12800 counts at the current cycle 4800\n",
      "Downloaded from line: 12900 counts at the current cycle 4900\n",
      "Error get link=https://auto.ru/cars/used/sale/bmw/3er/1105184797-f221fb3e/, 502\n",
      "Downloaded from line: 13000 counts at the current cycle 5000\n"
     ]
    }
   ],
   "source": [
    "data_5 = collecting_features(all_links, 8000, 13000)\n",
    "data_5.to_csv('data_5.csv', index=False)"
   ]
  },
  {
   "cell_type": "code",
   "execution_count": 40,
   "id": "6caf3334",
   "metadata": {},
   "outputs": [],
   "source": [
    "basic_df = pd.concat([basic_df, data_5])"
   ]
  },
  {
   "cell_type": "code",
   "execution_count": 28,
   "id": "05c25893",
   "metadata": {},
   "outputs": [
    {
     "name": "stdout",
     "output_type": "stream",
     "text": [
      "Downloaded from line: 13100 counts at the current cycle 100\n",
      "Downloaded from line: 13200 counts at the current cycle 200\n",
      "Downloaded from line: 13300 counts at the current cycle 300\n",
      "Downloaded from line: 13400 counts at the current cycle 400\n",
      "Downloaded from line: 13500 counts at the current cycle 500\n",
      "Error get link=https://auto.ru/cars/used/sale/bmw/5er/1094795740-1048c0fd/, 599\n",
      "Downloaded from line: 13600 counts at the current cycle 600\n",
      "Error get link=https://auto.ru/cars/used/sale/bmw/x5/1105169199-214cf2f1/, 200\n",
      "Downloaded from line: 13700 counts at the current cycle 700\n",
      "Downloaded from line: 13800 counts at the current cycle 800\n",
      "Downloaded from line: 13900 counts at the current cycle 900\n",
      "Downloaded from line: 14000 counts at the current cycle 1000\n",
      "Downloaded from line: 14100 counts at the current cycle 1100\n",
      "Downloaded from line: 14200 counts at the current cycle 1200\n",
      "Downloaded from line: 14300 counts at the current cycle 1300\n",
      "Downloaded from line: 14400 counts at the current cycle 1400\n",
      "Downloaded from line: 14500 counts at the current cycle 1500\n",
      "Downloaded from line: 14600 counts at the current cycle 1600\n",
      "Downloaded from line: 14700 counts at the current cycle 1700\n",
      "Downloaded from line: 14800 counts at the current cycle 1800\n",
      "Downloaded from line: 14900 counts at the current cycle 1900\n",
      "Downloaded from line: 15000 counts at the current cycle 2000\n",
      "Downloaded from line: 15100 counts at the current cycle 2100\n",
      "Downloaded from line: 15200 counts at the current cycle 2200\n",
      "Downloaded from line: 15300 counts at the current cycle 2300\n",
      "Downloaded from line: 15400 counts at the current cycle 2400\n",
      "Downloaded from line: 15500 counts at the current cycle 2500\n",
      "Downloaded from line: 15600 counts at the current cycle 2600\n",
      "Downloaded from line: 15700 counts at the current cycle 2700\n",
      "Error get link=https://auto.ru/cars/used/sale/audi/q7/1104902328-11078536/, 200\n",
      "Downloaded from line: 15800 counts at the current cycle 2800\n",
      "Downloaded from line: 15900 counts at the current cycle 2900\n",
      "Downloaded from line: 16000 counts at the current cycle 3000\n",
      "Downloaded from line: 16100 counts at the current cycle 3100\n",
      "Downloaded from line: 16200 counts at the current cycle 3200\n",
      "Downloaded from line: 16300 counts at the current cycle 3300\n",
      "Downloaded from line: 16400 counts at the current cycle 3400\n",
      "Downloaded from line: 16500 counts at the current cycle 3500\n",
      "Downloaded from line: 16600 counts at the current cycle 3600\n",
      "Downloaded from line: 16700 counts at the current cycle 3700\n",
      "Downloaded from line: 16800 counts at the current cycle 3800\n",
      "Downloaded from line: 16900 counts at the current cycle 3900\n",
      "Downloaded from line: 17000 counts at the current cycle 4000\n",
      "Downloaded from line: 17100 counts at the current cycle 4100\n",
      "Downloaded from line: 17200 counts at the current cycle 4200\n",
      "Downloaded from line: 17300 counts at the current cycle 4300\n",
      "Downloaded from line: 17400 counts at the current cycle 4400\n",
      "Downloaded from line: 17500 counts at the current cycle 4500\n",
      "Downloaded from line: 17600 counts at the current cycle 4600\n",
      "Downloaded from line: 17700 counts at the current cycle 4700\n",
      "Downloaded from line: 17800 counts at the current cycle 4800\n",
      "Downloaded from line: 17900 counts at the current cycle 4900\n",
      "Downloaded from line: 18000 counts at the current cycle 5000\n",
      "Downloaded from line: 18100 counts at the current cycle 5100\n",
      "Downloaded from line: 18200 counts at the current cycle 5200\n",
      "Downloaded from line: 18300 counts at the current cycle 5300\n",
      "Downloaded from line: 18400 counts at the current cycle 5400\n",
      "Downloaded from line: 18500 counts at the current cycle 5500\n",
      "Downloaded from line: 18600 counts at the current cycle 5600\n",
      "Downloaded from line: 18700 counts at the current cycle 5700\n",
      "Downloaded from line: 18800 counts at the current cycle 5800\n",
      "Downloaded from line: 18900 counts at the current cycle 5900\n",
      "Downloaded from line: 19000 counts at the current cycle 6000\n",
      "Downloaded from line: 19100 counts at the current cycle 6100\n",
      "Downloaded from line: 19200 counts at the current cycle 6200\n",
      "Downloaded from line: 19300 counts at the current cycle 6300\n",
      "Downloaded from line: 19400 counts at the current cycle 6400\n",
      "Downloaded from line: 19500 counts at the current cycle 6500\n",
      "Downloaded from line: 19600 counts at the current cycle 6600\n",
      "Downloaded from line: 19700 counts at the current cycle 6700\n",
      "Downloaded from line: 19800 counts at the current cycle 6800\n",
      "Error get link=https://auto.ru/cars/used/sale/nissan/murano/1105044168-f185a884/, 200\n",
      "Downloaded from line: 19900 counts at the current cycle 6900\n",
      "Downloaded from line: 20000 counts at the current cycle 7000\n"
     ]
    }
   ],
   "source": [
    "data_6 = collecting_features(all_links, 13000, 20000)\n",
    "data_6.to_csv('data_6.csv', index=False)"
   ]
  },
  {
   "cell_type": "code",
   "execution_count": 41,
   "id": "3367d3b5",
   "metadata": {},
   "outputs": [],
   "source": [
    "basic_df = pd.concat([basic_df, data_6])"
   ]
  },
  {
   "cell_type": "code",
   "execution_count": 29,
   "id": "0bd9d619",
   "metadata": {},
   "outputs": [
    {
     "name": "stdout",
     "output_type": "stream",
     "text": [
      "Downloaded from line: 20100 counts at the current cycle 100\n",
      "Downloaded from line: 20200 counts at the current cycle 200\n",
      "Downloaded from line: 20300 counts at the current cycle 300\n",
      "Downloaded from line: 20400 counts at the current cycle 400\n",
      "Downloaded from line: 20500 counts at the current cycle 500\n",
      "Downloaded from line: 20600 counts at the current cycle 600\n",
      "Downloaded from line: 20700 counts at the current cycle 700\n",
      "Downloaded from line: 20800 counts at the current cycle 800\n",
      "Downloaded from line: 20900 counts at the current cycle 900\n",
      "Downloaded from line: 21000 counts at the current cycle 1000\n",
      "Downloaded from line: 21100 counts at the current cycle 1100\n",
      "Downloaded from line: 21200 counts at the current cycle 1200\n",
      "Downloaded from line: 21300 counts at the current cycle 1300\n",
      "Downloaded from line: 21400 counts at the current cycle 1400\n",
      "Downloaded from line: 21500 counts at the current cycle 1500\n",
      "Downloaded from line: 21600 counts at the current cycle 1600\n",
      "Error get link=https://auto.ru/cars/used/sale/mercedes/m_klasse/1104772436-fd751777/, 200\n",
      "Downloaded from line: 21700 counts at the current cycle 1700\n",
      "Downloaded from line: 21800 counts at the current cycle 1800\n",
      "Downloaded from line: 21900 counts at the current cycle 1900\n",
      "Downloaded from line: 22000 counts at the current cycle 2000\n",
      "Downloaded from line: 22100 counts at the current cycle 2100\n",
      "Downloaded from line: 22200 counts at the current cycle 2200\n",
      "Downloaded from line: 22300 counts at the current cycle 2300\n",
      "Downloaded from line: 22400 counts at the current cycle 2400\n",
      "Downloaded from line: 22500 counts at the current cycle 2500\n",
      "Downloaded from line: 22600 counts at the current cycle 2600\n",
      "Downloaded from line: 22700 counts at the current cycle 2700\n",
      "Downloaded from line: 22800 counts at the current cycle 2800\n",
      "Downloaded from line: 22900 counts at the current cycle 2900\n",
      "Downloaded from line: 23000 counts at the current cycle 3000\n",
      "Error get link=https://auto.ru/cars/used/sale/mercedes/v_klasse/1105315766-9bc676d5/, 200\n",
      "Downloaded from line: 23100 counts at the current cycle 3100\n",
      "Error get link=https://auto.ru/cars/used/sale/mercedes/gl_klasse/1105313076-0b342b3c/, 200\n",
      "Downloaded from line: 23200 counts at the current cycle 3200\n",
      "Downloaded from line: 23300 counts at the current cycle 3300\n",
      "Downloaded from line: 23400 counts at the current cycle 3400\n",
      "Downloaded from line: 23500 counts at the current cycle 3500\n",
      "Downloaded from line: 23600 counts at the current cycle 3600\n",
      "Downloaded from line: 23700 counts at the current cycle 3700\n",
      "Downloaded from line: 23800 counts at the current cycle 3800\n",
      "Downloaded from line: 23900 counts at the current cycle 3900\n",
      "Downloaded from line: 24000 counts at the current cycle 4000\n",
      "Downloaded from line: 24100 counts at the current cycle 4100\n",
      "Downloaded from line: 24200 counts at the current cycle 4200\n",
      "Downloaded from line: 24300 counts at the current cycle 4300\n",
      "Error get link=https://auto.ru/cars/used/sale/mercedes/s_klasse/1105146953-cfc50ea2/, 200\n",
      "Downloaded from line: 24400 counts at the current cycle 4400\n",
      "Downloaded from line: 24500 counts at the current cycle 4500\n",
      "Downloaded from line: 24600 counts at the current cycle 4600\n",
      "Downloaded from line: 24700 counts at the current cycle 4700\n",
      "Downloaded from line: 24800 counts at the current cycle 4800\n",
      "Downloaded from line: 24900 counts at the current cycle 4900\n",
      "Downloaded from line: 25000 counts at the current cycle 5000\n",
      "Downloaded from line: 25100 counts at the current cycle 5100\n",
      "Downloaded from line: 25200 counts at the current cycle 5200\n",
      "Downloaded from line: 25300 counts at the current cycle 5300\n",
      "Downloaded from line: 25400 counts at the current cycle 5400\n",
      "Downloaded from line: 25500 counts at the current cycle 5500\n",
      "Downloaded from line: 25600 counts at the current cycle 5600\n",
      "Downloaded from line: 25700 counts at the current cycle 5700\n",
      "Downloaded from line: 25800 counts at the current cycle 5800\n",
      "Downloaded from line: 25900 counts at the current cycle 5900\n",
      "Downloaded from line: 26000 counts at the current cycle 6000\n"
     ]
    }
   ],
   "source": [
    "data_7 = collecting_features(all_links, 20000, 26000)\n",
    "data_7.to_csv('data_7.csv', index=False)"
   ]
  },
  {
   "cell_type": "code",
   "execution_count": 42,
   "id": "c18a4ffa",
   "metadata": {},
   "outputs": [],
   "source": [
    "basic_df = pd.concat([basic_df, data_7])"
   ]
  },
  {
   "cell_type": "code",
   "execution_count": 30,
   "id": "40bbd10b",
   "metadata": {},
   "outputs": [
    {
     "name": "stdout",
     "output_type": "stream",
     "text": [
      "Downloaded from line: 26100 counts at the current cycle 100\n",
      "Downloaded from line: 26200 counts at the current cycle 200\n",
      "Downloaded from line: 26300 counts at the current cycle 300\n",
      "Downloaded from line: 26400 counts at the current cycle 400\n",
      "Downloaded from line: 26500 counts at the current cycle 500\n",
      "Downloaded from line: 26600 counts at the current cycle 600\n",
      "Downloaded from line: 26700 counts at the current cycle 700\n",
      "Downloaded from line: 26800 counts at the current cycle 800\n",
      "Downloaded from line: 26900 counts at the current cycle 900\n",
      "Downloaded from line: 27000 counts at the current cycle 1000\n",
      "Downloaded from line: 27100 counts at the current cycle 1100\n",
      "Error get link=https://auto.ru/cars/used/sale/toyota/rav_4/1105303558-a2017d6a/, 502\n",
      "Error get link=https://auto.ru/cars/used/sale/toyota/camry/1105106437-61f27bad/, 502\n",
      "Downloaded from line: 27200 counts at the current cycle 1200\n",
      "Error get link=https://auto.ru/cars/used/sale/toyota/land_cruiser/1105272525-095a1f27/, 502\n",
      "Error get link=https://auto.ru/cars/used/sale/toyota/land_cruiser_prado/1105272978-e3f66587/, 502\n",
      "Downloaded from line: 27300 counts at the current cycle 1300\n",
      "Downloaded from line: 27400 counts at the current cycle 1400\n",
      "Error get link=https://auto.ru/cars/used/sale/toyota/tundra/1105197954-828b10ad/, 502\n",
      "Error get link=https://auto.ru/cars/used/sale/toyota/camry/1105160682-7900d811/, 502\n",
      "Error get link=https://auto.ru/cars/used/sale/toyota/rav_4/1105187520-e955e843/, 502\n",
      "Downloaded from line: 27500 counts at the current cycle 1500\n",
      "Error get link=https://auto.ru/cars/used/sale/toyota/land_cruiser_prado/1105255778-1feb234f/, 502\n",
      "Error get link=https://auto.ru/cars/used/sale/toyota/alphard/1105162341-b81f3d7a/, 502\n",
      "Downloaded from line: 27600 counts at the current cycle 1600\n",
      "Downloaded from line: 27700 counts at the current cycle 1700\n",
      "Downloaded from line: 27800 counts at the current cycle 1800\n",
      "Downloaded from line: 27900 counts at the current cycle 1900\n",
      "Downloaded from line: 28000 counts at the current cycle 2000\n",
      "Downloaded from line: 28100 counts at the current cycle 2100\n",
      "Downloaded from line: 28200 counts at the current cycle 2200\n",
      "Downloaded from line: 28300 counts at the current cycle 2300\n",
      "Downloaded from line: 28400 counts at the current cycle 2400\n",
      "Downloaded from line: 28500 counts at the current cycle 2500\n",
      "Downloaded from line: 28600 counts at the current cycle 2600\n",
      "Downloaded from line: 28700 counts at the current cycle 2700\n",
      "Downloaded from line: 28800 counts at the current cycle 2800\n",
      "Downloaded from line: 28900 counts at the current cycle 2900\n",
      "Downloaded from line: 29000 counts at the current cycle 3000\n",
      "Downloaded from line: 29100 counts at the current cycle 3100\n",
      "Downloaded from line: 29200 counts at the current cycle 3200\n",
      "Downloaded from line: 29300 counts at the current cycle 3300\n",
      "Downloaded from line: 29400 counts at the current cycle 3400\n",
      "Downloaded from line: 29500 counts at the current cycle 3500\n",
      "Downloaded from line: 29600 counts at the current cycle 3600\n",
      "Error get link=https://auto.ru/cars/used/sale/toyota/rav_4/1105150265-2c766158/, 200\n",
      "Downloaded from line: 29700 counts at the current cycle 3700\n",
      "Error get link=https://auto.ru/cars/used/sale/toyota/rav_4/1104857674-075a0d62/, 502\n",
      "Error get link=https://auto.ru/cars/used/sale/toyota/corolla/1104108670-24371f12/, 502\n",
      "Downloaded from line: 29800 counts at the current cycle 3800\n",
      "Downloaded from line: 29900 counts at the current cycle 3900\n",
      "Downloaded from line: 30000 counts at the current cycle 4000\n",
      "Downloaded from line: 30100 counts at the current cycle 4100\n",
      "Downloaded from line: 30200 counts at the current cycle 4200\n",
      "Downloaded from line: 30300 counts at the current cycle 4300\n",
      "Downloaded from line: 30400 counts at the current cycle 4400\n",
      "Downloaded from line: 30500 counts at the current cycle 4500\n",
      "Error get link=https://auto.ru/cars/used/sale/lexus/rx/1105263984-a2cea687/, 200\n",
      "Downloaded from line: 30600 counts at the current cycle 4600\n",
      "Downloaded from line: 30700 counts at the current cycle 4700\n",
      "Downloaded from line: 30800 counts at the current cycle 4800\n",
      "Error get link=https://auto.ru/cars/used/sale/lexus/nx/1105255610-f4a5d5a9/, 200\n",
      "Downloaded from line: 30900 counts at the current cycle 4900\n",
      "Downloaded from line: 31000 counts at the current cycle 5000\n",
      "Downloaded from line: 31100 counts at the current cycle 5100\n",
      "Downloaded from line: 31200 counts at the current cycle 5200\n",
      "Downloaded from line: 31300 counts at the current cycle 5300\n"
     ]
    }
   ],
   "source": [
    "data_8 = collecting_features(all_links, 26000, 31334)\n",
    "data_8.to_csv('data_8.csv', index=False)"
   ]
  },
  {
   "cell_type": "code",
   "execution_count": 43,
   "id": "e5415774",
   "metadata": {},
   "outputs": [],
   "source": [
    "basic_df = pd.concat([basic_df, data_8])"
   ]
  },
  {
   "cell_type": "code",
   "execution_count": 32,
   "id": "2200fec0",
   "metadata": {},
   "outputs": [],
   "source": [
    "# Запишем линки с выданными ошибками\n",
    "error_list = ['https://auto.ru/cars/used/sale/volkswagen/polo/1105237518-c1b416fc/',\n",
    "              'https://auto.ru/cars/used/sale/volkswagen/polo/1105311247-b4d81614/',\n",
    "              'https://auto.ru/cars/used/sale/volkswagen/passat/1086264362-dc44fd02/',\n",
    "              'https://auto.ru/cars/used/sale/volkswagen/caravelle/1105171518-cb617768/',\n",
    "              'https://auto.ru/cars/used/sale/skoda/octavia/1105328813-f7e3073b/',\n",
    "              'https://auto.ru/cars/used/sale/skoda/rapid/1105053165-27e018d5/',\n",
    "              'https://auto.ru/cars/used/sale/skoda/octavia/1105268215-0294cb64/',\n",
    "              'https://auto.ru/cars/used/sale/skoda/fabia/1096464370-d453307d/',\n",
    "              'https://auto.ru/cars/used/sale/bmw/x6/1105021835-5cdfa18a/',\n",
    "              'https://auto.ru/cars/used/sale/bmw/x3/1104240832-2f13885b/',\n",
    "              'https://auto.ru/cars/used/sale/bmw/3er/1105298818-651a9783',\n",
    "              'https://auto.ru/cars/used/sale/bmw/x5_m/1105298338-fec8f08d/',\n",
    "              'https//auto.ru/cars/used/sale/bmw/x3/1105234930-5e948952/',\n",
    "              'https://auto.ru/cars/used/sale/bmw/3er/1101150000-80a3f533/',\n",
    "              'https://auto.ru/cars/used/sale/bmw/5er/1105226137-28a78a2e/',\n",
    "              'https://auto.ru/cars/used/sale/bmw/3er/1105184797-f221fb3e/',\n",
    "              'https://auto.ru/cars/used/sale/bmw/5er/1094795740-1048c0fd/',\n",
    "              'https://auto.ru/cars/used/sale/bmw/x5/1105169199-214cf2f1/',\n",
    "              'https://auto.ru/cars/used/sale/audi/q7/1104902328-11078536/',\n",
    "              'https://auto.ru/cars/used/sale/nissan/murano/1105044168-f185a884/',\n",
    "              'https://auto.ru/cars/used/sale/mercedes/m_klasse/1104772436-fd751777/',\n",
    "              'https://auto.ru/cars/used/sale/mercedes/v_klasse/1105315766-9bc676d5/',\n",
    "              'https://auto.ru/cars/used/sale/mercedes/gl_klasse/1105313076-0b342b3c/',\n",
    "              'https://auto.ru/cars/used/sale/mercedes/s_klasse/1105146953-cfc50ea2/',\n",
    "              'https://auto.ru/cars/used/sale/toyota/rav_4/1105303558-a2017d6a/',\n",
    "              'https://auto.ru/cars/used/sale/toyota/camry/1105106437-61f27bad/',\n",
    "              'https://auto.ru/cars/used/sale/toyota/land_cruiser/1105272525-095a1f27/',\n",
    "              'https://auto.ru/cars/used/sale/toyota/land_cruiser_prado/1105272978-e3f66587/',\n",
    "              'https://auto.ru/cars/used/sale/toyota/tundra/1105197954-828b10ad/',\n",
    "              'https://auto.ru/cars/used/sale/toyota/camry/1105160682-7900d811/',\n",
    "              'https://auto.ru/cars/used/sale/toyota/rav_4/1105187520-e955e843/',\n",
    "              'https://auto.ru/cars/used/sale/toyota/land_cruiser_prado/1105255778-1feb234f/',\n",
    "              'https://auto.ru/cars/used/sale/toyota/alphard/1105162341-b81f3d7a/',\n",
    "              'https://auto.ru/cars/used/sale/toyota/rav_4/1105150265-2c766158/',\n",
    "              'https://auto.ru/cars/used/sale/lexus/rx/1105263984-a2cea687/',\n",
    "              'https://auto.ru/cars/used/sale/lexus/nx/1105255610-f4a5d5a9/'\n",
    "]"
   ]
  },
  {
   "cell_type": "code",
   "execution_count": null,
   "id": "265afae0",
   "metadata": {},
   "outputs": [],
   "source": [
    "len(error_list)"
   ]
  },
  {
   "cell_type": "code",
   "execution_count": 34,
   "id": "e7456ca3",
   "metadata": {},
   "outputs": [
    {
     "name": "stdout",
     "output_type": "stream",
     "text": [
      "Error get link=https://auto.ru/cars/used/sale/volkswagen/polo/1105237518-c1b416fc/, 200\n",
      "Error get link=https://auto.ru/cars/used/sale/volkswagen/polo/1105311247-b4d81614/, 200\n",
      "Error get link=https://auto.ru/cars/used/sale/volkswagen/passat/1086264362-dc44fd02/, 200\n",
      "Error get link=https://auto.ru/cars/used/sale/skoda/octavia/1105328813-f7e3073b/, 200\n",
      "Error get link=https://auto.ru/cars/used/sale/skoda/rapid/1105053165-27e018d5/, 200\n",
      "Error get link=https://auto.ru/cars/used/sale/bmw/x5_m/1105298338-fec8f08d/, 200\n",
      "Error get link=https//auto.ru/cars/used/sale/bmw/x3/1105234930-5e948952/, 200\n",
      "Error get link=https//auto.ru/cars/used/sale/bmw/x3/1105234930-5e948952/, 200\n",
      "Error get link=https://auto.ru/cars/used/sale/bmw/x5/1105169199-214cf2f1/, 200\n",
      "Error get link=https://auto.ru/cars/used/sale/audi/q7/1104902328-11078536/, 200\n",
      "Error get link=https://auto.ru/cars/used/sale/nissan/murano/1105044168-f185a884/, 200\n",
      "Error get link=https://auto.ru/cars/used/sale/mercedes/v_klasse/1105315766-9bc676d5/, 200\n",
      "Error get link=https://auto.ru/cars/used/sale/mercedes/gl_klasse/1105313076-0b342b3c/, 200\n",
      "Error get link=https://auto.ru/cars/used/sale/mercedes/s_klasse/1105146953-cfc50ea2/, 200\n",
      "Error get link=https://auto.ru/cars/used/sale/toyota/rav_4/1105150265-2c766158/, 200\n",
      "Error get link=https://auto.ru/cars/used/sale/lexus/rx/1105263984-a2cea687/, 200\n",
      "Error get link=https://auto.ru/cars/used/sale/lexus/nx/1105255610-f4a5d5a9/, 200\n"
     ]
    }
   ],
   "source": [
    "data_9 = collecting_features(error_list, 0, len(error_list))\n",
    "data_9.to_csv('data_9.csv', index=False)"
   ]
  },
  {
   "cell_type": "code",
   "execution_count": 44,
   "id": "ffa07381",
   "metadata": {},
   "outputs": [],
   "source": [
    "basic_df = pd.concat([basic_df, data_9])"
   ]
  },
  {
   "cell_type": "code",
   "execution_count": 57,
   "id": "742dd539",
   "metadata": {},
   "outputs": [],
   "source": [
    "basic_df.to_csv('basic_df.csv')"
   ]
  },
  {
   "cell_type": "markdown",
   "id": "af1ca2c7",
   "metadata": {},
   "source": [
    "## Очистка данных "
   ]
  },
  {
   "cell_type": "code",
   "execution_count": 449,
   "id": "0b5b3496",
   "metadata": {},
   "outputs": [],
   "source": [
    "new_df = pd.read_csv('basic_df.csv')"
   ]
  },
  {
   "cell_type": "code",
   "execution_count": 450,
   "id": "4b840db5",
   "metadata": {},
   "outputs": [],
   "source": [
    "new_df = new_df.drop('Unnamed: 0', axis=1)"
   ]
  },
  {
   "cell_type": "code",
   "execution_count": 451,
   "id": "c6d06762",
   "metadata": {},
   "outputs": [
    {
     "name": "stdout",
     "output_type": "stream",
     "text": [
      "<class 'pandas.core.frame.DataFrame'>\n",
      "RangeIndex: 30369 entries, 0 to 30368\n",
      "Data columns (total 31 columns):\n",
      " #   Column                Non-Null Count  Dtype  \n",
      "---  ------                --------------  -----  \n",
      " 0   bodyType              30314 non-null  object \n",
      " 1   brand                 30314 non-null  object \n",
      " 2   color                 30314 non-null  object \n",
      " 3   complectation_dict    30369 non-null  object \n",
      " 4   description           30314 non-null  object \n",
      " 5   engineDisplacement    30314 non-null  object \n",
      " 6   enginePower           30314 non-null  object \n",
      " 7   equipment_dict        30314 non-null  object \n",
      " 8   fuelType              30314 non-null  object \n",
      " 9   mileage               30314 non-null  object \n",
      " 10  modelDate             30314 non-null  float64\n",
      " 11  model_info            30314 non-null  object \n",
      " 12  model_name            30314 non-null  object \n",
      " 13  name                  30347 non-null  object \n",
      " 14  numberOfDoors         30314 non-null  float64\n",
      " 15  parsing_unixtime      30369 non-null  int64  \n",
      " 16  productionDate        30314 non-null  float64\n",
      " 17  sell_id               30314 non-null  float64\n",
      " 18  super_gen             30347 non-null  object \n",
      " 19  vehicleConfiguration  30314 non-null  object \n",
      " 20  vehicleTransmission   30314 non-null  object \n",
      " 21  vendor                29122 non-null  object \n",
      " 22  Владельцы             30312 non-null  object \n",
      " 23  Владение              9645 non-null   object \n",
      " 24  ПТС                   30312 non-null  object \n",
      " 25  Привод                30314 non-null  object \n",
      " 26  Руль                  30314 non-null  object \n",
      " 27  Состояние             30311 non-null  object \n",
      " 28  Таможня               30311 non-null  object \n",
      " 29  advert_date           30314 non-null  object \n",
      " 30  price                 28165 non-null  float64\n",
      "dtypes: float64(5), int64(1), object(25)\n",
      "memory usage: 7.2+ MB\n"
     ]
    }
   ],
   "source": [
    "new_df.info()"
   ]
  },
  {
   "cell_type": "code",
   "execution_count": 452,
   "id": "59afbf00",
   "metadata": {},
   "outputs": [
    {
     "data": {
      "text/plain": [
       "False    30314\n",
       "True        55\n",
       "Name: sell_id, dtype: int64"
      ]
     },
     "execution_count": 452,
     "metadata": {},
     "output_type": "execute_result"
    }
   ],
   "source": [
    "# Посмотрим на количество пропусков в sell_id\n",
    "new_df['sell_id'].isna().value_counts()"
   ]
  },
  {
   "cell_type": "code",
   "execution_count": 453,
   "id": "2ed816ae",
   "metadata": {},
   "outputs": [],
   "source": [
    "new_df = new_df.dropna(subset=['sell_id'], axis=0)"
   ]
  },
  {
   "cell_type": "code",
   "execution_count": 454,
   "id": "51756ff9",
   "metadata": {},
   "outputs": [
    {
     "data": {
      "text/plain": [
       "False    30314\n",
       "Name: sell_id, dtype: int64"
      ]
     },
     "execution_count": 454,
     "metadata": {},
     "output_type": "execute_result"
    }
   ],
   "source": [
    "# Проверим, что удалились пропуски\n",
    "new_df['sell_id'].isna().value_counts()"
   ]
  },
  {
   "cell_type": "code",
   "execution_count": 455,
   "id": "8c0187bb",
   "metadata": {},
   "outputs": [],
   "source": [
    "# Удалим строки без указанной цены\n",
    "new_df = new_df.dropna(subset=['price'], axis=0)"
   ]
  },
  {
   "cell_type": "code",
   "execution_count": 456,
   "id": "a031e21f",
   "metadata": {},
   "outputs": [
    {
     "data": {
      "text/plain": [
       "False    28165\n",
       "Name: price, dtype: int64"
      ]
     },
     "execution_count": 456,
     "metadata": {},
     "output_type": "execute_result"
    }
   ],
   "source": [
    "# Проверим\n",
    "new_df.price.isna().value_counts()"
   ]
  },
  {
   "cell_type": "code",
   "execution_count": 457,
   "id": "0f0de215",
   "metadata": {},
   "outputs": [],
   "source": [
    "# Удалим дупликаты\n",
    "new_df = new_df.drop_duplicates(subset=['sell_id'])"
   ]
  },
  {
   "cell_type": "code",
   "execution_count": 458,
   "id": "803a71e0",
   "metadata": {},
   "outputs": [
    {
     "data": {
      "text/plain": [
       "(25031, 31)"
      ]
     },
     "execution_count": 458,
     "metadata": {},
     "output_type": "execute_result"
    }
   ],
   "source": [
    "new_df.shape"
   ]
  },
  {
   "cell_type": "code",
   "execution_count": 459,
   "id": "377b7561",
   "metadata": {},
   "outputs": [
    {
     "data": {
      "text/plain": [
       "False    25031\n",
       "Name: price, dtype: int64"
      ]
     },
     "execution_count": 459,
     "metadata": {},
     "output_type": "execute_result"
    }
   ],
   "source": [
    "new_df.price.isna().value_counts()"
   ]
  },
  {
   "cell_type": "markdown",
   "id": "78e9b8c7",
   "metadata": {},
   "source": [
    "В тестовой выборке в признаке пробег указаны числовые данные. Необходимо преобразовать признак в обучающей выборке"
   ]
  },
  {
   "cell_type": "code",
   "execution_count": 502,
   "id": "3d3d29d0",
   "metadata": {},
   "outputs": [],
   "source": [
    "test = new_df.copy()"
   ]
  },
  {
   "cell_type": "code",
   "execution_count": 503,
   "id": "eb068d39",
   "metadata": {},
   "outputs": [
    {
     "data": {
      "text/plain": [
       "False    25031\n",
       "Name: mileage, dtype: int64"
      ]
     },
     "execution_count": 503,
     "metadata": {},
     "output_type": "execute_result"
    }
   ],
   "source": [
    "# В признаке пробега присутствуют пропуски\n",
    "test.mileage.isna().value_counts()"
   ]
  },
  {
   "cell_type": "code",
   "execution_count": 504,
   "id": "91c1eaf0",
   "metadata": {},
   "outputs": [
    {
     "data": {
      "text/plain": [
       "200 000 км    277\n",
       "300 000 км    243\n",
       "250 000 км    242\n",
       "180 000 км    221\n",
       "150 000 км    199\n",
       "             ... \n",
       "190 032 км      1\n",
       "128 440 км      1\n",
       "147 679 км      1\n",
       "35 670 км       1\n",
       "156 891 км      1\n",
       "Name: mileage, Length: 10239, dtype: int64"
      ]
     },
     "execution_count": 504,
     "metadata": {},
     "output_type": "execute_result"
    }
   ],
   "source": [
    "# Посмотрим на распределение\n",
    "test.mileage.value_counts()"
   ]
  },
  {
   "cell_type": "code",
   "execution_count": 505,
   "id": "4e21c674",
   "metadata": {},
   "outputs": [],
   "source": [
    "# Заполним наиболее часто встречающимся значением\n",
    "test.mileage.fillna('200 000 км', inplace=True)"
   ]
  },
  {
   "cell_type": "code",
   "execution_count": 506,
   "id": "4c80e86a",
   "metadata": {},
   "outputs": [
    {
     "data": {
      "text/plain": [
       "False    25031\n",
       "Name: mileage, dtype: int64"
      ]
     },
     "execution_count": 506,
     "metadata": {},
     "output_type": "execute_result"
    }
   ],
   "source": [
    "test.mileage.isna().value_counts()"
   ]
  },
  {
   "cell_type": "code",
   "execution_count": 507,
   "id": "b67cc139",
   "metadata": {},
   "outputs": [],
   "source": [
    "# Избавляемся от км\n",
    "test.mileage = test.mileage.apply(lambda x: x[:-3])"
   ]
  },
  {
   "cell_type": "code",
   "execution_count": 508,
   "id": "f6730736",
   "metadata": {},
   "outputs": [
    {
     "data": {
      "text/plain": [
       "200 000    277\n",
       "300 000    243\n",
       "250 000    242\n",
       "180 000    221\n",
       "150 000    199\n",
       "          ... \n",
       "95 376       1\n",
       "900          1\n",
       "131 838      1\n",
       "101 164      1\n",
       "152 840      1\n",
       "Name: mileage, Length: 10239, dtype: int64"
      ]
     },
     "execution_count": 508,
     "metadata": {},
     "output_type": "execute_result"
    }
   ],
   "source": [
    "test.mileage.value_counts()"
   ]
  },
  {
   "cell_type": "code",
   "execution_count": 509,
   "id": "980512e9",
   "metadata": {},
   "outputs": [],
   "source": [
    "# Преобразуем в целые числа\n",
    "test['mileage'] = test['mileage'].apply(lambda x: x.split(' ') if type(x) == str  else x)\n",
    "test['mileage'] = test['mileage'].apply(lambda x: x[0]+x[1] if len(x) > 1 else x)\n",
    "test['mileage'] = test['mileage'].apply(lambda x: x.strip('[').strip(']') if type(x) == str else x)\n",
    "test['mileage'] = test['mileage'].apply(lambda x: int(x) if type(x) == str else int(x[0]))"
   ]
  },
  {
   "cell_type": "code",
   "execution_count": 510,
   "id": "913a3de5",
   "metadata": {},
   "outputs": [
    {
     "name": "stdout",
     "output_type": "stream",
     "text": [
      "<class 'pandas.core.frame.DataFrame'>\n",
      "Int64Index: 25031 entries, 0 to 30365\n",
      "Data columns (total 31 columns):\n",
      " #   Column                Non-Null Count  Dtype  \n",
      "---  ------                --------------  -----  \n",
      " 0   bodyType              25031 non-null  object \n",
      " 1   brand                 25031 non-null  object \n",
      " 2   color                 25031 non-null  object \n",
      " 3   complectation_dict    25031 non-null  object \n",
      " 4   description           25031 non-null  object \n",
      " 5   engineDisplacement    25031 non-null  object \n",
      " 6   enginePower           25031 non-null  object \n",
      " 7   equipment_dict        25031 non-null  object \n",
      " 8   fuelType              25031 non-null  object \n",
      " 9   mileage               25031 non-null  int64  \n",
      " 10  modelDate             25031 non-null  float64\n",
      " 11  model_info            25031 non-null  object \n",
      " 12  model_name            25031 non-null  object \n",
      " 13  name                  25031 non-null  object \n",
      " 14  numberOfDoors         25031 non-null  float64\n",
      " 15  parsing_unixtime      25031 non-null  int64  \n",
      " 16  productionDate        25031 non-null  float64\n",
      " 17  sell_id               25031 non-null  float64\n",
      " 18  super_gen             25031 non-null  object \n",
      " 19  vehicleConfiguration  25031 non-null  object \n",
      " 20  vehicleTransmission   25031 non-null  object \n",
      " 21  vendor                24997 non-null  object \n",
      " 22  Владельцы             25030 non-null  object \n",
      " 23  Владение              8014 non-null   object \n",
      " 24  ПТС                   25030 non-null  object \n",
      " 25  Привод                25031 non-null  object \n",
      " 26  Руль                  25031 non-null  object \n",
      " 27  Состояние             25029 non-null  object \n",
      " 28  Таможня               25028 non-null  object \n",
      " 29  advert_date           25031 non-null  object \n",
      " 30  price                 25031 non-null  float64\n",
      "dtypes: float64(5), int64(2), object(24)\n",
      "memory usage: 6.6+ MB\n"
     ]
    }
   ],
   "source": [
    "test.info()"
   ]
  },
  {
   "cell_type": "markdown",
   "id": "62375233",
   "metadata": {},
   "source": [
    "После парсинга ключевой задачей являлось собрать датасе, в котором нет пропусков в цене и sell_id. Важно соответствие типов данных. Как поступать с пропусками в других колонках определимся далее"
   ]
  },
  {
   "cell_type": "code",
   "execution_count": 511,
   "id": "b8914670",
   "metadata": {},
   "outputs": [],
   "source": [
    "test.to_csv('auto_df.csv')"
   ]
  },
  {
   "cell_type": "code",
   "execution_count": null,
   "id": "03db6ff8",
   "metadata": {},
   "outputs": [],
   "source": []
  }
 ],
 "metadata": {
  "kernelspec": {
   "display_name": "Python 3",
   "language": "python",
   "name": "python3"
  },
  "language_info": {
   "codemirror_mode": {
    "name": "ipython",
    "version": 3
   },
   "file_extension": ".py",
   "mimetype": "text/x-python",
   "name": "python",
   "nbconvert_exporter": "python",
   "pygments_lexer": "ipython3",
   "version": "3.8.8"
  }
 },
 "nbformat": 4,
 "nbformat_minor": 5
}
