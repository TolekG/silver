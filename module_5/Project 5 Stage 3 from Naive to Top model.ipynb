{
 "cells": [
  {
   "cell_type": "markdown",
   "id": "5a58333d",
   "metadata": {},
   "source": [
    "## Подготовка данных"
   ]
  },
  {
   "cell_type": "code",
   "execution_count": 1,
   "id": "1f966988",
   "metadata": {},
   "outputs": [],
   "source": [
    "#  Загружаем библиотеки\n",
    "import numpy as np # linear algebra\n",
    "import pandas as pd\n",
    "import os\n",
    "import requests  \n",
    "from bs4 import BeautifulSoup\n",
    "import time\n",
    "import json\n",
    "import re\n",
    "from sklearn.preprocessing import LabelEncoder, OneHotEncoder, StandardScaler\n",
    "import matplotlib.pyplot as plt\n",
    "import seaborn as sns\n",
    "from sklearn.model_selection import train_test_split\n",
    "from sklearn.model_selection import GridSearchCV\n",
    "from sklearn.model_selection import KFold\n",
    "from sklearn.base import clone\n",
    "from sklearn.ensemble import RandomForestRegressor\n",
    "from sklearn.ensemble import GradientBoostingRegressor\n",
    "from sklearn.linear_model import LinearRegression\n",
    "from sklearn.preprocessing import LabelEncoder\n",
    "from sklearn.neighbors import KNeighborsRegressor\n",
    "from sklearn.preprocessing import StandardScaler\n",
    "from sklearn.preprocessing import RobustScaler\n",
    "from sklearn.ensemble import ExtraTreesRegressor\n",
    "from sklearn.model_selection import RandomizedSearchCV\n",
    "from sklearn.feature_selection import f_classif, mutual_info_classif\n",
    "from catboost import CatBoostRegressor\n",
    "from tqdm.notebook import tqdm\n",
    "from sklearn.ensemble import StackingRegressor\n",
    "# import xgboost as xgb"
   ]
  },
  {
   "cell_type": "code",
   "execution_count": 2,
   "id": "bb70280a",
   "metadata": {},
   "outputs": [],
   "source": [
    "# Определение метрики\n",
    "def mape(y_true, y_pred):\n",
    "    return np.mean(np.abs((y_pred-y_true)/y_true))"
   ]
  },
  {
   "cell_type": "code",
   "execution_count": 3,
   "id": "55c82dd7",
   "metadata": {},
   "outputs": [],
   "source": [
    "# Загрузим тестовую выборку\n",
    "train = pd.read_csv('auto_df.csv')"
   ]
  },
  {
   "cell_type": "code",
   "execution_count": 4,
   "id": "f91a96a6",
   "metadata": {},
   "outputs": [
    {
     "data": {
      "text/html": [
       "<div>\n",
       "<style scoped>\n",
       "    .dataframe tbody tr th:only-of-type {\n",
       "        vertical-align: middle;\n",
       "    }\n",
       "\n",
       "    .dataframe tbody tr th {\n",
       "        vertical-align: top;\n",
       "    }\n",
       "\n",
       "    .dataframe thead th {\n",
       "        text-align: right;\n",
       "    }\n",
       "</style>\n",
       "<table border=\"1\" class=\"dataframe\">\n",
       "  <thead>\n",
       "    <tr style=\"text-align: right;\">\n",
       "      <th></th>\n",
       "      <th>bodyType</th>\n",
       "      <th>brand</th>\n",
       "      <th>color</th>\n",
       "      <th>complectation_dict</th>\n",
       "      <th>description</th>\n",
       "      <th>engineDisplacement</th>\n",
       "      <th>enginePower</th>\n",
       "      <th>equipment_dict</th>\n",
       "      <th>fuelType</th>\n",
       "      <th>mileage</th>\n",
       "      <th>...</th>\n",
       "      <th>vendor</th>\n",
       "      <th>Владельцы</th>\n",
       "      <th>Владение</th>\n",
       "      <th>ПТС</th>\n",
       "      <th>Привод</th>\n",
       "      <th>Руль</th>\n",
       "      <th>Состояние</th>\n",
       "      <th>Таможня</th>\n",
       "      <th>advert_date</th>\n",
       "      <th>price</th>\n",
       "    </tr>\n",
       "  </thead>\n",
       "  <tbody>\n",
       "    <tr>\n",
       "      <th>0</th>\n",
       "      <td>внедорожник 5 дв.</td>\n",
       "      <td>HONDA</td>\n",
       "      <td>белый</td>\n",
       "      <td>['cruise-control', 'multi-wheel', 'airbag-pass...</td>\n",
       "      <td>КОМПЛЕКТ ЗИМНЕЙ РЕЗИНЫ НА ЛИТЫХ ДИСКАХ, БЫСТРО...</td>\n",
       "      <td>3.5 LTR</td>\n",
       "      <td>249 N12</td>\n",
       "      <td>{'cruise-control': True, 'esp': True, 'multi-w...</td>\n",
       "      <td>бензин</td>\n",
       "      <td>108600</td>\n",
       "      <td>...</td>\n",
       "      <td>JAPANESE</td>\n",
       "      <td>1 владелец</td>\n",
       "      <td>9 лет и 3 месяца</td>\n",
       "      <td>Оригинал</td>\n",
       "      <td>полный</td>\n",
       "      <td>Левый</td>\n",
       "      <td>Не требует ремонта</td>\n",
       "      <td>Растаможен</td>\n",
       "      <td>18 сентября</td>\n",
       "      <td>1799000.0</td>\n",
       "    </tr>\n",
       "    <tr>\n",
       "      <th>1</th>\n",
       "      <td>внедорожник 5 дв.</td>\n",
       "      <td>HONDA</td>\n",
       "      <td>серый</td>\n",
       "      <td>['cruise-control', 'multi-wheel', 'xenon', 'ai...</td>\n",
       "      <td>Действительно честный Honda Crosstour  в отл...</td>\n",
       "      <td>3.5 LTR</td>\n",
       "      <td>275 N12</td>\n",
       "      <td>{'asr': True, 'tinted-glass': True, 'esp': Tru...</td>\n",
       "      <td>бензин</td>\n",
       "      <td>123000</td>\n",
       "      <td>...</td>\n",
       "      <td>JAPANESE</td>\n",
       "      <td>1 владелец</td>\n",
       "      <td>NaN</td>\n",
       "      <td>Оригинал</td>\n",
       "      <td>полный</td>\n",
       "      <td>Левый</td>\n",
       "      <td>Не требует ремонта</td>\n",
       "      <td>Растаможен</td>\n",
       "      <td>17 сентября</td>\n",
       "      <td>1255000.0</td>\n",
       "    </tr>\n",
       "    <tr>\n",
       "      <th>2</th>\n",
       "      <td>внедорожник 5 дв.</td>\n",
       "      <td>HONDA</td>\n",
       "      <td>серый</td>\n",
       "      <td>['cruise-control', 'multi-wheel', 'xenon', 'ai...</td>\n",
       "      <td>Крос в отличном состоянии!купил неделю назад ж...</td>\n",
       "      <td>3.5 LTR</td>\n",
       "      <td>275 N12</td>\n",
       "      <td>{}</td>\n",
       "      <td>бензин</td>\n",
       "      <td>138500</td>\n",
       "      <td>...</td>\n",
       "      <td>JAPANESE</td>\n",
       "      <td>3 или более</td>\n",
       "      <td>NaN</td>\n",
       "      <td>Оригинал</td>\n",
       "      <td>полный</td>\n",
       "      <td>Левый</td>\n",
       "      <td>Не требует ремонта</td>\n",
       "      <td>Растаможен</td>\n",
       "      <td>23 июля</td>\n",
       "      <td>1170000.0</td>\n",
       "    </tr>\n",
       "    <tr>\n",
       "      <th>3</th>\n",
       "      <td>внедорожник 5 дв.</td>\n",
       "      <td>HONDA</td>\n",
       "      <td>чёрный</td>\n",
       "      <td>['cruise-control', 'multi-wheel', 'airbag-pass...</td>\n",
       "      <td>Преимущества автомобиля:\\n\\n∙    ПТС Оригинал,...</td>\n",
       "      <td>2.4 LTR</td>\n",
       "      <td>190 N12</td>\n",
       "      <td>{'cruise-control': True, 'esp': True, 'airbag-...</td>\n",
       "      <td>бензин</td>\n",
       "      <td>177362</td>\n",
       "      <td>...</td>\n",
       "      <td>JAPANESE</td>\n",
       "      <td>1 владелец</td>\n",
       "      <td>NaN</td>\n",
       "      <td>Оригинал</td>\n",
       "      <td>полный</td>\n",
       "      <td>Левый</td>\n",
       "      <td>Не требует ремонта</td>\n",
       "      <td>Растаможен</td>\n",
       "      <td>19 сентября</td>\n",
       "      <td>1579000.0</td>\n",
       "    </tr>\n",
       "    <tr>\n",
       "      <th>4</th>\n",
       "      <td>внедорожник 5 дв.</td>\n",
       "      <td>HONDA</td>\n",
       "      <td>белый</td>\n",
       "      <td>['cruise-control', 'xenon', 'airbag-passenger'...</td>\n",
       "      <td>При покупке автомобиля до 27 сентября:   \\n► В...</td>\n",
       "      <td>2.4 LTR</td>\n",
       "      <td>166 N12</td>\n",
       "      <td>{'cruise-control': True, 'asr': True, 'esp': T...</td>\n",
       "      <td>бензин</td>\n",
       "      <td>202584</td>\n",
       "      <td>...</td>\n",
       "      <td>JAPANESE</td>\n",
       "      <td>2 владельца</td>\n",
       "      <td>NaN</td>\n",
       "      <td>Оригинал</td>\n",
       "      <td>полный</td>\n",
       "      <td>Левый</td>\n",
       "      <td>Не требует ремонта</td>\n",
       "      <td>Растаможен</td>\n",
       "      <td>19 сентября</td>\n",
       "      <td>1237000.0</td>\n",
       "    </tr>\n",
       "  </tbody>\n",
       "</table>\n",
       "<p>5 rows × 31 columns</p>\n",
       "</div>"
      ],
      "text/plain": [
       "            bodyType  brand   color  \\\n",
       "0  внедорожник 5 дв.  HONDA   белый   \n",
       "1  внедорожник 5 дв.  HONDA   серый   \n",
       "2  внедорожник 5 дв.  HONDA   серый   \n",
       "3  внедорожник 5 дв.  HONDA  чёрный   \n",
       "4  внедорожник 5 дв.  HONDA   белый   \n",
       "\n",
       "                                  complectation_dict  \\\n",
       "0  ['cruise-control', 'multi-wheel', 'airbag-pass...   \n",
       "1  ['cruise-control', 'multi-wheel', 'xenon', 'ai...   \n",
       "2  ['cruise-control', 'multi-wheel', 'xenon', 'ai...   \n",
       "3  ['cruise-control', 'multi-wheel', 'airbag-pass...   \n",
       "4  ['cruise-control', 'xenon', 'airbag-passenger'...   \n",
       "\n",
       "                                         description engineDisplacement  \\\n",
       "0  КОМПЛЕКТ ЗИМНЕЙ РЕЗИНЫ НА ЛИТЫХ ДИСКАХ, БЫСТРО...            3.5 LTR   \n",
       "1    Действительно честный Honda Crosstour  в отл...            3.5 LTR   \n",
       "2  Крос в отличном состоянии!купил неделю назад ж...            3.5 LTR   \n",
       "3  Преимущества автомобиля:\\n\\n∙    ПТС Оригинал,...            2.4 LTR   \n",
       "4  При покупке автомобиля до 27 сентября:   \\n► В...            2.4 LTR   \n",
       "\n",
       "  enginePower                                     equipment_dict fuelType  \\\n",
       "0     249 N12  {'cruise-control': True, 'esp': True, 'multi-w...   бензин   \n",
       "1     275 N12  {'asr': True, 'tinted-glass': True, 'esp': Tru...   бензин   \n",
       "2     275 N12                                                 {}   бензин   \n",
       "3     190 N12  {'cruise-control': True, 'esp': True, 'airbag-...   бензин   \n",
       "4     166 N12  {'cruise-control': True, 'asr': True, 'esp': T...   бензин   \n",
       "\n",
       "   mileage  ...    vendor    Владельцы          Владение       ПТС  Привод  \\\n",
       "0   108600  ...  JAPANESE   1 владелец  9 лет и 3 месяца  Оригинал  полный   \n",
       "1   123000  ...  JAPANESE   1 владелец               NaN  Оригинал  полный   \n",
       "2   138500  ...  JAPANESE  3 или более               NaN  Оригинал  полный   \n",
       "3   177362  ...  JAPANESE   1 владелец               NaN  Оригинал  полный   \n",
       "4   202584  ...  JAPANESE  2 владельца               NaN  Оригинал  полный   \n",
       "\n",
       "    Руль           Состояние     Таможня  advert_date      price  \n",
       "0  Левый  Не требует ремонта  Растаможен  18 сентября  1799000.0  \n",
       "1  Левый  Не требует ремонта  Растаможен  17 сентября  1255000.0  \n",
       "2  Левый  Не требует ремонта  Растаможен      23 июля  1170000.0  \n",
       "3  Левый  Не требует ремонта  Растаможен  19 сентября  1579000.0  \n",
       "4  Левый  Не требует ремонта  Растаможен  19 сентября  1237000.0  \n",
       "\n",
       "[5 rows x 31 columns]"
      ]
     },
     "execution_count": 4,
     "metadata": {},
     "output_type": "execute_result"
    }
   ],
   "source": [
    "train = train.drop('Unnamed: 0', axis=1)\n",
    "train.head(5)"
   ]
  },
  {
   "cell_type": "code",
   "execution_count": 5,
   "id": "ce2eee9b",
   "metadata": {},
   "outputs": [],
   "source": [
    "test = pd.read_csv('test.csv')"
   ]
  },
  {
   "cell_type": "code",
   "execution_count": 6,
   "id": "4c78baae",
   "metadata": {},
   "outputs": [],
   "source": [
    "# Заменим названия колонок\n",
    "train.rename(columns={'bodyType': 'body_type',\n",
    "                     'modelDate': 'model_date',\n",
    "                     'engineDisplacement': 'engine_displacement',\n",
    "                     'enginePower': 'engine_power',\n",
    "                     'fuelType': 'fuel_type',\n",
    "                     'numberOfDoors': 'number_of_doors',\n",
    "                     'priceCurrency': 'price_currency',\n",
    "                     'productionDate': 'production_date',\n",
    "                     'vehicleConfiguration': 'vehicle_configuration',\n",
    "                     'vehicleTransmission': 'vehicle_transmission',\n",
    "                     'Владельцы': 'owners',\n",
    "                     'Владение': 'ownership',\n",
    "                     'ПТС': 'documents',\n",
    "                     'Привод': 'drive',\n",
    "                     'Руль': 'drive_side',\n",
    "                     'Состояние': 'condition',\n",
    "                     'Таможня': 'customs'}, inplace=True)"
   ]
  },
  {
   "cell_type": "code",
   "execution_count": 7,
   "id": "65b8ed10",
   "metadata": {},
   "outputs": [],
   "source": [
    "# Заменим названия колонок\n",
    "test.rename(columns={'bodyType': 'body_type',\n",
    "                     'modelDate': 'model_date',\n",
    "                     'engineDisplacement': 'engine_displacement',\n",
    "                     'enginePower': 'engine_power',\n",
    "                     'fuelType': 'fuel_type',\n",
    "                     'numberOfDoors': 'number_of_doors',\n",
    "                     'priceCurrency': 'price_currency',\n",
    "                     'productionDate': 'production_date',\n",
    "                     'vehicleConfiguration': 'vehicle_configuration',\n",
    "                     'vehicleTransmission': 'vehicle_transmission',\n",
    "                     'Владельцы': 'owners',\n",
    "                     'Владение': 'ownership',\n",
    "                     'ПТС': 'documents',\n",
    "                     'Привод': 'drive',\n",
    "                     'Руль': 'drive_side',\n",
    "                     'Состояние': 'condition',\n",
    "                     'Таможня': 'customs'}, inplace=True)"
   ]
  },
  {
   "cell_type": "markdown",
   "id": "faf3aee4",
   "metadata": {},
   "source": [
    "### Вопрос инфляции"
   ]
  },
  {
   "cell_type": "code",
   "execution_count": 8,
   "id": "e9e7e30a",
   "metadata": {},
   "outputs": [
    {
     "data": {
      "text/plain": [
       "0       2020-10-20\n",
       "1       2020-10-20\n",
       "2       2020-10-20\n",
       "3       2020-10-20\n",
       "4       2020-10-20\n",
       "           ...    \n",
       "34681   2020-10-26\n",
       "34682   2020-10-26\n",
       "34683   2020-10-26\n",
       "34684   2020-10-26\n",
       "34685   2020-10-26\n",
       "Name: parsing_date, Length: 34686, dtype: datetime64[ns]"
      ]
     },
     "execution_count": 8,
     "metadata": {},
     "output_type": "execute_result"
    }
   ],
   "source": [
    "# Добавляем колонку из тестовой выборки parsing_unixtime\n",
    "test['parsing_date'] = pd.to_datetime(test.parsing_unixtime, unit='s')\n",
    "test['parsing_date'] = pd.to_datetime(test['parsing_date']).dt.floor('d')\n",
    "test.parsing_date"
   ]
  },
  {
   "cell_type": "markdown",
   "id": "bd851540",
   "metadata": {},
   "source": [
    "Можно заметить, что парсинг для тестовой выборки осуществлялся в октябре 2020 года. Это имеет значение для корректы цен по сравнению с актуальными. Признак больше не нужен, использоваться для дальнейшего анализа не будет"
   ]
  },
  {
   "cell_type": "code",
   "execution_count": 9,
   "id": "5f783c79",
   "metadata": {},
   "outputs": [],
   "source": [
    "# Загрузим доступный на kaggle.com файл, соотетсвующий уровню цен сентября 2020\n",
    "train_2020 = pd.read_csv('all_auto_ru_09_09_2020.csv')"
   ]
  },
  {
   "cell_type": "code",
   "execution_count": 10,
   "id": "bb647457",
   "metadata": {},
   "outputs": [
    {
     "data": {
      "text/plain": [
       "0    1799000.0\n",
       "1    1255000.0\n",
       "2    1170000.0\n",
       "3    1579000.0\n",
       "4    1237000.0\n",
       "5    1420000.0\n",
       "6     450000.0\n",
       "Name: price, dtype: float64"
      ]
     },
     "metadata": {},
     "output_type": "display_data"
    }
   ],
   "source": [
    "# средние цены 2021\n",
    "display(train.price.head(7))"
   ]
  },
  {
   "cell_type": "code",
   "execution_count": 11,
   "id": "addda9ec",
   "metadata": {},
   "outputs": [],
   "source": [
    "brands = train_2020.brand.unique()"
   ]
  },
  {
   "cell_type": "code",
   "execution_count": 12,
   "id": "566e4d39",
   "metadata": {},
   "outputs": [
    {
     "data": {
      "text/plain": [
       "0    1394146.0\n",
       "1     972570.0\n",
       "2     906699.0\n",
       "3    1223656.0\n",
       "4     958621.0\n",
       "5    1100438.0\n",
       "6     348730.0\n",
       "Name: price, dtype: float64"
      ]
     },
     "metadata": {},
     "output_type": "display_data"
    }
   ],
   "source": [
    "for brand in brands:\n",
    "    mean20 = train_2020[train_2020[\"brand\"]==brand].price.mean()\n",
    "    \n",
    "    mean21 = train[train[\"brand\"]==brand].price.mean()\n",
    "    inf = (mean21 - mean20)/mean20\n",
    "    if inf > 0:\n",
    "        train.loc[train[\"brand\"]==brand, ['price']] = train.loc[train[\"brand\"]==brand, ['price']].apply(lambda x: round(x / (1+inf),0))\n",
    "display(train.price.head(7))"
   ]
  },
  {
   "cell_type": "code",
   "execution_count": 13,
   "id": "99b3fd46",
   "metadata": {},
   "outputs": [],
   "source": [
    "test['price'] = 0\n",
    "df_train = train\n",
    "df_test = test\n",
    "\n",
    "# для корректной обработки признаков объединяем трейн и тест в один датасет\n",
    "df_train['sample'] = 1 # помечаем где у нас трейн\n",
    "df_test['sample'] = 0 # помечаем где у нас тест\n",
    "\n",
    "data = df_test.append(df_train, sort=False).reset_index(drop=True) # объединяем"
   ]
  },
  {
   "cell_type": "code",
   "execution_count": 14,
   "id": "43b3b11d",
   "metadata": {},
   "outputs": [
    {
     "data": {
      "text/html": [
       "<div>\n",
       "<style scoped>\n",
       "    .dataframe tbody tr th:only-of-type {\n",
       "        vertical-align: middle;\n",
       "    }\n",
       "\n",
       "    .dataframe tbody tr th {\n",
       "        vertical-align: top;\n",
       "    }\n",
       "\n",
       "    .dataframe thead th {\n",
       "        text-align: right;\n",
       "    }\n",
       "</style>\n",
       "<table border=\"1\" class=\"dataframe\">\n",
       "  <thead>\n",
       "    <tr style=\"text-align: right;\">\n",
       "      <th></th>\n",
       "      <th>body_type</th>\n",
       "      <th>brand</th>\n",
       "      <th>car_url</th>\n",
       "      <th>color</th>\n",
       "      <th>complectation_dict</th>\n",
       "      <th>description</th>\n",
       "      <th>engine_displacement</th>\n",
       "      <th>engine_power</th>\n",
       "      <th>equipment_dict</th>\n",
       "      <th>fuel_type</th>\n",
       "      <th>...</th>\n",
       "      <th>ownership</th>\n",
       "      <th>documents</th>\n",
       "      <th>drive</th>\n",
       "      <th>drive_side</th>\n",
       "      <th>condition</th>\n",
       "      <th>customs</th>\n",
       "      <th>parsing_date</th>\n",
       "      <th>price</th>\n",
       "      <th>sample</th>\n",
       "      <th>advert_date</th>\n",
       "    </tr>\n",
       "  </thead>\n",
       "  <tbody>\n",
       "    <tr>\n",
       "      <th>0</th>\n",
       "      <td>лифтбек</td>\n",
       "      <td>SKODA</td>\n",
       "      <td>https://auto.ru/cars/used/sale/skoda/octavia/1...</td>\n",
       "      <td>синий</td>\n",
       "      <td>NaN</td>\n",
       "      <td>Все автомобили, представленные в продаже, прох...</td>\n",
       "      <td>1.2 LTR</td>\n",
       "      <td>105 N12</td>\n",
       "      <td>{\"engine-proof\":true,\"tinted-glass\":true,\"airb...</td>\n",
       "      <td>бензин</td>\n",
       "      <td>...</td>\n",
       "      <td>NaN</td>\n",
       "      <td>Оригинал</td>\n",
       "      <td>передний</td>\n",
       "      <td>Левый</td>\n",
       "      <td>Не требует ремонта</td>\n",
       "      <td>Растаможен</td>\n",
       "      <td>2020-10-20</td>\n",
       "      <td>0.0</td>\n",
       "      <td>0</td>\n",
       "      <td>NaN</td>\n",
       "    </tr>\n",
       "    <tr>\n",
       "      <th>1</th>\n",
       "      <td>лифтбек</td>\n",
       "      <td>SKODA</td>\n",
       "      <td>https://auto.ru/cars/used/sale/skoda/octavia/1...</td>\n",
       "      <td>чёрный</td>\n",
       "      <td>NaN</td>\n",
       "      <td>ЛОТ: 01217195\\nАвтопрага Север\\nДанный автомоб...</td>\n",
       "      <td>1.6 LTR</td>\n",
       "      <td>110 N12</td>\n",
       "      <td>{\"cruise-control\":true,\"asr\":true,\"esp\":true,\"...</td>\n",
       "      <td>бензин</td>\n",
       "      <td>...</td>\n",
       "      <td>NaN</td>\n",
       "      <td>Оригинал</td>\n",
       "      <td>передний</td>\n",
       "      <td>Левый</td>\n",
       "      <td>Не требует ремонта</td>\n",
       "      <td>Растаможен</td>\n",
       "      <td>2020-10-20</td>\n",
       "      <td>0.0</td>\n",
       "      <td>0</td>\n",
       "      <td>NaN</td>\n",
       "    </tr>\n",
       "    <tr>\n",
       "      <th>2</th>\n",
       "      <td>лифтбек</td>\n",
       "      <td>SKODA</td>\n",
       "      <td>https://auto.ru/cars/used/sale/skoda/superb/11...</td>\n",
       "      <td>серый</td>\n",
       "      <td>{\"id\":\"20026336\",\"name\":\"Ambition\",\"available_...</td>\n",
       "      <td>Все автомобили, представленные в продаже, прох...</td>\n",
       "      <td>1.8 LTR</td>\n",
       "      <td>152 N12</td>\n",
       "      <td>{\"cruise-control\":true,\"tinted-glass\":true,\"es...</td>\n",
       "      <td>бензин</td>\n",
       "      <td>...</td>\n",
       "      <td>NaN</td>\n",
       "      <td>Оригинал</td>\n",
       "      <td>передний</td>\n",
       "      <td>Левый</td>\n",
       "      <td>Не требует ремонта</td>\n",
       "      <td>Растаможен</td>\n",
       "      <td>2020-10-20</td>\n",
       "      <td>0.0</td>\n",
       "      <td>0</td>\n",
       "      <td>NaN</td>\n",
       "    </tr>\n",
       "    <tr>\n",
       "      <th>3</th>\n",
       "      <td>лифтбек</td>\n",
       "      <td>SKODA</td>\n",
       "      <td>https://auto.ru/cars/used/sale/skoda/octavia/1...</td>\n",
       "      <td>коричневый</td>\n",
       "      <td>{\"id\":\"20803582\",\"name\":\"Ambition\",\"available_...</td>\n",
       "      <td>КОМПЛЕКТ ЗИМНЕЙ (ЛЕТНЕЙ) РЕЗИНЫ ПО СЕЗОНУ В ПО...</td>\n",
       "      <td>1.6 LTR</td>\n",
       "      <td>110 N12</td>\n",
       "      <td>{\"cruise-control\":true,\"roller-blind-for-rear-...</td>\n",
       "      <td>бензин</td>\n",
       "      <td>...</td>\n",
       "      <td>NaN</td>\n",
       "      <td>Оригинал</td>\n",
       "      <td>передний</td>\n",
       "      <td>Левый</td>\n",
       "      <td>Не требует ремонта</td>\n",
       "      <td>Растаможен</td>\n",
       "      <td>2020-10-20</td>\n",
       "      <td>0.0</td>\n",
       "      <td>0</td>\n",
       "      <td>NaN</td>\n",
       "    </tr>\n",
       "    <tr>\n",
       "      <th>4</th>\n",
       "      <td>лифтбек</td>\n",
       "      <td>SKODA</td>\n",
       "      <td>https://auto.ru/cars/used/sale/skoda/octavia/1...</td>\n",
       "      <td>белый</td>\n",
       "      <td>NaN</td>\n",
       "      <td>ЛОТ: 01220889\\nАвтопрага Север\\n\\nВы можете по...</td>\n",
       "      <td>1.8 LTR</td>\n",
       "      <td>152 N12</td>\n",
       "      <td>{\"cruise-control\":true,\"asr\":true,\"esp\":true,\"...</td>\n",
       "      <td>бензин</td>\n",
       "      <td>...</td>\n",
       "      <td>NaN</td>\n",
       "      <td>Оригинал</td>\n",
       "      <td>передний</td>\n",
       "      <td>Левый</td>\n",
       "      <td>Не требует ремонта</td>\n",
       "      <td>Растаможен</td>\n",
       "      <td>2020-10-20</td>\n",
       "      <td>0.0</td>\n",
       "      <td>0</td>\n",
       "      <td>NaN</td>\n",
       "    </tr>\n",
       "  </tbody>\n",
       "</table>\n",
       "<p>5 rows × 36 columns</p>\n",
       "</div>"
      ],
      "text/plain": [
       "  body_type  brand                                            car_url  \\\n",
       "0   лифтбек  SKODA  https://auto.ru/cars/used/sale/skoda/octavia/1...   \n",
       "1   лифтбек  SKODA  https://auto.ru/cars/used/sale/skoda/octavia/1...   \n",
       "2   лифтбек  SKODA  https://auto.ru/cars/used/sale/skoda/superb/11...   \n",
       "3   лифтбек  SKODA  https://auto.ru/cars/used/sale/skoda/octavia/1...   \n",
       "4   лифтбек  SKODA  https://auto.ru/cars/used/sale/skoda/octavia/1...   \n",
       "\n",
       "        color                                 complectation_dict  \\\n",
       "0       синий                                                NaN   \n",
       "1      чёрный                                                NaN   \n",
       "2       серый  {\"id\":\"20026336\",\"name\":\"Ambition\",\"available_...   \n",
       "3  коричневый  {\"id\":\"20803582\",\"name\":\"Ambition\",\"available_...   \n",
       "4       белый                                                NaN   \n",
       "\n",
       "                                         description engine_displacement  \\\n",
       "0  Все автомобили, представленные в продаже, прох...             1.2 LTR   \n",
       "1  ЛОТ: 01217195\\nАвтопрага Север\\nДанный автомоб...             1.6 LTR   \n",
       "2  Все автомобили, представленные в продаже, прох...             1.8 LTR   \n",
       "3  КОМПЛЕКТ ЗИМНЕЙ (ЛЕТНЕЙ) РЕЗИНЫ ПО СЕЗОНУ В ПО...             1.6 LTR   \n",
       "4  ЛОТ: 01220889\\nАвтопрага Север\\n\\nВы можете по...             1.8 LTR   \n",
       "\n",
       "  engine_power                                     equipment_dict fuel_type  \\\n",
       "0      105 N12  {\"engine-proof\":true,\"tinted-glass\":true,\"airb...    бензин   \n",
       "1      110 N12  {\"cruise-control\":true,\"asr\":true,\"esp\":true,\"...    бензин   \n",
       "2      152 N12  {\"cruise-control\":true,\"tinted-glass\":true,\"es...    бензин   \n",
       "3      110 N12  {\"cruise-control\":true,\"roller-blind-for-rear-...    бензин   \n",
       "4      152 N12  {\"cruise-control\":true,\"asr\":true,\"esp\":true,\"...    бензин   \n",
       "\n",
       "   ... ownership  documents     drive drive_side           condition  \\\n",
       "0  ...       NaN   Оригинал  передний      Левый  Не требует ремонта   \n",
       "1  ...       NaN   Оригинал  передний      Левый  Не требует ремонта   \n",
       "2  ...       NaN   Оригинал  передний      Левый  Не требует ремонта   \n",
       "3  ...       NaN   Оригинал  передний      Левый  Не требует ремонта   \n",
       "4  ...       NaN   Оригинал  передний      Левый  Не требует ремонта   \n",
       "\n",
       "      customs  parsing_date  price sample  advert_date  \n",
       "0  Растаможен    2020-10-20    0.0      0          NaN  \n",
       "1  Растаможен    2020-10-20    0.0      0          NaN  \n",
       "2  Растаможен    2020-10-20    0.0      0          NaN  \n",
       "3  Растаможен    2020-10-20    0.0      0          NaN  \n",
       "4  Растаможен    2020-10-20    0.0      0          NaN  \n",
       "\n",
       "[5 rows x 36 columns]"
      ]
     },
     "execution_count": 14,
     "metadata": {},
     "output_type": "execute_result"
    }
   ],
   "source": [
    "data.head(5)"
   ]
  },
  {
   "cell_type": "markdown",
   "id": "ec32abcf",
   "metadata": {},
   "source": [
    "## Создание наивной / ленивой модели"
   ]
  },
  {
   "cell_type": "code",
   "execution_count": 15,
   "id": "0871cee2",
   "metadata": {},
   "outputs": [],
   "source": [
    "train_na = train.copy()"
   ]
  },
  {
   "cell_type": "code",
   "execution_count": 16,
   "id": "26808fd1",
   "metadata": {},
   "outputs": [],
   "source": [
    "# Просто удалим пропуски \n",
    "train_na.dropna(inplace=True)"
   ]
  },
  {
   "cell_type": "code",
   "execution_count": 17,
   "id": "50484230",
   "metadata": {},
   "outputs": [
    {
     "data": {
      "text/plain": [
       "Index(['body_type', 'brand', 'color', 'complectation_dict', 'description',\n",
       "       'engine_displacement', 'engine_power', 'equipment_dict', 'fuel_type',\n",
       "       'mileage', 'model_date', 'model_info', 'model_name', 'name',\n",
       "       'number_of_doors', 'parsing_unixtime', 'production_date', 'sell_id',\n",
       "       'super_gen', 'vehicle_configuration', 'vehicle_transmission', 'vendor',\n",
       "       'owners', 'ownership', 'documents', 'drive', 'drive_side', 'condition',\n",
       "       'customs', 'advert_date', 'price', 'sample'],\n",
       "      dtype='object')"
      ]
     },
     "execution_count": 17,
     "metadata": {},
     "output_type": "execute_result"
    }
   ],
   "source": [
    "train_na.columns"
   ]
  },
  {
   "cell_type": "code",
   "execution_count": 18,
   "id": "29cf348f",
   "metadata": {},
   "outputs": [],
   "source": [
    "bin_cols = ['customs', 'documents','drive','condition']\n",
    "\n",
    "cat_cols = ['body_type', 'brand', 'color','complectation_dict','description',\n",
    "            'engine_displacement', 'engine_power', 'equipment_dict','fuel_type','model_info',\n",
    "           'model_name', 'name','super_gen','vehicle_configuration','vehicle_transmission',\n",
    "           'vendor', 'owners', 'ownership','drive']\n",
    "\n",
    "num_cols = ['mileage', 'model_date', 'number_of_doors', 'parsing_unixtime', \n",
    "            'production_date','sell_id']"
   ]
  },
  {
   "cell_type": "code",
   "execution_count": 19,
   "id": "2dd721fa",
   "metadata": {},
   "outputs": [],
   "source": [
    "# Для бинарных признаков мы будем использовать LabelEncoder\n",
    "label_encoder = LabelEncoder()\n",
    "for column in bin_cols:\n",
    "    train_na[column] = label_encoder.fit_transform(train_na[column])"
   ]
  },
  {
   "cell_type": "code",
   "execution_count": 20,
   "id": "7efe009b",
   "metadata": {},
   "outputs": [
    {
     "data": {
      "text/html": [
       "<div>\n",
       "<style scoped>\n",
       "    .dataframe tbody tr th:only-of-type {\n",
       "        vertical-align: middle;\n",
       "    }\n",
       "\n",
       "    .dataframe tbody tr th {\n",
       "        vertical-align: top;\n",
       "    }\n",
       "\n",
       "    .dataframe thead th {\n",
       "        text-align: right;\n",
       "    }\n",
       "</style>\n",
       "<table border=\"1\" class=\"dataframe\">\n",
       "  <thead>\n",
       "    <tr style=\"text-align: right;\">\n",
       "      <th></th>\n",
       "      <th>customs</th>\n",
       "      <th>documents</th>\n",
       "      <th>drive</th>\n",
       "      <th>condition</th>\n",
       "    </tr>\n",
       "  </thead>\n",
       "  <tbody>\n",
       "    <tr>\n",
       "      <th>0</th>\n",
       "      <td>0</td>\n",
       "      <td>1</td>\n",
       "      <td>2</td>\n",
       "      <td>0</td>\n",
       "    </tr>\n",
       "    <tr>\n",
       "      <th>5</th>\n",
       "      <td>0</td>\n",
       "      <td>1</td>\n",
       "      <td>2</td>\n",
       "      <td>0</td>\n",
       "    </tr>\n",
       "    <tr>\n",
       "      <th>14</th>\n",
       "      <td>0</td>\n",
       "      <td>1</td>\n",
       "      <td>1</td>\n",
       "      <td>0</td>\n",
       "    </tr>\n",
       "    <tr>\n",
       "      <th>15</th>\n",
       "      <td>0</td>\n",
       "      <td>1</td>\n",
       "      <td>1</td>\n",
       "      <td>0</td>\n",
       "    </tr>\n",
       "    <tr>\n",
       "      <th>16</th>\n",
       "      <td>0</td>\n",
       "      <td>1</td>\n",
       "      <td>1</td>\n",
       "      <td>0</td>\n",
       "    </tr>\n",
       "    <tr>\n",
       "      <th>...</th>\n",
       "      <td>...</td>\n",
       "      <td>...</td>\n",
       "      <td>...</td>\n",
       "      <td>...</td>\n",
       "    </tr>\n",
       "    <tr>\n",
       "      <th>25018</th>\n",
       "      <td>0</td>\n",
       "      <td>1</td>\n",
       "      <td>0</td>\n",
       "      <td>0</td>\n",
       "    </tr>\n",
       "    <tr>\n",
       "      <th>25019</th>\n",
       "      <td>0</td>\n",
       "      <td>1</td>\n",
       "      <td>2</td>\n",
       "      <td>0</td>\n",
       "    </tr>\n",
       "    <tr>\n",
       "      <th>25020</th>\n",
       "      <td>0</td>\n",
       "      <td>1</td>\n",
       "      <td>0</td>\n",
       "      <td>0</td>\n",
       "    </tr>\n",
       "    <tr>\n",
       "      <th>25021</th>\n",
       "      <td>0</td>\n",
       "      <td>1</td>\n",
       "      <td>2</td>\n",
       "      <td>0</td>\n",
       "    </tr>\n",
       "    <tr>\n",
       "      <th>25029</th>\n",
       "      <td>0</td>\n",
       "      <td>1</td>\n",
       "      <td>2</td>\n",
       "      <td>0</td>\n",
       "    </tr>\n",
       "  </tbody>\n",
       "</table>\n",
       "<p>8006 rows × 4 columns</p>\n",
       "</div>"
      ],
      "text/plain": [
       "       customs  documents  drive  condition\n",
       "0            0          1      2          0\n",
       "5            0          1      2          0\n",
       "14           0          1      1          0\n",
       "15           0          1      1          0\n",
       "16           0          1      1          0\n",
       "...        ...        ...    ...        ...\n",
       "25018        0          1      0          0\n",
       "25019        0          1      2          0\n",
       "25020        0          1      0          0\n",
       "25021        0          1      2          0\n",
       "25029        0          1      2          0\n",
       "\n",
       "[8006 rows x 4 columns]"
      ]
     },
     "execution_count": 20,
     "metadata": {},
     "output_type": "execute_result"
    }
   ],
   "source": [
    "train_na[bin_cols]"
   ]
  },
  {
   "cell_type": "code",
   "execution_count": 21,
   "id": "b146eb27",
   "metadata": {},
   "outputs": [],
   "source": [
    "# Для категориальных признаков мы тоже будем использовать LabelEncoder\n",
    "label_encoder = LabelEncoder()\n",
    "for column in cat_cols:\n",
    "    train_na[column] = label_encoder.fit_transform(train_na[column])"
   ]
  },
  {
   "cell_type": "code",
   "execution_count": 22,
   "id": "83c61c59",
   "metadata": {},
   "outputs": [
    {
     "data": {
      "text/html": [
       "<div>\n",
       "<style scoped>\n",
       "    .dataframe tbody tr th:only-of-type {\n",
       "        vertical-align: middle;\n",
       "    }\n",
       "\n",
       "    .dataframe tbody tr th {\n",
       "        vertical-align: top;\n",
       "    }\n",
       "\n",
       "    .dataframe thead th {\n",
       "        text-align: right;\n",
       "    }\n",
       "</style>\n",
       "<table border=\"1\" class=\"dataframe\">\n",
       "  <thead>\n",
       "    <tr style=\"text-align: right;\">\n",
       "      <th></th>\n",
       "      <th>body_type</th>\n",
       "      <th>brand</th>\n",
       "      <th>color</th>\n",
       "      <th>complectation_dict</th>\n",
       "      <th>description</th>\n",
       "      <th>engine_displacement</th>\n",
       "      <th>engine_power</th>\n",
       "      <th>equipment_dict</th>\n",
       "      <th>fuel_type</th>\n",
       "      <th>model_info</th>\n",
       "      <th>model_name</th>\n",
       "      <th>name</th>\n",
       "      <th>super_gen</th>\n",
       "      <th>vehicle_configuration</th>\n",
       "      <th>vehicle_transmission</th>\n",
       "      <th>vendor</th>\n",
       "      <th>owners</th>\n",
       "      <th>ownership</th>\n",
       "      <th>drive</th>\n",
       "    </tr>\n",
       "  </thead>\n",
       "  <tbody>\n",
       "    <tr>\n",
       "      <th>0</th>\n",
       "      <td>1</td>\n",
       "      <td>2</td>\n",
       "      <td>1</td>\n",
       "      <td>311</td>\n",
       "      <td>3481</td>\n",
       "      <td>28</td>\n",
       "      <td>123</td>\n",
       "      <td>2484</td>\n",
       "      <td>0</td>\n",
       "      <td>450</td>\n",
       "      <td>262</td>\n",
       "      <td>526</td>\n",
       "      <td>7675</td>\n",
       "      <td>33</td>\n",
       "      <td>0</td>\n",
       "      <td>2</td>\n",
       "      <td>0</td>\n",
       "      <td>253</td>\n",
       "      <td>2</td>\n",
       "    </tr>\n",
       "    <tr>\n",
       "      <th>5</th>\n",
       "      <td>1</td>\n",
       "      <td>2</td>\n",
       "      <td>1</td>\n",
       "      <td>449</td>\n",
       "      <td>6143</td>\n",
       "      <td>13</td>\n",
       "      <td>46</td>\n",
       "      <td>1919</td>\n",
       "      <td>0</td>\n",
       "      <td>188</td>\n",
       "      <td>80</td>\n",
       "      <td>479</td>\n",
       "      <td>2554</td>\n",
       "      <td>21</td>\n",
       "      <td>0</td>\n",
       "      <td>2</td>\n",
       "      <td>0</td>\n",
       "      <td>246</td>\n",
       "      <td>2</td>\n",
       "    </tr>\n",
       "    <tr>\n",
       "      <th>14</th>\n",
       "      <td>13</td>\n",
       "      <td>2</td>\n",
       "      <td>11</td>\n",
       "      <td>1382</td>\n",
       "      <td>6632</td>\n",
       "      <td>17</td>\n",
       "      <td>81</td>\n",
       "      <td>2466</td>\n",
       "      <td>0</td>\n",
       "      <td>92</td>\n",
       "      <td>45</td>\n",
       "      <td>461</td>\n",
       "      <td>6465</td>\n",
       "      <td>396</td>\n",
       "      <td>2</td>\n",
       "      <td>2</td>\n",
       "      <td>2</td>\n",
       "      <td>208</td>\n",
       "      <td>1</td>\n",
       "    </tr>\n",
       "    <tr>\n",
       "      <th>15</th>\n",
       "      <td>5</td>\n",
       "      <td>2</td>\n",
       "      <td>13</td>\n",
       "      <td>1382</td>\n",
       "      <td>7664</td>\n",
       "      <td>8</td>\n",
       "      <td>65</td>\n",
       "      <td>1126</td>\n",
       "      <td>0</td>\n",
       "      <td>157</td>\n",
       "      <td>101</td>\n",
       "      <td>497</td>\n",
       "      <td>2588</td>\n",
       "      <td>176</td>\n",
       "      <td>1</td>\n",
       "      <td>2</td>\n",
       "      <td>0</td>\n",
       "      <td>133</td>\n",
       "      <td>1</td>\n",
       "    </tr>\n",
       "    <tr>\n",
       "      <th>16</th>\n",
       "      <td>13</td>\n",
       "      <td>2</td>\n",
       "      <td>1</td>\n",
       "      <td>1382</td>\n",
       "      <td>5183</td>\n",
       "      <td>17</td>\n",
       "      <td>87</td>\n",
       "      <td>3168</td>\n",
       "      <td>0</td>\n",
       "      <td>92</td>\n",
       "      <td>45</td>\n",
       "      <td>463</td>\n",
       "      <td>6564</td>\n",
       "      <td>359</td>\n",
       "      <td>0</td>\n",
       "      <td>2</td>\n",
       "      <td>2</td>\n",
       "      <td>254</td>\n",
       "      <td>1</td>\n",
       "    </tr>\n",
       "    <tr>\n",
       "      <th>...</th>\n",
       "      <td>...</td>\n",
       "      <td>...</td>\n",
       "      <td>...</td>\n",
       "      <td>...</td>\n",
       "      <td>...</td>\n",
       "      <td>...</td>\n",
       "      <td>...</td>\n",
       "      <td>...</td>\n",
       "      <td>...</td>\n",
       "      <td>...</td>\n",
       "      <td>...</td>\n",
       "      <td>...</td>\n",
       "      <td>...</td>\n",
       "      <td>...</td>\n",
       "      <td>...</td>\n",
       "      <td>...</td>\n",
       "      <td>...</td>\n",
       "      <td>...</td>\n",
       "      <td>...</td>\n",
       "    </tr>\n",
       "    <tr>\n",
       "      <th>25018</th>\n",
       "      <td>13</td>\n",
       "      <td>1</td>\n",
       "      <td>13</td>\n",
       "      <td>1318</td>\n",
       "      <td>3959</td>\n",
       "      <td>8</td>\n",
       "      <td>33</td>\n",
       "      <td>6707</td>\n",
       "      <td>0</td>\n",
       "      <td>23</td>\n",
       "      <td>11</td>\n",
       "      <td>137</td>\n",
       "      <td>2669</td>\n",
       "      <td>352</td>\n",
       "      <td>0</td>\n",
       "      <td>1</td>\n",
       "      <td>0</td>\n",
       "      <td>126</td>\n",
       "      <td>0</td>\n",
       "    </tr>\n",
       "    <tr>\n",
       "      <th>25019</th>\n",
       "      <td>13</td>\n",
       "      <td>1</td>\n",
       "      <td>13</td>\n",
       "      <td>669</td>\n",
       "      <td>3160</td>\n",
       "      <td>13</td>\n",
       "      <td>101</td>\n",
       "      <td>3300</td>\n",
       "      <td>3</td>\n",
       "      <td>42</td>\n",
       "      <td>18</td>\n",
       "      <td>217</td>\n",
       "      <td>237</td>\n",
       "      <td>355</td>\n",
       "      <td>0</td>\n",
       "      <td>1</td>\n",
       "      <td>2</td>\n",
       "      <td>11</td>\n",
       "      <td>2</td>\n",
       "    </tr>\n",
       "    <tr>\n",
       "      <th>25020</th>\n",
       "      <td>17</td>\n",
       "      <td>1</td>\n",
       "      <td>15</td>\n",
       "      <td>1382</td>\n",
       "      <td>7900</td>\n",
       "      <td>13</td>\n",
       "      <td>57</td>\n",
       "      <td>6038</td>\n",
       "      <td>3</td>\n",
       "      <td>26</td>\n",
       "      <td>11</td>\n",
       "      <td>140</td>\n",
       "      <td>1321</td>\n",
       "      <td>448</td>\n",
       "      <td>0</td>\n",
       "      <td>1</td>\n",
       "      <td>2</td>\n",
       "      <td>12</td>\n",
       "      <td>0</td>\n",
       "    </tr>\n",
       "    <tr>\n",
       "      <th>25021</th>\n",
       "      <td>13</td>\n",
       "      <td>1</td>\n",
       "      <td>11</td>\n",
       "      <td>317</td>\n",
       "      <td>4096</td>\n",
       "      <td>13</td>\n",
       "      <td>101</td>\n",
       "      <td>3262</td>\n",
       "      <td>3</td>\n",
       "      <td>42</td>\n",
       "      <td>18</td>\n",
       "      <td>216</td>\n",
       "      <td>835</td>\n",
       "      <td>355</td>\n",
       "      <td>0</td>\n",
       "      <td>1</td>\n",
       "      <td>2</td>\n",
       "      <td>193</td>\n",
       "      <td>2</td>\n",
       "    </tr>\n",
       "    <tr>\n",
       "      <th>25029</th>\n",
       "      <td>1</td>\n",
       "      <td>9</td>\n",
       "      <td>12</td>\n",
       "      <td>727</td>\n",
       "      <td>7725</td>\n",
       "      <td>32</td>\n",
       "      <td>145</td>\n",
       "      <td>3754</td>\n",
       "      <td>0</td>\n",
       "      <td>365</td>\n",
       "      <td>204</td>\n",
       "      <td>1359</td>\n",
       "      <td>5048</td>\n",
       "      <td>37</td>\n",
       "      <td>0</td>\n",
       "      <td>2</td>\n",
       "      <td>1</td>\n",
       "      <td>36</td>\n",
       "      <td>2</td>\n",
       "    </tr>\n",
       "  </tbody>\n",
       "</table>\n",
       "<p>8006 rows × 19 columns</p>\n",
       "</div>"
      ],
      "text/plain": [
       "       body_type  brand  color  complectation_dict  description  \\\n",
       "0              1      2      1                 311         3481   \n",
       "5              1      2      1                 449         6143   \n",
       "14            13      2     11                1382         6632   \n",
       "15             5      2     13                1382         7664   \n",
       "16            13      2      1                1382         5183   \n",
       "...          ...    ...    ...                 ...          ...   \n",
       "25018         13      1     13                1318         3959   \n",
       "25019         13      1     13                 669         3160   \n",
       "25020         17      1     15                1382         7900   \n",
       "25021         13      1     11                 317         4096   \n",
       "25029          1      9     12                 727         7725   \n",
       "\n",
       "       engine_displacement  engine_power  equipment_dict  fuel_type  \\\n",
       "0                       28           123            2484          0   \n",
       "5                       13            46            1919          0   \n",
       "14                      17            81            2466          0   \n",
       "15                       8            65            1126          0   \n",
       "16                      17            87            3168          0   \n",
       "...                    ...           ...             ...        ...   \n",
       "25018                    8            33            6707          0   \n",
       "25019                   13           101            3300          3   \n",
       "25020                   13            57            6038          3   \n",
       "25021                   13           101            3262          3   \n",
       "25029                   32           145            3754          0   \n",
       "\n",
       "       model_info  model_name  name  super_gen  vehicle_configuration  \\\n",
       "0             450         262   526       7675                     33   \n",
       "5             188          80   479       2554                     21   \n",
       "14             92          45   461       6465                    396   \n",
       "15            157         101   497       2588                    176   \n",
       "16             92          45   463       6564                    359   \n",
       "...           ...         ...   ...        ...                    ...   \n",
       "25018          23          11   137       2669                    352   \n",
       "25019          42          18   217        237                    355   \n",
       "25020          26          11   140       1321                    448   \n",
       "25021          42          18   216        835                    355   \n",
       "25029         365         204  1359       5048                     37   \n",
       "\n",
       "       vehicle_transmission  vendor  owners  ownership  drive  \n",
       "0                         0       2       0        253      2  \n",
       "5                         0       2       0        246      2  \n",
       "14                        2       2       2        208      1  \n",
       "15                        1       2       0        133      1  \n",
       "16                        0       2       2        254      1  \n",
       "...                     ...     ...     ...        ...    ...  \n",
       "25018                     0       1       0        126      0  \n",
       "25019                     0       1       2         11      2  \n",
       "25020                     0       1       2         12      0  \n",
       "25021                     0       1       2        193      2  \n",
       "25029                     0       2       1         36      2  \n",
       "\n",
       "[8006 rows x 19 columns]"
      ]
     },
     "execution_count": 22,
     "metadata": {},
     "output_type": "execute_result"
    }
   ],
   "source": [
    "train_na[cat_cols]"
   ]
  },
  {
   "cell_type": "code",
   "execution_count": 23,
   "id": "fc547a5c",
   "metadata": {},
   "outputs": [
    {
     "name": "stdout",
     "output_type": "stream",
     "text": [
      "Точность наивной модели по метрике MAPE: 119.23%\n"
     ]
    }
   ],
   "source": [
    "# Помещаем данные по типу в матрицу переменных\n",
    "X_num_na = train_na[num_cols].values\n",
    "X_bin_na = train_na[bin_cols].values\n",
    "X_cat_na = train_na[cat_cols].values\n",
    "\n",
    "# Объединяем три типа данных в одну матрицу значений Х\n",
    "X_na = np.hstack([X_num_na, X_bin_na, X_cat_na,])\n",
    "y_na = train_na['price'].values\n",
    "\n",
    "# Разделим данные для обучения\n",
    "X_train, X_val, y_train, y_val = train_test_split(X_na, y_na, test_size=0.20, random_state=42)\n",
    "\n",
    "# Обучаем модель\n",
    "model = LinearRegression()\n",
    "model.fit(X_train, y_train)\n",
    "\n",
    "# Предсказываем на валидационной выборке\n",
    "y_pred_val = model.predict(X_val)\n",
    "\n",
    "# оцениваем точность\n",
    "print(\n",
    "    f\"Точность наивной модели по метрике MAPE: {(mape(y_val, y_pred_val))*100:0.2f}%\")"
   ]
  },
  {
   "cell_type": "markdown",
   "id": "bdf91338",
   "metadata": {},
   "source": [
    "Это отправная точка для усовершенствования предсказаний."
   ]
  },
  {
   "cell_type": "markdown",
   "id": "b1826181",
   "metadata": {},
   "source": [
    "## Преобразования"
   ]
  },
  {
   "cell_type": "code",
   "execution_count": 24,
   "id": "44f6ae55",
   "metadata": {},
   "outputs": [],
   "source": [
    "# Функция, присвающая выбросам значения в межквартильном пределе  \n",
    "def cut_IQR(column, data):\n",
    "    Q25 = data[column].quantile(0.25)\n",
    "    Q75 = data[column].quantile(0.75)\n",
    "    IQR = Q75 - Q25\n",
    "    l_bound = Q25 - 1.5*IQR\n",
    "    r_bound = Q75 + 1.5*IQR\n",
    "\n",
    "    data[column] = data[column].apply(lambda x: r_bound if x  >=  r_bound else x)\n",
    "    data[column] = data[column].apply(lambda x: l_bound if x  <=  l_bound else x)"
   ]
  },
  {
   "cell_type": "code",
   "execution_count": 25,
   "id": "5b900ed1",
   "metadata": {},
   "outputs": [
    {
     "name": "stdout",
     "output_type": "stream",
     "text": [
      "<class 'pandas.core.frame.DataFrame'>\n",
      "RangeIndex: 59717 entries, 0 to 59716\n",
      "Data columns (total 36 columns):\n",
      " #   Column                 Non-Null Count  Dtype         \n",
      "---  ------                 --------------  -----         \n",
      " 0   body_type              59717 non-null  object        \n",
      " 1   brand                  59717 non-null  object        \n",
      " 2   car_url                34686 non-null  object        \n",
      " 3   color                  59717 non-null  object        \n",
      " 4   complectation_dict     31449 non-null  object        \n",
      " 5   description            59717 non-null  object        \n",
      " 6   engine_displacement    59717 non-null  object        \n",
      " 7   engine_power           59717 non-null  object        \n",
      " 8   equipment_dict         49721 non-null  object        \n",
      " 9   fuel_type              59717 non-null  object        \n",
      " 10  image                  34686 non-null  object        \n",
      " 11  mileage                59717 non-null  int64         \n",
      " 12  model_date             59717 non-null  float64       \n",
      " 13  model_info             59717 non-null  object        \n",
      " 14  model_name             59717 non-null  object        \n",
      " 15  name                   59717 non-null  object        \n",
      " 16  number_of_doors        59717 non-null  float64       \n",
      " 17  parsing_unixtime       59717 non-null  int64         \n",
      " 18  price_currency         34686 non-null  object        \n",
      " 19  production_date        59717 non-null  float64       \n",
      " 20  sell_id                59717 non-null  float64       \n",
      " 21  super_gen              59717 non-null  object        \n",
      " 22  vehicle_configuration  59717 non-null  object        \n",
      " 23  vehicle_transmission   59717 non-null  object        \n",
      " 24  vendor                 59683 non-null  object        \n",
      " 25  owners                 59716 non-null  object        \n",
      " 26  ownership              20009 non-null  object        \n",
      " 27  documents              59715 non-null  object        \n",
      " 28  drive                  59717 non-null  object        \n",
      " 29  drive_side             59717 non-null  object        \n",
      " 30  condition              59715 non-null  object        \n",
      " 31  customs                59714 non-null  object        \n",
      " 32  parsing_date           34686 non-null  datetime64[ns]\n",
      " 33  price                  59717 non-null  float64       \n",
      " 34  sample                 59717 non-null  int64         \n",
      " 35  advert_date            25031 non-null  object        \n",
      "dtypes: datetime64[ns](1), float64(5), int64(3), object(27)\n",
      "memory usage: 16.4+ MB\n"
     ]
    }
   ],
   "source": [
    "data.info()"
   ]
  },
  {
   "cell_type": "markdown",
   "id": "9d2d1b54",
   "metadata": {},
   "source": [
    "### Категориальные признаки"
   ]
  },
  {
   "cell_type": "markdown",
   "id": "5b4551be",
   "metadata": {},
   "source": [
    "В датасете присутствует большое значение категориальных признаков, из которых стоит извлечь числовые. Остальные можно преобразовать в ординарные или бинарные."
   ]
  },
  {
   "cell_type": "markdown",
   "id": "1963c770",
   "metadata": {},
   "source": [
    "#### *Тип кузова*"
   ]
  },
  {
   "cell_type": "code",
   "execution_count": 31,
   "id": "a5926474",
   "metadata": {},
   "outputs": [
    {
     "data": {
      "text/plain": [
       "внедорожник 5 дв.          21875\n",
       "седан                      21689\n",
       "лифтбек                     4061\n",
       "хэтчбек 5 дв.               3470\n",
       "универсал 5 дв.             2226\n",
       "минивэн                     1739\n",
       "купе                        1479\n",
       "хэтчбек 3 дв.                844\n",
       "компактвэн                   782\n",
       "пикап двойная кабина         478\n",
       "купе-хардтоп                 230\n",
       "фургон                       202\n",
       "внедорожник 3 дв.            188\n",
       "родстер                      182\n",
       "кабриолет                    175\n",
       "седан-хардтоп                 27\n",
       "микровэн                      20\n",
       "пикап одинарная кабина        15\n",
       "седан 2 дв.                   10\n",
       "пикап полуторная кабина        9\n",
       "лимузин                        8\n",
       "внедорожник открытый           4\n",
       "тарга                          3\n",
       "фастбек                        1\n",
       "Name: body_type, dtype: int64"
      ]
     },
     "execution_count": 31,
     "metadata": {},
     "output_type": "execute_result"
    }
   ],
   "source": [
    "data.body_type.value_counts()"
   ]
  },
  {
   "cell_type": "code",
   "execution_count": 32,
   "id": "fd1366a0",
   "metadata": {},
   "outputs": [
    {
     "data": {
      "text/plain": [
       "внедорожник      22067\n",
       "седан            21699\n",
       "хэтчбек           4314\n",
       "лифтбек           4061\n",
       "универсал         2226\n",
       "минивэн           1739\n",
       "купе              1479\n",
       "компактвэн         782\n",
       "пикап              502\n",
       "купе-хардтоп       230\n",
       "фургон             202\n",
       "родстер            182\n",
       "кабриолет          175\n",
       "седан-хардтоп       27\n",
       "микровэн            20\n",
       "лимузин              8\n",
       "тарга                3\n",
       "фастбек              1\n",
       "Name: body_type, dtype: int64"
      ]
     },
     "execution_count": 32,
     "metadata": {},
     "output_type": "execute_result"
    }
   ],
   "source": [
    "# Удаляем значения более одного слова\n",
    "data['body_type'] = data['body_type'].astype(str).apply(lambda x: None if x.strip() == '' else x)\n",
    "data['body_type'] = data['body_type'].apply(lambda x: x.split(' ')[0])\n",
    "data['body_type'].value_counts()"
   ]
  },
  {
   "cell_type": "code",
   "execution_count": 33,
   "id": "6b2c2de0",
   "metadata": {},
   "outputs": [],
   "source": [
    "# Удаляем дополнительные параметры (хардтоп), которые указаны через дефис\n",
    "data['body_type'] = data['body_type'].astype(str).apply(lambda x: None if x.strip() == '-' else x)\n",
    "data['body_type'] = data['body_type'].apply(lambda x: x.split('-')[0])"
   ]
  },
  {
   "cell_type": "code",
   "execution_count": 34,
   "id": "de26aa9a",
   "metadata": {},
   "outputs": [
    {
     "data": {
      "text/plain": [
       "внедорожник    22067\n",
       "седан          21726\n",
       "хэтчбек         4314\n",
       "лифтбек         4061\n",
       "универсал       2226\n",
       "минивэн         1739\n",
       "купе            1709\n",
       "компактвэн       782\n",
       "пикап            502\n",
       "фургон           202\n",
       "родстер          182\n",
       "кабриолет        175\n",
       "микровэн          20\n",
       "лимузин            8\n",
       "тарга              3\n",
       "фастбек            1\n",
       "Name: body_type, dtype: int64"
      ]
     },
     "execution_count": 34,
     "metadata": {},
     "output_type": "execute_result"
    }
   ],
   "source": [
    "data['body_type'].value_counts()"
   ]
  },
  {
   "cell_type": "markdown",
   "id": "02ed2d84",
   "metadata": {},
   "source": [
    "#### *Пакеты - complectation_dict*"
   ]
  },
  {
   "cell_type": "code",
   "execution_count": 35,
   "id": "beb2fe9a",
   "metadata": {},
   "outputs": [
    {
     "data": {
      "text/plain": [
       "False    31449\n",
       "True     28268\n",
       "Name: complectation_dict, dtype: int64"
      ]
     },
     "execution_count": 35,
     "metadata": {},
     "output_type": "execute_result"
    }
   ],
   "source": [
    "data.complectation_dict.isna().value_counts()"
   ]
  },
  {
   "cell_type": "code",
   "execution_count": 36,
   "id": "60a6e718",
   "metadata": {},
   "outputs": [
    {
     "data": {
      "text/plain": [
       "True     28268\n",
       "False     6418\n",
       "Name: complectation_dict, dtype: int64"
      ]
     },
     "execution_count": 36,
     "metadata": {},
     "output_type": "execute_result"
    }
   ],
   "source": [
    "# В собранном мною датасете нет пропусков, однако в тестовой выборке есть только около 22% данных\n",
    "test.complectation_dict.isna().value_counts()"
   ]
  },
  {
   "cell_type": "code",
   "execution_count": 37,
   "id": "e4d07ae9",
   "metadata": {},
   "outputs": [
    {
     "data": {
      "text/plain": [
       "\"['airbag-passenger', 'lock', 'electro-mirrors', 'mirrors-heat', 'computer', 'seat-transformation', 'wheel-power', 'fabric-seats', 'airbag-side', 'abs', 'climate-control-1', 'esp', 'audiopreparation', 'electro-window-back', 'condition', 'music-super', 'airbag-driver', 'electro-window-front', 'ptf', 'audiosystem-cd', 'migration-flag', 'front-seats-heat', 'wheel-configuration2', 'wheel-configuration1', 'immo']\""
      ]
     },
     "execution_count": 37,
     "metadata": {},
     "output_type": "execute_result"
    }
   ],
   "source": [
    "# пример содержания информации о пакете\n",
    "data.complectation_dict[47080]"
   ]
  },
  {
   "cell_type": "markdown",
   "id": "835fb372",
   "metadata": {},
   "source": [
    "Наличие информации о пакете комплектации может влиять на цену автомобиля, но в данном признаке слишком много пропусков, поэтому  на данном этапе решение - не принимать во внимание для дальнешего анализа"
   ]
  },
  {
   "cell_type": "code",
   "execution_count": 38,
   "id": "da0b6290",
   "metadata": {},
   "outputs": [],
   "source": [
    "# data['complectation_dict'].fillna(0, inplace=True)\n",
    "# data['complectation_dict'].isna().value_counts()\n",
    "# data['complectation_dict'] = data['complectation_dict'].apply(lambda x: len(x))"
   ]
  },
  {
   "cell_type": "code",
   "execution_count": 39,
   "id": "a72fbb88",
   "metadata": {},
   "outputs": [],
   "source": [
    "# # Проверим правильность\n",
    "# data.complectation_dict.value_counts()"
   ]
  },
  {
   "cell_type": "markdown",
   "id": "e18accca",
   "metadata": {},
   "source": [
    "#### *Описание - decription*"
   ]
  },
  {
   "cell_type": "code",
   "execution_count": 40,
   "id": "e12e66a3",
   "metadata": {
    "scrolled": true
   },
   "outputs": [
    {
     "data": {
      "text/plain": [
       "'Все автомобили, представленные в продаже, проходят тщательную проверку по более 40 параметрам. Предоставляем гарантию юридической чистоты, а так же год технической гарантии на двигатель и КПП. Бесплатный тест-драйв. Возможно оформление автомобиля в кредит!\\n\\nПреимущества автокредитования:\\n— Первоначальный взнос от 0%;\\n— Более 30 кредитных программ;\\n— Процентная ставка от 6% годовых;\\n— Срок кредита от 6 месяцев до 7 лет;\\n— Оформление кредита по двум документам;\\n— Досрочное погашение без штрафов и комиссий;\\n— Сумма кредита до 2 млн рублей;\\n— Оформление КАСКО – по желанию;\\n— Без справок и поручителей.\\n\\nСотрудничаем с 12 аккредитованными и сертифицированными банками РФ, среднее время ожидания решения банка 20–30 минут.\\n\\nПри покупке автомобиля по программе «Trade-in – выгодный обмен» или в кредит, получите дополнительную скидку до 80 000 рублей на данный автомобиль!\\n\\nЗаписаться на тест-драйв, а так же получить подробную информацию можно у специалистов автоцентра по указанному номеру телефона.'"
      ]
     },
     "execution_count": 40,
     "metadata": {},
     "output_type": "execute_result"
    }
   ],
   "source": [
    "# Пример описания в объявлении\n",
    "data['description'][0]"
   ]
  },
  {
   "cell_type": "code",
   "execution_count": 41,
   "id": "648776db",
   "metadata": {},
   "outputs": [],
   "source": [
    "# можно посчитать длину комментария и создать из этого числовой признак\n",
    "data['description_len'] = data.description.apply(lambda x: len(str(x)))"
   ]
  },
  {
   "cell_type": "markdown",
   "id": "8ca82660",
   "metadata": {},
   "source": [
    "#### * Объем двигателя - Engine Displacement*"
   ]
  },
  {
   "cell_type": "code",
   "execution_count": 42,
   "id": "4ead10ae",
   "metadata": {
    "scrolled": true
   },
   "outputs": [
    {
     "data": {
      "text/plain": [
       "2.0 LTR    13501\n",
       "1.6 LTR     8375\n",
       "3.0 LTR     7083\n",
       "1.8 LTR     5334\n",
       "2.5 LTR     4129\n",
       "1.4 LTR     3006\n",
       "2.4 LTR     2802\n",
       "3.5 LTR     2715\n",
       "1.5 LTR     1174\n",
       "1.2 LTR      779\n",
       "4.4 LTR      751\n",
       "2.8 LTR      696\n",
       "4.5 LTR      683\n",
       "1.3 LTR      664\n",
       "4.0 LTR      664\n",
       "4.7 LTR      656\n",
       "5.5 LTR      609\n",
       "2.1 LTR      530\n",
       "3.2 LTR      524\n",
       "4.2 LTR      387\n",
       "2.2 LTR      383\n",
       "2.7 LTR      374\n",
       "1.9 LTR      332\n",
       "2.3 LTR      325\n",
       "3.6 LTR      311\n",
       "5.7 LTR      310\n",
       "3.7 LTR      286\n",
       "2.9 LTR      258\n",
       "4.6 LTR      240\n",
       "5.0 LTR      230\n",
       "5.6 LTR      228\n",
       "3.1 LTR      130\n",
       "4.8 LTR      116\n",
       " LTR         113\n",
       "1.0 LTR      111\n",
       "0.7 LTR       98\n",
       "3.8 LTR       96\n",
       "1.7 LTR       94\n",
       "2.6 LTR       91\n",
       "6.0 LTR       80\n",
       "3.3 LTR       75\n",
       "3.4 LTR       63\n",
       "6.2 LTR       63\n",
       "4.1 LTR       60\n",
       "5.4 LTR       56\n",
       "4.3 LTR       49\n",
       "5.2 LTR       17\n",
       "5.9 LTR       17\n",
       "6.3 LTR       12\n",
       "5.8 LTR       11\n",
       "6.6 LTR        8\n",
       "4.9 LTR        8\n",
       "1.1 LTR        6\n",
       "3.9 LTR        2\n",
       "0.6 LTR        1\n",
       "5.3 LTR        1\n",
       "Name: engine_displacement, dtype: int64"
      ]
     },
     "execution_count": 42,
     "metadata": {},
     "output_type": "execute_result"
    }
   ],
   "source": [
    "# Посмотрим на уникальные значения и их количество\n",
    "data['engine_displacement'].value_counts()"
   ]
  },
  {
   "cell_type": "code",
   "execution_count": 43,
   "id": "a3baa766",
   "metadata": {},
   "outputs": [],
   "source": [
    "# Удалим обознаяение литра\n",
    "data['engine_displacement'] = data['engine_displacement'].apply(lambda x: x[:3])\n",
    "# Заменим в значениях, где не было числа на 1.0. Возможно, кто-то ошибочно указал LTR\n",
    "data['engine_displacement'] = data['engine_displacement'].replace(' LT','1.0')\n",
    "# Заменим значения на числовые \n",
    "data['engine_displacement'] = data['engine_displacement'].apply(lambda x: float(x))"
   ]
  },
  {
   "cell_type": "code",
   "execution_count": 44,
   "id": "e127f0a1",
   "metadata": {
    "scrolled": true
   },
   "outputs": [
    {
     "data": {
      "text/plain": [
       "2.0    13501\n",
       "1.6     8375\n",
       "3.0     7083\n",
       "1.8     5334\n",
       "2.5     4129\n",
       "1.4     3006\n",
       "2.4     2802\n",
       "3.5     2715\n",
       "1.5     1174\n",
       "1.2      779\n",
       "4.4      751\n",
       "2.8      696\n",
       "4.5      683\n",
       "1.3      664\n",
       "4.0      664\n",
       "4.7      656\n",
       "5.5      609\n",
       "2.1      530\n",
       "3.2      524\n",
       "4.2      387\n",
       "2.2      383\n",
       "2.7      374\n",
       "1.9      332\n",
       "2.3      325\n",
       "3.6      311\n",
       "5.7      310\n",
       "3.7      286\n",
       "2.9      258\n",
       "4.6      240\n",
       "5.0      230\n",
       "5.6      228\n",
       "1.0      224\n",
       "3.1      130\n",
       "4.8      116\n",
       "0.7       98\n",
       "3.8       96\n",
       "1.7       94\n",
       "2.6       91\n",
       "6.0       80\n",
       "3.3       75\n",
       "3.4       63\n",
       "6.2       63\n",
       "4.1       60\n",
       "5.4       56\n",
       "4.3       49\n",
       "5.9       17\n",
       "5.2       17\n",
       "6.3       12\n",
       "5.8       11\n",
       "4.9        8\n",
       "6.6        8\n",
       "1.1        6\n",
       "3.9        2\n",
       "0.6        1\n",
       "5.3        1\n",
       "Name: engine_displacement, dtype: int64"
      ]
     },
     "execution_count": 44,
     "metadata": {},
     "output_type": "execute_result"
    }
   ],
   "source": [
    "data['engine_displacement'].value_counts()"
   ]
  },
  {
   "cell_type": "markdown",
   "id": "c20412f5",
   "metadata": {},
   "source": [
    "Этот признак преобразован в числовой"
   ]
  },
  {
   "cell_type": "markdown",
   "id": "9a3f8ead",
   "metadata": {},
   "source": [
    "#### * Мощность двигателя - Engine Power*"
   ]
  },
  {
   "cell_type": "code",
   "execution_count": 45,
   "id": "4eb87f08",
   "metadata": {},
   "outputs": [
    {
     "data": {
      "text/plain": [
       "249 N12    3541\n",
       "150 N12    3327\n",
       "110 N12    2012\n",
       "184 N12    1669\n",
       "170 N12    1639\n",
       "           ... \n",
       "402 N12       1\n",
       "338 N12       1\n",
       "254 N12       1\n",
       "32 N12        1\n",
       "514 N12       1\n",
       "Name: engine_power, Length: 333, dtype: int64"
      ]
     },
     "execution_count": 45,
     "metadata": {},
     "output_type": "execute_result"
    }
   ],
   "source": [
    "data['engine_power'].value_counts()"
   ]
  },
  {
   "cell_type": "code",
   "execution_count": 46,
   "id": "eef41e98",
   "metadata": {},
   "outputs": [],
   "source": [
    "# Удалим обозначение N12\n",
    "data['engine_power'] = data['engine_power'].apply(lambda x: x[:3])\n",
    "data['engine_power'] = data['engine_power'].apply(lambda x: int(x))"
   ]
  },
  {
   "cell_type": "code",
   "execution_count": 47,
   "id": "af0c92be",
   "metadata": {},
   "outputs": [
    {
     "data": {
      "text/plain": [
       "249    3541\n",
       "150    3327\n",
       "110    2012\n",
       "184    1669\n",
       "170    1639\n",
       "       ... \n",
       "338       1\n",
       "402       1\n",
       "19        1\n",
       "344       1\n",
       "32        1\n",
       "Name: engine_power, Length: 333, dtype: int64"
      ]
     },
     "execution_count": 47,
     "metadata": {},
     "output_type": "execute_result"
    }
   ],
   "source": [
    "data['engine_power'].value_counts()"
   ]
  },
  {
   "cell_type": "markdown",
   "id": "6312c0f0",
   "metadata": {},
   "source": [
    "Этот признак преобразован в числовой"
   ]
  },
  {
   "cell_type": "markdown",
   "id": "1f19f500",
   "metadata": {},
   "source": [
    "#### *Элементы комплектации  - equipment_dict*"
   ]
  },
  {
   "cell_type": "code",
   "execution_count": 48,
   "id": "d2ac59b6",
   "metadata": {
    "scrolled": true
   },
   "outputs": [
    {
     "data": {
      "text/plain": [
       "False    24690\n",
       "True      9996\n",
       "Name: equipment_dict, dtype: int64"
      ]
     },
     "execution_count": 48,
     "metadata": {},
     "output_type": "execute_result"
    }
   ],
   "source": [
    "# Посмотрим на количество пропусков в тестовой выборке\n",
    "test['equipment_dict'].isna().value_counts()"
   ]
  },
  {
   "cell_type": "code",
   "execution_count": 49,
   "id": "20814068",
   "metadata": {},
   "outputs": [
    {
     "data": {
      "text/plain": [
       "'{\"engine-proof\":true,\"tinted-glass\":true,\"airbag-driver\":true,\"aux\":true,\"isofix\":true,\"electro-window-front\":true,\"ashtray-and-cigarette-lighter\":true,\"airbag-passenger\":true,\"computer\":true,\"high-beam-assist\":true,\"seat-transformation\":true,\"isofix-front\":true,\"wheel-power\":true,\"alarm\":true,\"lock\":true,\"door-sill-panel\":true,\"fabric-seats\":true,\"electro-mirrors\":true,\"airbag-rear-side\":true,\"electro-window-back\":true,\"steel-wheels\":true,\"ptf\":true,\"16-inch-wheels\":true,\"rain-sensor\":true,\"airbag-side\":true,\"audiosystem-cd\":true,\"dark-interior\":true,\"cooling-box\":true,\"condition\":true,\"abs\":true,\"power-child-locks-rear-doors\":true,\"front-seats-heat\":true,\"wheel-configuration2\":true,\"wheel-configuration1\":true,\"12v-socket\":true,\"park-assist-r\":true}'"
      ]
     },
     "execution_count": 49,
     "metadata": {},
     "output_type": "execute_result"
    }
   ],
   "source": [
    "test['equipment_dict'][0]"
   ]
  },
  {
   "cell_type": "markdown",
   "id": "066b2997",
   "metadata": {},
   "source": [
    "Поскольку пропусков слишком много, на данном этапе решаю не использовать признак для дальнейшего анализа"
   ]
  },
  {
   "cell_type": "code",
   "execution_count": 50,
   "id": "0bb6df8e",
   "metadata": {},
   "outputs": [],
   "source": [
    "# data['equipment_dict'].fillna(0, inplace=True)\n",
    "# data['equipment_dict'].isna().value_counts()\n",
    "# data['equipment_dict'] = data['equipment_dict'].apply(lambda x: len(x))"
   ]
  },
  {
   "cell_type": "code",
   "execution_count": 51,
   "id": "886f7a0f",
   "metadata": {},
   "outputs": [],
   "source": [
    "# # Проверяем результат\n",
    "# data['equipment_dict'].value_counts()"
   ]
  },
  {
   "cell_type": "markdown",
   "id": "5f8820c0",
   "metadata": {},
   "source": [
    "#### *Model Info*"
   ]
  },
  {
   "cell_type": "code",
   "execution_count": 52,
   "id": "136509af",
   "metadata": {},
   "outputs": [
    {
     "data": {
      "text/plain": [
       "'{\"code\":\"A6\",\"name\":\"A6\",\"ru_name\":\"А6\",\"morphology\":{},\"nameplate\":{\"code\":\"\",\"name\":\"\",\"semantic_url\":\"\"}}'"
      ]
     },
     "execution_count": 52,
     "metadata": {},
     "output_type": "execute_result"
    }
   ],
   "source": [
    "# Пример содержания ModelInfo\n",
    "data['model_info'][3900]"
   ]
  },
  {
   "cell_type": "markdown",
   "id": "c7180683",
   "metadata": {},
   "source": [
    "Я потратил много времени на поиск этого признака, но нет в нем ничего, что можно было бы использовать. Этот признак не будет использоваться для прогнозирования цены"
   ]
  },
  {
   "cell_type": "markdown",
   "id": "410d7eda",
   "metadata": {},
   "source": [
    "#### *Name*"
   ]
  },
  {
   "cell_type": "code",
   "execution_count": 53,
   "id": "c35deef7",
   "metadata": {},
   "outputs": [
    {
     "data": {
      "text/plain": [
       "1.6 AT (110 л.с.)                                     631\n",
       "1.6 MT (102 л.с.)                                     410\n",
       "Volkswagen Polo V Рестайлинг                          373\n",
       "1.6 MT (110 л.с.)                                     314\n",
       "2.0 CVT (141 л.с.) 4WD                                309\n",
       "                                                     ... \n",
       "BMW 7 серии 750d xDrive V (F01/F02/F04) Рестайлинг      1\n",
       "Toyota Camry US Market VIII (XV70)                      1\n",
       "Mercedes-Benz E-Класс 430 II (W210, S210)               1\n",
       "4-Seater 3.6 AT (280 л.с.) 4WD                          1\n",
       "2.0 MT (121 л.с.)                                       1\n",
       "Name: name, Length: 5109, dtype: int64"
      ]
     },
     "execution_count": 53,
     "metadata": {},
     "output_type": "execute_result"
    }
   ],
   "source": [
    "data['name'].value_counts()"
   ]
  },
  {
   "cell_type": "markdown",
   "id": "02c14c9c",
   "metadata": {},
   "source": [
    "Признак name содержит информацию об объеме двигателя, а также мощности. Эта информация есть в других признаках. Признак не будет использован для дальнейшей переработки"
   ]
  },
  {
   "cell_type": "markdown",
   "id": "1d4e6704",
   "metadata": {},
   "source": [
    "#### *Super_gen*"
   ]
  },
  {
   "cell_type": "code",
   "execution_count": 54,
   "id": "f008c39a",
   "metadata": {},
   "outputs": [
    {
     "data": {
      "text/plain": [
       "'{\"id\":\"10373605\",\"displacement\":1197,\"engine_type\":\"GASOLINE\",\"gear_type\":\"FORWARD_CONTROL\",\"transmission\":\"ROBOT\",\"power\":105,\"power_kvt\":77,\"human_name\":\"1.2 AMT (105 л.с.)\",\"acceleration\":10.5,\"clearance_min\":155,\"fuel_rate\":5}'"
      ]
     },
     "execution_count": 54,
     "metadata": {},
     "output_type": "execute_result"
    }
   ],
   "source": [
    "# Посмотрим, что содержит признак\n",
    "data['super_gen'][0]"
   ]
  },
  {
   "cell_type": "markdown",
   "id": "a3d717c0",
   "metadata": {},
   "source": [
    "Признак super_gen из парсинга отличается по содержанию от тестовой выборки, поэтому не может использоваться для дальнейшего анализа"
   ]
  },
  {
   "cell_type": "markdown",
   "id": "5208df33",
   "metadata": {},
   "source": [
    "#### *Конфигурация транспортного средства - vehicle configuration*"
   ]
  },
  {
   "cell_type": "code",
   "execution_count": 55,
   "id": "c9129111",
   "metadata": {},
   "outputs": [
    {
     "data": {
      "text/plain": [
       "ALLROAD_5_DOORS AUTOMATIC 3.0      4376\n",
       "SEDAN AUTOMATIC 2.0                2894\n",
       "ALLROAD_5_DOORS AUTOMATIC 2.0      2657\n",
       "ALLROAD_5_DOORS VARIATOR 2.0       2320\n",
       "SEDAN MECHANICAL 1.6               2085\n",
       "                                   ... \n",
       "PICKUP_TWO AUTOMATIC 4.6              1\n",
       "CABRIO MECHANICAL 5.3                 1\n",
       "COUPE ROBOT 3.3                       1\n",
       "CABRIO AUTOMATIC 3.5                  1\n",
       "HATCHBACK_5_DOORS AUTOMATIC 2.4       1\n",
       "Name: vehicle_configuration, Length: 697, dtype: int64"
      ]
     },
     "execution_count": 55,
     "metadata": {},
     "output_type": "execute_result"
    }
   ],
   "source": [
    "data['vehicle_configuration'].value_counts()"
   ]
  },
  {
   "cell_type": "markdown",
   "id": "69e533d8",
   "metadata": {},
   "source": [
    "Признак содержит данные, которые имеются в других признаках: тип кузова, количество дверей, тип коробки передач. Признак не будет учитываться"
   ]
  },
  {
   "cell_type": "markdown",
   "id": "17ad29e1",
   "metadata": {},
   "source": [
    "#### *Владельцы - owners*"
   ]
  },
  {
   "cell_type": "code",
   "execution_count": 56,
   "id": "fd223572",
   "metadata": {},
   "outputs": [
    {
     "data": {
      "text/plain": [
       "3 или более    26834\n",
       "1 владелец      9459\n",
       "2 владельца     9270\n",
       "1 владелец      7556\n",
       "2 владельца     6597\n",
       "Name: owners, dtype: int64"
      ]
     },
     "execution_count": 56,
     "metadata": {},
     "output_type": "execute_result"
    }
   ],
   "source": [
    "data['owners'].value_counts()"
   ]
  },
  {
   "cell_type": "code",
   "execution_count": 57,
   "id": "5c5ced64",
   "metadata": {},
   "outputs": [
    {
     "data": {
      "text/plain": [
       "str"
      ]
     },
     "execution_count": 57,
     "metadata": {},
     "output_type": "execute_result"
    }
   ],
   "source": [
    "type(data.owners[0])"
   ]
  },
  {
   "cell_type": "code",
   "execution_count": 58,
   "id": "39d48fa9",
   "metadata": {},
   "outputs": [],
   "source": [
    "# Переведем значения в числовые\n",
    "data['owners'] = data['owners'].apply(lambda x: int(x[0]) if type(x) == str else x)"
   ]
  },
  {
   "cell_type": "code",
   "execution_count": 59,
   "id": "45b48fbc",
   "metadata": {},
   "outputs": [
    {
     "data": {
      "text/plain": [
       "3.0    26834\n",
       "1.0    17015\n",
       "2.0    15867\n",
       "Name: owners, dtype: int64"
      ]
     },
     "execution_count": 59,
     "metadata": {},
     "output_type": "execute_result"
    }
   ],
   "source": [
    "data['owners'].value_counts()"
   ]
  },
  {
   "cell_type": "code",
   "execution_count": 60,
   "id": "0ef4aca9",
   "metadata": {},
   "outputs": [],
   "source": [
    "data.owners.fillna(3.0, inplace=True)"
   ]
  },
  {
   "cell_type": "markdown",
   "id": "28f1a15f",
   "metadata": {},
   "source": [
    "#### *Vendor*"
   ]
  },
  {
   "cell_type": "code",
   "execution_count": 130,
   "id": "ed2e85cd",
   "metadata": {},
   "outputs": [],
   "source": [
    "# Заполним пропуски наиболее частым значением\n",
    "data.vendor.fillna('EUROPEAN', inplace=True)"
   ]
  },
  {
   "cell_type": "markdown",
   "id": "991232cd",
   "metadata": {},
   "source": [
    "#### *Владение - ownership*"
   ]
  },
  {
   "cell_type": "code",
   "execution_count": 61,
   "id": "3c6c8f5c",
   "metadata": {},
   "outputs": [
    {
     "data": {
      "text/plain": [
       "1 год и 1 месяц         363\n",
       "11 месяцев              349\n",
       "1 год                   347\n",
       "10 месяцев              323\n",
       "9 месяцев               320\n",
       "                       ... \n",
       "23 года и 10 месяцев      1\n",
       "22 года и 4 месяца        1\n",
       "18 лет и 4 месяца         1\n",
       "30 лет и 7 месяцев        1\n",
       "31 год и 5 месяцев        1\n",
       "Name: ownership, Length: 301, dtype: int64"
      ]
     },
     "execution_count": 61,
     "metadata": {},
     "output_type": "execute_result"
    }
   ],
   "source": [
    "data['ownership'].value_counts()"
   ]
  },
  {
   "cell_type": "code",
   "execution_count": 62,
   "id": "eca755e0",
   "metadata": {},
   "outputs": [
    {
     "data": {
      "text/plain": [
       "True     39708\n",
       "False    20009\n",
       "Name: ownership, dtype: int64"
      ]
     },
     "execution_count": 62,
     "metadata": {},
     "output_type": "execute_result"
    }
   ],
   "source": [
    "# отсутствует слишком большое количество значений\n",
    "data['ownership'].isna().value_counts()"
   ]
  },
  {
   "cell_type": "markdown",
   "id": "afc41114",
   "metadata": {},
   "source": [
    "Признак не будет использоваться для дальнейшего анализа"
   ]
  },
  {
   "cell_type": "markdown",
   "id": "0d20a259",
   "metadata": {},
   "source": [
    "Следующие признаки не содержат пропусков, будет трансформированы в ординальные:\n",
    "\n",
    "* bodyType\n",
    "* brand\n",
    "* color\n",
    "* fuel_type\n",
    "* model_name\n",
    "* vehicleTransmission\n",
    "* vendor"
   ]
  },
  {
   "cell_type": "markdown",
   "id": "0459a5a1",
   "metadata": {},
   "source": [
    "### *Выводы по категориальным признакам*\n",
    "Несколько признаков были преобразовано в числовые:\n",
    "* engineDisplacement\n",
    "* enginePower\n",
    "* description_len\n",
    "* Владельцы\n",
    "\n",
    "Следующие признаки будут конвертироваться в ординальные:\n",
    "* bodyType\n",
    "* brand\n",
    "* color\n",
    "* fuel_type\n",
    "* model_name\n",
    "* vehicleTransformation\n",
    "* vendor\n",
    "* Привод\n",
    "\n",
    "\n",
    "Следующие признаки не будут использоваться в дальнейшем анализе:\n",
    "* model_info\n",
    "* name\n",
    "* vehicleConfiguration"
   ]
  },
  {
   "cell_type": "code",
   "execution_count": 63,
   "id": "e09884df",
   "metadata": {},
   "outputs": [],
   "source": [
    "# Обновленный список разделения признаков\n",
    "bin_cols = ['customs', 'documents','drive_side','condition', 'complectation_dict', 'equipment_dict']\n",
    "\n",
    "cat_cols = ['body_type', 'brand', 'color',\n",
    "            'fuel_type',\n",
    "           'model_name','vehicle_transmission',\n",
    "           'vendor', 'drive']\n",
    "\n",
    "num_cols = ['mileage', 'model_date', 'number_of_doors', \n",
    "            'production_date','description_len', 'engine_displacement',\n",
    "            'owners', 'engine_power']"
   ]
  },
  {
   "cell_type": "code",
   "execution_count": 64,
   "id": "7dbe8d76",
   "metadata": {},
   "outputs": [],
   "source": [
    "# Количество названий моделей очень велико, поэтому исключим из списка\n",
    "cat_cols_no_model = ['body_type', 'brand', 'color',\n",
    "            'fuel_type',\n",
    "           'vehicle_transmission',\n",
    "           'vendor', 'drive']"
   ]
  },
  {
   "cell_type": "code",
   "execution_count": 65,
   "id": "852de3a0",
   "metadata": {
    "scrolled": true
   },
   "outputs": [
    {
     "data": {
      "image/png": "[encoded data removed]",
      "text/plain": [
       "<Figure size 432x288 with 1 Axes>"
      ]
     },
     "metadata": {
      "needs_background": "light"
     },
     "output_type": "display_data"
    },
    {
     "data": {
      "image/png": "[encoded data removed]",
      "text/plain": [
       "<Figure size 432x288 with 1 Axes>"
      ]
     },
     "metadata": {
      "needs_background": "light"
     },
     "output_type": "display_data"
    },
    {
     "data": {
      "image/png": "[encoded data removed]",
      "text/plain": [
       "<Figure size 432x288 with 1 Axes>"
      ]
     },
     "metadata": {
      "needs_background": "light"
     },
     "output_type": "display_data"
    },
    {
     "data": {
      "image/png": "[encoded data removed]",
      "text/plain": [
       "<Figure size 432x288 with 1 Axes>"
      ]
     },
     "metadata": {
      "needs_background": "light"
     },
     "output_type": "display_data"
    },
    {
     "data": {
      "image/png": "[encoded data removed]",
      "text/plain": [
       "<Figure size 432x288 with 1 Axes>"
      ]
     },
     "metadata": {
      "needs_background": "light"
     },
     "output_type": "display_data"
    },
    {
     "data": {
      "image/png": "[encoded data removed]",
      "text/plain": [
       "<Figure size 432x288 with 1 Axes>"
      ]
     },
     "metadata": {
      "needs_background": "light"
     },
     "output_type": "display_data"
    },
    {
     "data": {
      "image/png": "[encoded data removed]",
      "text/plain": [
       "<Figure size 432x288 with 1 Axes>"
      ]
     },
     "metadata": {
      "needs_background": "light"
     },
     "output_type": "display_data"
    }
   ],
   "source": [
    "# Посмотрим на распределение категориальных признаков\n",
    "for i in cat_cols_no_model:\n",
    "#     plt.figure()\n",
    "    data[i].value_counts().plot.barh()\n",
    "    plt.title(i)\n",
    "    plt.show()"
   ]
  },
  {
   "cell_type": "markdown",
   "id": "5ef6ea18",
   "metadata": {},
   "source": [
    "Это показатели присутствия данных значений в приготовленной выборке. В цвете доминирует черный, белый на втором.Среди лидеров кузова седан и внедорожник. Большнство представленных авто заправляется бензином. Автоматическая коробка передач является лидером. "
   ]
  },
  {
   "cell_type": "code",
   "execution_count": 66,
   "id": "713994d1",
   "metadata": {},
   "outputs": [],
   "source": [
    "# Преобразуем категориальные признаки в ординальные\n",
    "label_encoder = LabelEncoder()\n",
    "for column in cat_cols:\n",
    "    data[column] = label_encoder.fit_transform(data[column])"
   ]
  },
  {
   "cell_type": "code",
   "execution_count": 129,
   "id": "23753994",
   "metadata": {},
   "outputs": [
    {
     "name": "stdout",
     "output_type": "stream",
     "text": [
      "<class 'pandas.core.frame.DataFrame'>\n",
      "Int64Index: 59712 entries, 0 to 59716\n",
      "Data columns (total 8 columns):\n",
      " #   Column                Non-Null Count  Dtype\n",
      "---  ------                --------------  -----\n",
      " 0   body_type             59712 non-null  int64\n",
      " 1   brand                 59712 non-null  int64\n",
      " 2   color                 59712 non-null  int64\n",
      " 3   fuel_type             59712 non-null  int64\n",
      " 4   model_name            59712 non-null  int64\n",
      " 5   vehicle_transmission  59712 non-null  int64\n",
      " 6   vendor                59712 non-null  int64\n",
      " 7   drive                 59712 non-null  int64\n",
      "dtypes: int64(8)\n",
      "memory usage: 6.1 MB\n"
     ]
    }
   ],
   "source": [
    "data[cat_cols].info()"
   ]
  },
  {
   "cell_type": "markdown",
   "id": "de98b84f",
   "metadata": {},
   "source": [
    "### Целевая переменная - цена"
   ]
  },
  {
   "cell_type": "code",
   "execution_count": 67,
   "id": "ba60a3fd",
   "metadata": {},
   "outputs": [
    {
     "data": {
      "text/plain": [
       "<seaborn.axisgrid.FacetGrid at 0x7f8422258400>"
      ]
     },
     "execution_count": 67,
     "metadata": {},
     "output_type": "execute_result"
    },
    {
     "data": {
      "text/plain": [
       "<Figure size 432x288 with 0 Axes>"
      ]
     },
     "metadata": {},
     "output_type": "display_data"
    },
    {
     "data": {
      "image/png": "[encoded data removed]",
      "text/plain": [
       "<Figure size 360x360 with 1 Axes>"
      ]
     },
     "metadata": {
      "needs_background": "light"
     },
     "output_type": "display_data"
    }
   ],
   "source": [
    "# Посмотрим еа распределение цены\n",
    "plt.figure()\n",
    "# plt.title(f\"Распределение {'price'}\")\n",
    "sns.displot(train.price, kde=False)"
   ]
  },
  {
   "cell_type": "markdown",
   "id": "251b8e20",
   "metadata": {},
   "source": [
    "Видна большая диспропорция. Возможно логарифирмирование решит проблему"
   ]
  },
  {
   "cell_type": "markdown",
   "id": "5dbfe9d5",
   "metadata": {},
   "source": [
    "### Числовые признаки"
   ]
  },
  {
   "cell_type": "code",
   "execution_count": 68,
   "id": "11faf5fb",
   "metadata": {},
   "outputs": [
    {
     "name": "stdout",
     "output_type": "stream",
     "text": [
      "<class 'pandas.core.frame.DataFrame'>\n",
      "RangeIndex: 59717 entries, 0 to 59716\n",
      "Data columns (total 8 columns):\n",
      " #   Column               Non-Null Count  Dtype  \n",
      "---  ------               --------------  -----  \n",
      " 0   mileage              59717 non-null  int64  \n",
      " 1   model_date           59717 non-null  float64\n",
      " 2   number_of_doors      59717 non-null  float64\n",
      " 3   production_date      59717 non-null  float64\n",
      " 4   description_len      59717 non-null  int64  \n",
      " 5   engine_displacement  59717 non-null  float64\n",
      " 6   owners               59717 non-null  float64\n",
      " 7   engine_power         59717 non-null  int64  \n",
      "dtypes: float64(5), int64(3)\n",
      "memory usage: 3.6 MB\n"
     ]
    }
   ],
   "source": [
    "data[num_cols].info()"
   ]
  },
  {
   "cell_type": "code",
   "execution_count": 69,
   "id": "d3be80eb",
   "metadata": {
    "scrolled": true
   },
   "outputs": [
    {
     "data": {
      "image/png": "[encoded data removed]",
      "text/plain": [
       "<Figure size 432x288 with 1 Axes>"
      ]
     },
     "metadata": {
      "needs_background": "light"
     },
     "output_type": "display_data"
    },
    {
     "data": {
      "image/png": "[encoded data removed]",
      "text/plain": [
       "<Figure size 432x288 with 1 Axes>"
      ]
     },
     "metadata": {
      "needs_background": "light"
     },
     "output_type": "display_data"
    },
    {
     "data": {
      "image/png": "[encoded data removed]",
      "text/plain": [
       "<Figure size 432x288 with 1 Axes>"
      ]
     },
     "metadata": {
      "needs_background": "light"
     },
     "output_type": "display_data"
    },
    {
     "data": {
      "image/png": "[encoded data removed]",
      "text/plain": [
       "<Figure size 432x288 with 1 Axes>"
      ]
     },
     "metadata": {
      "needs_background": "light"
     },
     "output_type": "display_data"
    },
    {
     "data": {
      "image/png": "[encoded data removed]",
      "text/plain": [
       "<Figure size 432x288 with 1 Axes>"
      ]
     },
     "metadata": {
      "needs_background": "light"
     },
     "output_type": "display_data"
    },
    {
     "data": {
      "image/png": "[encoded data removed]",
      "text/plain": [
       "<Figure size 432x288 with 1 Axes>"
      ]
     },
     "metadata": {
      "needs_background": "light"
     },
     "output_type": "display_data"
    },
    {
     "data": {
      "image/png": "[encoded data removed]",
      "text/plain": [
       "<Figure size 432x288 with 1 Axes>"
      ]
     },
     "metadata": {
      "needs_background": "light"
     },
     "output_type": "display_data"
    },
    {
     "data": {
      "image/png": "[encoded data removed]",
      "text/plain": [
       "<Figure size 432x288 with 1 Axes>"
      ]
     },
     "metadata": {
      "needs_background": "light"
     },
     "output_type": "display_data"
    }
   ],
   "source": [
    "# Посмотрим на графики перед преобразованиями\n",
    "for i in num_cols:\n",
    "    plt.figure()\n",
    "    sns.histplot(data[i], kde = False,)\n",
    "    plt.title(i)\n",
    "    plt.show()"
   ]
  },
  {
   "cell_type": "code",
   "execution_count": 126,
   "id": "ac55d437",
   "metadata": {
    "scrolled": true
   },
   "outputs": [
    {
     "data": {
      "image/png": "[encoded data removed]",
      "text/plain": [
       "<Figure size 1080x216 with 1 Axes>"
      ]
     },
     "metadata": {
      "needs_background": "light"
     },
     "output_type": "display_data"
    },
    {
     "data": {
      "image/png": "[encoded data removed]",
      "text/plain": [
       "<Figure size 1080x216 with 1 Axes>"
      ]
     },
     "metadata": {
      "needs_background": "light"
     },
     "output_type": "display_data"
    },
    {
     "data": {
      "image/png": "[encoded data removed]",
      "text/plain": [
       "<Figure size 1080x216 with 1 Axes>"
      ]
     },
     "metadata": {
      "needs_background": "light"
     },
     "output_type": "display_data"
    },
    {
     "data": {
      "image/png": "[encoded data removed]",
      "text/plain": [
       "<Figure size 1080x216 with 1 Axes>"
      ]
     },
     "metadata": {
      "needs_background": "light"
     },
     "output_type": "display_data"
    },
    {
     "data": {
      "image/png": "[encoded data removed]",
      "text/plain": [
       "<Figure size 1080x216 with 1 Axes>"
      ]
     },
     "metadata": {
      "needs_background": "light"
     },
     "output_type": "display_data"
    },
    {
     "data": {
      "image/png": "[encoded data removed]",
      "text/plain": [
       "<Figure size 1080x216 with 1 Axes>"
      ]
     },
     "metadata": {
      "needs_background": "light"
     },
     "output_type": "display_data"
    },
    {
     "data": {
      "image/png": "[encoded data removed]",
      "text/plain": [
       "<Figure size 1080x216 with 1 Axes>"
      ]
     },
     "metadata": {
      "needs_background": "light"
     },
     "output_type": "display_data"
    },
    {
     "data": {
      "image/png": "[encoded data removed]",
      "text/plain": [
       "<Figure size 1080x216 with 1 Axes>"
      ]
     },
     "metadata": {
      "needs_background": "light"
     },
     "output_type": "display_data"
    }
   ],
   "source": [
    "# Графики boxplot перед преобразованиями\n",
    "for col in num_cols:\n",
    "    plt.figure(figsize=(15,3))\n",
    "    sns.boxplot(x = data[col],showmeans=True, meanline=True, orient='h')\n"
   ]
  },
  {
   "cell_type": "markdown",
   "id": "66fbbb1a",
   "metadata": {},
   "source": [
    "Есть смещение в большинстве признаков, распределение отсносительно нормальное. Нет большой разницы значений, а смещение может влиять на цену. Я не буду принимать логарифмирования, но ограничу выбросы, которые могут быть результатом ошибок парсинга или заполнения данных"
   ]
  },
  {
   "cell_type": "code",
   "execution_count": 71,
   "id": "fcf06e8d",
   "metadata": {},
   "outputs": [],
   "source": [
    "# Количество дверей стоит ограничить до мин 2:\n",
    "data['number_of_doors'] = data['number_of_doors'].apply(lambda x: 2 if x  <=  2 else x)"
   ]
  },
  {
   "cell_type": "code",
   "execution_count": 72,
   "id": "992b2ef9",
   "metadata": {},
   "outputs": [],
   "source": [
    "# Ограничим длину описания\n",
    "cut_IQR('description_len', data)"
   ]
  },
  {
   "cell_type": "code",
   "execution_count": 73,
   "id": "6eee8e84",
   "metadata": {},
   "outputs": [],
   "source": [
    "# Создадим бинарный признак ретро для авто до 1990 года\n",
    "data['retro'] = data['production_date'].apply(lambda x: 1 if x < 1990 else 0)"
   ]
  },
  {
   "cell_type": "code",
   "execution_count": 74,
   "id": "aaae7c32",
   "metadata": {
    "scrolled": true
   },
   "outputs": [
    {
     "data": {
      "image/png": "[encoded data removed]",
      "text/plain": [
       "<Figure size 1080x216 with 1 Axes>"
      ]
     },
     "metadata": {
      "needs_background": "light"
     },
     "output_type": "display_data"
    },
    {
     "data": {
      "image/png": "[encoded data removed]",
      "text/plain": [
       "<Figure size 1080x216 with 1 Axes>"
      ]
     },
     "metadata": {
      "needs_background": "light"
     },
     "output_type": "display_data"
    },
    {
     "data": {
      "image/png": "[encoded data removed]",
      "text/plain": [
       "<Figure size 1080x216 with 1 Axes>"
      ]
     },
     "metadata": {
      "needs_background": "light"
     },
     "output_type": "display_data"
    },
    {
     "data": {
      "image/png": "[encoded data removed]",
      "text/plain": [
       "<Figure size 1080x216 with 1 Axes>"
      ]
     },
     "metadata": {
      "needs_background": "light"
     },
     "output_type": "display_data"
    },
    {
     "data": {
      "image/png": "[encoded data removed]",
      "text/plain": [
       "<Figure size 1080x216 with 1 Axes>"
      ]
     },
     "metadata": {
      "needs_background": "light"
     },
     "output_type": "display_data"
    },
    {
     "data": {
      "image/png": "[encoded data removed]",
      "text/plain": [
       "<Figure size 1080x216 with 1 Axes>"
      ]
     },
     "metadata": {
      "needs_background": "light"
     },
     "output_type": "display_data"
    },
    {
     "data": {
      "image/png": "[encoded data removed]",
      "text/plain": [
       "<Figure size 1080x216 with 1 Axes>"
      ]
     },
     "metadata": {
      "needs_background": "light"
     },
     "output_type": "display_data"
    },
    {
     "data": {
      "image/png": "[encoded data removed]",
      "text/plain": [
       "<Figure size 1080x216 with 1 Axes>"
      ]
     },
     "metadata": {
      "needs_background": "light"
     },
     "output_type": "display_data"
    }
   ],
   "source": [
    "# Графики после преобразований\n",
    "for col in num_cols:\n",
    "    plt.figure(figsize=(15,3))\n",
    "    sns.boxplot(x = data[col],showmeans=True, meanline=True, orient='h')"
   ]
  },
  {
   "cell_type": "markdown",
   "id": "d0f53bec",
   "metadata": {},
   "source": [
    "Выбросы в определенной степени ограничены, не будет обрезать значения еще больше на данном этапе"
   ]
  },
  {
   "cell_type": "code",
   "execution_count": 75,
   "id": "f44435f4",
   "metadata": {},
   "outputs": [],
   "source": [
    "# Обновленный список разделения признаков\n",
    "bin_cols = ['customs', 'documents','drive_side','condition','retro']\n",
    "\n",
    "cat_cols = ['body_type', 'brand', 'color',\n",
    "            'fuel_type','model_name','vehicle_transmission','vendor', 'drive']\n",
    "\n",
    "num_cols = ['mileage', 'model_date', 'number_of_doors', 'production_date','description_len', \n",
    "            'engine_displacement', 'owners', 'engine_power']"
   ]
  },
  {
   "cell_type": "markdown",
   "id": "22d423b2",
   "metadata": {},
   "source": [
    "### Бинарные признаки"
   ]
  },
  {
   "cell_type": "code",
   "execution_count": 76,
   "id": "1ed7cbf6",
   "metadata": {},
   "outputs": [
    {
     "name": "stdout",
     "output_type": "stream",
     "text": [
      "<class 'pandas.core.frame.DataFrame'>\n",
      "RangeIndex: 59717 entries, 0 to 59716\n",
      "Data columns (total 5 columns):\n",
      " #   Column      Non-Null Count  Dtype \n",
      "---  ------      --------------  ----- \n",
      " 0   customs     59714 non-null  object\n",
      " 1   documents   59715 non-null  object\n",
      " 2   drive_side  59717 non-null  object\n",
      " 3   condition   59715 non-null  object\n",
      " 4   retro       59717 non-null  int64 \n",
      "dtypes: int64(1), object(4)\n",
      "memory usage: 2.3+ MB\n"
     ]
    }
   ],
   "source": [
    "data[bin_cols].info()"
   ]
  },
  {
   "cell_type": "code",
   "execution_count": 77,
   "id": "8aeea1e1",
   "metadata": {},
   "outputs": [],
   "source": [
    "# Заменим пропуски в признаке документов на оригинал, поскольку оригиналов значительно больше\n",
    "data.documents.fillna('Оригинал', inplace=True)"
   ]
  },
  {
   "cell_type": "code",
   "execution_count": 78,
   "id": "611ba9cf",
   "metadata": {},
   "outputs": [
    {
     "name": "stdout",
     "output_type": "stream",
     "text": [
      "<class 'pandas.core.frame.DataFrame'>\n",
      "RangeIndex: 59717 entries, 0 to 59716\n",
      "Data columns (total 5 columns):\n",
      " #   Column      Non-Null Count  Dtype \n",
      "---  ------      --------------  ----- \n",
      " 0   customs     59714 non-null  object\n",
      " 1   documents   59717 non-null  object\n",
      " 2   drive_side  59717 non-null  object\n",
      " 3   condition   59715 non-null  object\n",
      " 4   retro       59717 non-null  int64 \n",
      "dtypes: int64(1), object(4)\n",
      "memory usage: 2.3+ MB\n"
     ]
    }
   ],
   "source": [
    "data[bin_cols].info()"
   ]
  },
  {
   "cell_type": "markdown",
   "id": "7267e5a9",
   "metadata": {},
   "source": [
    "В тестовой выборке присутствуют только растаможенные машины, поэтому ограничим данные до только растаможенных"
   ]
  },
  {
   "cell_type": "code",
   "execution_count": 79,
   "id": "5fe0d9b9",
   "metadata": {},
   "outputs": [],
   "source": [
    "data = data[data.customs == 'Растаможен']"
   ]
  },
  {
   "cell_type": "code",
   "execution_count": 80,
   "id": "04be2dfe",
   "metadata": {},
   "outputs": [
    {
     "data": {
      "text/plain": [
       "Растаможен    59714\n",
       "Name: customs, dtype: int64"
      ]
     },
     "execution_count": 80,
     "metadata": {},
     "output_type": "execute_result"
    }
   ],
   "source": [
    "data.customs.value_counts()"
   ]
  },
  {
   "cell_type": "markdown",
   "id": "690728cf",
   "metadata": {},
   "source": [
    "В тестовой выборке присутствуют только машины, не требующие ремонта, поэтому ограничим данные до таких"
   ]
  },
  {
   "cell_type": "code",
   "execution_count": 81,
   "id": "74a0d59a",
   "metadata": {},
   "outputs": [],
   "source": [
    "data = data[data.condition == 'Не требует ремонта']"
   ]
  },
  {
   "cell_type": "code",
   "execution_count": 82,
   "id": "a810bd37",
   "metadata": {},
   "outputs": [
    {
     "data": {
      "text/plain": [
       "Не требует ремонта    59712\n",
       "Name: condition, dtype: int64"
      ]
     },
     "execution_count": 82,
     "metadata": {},
     "output_type": "execute_result"
    }
   ],
   "source": [
    "data.condition.value_counts()"
   ]
  },
  {
   "cell_type": "code",
   "execution_count": 83,
   "id": "6899ca7c",
   "metadata": {},
   "outputs": [
    {
     "name": "stdout",
     "output_type": "stream",
     "text": [
      "<class 'pandas.core.frame.DataFrame'>\n",
      "Int64Index: 59712 entries, 0 to 59716\n",
      "Data columns (total 5 columns):\n",
      " #   Column      Non-Null Count  Dtype \n",
      "---  ------      --------------  ----- \n",
      " 0   customs     59712 non-null  object\n",
      " 1   documents   59712 non-null  object\n",
      " 2   drive_side  59712 non-null  object\n",
      " 3   condition   59712 non-null  object\n",
      " 4   retro       59712 non-null  int64 \n",
      "dtypes: int64(1), object(4)\n",
      "memory usage: 2.7+ MB\n"
     ]
    }
   ],
   "source": [
    "data[bin_cols].info()"
   ]
  },
  {
   "cell_type": "code",
   "execution_count": 84,
   "id": "0420106b",
   "metadata": {},
   "outputs": [],
   "source": [
    "# Удаляем из списка признаков таможню и состояние авто\n",
    "bin_cols = ['documents','drive_side','retro']"
   ]
  },
  {
   "cell_type": "code",
   "execution_count": 127,
   "id": "29ec98c9",
   "metadata": {},
   "outputs": [
    {
     "data": {
      "image/png": "[encoded data removed]",
      "text/plain": [
       "<Figure size 432x288 with 1 Axes>"
      ]
     },
     "metadata": {
      "needs_background": "light"
     },
     "output_type": "display_data"
    },
    {
     "data": {
      "image/png": "[encoded data removed]",
      "text/plain": [
       "<Figure size 432x288 with 1 Axes>"
      ]
     },
     "metadata": {
      "needs_background": "light"
     },
     "output_type": "display_data"
    },
    {
     "data": {
      "image/png": "[encoded data removed]",
      "text/plain": [
       "<Figure size 432x288 with 1 Axes>"
      ]
     },
     "metadata": {
      "needs_background": "light"
     },
     "output_type": "display_data"
    }
   ],
   "source": [
    "for i in bin_cols:\n",
    "    sns.countplot(x = i, data = data)\n",
    "    plt.title(i)\n",
    "    plt.show()"
   ]
  },
  {
   "cell_type": "markdown",
   "id": "54b68bb8",
   "metadata": {},
   "source": [
    "Есть большая разница между значениями, но пока не будем никак на это влиять\n"
   ]
  },
  {
   "cell_type": "code",
   "execution_count": 86,
   "id": "ad73b839",
   "metadata": {},
   "outputs": [],
   "source": [
    "# Для бинарных признаков мы будем использовать LabelEncoder\n",
    "label_encoder = LabelEncoder()\n",
    "for column in bin_cols:\n",
    "    data[column] = label_encoder.fit_transform(data[column])"
   ]
  },
  {
   "cell_type": "code",
   "execution_count": 128,
   "id": "6ca0323b",
   "metadata": {},
   "outputs": [
    {
     "data": {
      "text/html": [
       "<div>\n",
       "<style scoped>\n",
       "    .dataframe tbody tr th:only-of-type {\n",
       "        vertical-align: middle;\n",
       "    }\n",
       "\n",
       "    .dataframe tbody tr th {\n",
       "        vertical-align: top;\n",
       "    }\n",
       "\n",
       "    .dataframe thead th {\n",
       "        text-align: right;\n",
       "    }\n",
       "</style>\n",
       "<table border=\"1\" class=\"dataframe\">\n",
       "  <thead>\n",
       "    <tr style=\"text-align: right;\">\n",
       "      <th></th>\n",
       "      <th>documents</th>\n",
       "      <th>drive_side</th>\n",
       "      <th>retro</th>\n",
       "    </tr>\n",
       "  </thead>\n",
       "  <tbody>\n",
       "    <tr>\n",
       "      <th>0</th>\n",
       "      <td>1</td>\n",
       "      <td>0</td>\n",
       "      <td>0</td>\n",
       "    </tr>\n",
       "    <tr>\n",
       "      <th>1</th>\n",
       "      <td>1</td>\n",
       "      <td>0</td>\n",
       "      <td>0</td>\n",
       "    </tr>\n",
       "    <tr>\n",
       "      <th>2</th>\n",
       "      <td>1</td>\n",
       "      <td>0</td>\n",
       "      <td>0</td>\n",
       "    </tr>\n",
       "    <tr>\n",
       "      <th>3</th>\n",
       "      <td>1</td>\n",
       "      <td>0</td>\n",
       "      <td>0</td>\n",
       "    </tr>\n",
       "    <tr>\n",
       "      <th>4</th>\n",
       "      <td>1</td>\n",
       "      <td>0</td>\n",
       "      <td>0</td>\n",
       "    </tr>\n",
       "    <tr>\n",
       "      <th>...</th>\n",
       "      <td>...</td>\n",
       "      <td>...</td>\n",
       "      <td>...</td>\n",
       "    </tr>\n",
       "    <tr>\n",
       "      <th>59712</th>\n",
       "      <td>1</td>\n",
       "      <td>0</td>\n",
       "      <td>0</td>\n",
       "    </tr>\n",
       "    <tr>\n",
       "      <th>59713</th>\n",
       "      <td>1</td>\n",
       "      <td>0</td>\n",
       "      <td>0</td>\n",
       "    </tr>\n",
       "    <tr>\n",
       "      <th>59714</th>\n",
       "      <td>1</td>\n",
       "      <td>0</td>\n",
       "      <td>0</td>\n",
       "    </tr>\n",
       "    <tr>\n",
       "      <th>59715</th>\n",
       "      <td>1</td>\n",
       "      <td>0</td>\n",
       "      <td>0</td>\n",
       "    </tr>\n",
       "    <tr>\n",
       "      <th>59716</th>\n",
       "      <td>0</td>\n",
       "      <td>0</td>\n",
       "      <td>0</td>\n",
       "    </tr>\n",
       "  </tbody>\n",
       "</table>\n",
       "<p>59712 rows × 3 columns</p>\n",
       "</div>"
      ],
      "text/plain": [
       "       documents  drive_side  retro\n",
       "0              1           0      0\n",
       "1              1           0      0\n",
       "2              1           0      0\n",
       "3              1           0      0\n",
       "4              1           0      0\n",
       "...          ...         ...    ...\n",
       "59712          1           0      0\n",
       "59713          1           0      0\n",
       "59714          1           0      0\n",
       "59715          1           0      0\n",
       "59716          0           0      0\n",
       "\n",
       "[59712 rows x 3 columns]"
      ]
     },
     "execution_count": 128,
     "metadata": {},
     "output_type": "execute_result"
    }
   ],
   "source": [
    "# Проверим\n",
    "data[bin_cols]"
   ]
  },
  {
   "cell_type": "code",
   "execution_count": 88,
   "id": "aaf1311e",
   "metadata": {},
   "outputs": [
    {
     "name": "stdout",
     "output_type": "stream",
     "text": [
      "<class 'pandas.core.frame.DataFrame'>\n",
      "Int64Index: 59712 entries, 0 to 59716\n",
      "Data columns (total 19 columns):\n",
      " #   Column                Non-Null Count  Dtype  \n",
      "---  ------                --------------  -----  \n",
      " 0   body_type             59712 non-null  int64  \n",
      " 1   brand                 59712 non-null  int64  \n",
      " 2   color                 59712 non-null  int64  \n",
      " 3   fuel_type             59712 non-null  int64  \n",
      " 4   model_name            59712 non-null  int64  \n",
      " 5   vehicle_transmission  59712 non-null  int64  \n",
      " 6   vendor                59712 non-null  int64  \n",
      " 7   drive                 59712 non-null  int64  \n",
      " 8   mileage               59712 non-null  int64  \n",
      " 9   model_date            59712 non-null  float64\n",
      " 10  number_of_doors       59712 non-null  float64\n",
      " 11  production_date       59712 non-null  float64\n",
      " 12  description_len       59712 non-null  float64\n",
      " 13  engine_displacement   59712 non-null  float64\n",
      " 14  owners                59712 non-null  float64\n",
      " 15  engine_power          59712 non-null  int64  \n",
      " 16  documents             59712 non-null  int64  \n",
      " 17  drive_side            59712 non-null  int64  \n",
      " 18  retro                 59712 non-null  int64  \n",
      "dtypes: float64(6), int64(13)\n",
      "memory usage: 9.1 MB\n"
     ]
    }
   ],
   "source": [
    "data[cat_cols + num_cols + bin_cols].info()"
   ]
  },
  {
   "cell_type": "markdown",
   "id": "b49ff8d1",
   "metadata": {},
   "source": [
    "Признаки преобразованы для цифровой обработки"
   ]
  },
  {
   "cell_type": "code",
   "execution_count": 89,
   "id": "7c1d9b65",
   "metadata": {},
   "outputs": [
    {
     "data": {
      "text/plain": [
       "<AxesSubplot:>"
      ]
     },
     "execution_count": 89,
     "metadata": {},
     "output_type": "execute_result"
    },
    {
     "data": {
      "image/png": "[encoded data removed]",
      "text/plain": [
       "<Figure size 432x288 with 1 Axes>"
      ]
     },
     "metadata": {
      "needs_background": "light"
     },
     "output_type": "display_data"
    }
   ],
   "source": [
    "# Посмотрим на значимость всех переменных\n",
    "imp_num = pd.Series(f_classif(data[cat_cols + num_cols + bin_cols], \n",
    "                              data['price'])[0], index = cat_cols + num_cols + bin_cols)\n",
    "imp_num.sort_values(inplace = True)\n",
    "imp_num.plot(kind = 'barh')"
   ]
  },
  {
   "cell_type": "markdown",
   "id": "6cc22527",
   "metadata": {},
   "source": [
    "Наибольшее значение на цену оказывают марка, регион производства а также год выпуска и модели. Влияет мощность двигателя, а также пробег. Количество слов в описании имеет немалое значение. Оставляем все признаки"
   ]
  },
  {
   "cell_type": "code",
   "execution_count": 94,
   "id": "96667501",
   "metadata": {},
   "outputs": [],
   "source": [
    "data['price_log'] = data['price'].apply(lambda w: np.log(w + 1))"
   ]
  },
  {
   "cell_type": "code",
   "execution_count": 95,
   "id": "6d715023",
   "metadata": {},
   "outputs": [
    {
     "data": {
      "text/plain": [
       "<seaborn.axisgrid.FacetGrid at 0x7f84221e4a30>"
      ]
     },
     "execution_count": 95,
     "metadata": {},
     "output_type": "execute_result"
    },
    {
     "data": {
      "text/plain": [
       "<Figure size 432x288 with 0 Axes>"
      ]
     },
     "metadata": {},
     "output_type": "display_data"
    },
    {
     "data": {
      "image/png": "[encoded data removed]",
      "text/plain": [
       "<Figure size 360x360 with 1 Axes>"
      ]
     },
     "metadata": {
      "needs_background": "light"
     },
     "output_type": "display_data"
    }
   ],
   "source": [
    "# Посмотрим на распределение цены после нормализации\n",
    "plt.figure()\n",
    "sns.displot(data.price_log, kde=False)"
   ]
  },
  {
   "cell_type": "markdown",
   "id": "3998e4fd",
   "metadata": {},
   "source": [
    "Логарифмирование привело график распределения цен к нормальному виду. Буду иметь в виду во время тестирования моделей"
   ]
  },
  {
   "cell_type": "code",
   "execution_count": 96,
   "id": "eb8da94c",
   "metadata": {},
   "outputs": [],
   "source": [
    "# Подвергнем нормализации длину комментариев, параметры двинателя\n",
    "data['description_len'] = data['description_len'].apply(lambda w: np.log(w + 1))"
   ]
  },
  {
   "cell_type": "code",
   "execution_count": 97,
   "id": "c88e9a7a",
   "metadata": {},
   "outputs": [
    {
     "data": {
      "text/plain": [
       "<seaborn.axisgrid.FacetGrid at 0x7f842182df40>"
      ]
     },
     "execution_count": 97,
     "metadata": {},
     "output_type": "execute_result"
    },
    {
     "data": {
      "text/plain": [
       "<Figure size 432x288 with 0 Axes>"
      ]
     },
     "metadata": {},
     "output_type": "display_data"
    },
    {
     "data": {
      "image/png": "[encoded data removed]",
      "text/plain": [
       "<Figure size 360x360 with 1 Axes>"
      ]
     },
     "metadata": {
      "needs_background": "light"
     },
     "output_type": "display_data"
    }
   ],
   "source": [
    "plt.figure()\n",
    "sns.displot(data.description_len, kde=False)"
   ]
  },
  {
   "cell_type": "code",
   "execution_count": 98,
   "id": "f7ef4950",
   "metadata": {},
   "outputs": [],
   "source": [
    "data['engine_power'] = data['engine_power'].apply(lambda w: np.log(w + 1))"
   ]
  },
  {
   "cell_type": "code",
   "execution_count": 99,
   "id": "055b7e1d",
   "metadata": {},
   "outputs": [
    {
     "data": {
      "text/plain": [
       "<seaborn.axisgrid.FacetGrid at 0x7f842172b880>"
      ]
     },
     "execution_count": 99,
     "metadata": {},
     "output_type": "execute_result"
    },
    {
     "data": {
      "text/plain": [
       "<Figure size 432x288 with 0 Axes>"
      ]
     },
     "metadata": {},
     "output_type": "display_data"
    },
    {
     "data": {
      "image/png": "[encoded data removed]",
      "text/plain": [
       "<Figure size 360x360 with 1 Axes>"
      ]
     },
     "metadata": {
      "needs_background": "light"
     },
     "output_type": "display_data"
    }
   ],
   "source": [
    "plt.figure()\n",
    "sns.displot(data.engine_power, kde=False)"
   ]
  },
  {
   "cell_type": "code",
   "execution_count": 100,
   "id": "d07250e6",
   "metadata": {},
   "outputs": [],
   "source": [
    "data['engine_displacement'] = data['engine_displacement'].apply(lambda w: np.log(w + 1))"
   ]
  },
  {
   "cell_type": "code",
   "execution_count": 101,
   "id": "74497b7f",
   "metadata": {},
   "outputs": [
    {
     "data": {
      "text/plain": [
       "<seaborn.axisgrid.FacetGrid at 0x7f8420b29c70>"
      ]
     },
     "execution_count": 101,
     "metadata": {},
     "output_type": "execute_result"
    },
    {
     "data": {
      "text/plain": [
       "<Figure size 432x288 with 0 Axes>"
      ]
     },
     "metadata": {},
     "output_type": "display_data"
    },
    {
     "data": {
      "image/png": "[encoded data removed]",
      "text/plain": [
       "<Figure size 360x360 with 1 Axes>"
      ]
     },
     "metadata": {
      "needs_background": "light"
     },
     "output_type": "display_data"
    }
   ],
   "source": [
    "plt.figure()\n",
    "sns.displot(data.engine_displacement, kde=False)"
   ]
  },
  {
   "cell_type": "code",
   "execution_count": 102,
   "id": "caf60b39",
   "metadata": {},
   "outputs": [
    {
     "data": {
      "text/plain": [
       "<AxesSubplot:>"
      ]
     },
     "execution_count": 102,
     "metadata": {},
     "output_type": "execute_result"
    },
    {
     "data": {
      "image/png": "[encoded data removed]",
      "text/plain": [
       "<Figure size 432x288 with 1 Axes>"
      ]
     },
     "metadata": {
      "needs_background": "light"
     },
     "output_type": "display_data"
    }
   ],
   "source": [
    "# Посмотрим на значимость всех переменных\n",
    "imp_num = pd.Series(f_classif(data[cat_cols + num_cols + bin_cols], \n",
    "                              data['price'])[0], index = cat_cols + num_cols + bin_cols)\n",
    "imp_num.sort_values(inplace = True)\n",
    "imp_num.plot(kind = 'barh')"
   ]
  },
  {
   "cell_type": "markdown",
   "id": "64bb92da",
   "metadata": {},
   "source": [
    "Нормализация нескольких признаков привела к изменениям в приоретизации. "
   ]
  },
  {
   "cell_type": "code",
   "execution_count": 103,
   "id": "02cfab0c",
   "metadata": {},
   "outputs": [],
   "source": [
    "# Обновленный список разделения признаков\n",
    "bin_cols = ['documents','drive_side','retro']\n",
    "\n",
    "cat_cols = ['body_type', 'brand', 'color',\n",
    "            'fuel_type','model_name','vehicle_transmission','vendor', 'drive']\n",
    "num_cols = ['mileage', 'model_date', 'number_of_doors', 'production_date','description_len', \n",
    "            'engine_displacement', 'owners', 'engine_power']  "
   ]
  },
  {
   "cell_type": "code",
   "execution_count": 104,
   "id": "44a5fd04",
   "metadata": {},
   "outputs": [],
   "source": [
    "# # Создадим список с колонками, которые присутствуют и в train, и в test\n",
    "# cols_intersection = list(set(test.columns).intersection(data.columns))\n",
    "\n",
    "# # Проверим, в каких колонках типы данных различаются у train и test\n",
    "# cols_type_dif = []  # создаем список с колонками, в которых типы данных отличаются\n",
    "# print(\"Найдены расхождения в типах данных для:\")\n",
    "\n",
    "# for col in cols_intersection:\n",
    "#     if type(test[col][0]) != type(data[col][0]):\n",
    "#         print(\n",
    "#             f\"\\t- колонки {col}: для data - {type(data[col][0])}, для test - {type(test[col][0])}\")\n",
    "#         cols_type_dif.append(col)"
   ]
  },
  {
   "cell_type": "markdown",
   "id": "1c8209e5",
   "metadata": {},
   "source": [
    "## Тесты моделей"
   ]
  },
  {
   "cell_type": "code",
   "execution_count": 118,
   "id": "96b43f66",
   "metadata": {},
   "outputs": [],
   "source": [
    "train_data = data.query('sample == 1').drop(['sample'], axis=1)\n",
    "test_data = data.query('sample == 0').drop(['sample','price'], axis=1)\n",
    "\n",
    "# Помещаем данные по типу в матрицу переменных\n",
    "X_num = train_data[num_cols].values\n",
    "X_bin = train_data[bin_cols].values\n",
    "X_cat = train_data[cat_cols].values\n",
    "\n",
    "\n",
    "# Объединяем три типа данных в одну матрицу значений Х\n",
    "X = np.hstack([X_num, X_bin, X_cat,])\n",
    "y = train_data['price'].values\n",
    "\n",
    "# X = train_data.drop(['price'], axis=1)\n",
    "# y = train_data['price']\n",
    "X_train, X_val, y_train, y_val = train_test_split(X, y, test_size=0.20, shuffle=True, random_state=42)\n",
    "\n",
    "\n",
    "# Помещаем данные по типу в матрицу переменных\n",
    "X_num_test = test_data[num_cols].values\n",
    "X_bin_test = test_data[bin_cols].values\n",
    "X_cat_test = test_data[cat_cols].values\n",
    "\n",
    "\n",
    "X_test = np.hstack([X_num_test, X_bin_test, X_cat_test,])\n"
   ]
  },
  {
   "cell_type": "markdown",
   "id": "4fc85038",
   "metadata": {},
   "source": [
    "### Линейная регрессия"
   ]
  },
  {
   "cell_type": "code",
   "execution_count": 108,
   "id": "570e440f",
   "metadata": {},
   "outputs": [
    {
     "name": "stdout",
     "output_type": "stream",
     "text": [
      "Точность модели по метрике MAPE: 113.14%\n"
     ]
    }
   ],
   "source": [
    "# Обучаем модель\n",
    "linear_model = LinearRegression()\n",
    "linear_model.fit(X_train, y_train)\n",
    "\n",
    "# Предсказываем на валидационной выборке\n",
    "y_pred_val = linear_model.predict(X_val)\n",
    "\n",
    "# оцениваем точность\n",
    "print(\n",
    "    f\"Точность модели по метрике MAPE: {(mape(y_val, y_pred_val))*100:0.2f}%\")"
   ]
  },
  {
   "cell_type": "code",
   "execution_count": 109,
   "id": "489df163",
   "metadata": {},
   "outputs": [
    {
     "name": "stdout",
     "output_type": "stream",
     "text": [
      "Точность модели по метрике MAPE: 113.14%\n"
     ]
    }
   ],
   "source": [
    "# Нормализируем параметры, используя RobustScaler, можно использовать StandardScaler\n",
    "scaler=RobustScaler()\n",
    "\n",
    "X_train_robust = scaler.fit_transform(X_train)\n",
    "X_val_robust = scaler.transform(X_val)\n",
    "\n",
    "# Обучаем модель на тестовом наборе данных\n",
    "linear_robust = LinearRegression().fit(X_train_robust, y_train)\n",
    "# Предсказанные значения записываем в переменную y_pred\n",
    "y_pred_val = linear_robust.predict(X_val_robust)\n",
    "\n",
    "# Сравниваем предсказанные значения (y_pred) с валидационными (y_val), и смотрим насколько \n",
    "# они в среднем отличаются\n",
    "print(\n",
    "    f\"Точность модели по метрике MAPE: {(mape(y_val, y_pred_val))*100:0.2f}%\")"
   ]
  },
  {
   "cell_type": "markdown",
   "id": "24eddc91",
   "metadata": {},
   "source": [
    "### Random forest"
   ]
  },
  {
   "cell_type": "code",
   "execution_count": 110,
   "id": "24240d5e",
   "metadata": {},
   "outputs": [
    {
     "name": "stdout",
     "output_type": "stream",
     "text": [
      "Точность модели по метрике MAPE: 17.97%\n"
     ]
    }
   ],
   "source": [
    "rf = RandomForestRegressor(random_state=42)\n",
    "rf.fit(X_train, y_train)\n",
    "\n",
    "# Предсказанные значения записываем в переменную\n",
    "y_default_pred_val = rf.predict(X_val)\n",
    "\n",
    "#Вычисляем MAPE:\n",
    "print(\n",
    "    f\"Точность модели по метрике MAPE: {(mape(y_val, y_default_pred_val))*100:0.2f}%\")"
   ]
  },
  {
   "cell_type": "code",
   "execution_count": 132,
   "id": "1bb8da6e",
   "metadata": {},
   "outputs": [],
   "source": [
    "# # Зададим сетку гиперпараметров, которые будут перебираться:\n",
    "\n",
    "# n_estimators = [int(x) for x in np.linspace(start = 200, stop = 2000, num = 10)]\n",
    "# max_features = ['auto', 'sqrt']\n",
    "# max_depth = [int(x) for x in np.linspace(10, 110, num = 11)]\n",
    "# max_depth.append(None)\n",
    "# min_samples_split = [2, 5, 10]\n",
    "# min_samples_leaf = [1, 2, 4]\n",
    "# bootstrap = [True, False]\n",
    "# random_grid = {'n_estimators': n_estimators,\n",
    "#                'max_features': max_features,\n",
    "#                'max_depth': max_depth,\n",
    "#                'min_samples_split': min_samples_split,\n",
    "#                'min_samples_leaf': min_samples_leaf,\n",
    "#                'bootstrap': bootstrap}"
   ]
  },
  {
   "cell_type": "code",
   "execution_count": 131,
   "id": "b58e7bfb",
   "metadata": {},
   "outputs": [],
   "source": [
    "# # Обучим наш лес:\n",
    "\n",
    "# rf = RandomForestRegressor(random_state=42)\n",
    "# rf_random = RandomizedSearchCV(estimator=rf, param_distributions=random_grid, n_iter=100, \n",
    "#                                cv=3, verbose=2, random_state=42, n_jobs=-1)\n",
    "# rf_random.fit(X_train, y_train)"
   ]
  },
  {
   "cell_type": "code",
   "execution_count": 133,
   "id": "1e3d6781",
   "metadata": {},
   "outputs": [],
   "source": [
    "# rf_random.best_params_"
   ]
  },
  {
   "cell_type": "code",
   "execution_count": 111,
   "id": "77d0cb41",
   "metadata": {},
   "outputs": [
    {
     "name": "stderr",
     "output_type": "stream",
     "text": [
      "[Parallel(n_jobs=-1)]: Using backend ThreadingBackend with 16 concurrent workers.\n",
      "[Parallel(n_jobs=-1)]: Done  18 tasks      | elapsed:    0.1s\n",
      "[Parallel(n_jobs=-1)]: Done 168 tasks      | elapsed:    0.6s\n"
     ]
    },
    {
     "name": "stdout",
     "output_type": "stream",
     "text": [
      "Точность модели по метрике MAPE: 17.97%\n"
     ]
    },
    {
     "name": "stderr",
     "output_type": "stream",
     "text": [
      "[Parallel(n_jobs=-1)]: Done 400 out of 400 | elapsed:    1.4s finished\n"
     ]
    }
   ],
   "source": [
    "rf_2 = RandomForestRegressor(random_state = 42, \n",
    "                           n_jobs = -1, \n",
    "                           verbose = 1,\n",
    "                           n_estimators= 400,\n",
    "                           min_samples_split= 2,\n",
    "                           min_samples_leaf= 1,\n",
    "                           max_features= 'sqrt',\n",
    "                           max_depth= None,\n",
    "                           bootstrap= False)\n",
    "                          \n",
    "                          \n",
    "rf_2.fit(X_train, y_train)\n",
    "\n",
    "y_pred_val_2 = rf.predict(X_val)\n",
    "\n",
    "\n",
    "\n",
    "#Вычисляем MAPE:\n",
    "print(f\"Точность модели по метрике MAPE: {(mape(y_val, y_pred_val_2)) * 100:0.2f}%\")"
   ]
  },
  {
   "cell_type": "markdown",
   "id": "02395125",
   "metadata": {},
   "source": [
    "### Gradient Boosting"
   ]
  },
  {
   "cell_type": "code",
   "execution_count": 112,
   "id": "7e4cd0f7",
   "metadata": {},
   "outputs": [
    {
     "name": "stdout",
     "output_type": "stream",
     "text": [
      "Точность модели по метрике MAPE: 16.68%\n"
     ]
    }
   ],
   "source": [
    "# Создаем модель с параметрами по умолчанию\n",
    "baseline_gradient = GradientBoostingRegressor(learning_rate=0.1, \n",
    "                                   n_estimators=2000,\n",
    "                                   max_depth=5, \n",
    "                                   min_samples_split=2, \n",
    "                                   min_samples_leaf=1, \n",
    "                                   subsample=1,\n",
    "                                   random_state=42,\n",
    "                                   max_features=None)\n",
    "\n",
    "# Обучаем модель\n",
    "baseline_gradient.fit(X_train, y_train)\n",
    "\n",
    "# Предсказываем\n",
    "y_pred_base = baseline_gradient.predict(X_val)\n",
    "\n",
    "# Вычисляем MAPE:\n",
    "print(f\"Точность модели по метрике MAPE: {(mape(y_val, y_pred_base)) * 100:0.2f}%\")"
   ]
  },
  {
   "cell_type": "code",
   "execution_count": 1422,
   "id": "64a9e724",
   "metadata": {},
   "outputs": [],
   "source": [
    "# # Зададим сетку гиперпараметров, которые будут перебираться:\n",
    "\n",
    "# # from sklearn.model_selection import GridSearchCV\n",
    "\n",
    "# param_grid = {'learning_rate':[0.01, 0.03, 0.1], \n",
    "#               'n_estimators':[1750, 2000, 2500]\n",
    "#              }\n",
    "\n",
    "# gbr = GradientBoostingRegressor(random_state=42,\n",
    "#                                 subsample=1,\n",
    "#                                 max_depth=5,\n",
    "#                                 min_samples_leaf=1,\n",
    "#                                 min_samples_split=2,\n",
    "#                                 max_features=None)\n",
    "                            \n",
    "# gbr_grid = GridSearchCV(estimator=gbr, param_grid=param_grid,\n",
    "#                         scoring='neg_mean_absolute_error',\n",
    "#                         n_jobs=-1,\n",
    "#                         cv=5)\n",
    "# gbr_grid.fit(X_train, y_train)"
   ]
  },
  {
   "cell_type": "code",
   "execution_count": 1423,
   "id": "ea5c8257",
   "metadata": {},
   "outputs": [
    {
     "data": {
      "text/plain": [
       "{'learning_rate': 0.03, 'n_estimators': 2500}"
      ]
     },
     "execution_count": 1423,
     "metadata": {},
     "output_type": "execute_result"
    }
   ],
   "source": [
    "# # Посмотрим на оптимальные гиперпараметры\n",
    "# gbr_grid.best_params_"
   ]
  },
  {
   "cell_type": "code",
   "execution_count": 1427,
   "id": "6268dd76",
   "metadata": {},
   "outputs": [
    {
     "name": "stdout",
     "output_type": "stream",
     "text": [
      "Точность модели по метрике MAPE: 16.52%\n"
     ]
    }
   ],
   "source": [
    "# Улучшим модель \n",
    "updated_gradient = GradientBoostingRegressor(learning_rate=0.03, \n",
    "                                   n_estimators=2500,\n",
    "                                   max_depth=5, \n",
    "                                   min_samples_split=2, \n",
    "                                   min_samples_leaf=1, \n",
    "                                   subsample=1,\n",
    "                                   random_state=42,\n",
    "                                   max_features=None)\n",
    "\n",
    "# Обучаем модель\n",
    "updated_gradient.fit(X_train, y_train)\n",
    "\n",
    "# Предсказываем\n",
    "y_pred_base = updated_gradient.predict(X_val)\n",
    "\n",
    "# Вычисляем MAPE:\n",
    "print(f\"Точность модели по метрике MAPE: {(mape(y_val, y_pred_base)) * 100:0.2f}%\")"
   ]
  },
  {
   "cell_type": "markdown",
   "id": "74e9d55b",
   "metadata": {},
   "source": [
    "### CatBoost"
   ]
  },
  {
   "cell_type": "code",
   "execution_count": 120,
   "id": "dc8af35c",
   "metadata": {},
   "outputs": [
    {
     "name": "stdout",
     "output_type": "stream",
     "text": [
      "Точность модели по метрике MAPE: 16.42%\n"
     ]
    }
   ],
   "source": [
    "cbr = CatBoostRegressor(iterations = 5000,\n",
    "                          random_seed = 42,\n",
    "                          eval_metric='MAPE',\n",
    "                          custom_metric=['R2', 'MAE'],\n",
    "                          silent=True,\n",
    "                         )\n",
    "cbr.fit(X_train, y_train,\n",
    "         eval_set=(X_val, y_val),\n",
    "         verbose_eval=0,\n",
    "         use_best_model=True,\n",
    "         )\n",
    "\n",
    "# Предсказываем\n",
    "y_pred_cbr = cbr.predict(X_val)\n",
    "\n",
    "# Вычисляем MAPE:\n",
    "print(f\"Точность модели по метрике MAPE: {(mape(y_val, y_pred_cbr)) * 100:0.2f}%\")"
   ]
  },
  {
   "cell_type": "markdown",
   "id": "22d9bf8f",
   "metadata": {},
   "source": [
    "### XG Boost"
   ]
  },
  {
   "cell_type": "code",
   "execution_count": null,
   "id": "b71576c8",
   "metadata": {},
   "outputs": [],
   "source": [
    "# xgb = xgb.XGBRegressor(objective='reg:squarederror', \n",
    "#                       colsample_bytree=0.5, \n",
    "#                       learning_rate=0.03, \n",
    "#                       max_depth=12, \n",
    "#                       alpha=1, \n",
    "#                       n_jobs=-1, \n",
    "#                       n_estimators=1000)\n",
    "\n",
    "# xgb.fit(X_train, y_train+1)\n",
    "# VERSION = 7\n",
    "\n",
    "# y_predict_xgb = xgb.predict(X_val)\n",
    "\n",
    "# print(f\"Точность модели по метрике MAPE: {(mape(y_test, predict_test)) * 100:0.2f}%\")"
   ]
  },
  {
   "cell_type": "markdown",
   "id": "7aaa6ce5",
   "metadata": {},
   "source": [
    "### Stacking"
   ]
  },
  {
   "cell_type": "code",
   "execution_count": 122,
   "id": "5e13e2b1",
   "metadata": {},
   "outputs": [
    {
     "name": "stdout",
     "output_type": "stream",
     "text": [
      "Точность модели по метрике MAPE: 14.50%\n"
     ]
    }
   ],
   "source": [
    "# Выберем модели \n",
    "estimators = [('rfr', RandomForestRegressor(random_state=42\n",
    "                      , n_estimators=400\n",
    "                      , min_samples_split=2\n",
    "                      , min_samples_leaf=2\n",
    "                      , max_features='sqrt'\n",
    "                      , max_depth=None\n",
    "                      , bootstrap=False)),\n",
    "              ('etr', ExtraTreesRegressor(random_state = 42))]\n",
    "\n",
    "st_ensemble_1 = StackingRegressor(estimators=estimators, \n",
    "                                  final_estimator=LinearRegression())\n",
    "\n",
    "# оцениваем точность\n",
    "st_ensemble_1.fit(X_train, np.log(y_train))\n",
    "predict_ensemble_1 = np.exp(st_ensemble_1.predict(X_val))\n",
    "print(f\"Точность модели по метрике MAPE: {(mape(y_val, predict_ensemble_1))*100:0.2f}%\")"
   ]
  },
  {
   "cell_type": "code",
   "execution_count": 1463,
   "id": "18dcf936",
   "metadata": {},
   "outputs": [
    {
     "data": {
      "text/plain": [
       "array([ 268853.00468486, 2484709.19777333, 3103179.90647545, ...,\n",
       "        616639.73670068,  623132.31430549,  502765.6236712 ])"
      ]
     },
     "execution_count": 1463,
     "metadata": {},
     "output_type": "execute_result"
    }
   ],
   "source": [
    "predict_ensemble_1"
   ]
  },
  {
   "cell_type": "code",
   "execution_count": 125,
   "id": "5fbafb41",
   "metadata": {},
   "outputs": [
    {
     "name": "stdout",
     "output_type": "stream",
     "text": [
      "Точность модели по метрике MAPE: 16.67%\n"
     ]
    }
   ],
   "source": [
    "# Изменим параметры\n",
    "estimators = [('etr', ExtraTreesRegressor(random_state = 42)),\n",
    "              ('rfr', RandomForestRegressor(random_state=42\n",
    "                      , n_estimators=400\n",
    "                      , min_samples_split=2\n",
    "                      , min_samples_leaf=2\n",
    "                      , max_features='sqrt'\n",
    "                      , max_depth=None\n",
    "                      , bootstrap=False))]\n",
    "\n",
    "st_ensemble_2 = StackingRegressor(estimators=estimators, \n",
    "                                  final_estimator=RandomForestRegressor())\n",
    "\n",
    "# оцениваем точность\n",
    "st_ensemble_2.fit(X_train, np.log(y_train))\n",
    "predict_ensemble_2 = np.exp(st_ensemble_2.predict(X_val))\n",
    "print(f\"Точность модели по метрике MAPE: {(mape(y_val, predict_ensemble_2))*100:0.2f}%\")"
   ]
  },
  {
   "cell_type": "code",
   "execution_count": null,
   "id": "7266855a",
   "metadata": {},
   "outputs": [],
   "source": []
  },
  {
   "cell_type": "code",
   "execution_count": 1457,
   "id": "4c0d76e8",
   "metadata": {
    "scrolled": true
   },
   "outputs": [
    {
     "name": "stdout",
     "output_type": "stream",
     "text": [
      "Learning rate set to 0.066537\n",
      "0:\tlearn: 0.9487584\ttotal: 1.25ms\tremaining: 1.25s\n",
      "1:\tlearn: 0.8925017\ttotal: 2.53ms\tremaining: 1.26s\n",
      "2:\tlearn: 0.8403401\ttotal: 3.68ms\tremaining: 1.22s\n",
      "3:\tlearn: 0.7921523\ttotal: 4.82ms\tremaining: 1.2s\n",
      "4:\tlearn: 0.7468721\ttotal: 5.98ms\tremaining: 1.19s\n",
      "5:\tlearn: 0.7046418\ttotal: 7.12ms\tremaining: 1.18s\n",
      "6:\tlearn: 0.6662000\ttotal: 8.24ms\tremaining: 1.17s\n",
      "7:\tlearn: 0.6297159\ttotal: 9.42ms\tremaining: 1.17s\n",
      "8:\tlearn: 0.5956947\ttotal: 10.5ms\tremaining: 1.15s\n",
      "9:\tlearn: 0.5645238\ttotal: 11.6ms\tremaining: 1.15s\n",
      "10:\tlearn: 0.5352202\ttotal: 12.9ms\tremaining: 1.16s\n",
      "11:\tlearn: 0.5082504\ttotal: 14.1ms\tremaining: 1.16s\n",
      "12:\tlearn: 0.4828731\ttotal: 15.2ms\tremaining: 1.15s\n",
      "13:\tlearn: 0.4597594\ttotal: 16.3ms\tremaining: 1.15s\n",
      "14:\tlearn: 0.4387178\ttotal: 17.5ms\tremaining: 1.15s\n",
      "15:\tlearn: 0.4190155\ttotal: 18.7ms\tremaining: 1.15s\n",
      "16:\tlearn: 0.4007952\ttotal: 19.8ms\tremaining: 1.14s\n",
      "17:\tlearn: 0.3839139\ttotal: 21ms\tremaining: 1.15s\n",
      "18:\tlearn: 0.3684873\ttotal: 22.1ms\tremaining: 1.14s\n",
      "19:\tlearn: 0.3544839\ttotal: 23.2ms\tremaining: 1.14s\n",
      "20:\tlearn: 0.3417690\ttotal: 24.4ms\tremaining: 1.14s\n",
      "21:\tlearn: 0.3298556\ttotal: 25.5ms\tremaining: 1.13s\n",
      "22:\tlearn: 0.3189183\ttotal: 26.5ms\tremaining: 1.13s\n",
      "23:\tlearn: 0.3091550\ttotal: 27.7ms\tremaining: 1.13s\n",
      "24:\tlearn: 0.3003695\ttotal: 28.8ms\tremaining: 1.12s\n",
      "25:\tlearn: 0.2925178\ttotal: 29.9ms\tremaining: 1.12s\n",
      "26:\tlearn: 0.2853457\ttotal: 31ms\tremaining: 1.12s\n",
      "27:\tlearn: 0.2787113\ttotal: 32.4ms\tremaining: 1.13s\n",
      "28:\tlearn: 0.2727668\ttotal: 33.5ms\tremaining: 1.12s\n",
      "29:\tlearn: 0.2673568\ttotal: 34.9ms\tremaining: 1.13s\n",
      "30:\tlearn: 0.2624521\ttotal: 36ms\tremaining: 1.13s\n",
      "31:\tlearn: 0.2582351\ttotal: 37.1ms\tremaining: 1.12s\n",
      "32:\tlearn: 0.2542570\ttotal: 38.2ms\tremaining: 1.12s\n",
      "33:\tlearn: 0.2507631\ttotal: 39.3ms\tremaining: 1.12s\n",
      "34:\tlearn: 0.2475927\ttotal: 40.3ms\tremaining: 1.11s\n",
      "35:\tlearn: 0.2448717\ttotal: 44.4ms\tremaining: 1.19s\n",
      "36:\tlearn: 0.2423852\ttotal: 45.5ms\tremaining: 1.18s\n",
      "37:\tlearn: 0.2402580\ttotal: 46.5ms\tremaining: 1.18s\n",
      "38:\tlearn: 0.2382122\ttotal: 47.7ms\tremaining: 1.17s\n",
      "39:\tlearn: 0.2365248\ttotal: 48.8ms\tremaining: 1.17s\n",
      "40:\tlearn: 0.2349652\ttotal: 50.3ms\tremaining: 1.18s\n",
      "41:\tlearn: 0.2335110\ttotal: 51.3ms\tremaining: 1.17s\n",
      "42:\tlearn: 0.2323027\ttotal: 52.4ms\tremaining: 1.17s\n",
      "43:\tlearn: 0.2311199\ttotal: 53.5ms\tremaining: 1.16s\n",
      "44:\tlearn: 0.2301324\ttotal: 54.6ms\tremaining: 1.16s\n",
      "45:\tlearn: 0.2292684\ttotal: 55.8ms\tremaining: 1.16s\n",
      "46:\tlearn: 0.2284631\ttotal: 56.8ms\tremaining: 1.15s\n",
      "47:\tlearn: 0.2277644\ttotal: 57.9ms\tremaining: 1.15s\n",
      "48:\tlearn: 0.2271418\ttotal: 59ms\tremaining: 1.15s\n",
      "49:\tlearn: 0.2265976\ttotal: 60.1ms\tremaining: 1.14s\n",
      "50:\tlearn: 0.2260854\ttotal: 61.1ms\tremaining: 1.14s\n",
      "51:\tlearn: 0.2256378\ttotal: 62.2ms\tremaining: 1.13s\n",
      "52:\tlearn: 0.2252259\ttotal: 63.3ms\tremaining: 1.13s\n",
      "53:\tlearn: 0.2248809\ttotal: 64.3ms\tremaining: 1.13s\n",
      "54:\tlearn: 0.2245662\ttotal: 65.4ms\tremaining: 1.12s\n",
      "55:\tlearn: 0.2242889\ttotal: 66.4ms\tremaining: 1.12s\n",
      "56:\tlearn: 0.2241000\ttotal: 67.7ms\tremaining: 1.12s\n",
      "57:\tlearn: 0.2238796\ttotal: 68.7ms\tremaining: 1.12s\n",
      "58:\tlearn: 0.2237070\ttotal: 69.8ms\tremaining: 1.11s\n",
      "59:\tlearn: 0.2235243\ttotal: 71.7ms\tremaining: 1.12s\n",
      "60:\tlearn: 0.2233631\ttotal: 72.7ms\tremaining: 1.12s\n",
      "61:\tlearn: 0.2232216\ttotal: 74.3ms\tremaining: 1.12s\n",
      "62:\tlearn: 0.2230959\ttotal: 75.4ms\tremaining: 1.12s\n",
      "63:\tlearn: 0.2229607\ttotal: 76.5ms\tremaining: 1.12s\n",
      "64:\tlearn: 0.2228513\ttotal: 77.6ms\tremaining: 1.12s\n",
      "65:\tlearn: 0.2227500\ttotal: 78.7ms\tremaining: 1.11s\n",
      "66:\tlearn: 0.2226585\ttotal: 79.8ms\tremaining: 1.11s\n",
      "67:\tlearn: 0.2225688\ttotal: 80.9ms\tremaining: 1.11s\n",
      "68:\tlearn: 0.2224779\ttotal: 81.9ms\tremaining: 1.1s\n",
      "69:\tlearn: 0.2224092\ttotal: 83.4ms\tremaining: 1.11s\n",
      "70:\tlearn: 0.2223455\ttotal: 84.4ms\tremaining: 1.1s\n",
      "71:\tlearn: 0.2222773\ttotal: 85.5ms\tremaining: 1.1s\n",
      "72:\tlearn: 0.2222132\ttotal: 86.7ms\tremaining: 1.1s\n",
      "73:\tlearn: 0.2221629\ttotal: 87.8ms\tremaining: 1.1s\n",
      "74:\tlearn: 0.2221210\ttotal: 89ms\tremaining: 1.1s\n",
      "75:\tlearn: 0.2220431\ttotal: 90.1ms\tremaining: 1.09s\n",
      "76:\tlearn: 0.2219912\ttotal: 91.2ms\tremaining: 1.09s\n",
      "77:\tlearn: 0.2219139\ttotal: 92.4ms\tremaining: 1.09s\n",
      "78:\tlearn: 0.2218838\ttotal: 93.5ms\tremaining: 1.09s\n",
      "79:\tlearn: 0.2218451\ttotal: 94.6ms\tremaining: 1.09s\n",
      "80:\tlearn: 0.2218094\ttotal: 95.7ms\tremaining: 1.08s\n",
      "81:\tlearn: 0.2217646\ttotal: 97.2ms\tremaining: 1.09s\n",
      "82:\tlearn: 0.2217366\ttotal: 98.3ms\tremaining: 1.08s\n",
      "83:\tlearn: 0.2216951\ttotal: 99.3ms\tremaining: 1.08s\n",
      "84:\tlearn: 0.2216663\ttotal: 100ms\tremaining: 1.08s\n",
      "85:\tlearn: 0.2216083\ttotal: 101ms\tremaining: 1.08s\n",
      "86:\tlearn: 0.2215756\ttotal: 103ms\tremaining: 1.08s\n",
      "87:\tlearn: 0.2215319\ttotal: 104ms\tremaining: 1.07s\n",
      "88:\tlearn: 0.2214801\ttotal: 105ms\tremaining: 1.07s\n",
      "89:\tlearn: 0.2214063\ttotal: 106ms\tremaining: 1.07s\n",
      "90:\tlearn: 0.2213650\ttotal: 108ms\tremaining: 1.07s\n",
      "91:\tlearn: 0.2213431\ttotal: 109ms\tremaining: 1.07s\n",
      "92:\tlearn: 0.2213224\ttotal: 110ms\tremaining: 1.07s\n",
      "93:\tlearn: 0.2213141\ttotal: 111ms\tremaining: 1.07s\n",
      "94:\tlearn: 0.2212886\ttotal: 112ms\tremaining: 1.07s\n",
      "95:\tlearn: 0.2212455\ttotal: 113ms\tremaining: 1.07s\n",
      "96:\tlearn: 0.2212260\ttotal: 114ms\tremaining: 1.06s\n",
      "97:\tlearn: 0.2211944\ttotal: 115ms\tremaining: 1.06s\n",
      "98:\tlearn: 0.2211814\ttotal: 116ms\tremaining: 1.06s\n",
      "99:\tlearn: 0.2211521\ttotal: 118ms\tremaining: 1.06s\n",
      "100:\tlearn: 0.2211183\ttotal: 119ms\tremaining: 1.06s\n",
      "101:\tlearn: 0.2210582\ttotal: 120ms\tremaining: 1.05s\n",
      "102:\tlearn: 0.2210297\ttotal: 121ms\tremaining: 1.05s\n",
      "103:\tlearn: 0.2210048\ttotal: 122ms\tremaining: 1.05s\n",
      "104:\tlearn: 0.2209614\ttotal: 123ms\tremaining: 1.05s\n",
      "105:\tlearn: 0.2209394\ttotal: 124ms\tremaining: 1.05s\n",
      "106:\tlearn: 0.2209146\ttotal: 125ms\tremaining: 1.04s\n",
      "107:\tlearn: 0.2208877\ttotal: 126ms\tremaining: 1.04s\n",
      "108:\tlearn: 0.2208663\ttotal: 127ms\tremaining: 1.04s\n",
      "109:\tlearn: 0.2208397\ttotal: 129ms\tremaining: 1.04s\n",
      "110:\tlearn: 0.2207792\ttotal: 130ms\tremaining: 1.04s\n",
      "111:\tlearn: 0.2207560\ttotal: 131ms\tremaining: 1.04s\n",
      "112:\tlearn: 0.2207218\ttotal: 132ms\tremaining: 1.03s\n",
      "113:\tlearn: 0.2206949\ttotal: 133ms\tremaining: 1.03s\n",
      "114:\tlearn: 0.2206865\ttotal: 134ms\tremaining: 1.03s\n",
      "115:\tlearn: 0.2206448\ttotal: 135ms\tremaining: 1.03s\n",
      "116:\tlearn: 0.2205917\ttotal: 136ms\tremaining: 1.03s\n",
      "117:\tlearn: 0.2205766\ttotal: 137ms\tremaining: 1.03s\n",
      "118:\tlearn: 0.2205468\ttotal: 139ms\tremaining: 1.03s\n",
      "119:\tlearn: 0.2204979\ttotal: 140ms\tremaining: 1.02s\n",
      "120:\tlearn: 0.2204820\ttotal: 141ms\tremaining: 1.02s\n",
      "121:\tlearn: 0.2204576\ttotal: 142ms\tremaining: 1.02s\n",
      "122:\tlearn: 0.2204364\ttotal: 143ms\tremaining: 1.02s\n",
      "123:\tlearn: 0.2204100\ttotal: 144ms\tremaining: 1.02s\n",
      "124:\tlearn: 0.2203889\ttotal: 145ms\tremaining: 1.02s\n",
      "125:\tlearn: 0.2203707\ttotal: 147ms\tremaining: 1.02s\n",
      "126:\tlearn: 0.2203543\ttotal: 148ms\tremaining: 1.01s\n",
      "127:\tlearn: 0.2203393\ttotal: 149ms\tremaining: 1.01s\n",
      "128:\tlearn: 0.2203031\ttotal: 150ms\tremaining: 1.01s\n",
      "129:\tlearn: 0.2202774\ttotal: 151ms\tremaining: 1.01s\n",
      "130:\tlearn: 0.2202641\ttotal: 152ms\tremaining: 1.01s\n",
      "131:\tlearn: 0.2202187\ttotal: 154ms\tremaining: 1.01s\n",
      "132:\tlearn: 0.2202090\ttotal: 155ms\tremaining: 1.01s\n",
      "133:\tlearn: 0.2201967\ttotal: 156ms\tremaining: 1.01s\n",
      "134:\tlearn: 0.2201476\ttotal: 157ms\tremaining: 1.01s\n",
      "135:\tlearn: 0.2201353\ttotal: 159ms\tremaining: 1.01s\n",
      "136:\tlearn: 0.2201190\ttotal: 163ms\tremaining: 1.03s\n",
      "137:\tlearn: 0.2201114\ttotal: 164ms\tremaining: 1.03s\n",
      "138:\tlearn: 0.2200509\ttotal: 165ms\tremaining: 1.02s\n",
      "139:\tlearn: 0.2200069\ttotal: 167ms\tremaining: 1.02s\n",
      "140:\tlearn: 0.2199762\ttotal: 168ms\tremaining: 1.02s\n",
      "141:\tlearn: 0.2199600\ttotal: 169ms\tremaining: 1.02s\n",
      "142:\tlearn: 0.2199070\ttotal: 170ms\tremaining: 1.02s\n",
      "143:\tlearn: 0.2198680\ttotal: 171ms\tremaining: 1.01s\n",
      "144:\tlearn: 0.2198418\ttotal: 172ms\tremaining: 1.01s\n",
      "145:\tlearn: 0.2198224\ttotal: 173ms\tremaining: 1.01s\n",
      "146:\tlearn: 0.2198069\ttotal: 174ms\tremaining: 1.01s\n",
      "147:\tlearn: 0.2197756\ttotal: 175ms\tremaining: 1.01s\n",
      "148:\tlearn: 0.2197458\ttotal: 176ms\tremaining: 1.01s\n",
      "149:\tlearn: 0.2197249\ttotal: 177ms\tremaining: 1s\n",
      "150:\tlearn: 0.2197125\ttotal: 178ms\tremaining: 1s\n",
      "151:\tlearn: 0.2196863\ttotal: 179ms\tremaining: 1s\n",
      "152:\tlearn: 0.2196717\ttotal: 181ms\tremaining: 1000ms\n",
      "153:\tlearn: 0.2196309\ttotal: 182ms\tremaining: 1s\n",
      "154:\tlearn: 0.2196103\ttotal: 183ms\tremaining: 999ms\n",
      "155:\tlearn: 0.2195951\ttotal: 184ms\tremaining: 997ms\n",
      "156:\tlearn: 0.2195678\ttotal: 185ms\tremaining: 995ms\n",
      "157:\tlearn: 0.2195539\ttotal: 186ms\tremaining: 993ms\n",
      "158:\tlearn: 0.2195093\ttotal: 187ms\tremaining: 991ms\n",
      "159:\tlearn: 0.2194901\ttotal: 188ms\tremaining: 990ms\n"
     ]
    },
    {
     "name": "stdout",
     "output_type": "stream",
     "text": [
      "160:\tlearn: 0.2194647\ttotal: 190ms\tremaining: 988ms\n",
      "161:\tlearn: 0.2194473\ttotal: 191ms\tremaining: 986ms\n",
      "162:\tlearn: 0.2194021\ttotal: 192ms\tremaining: 987ms\n",
      "163:\tlearn: 0.2193620\ttotal: 194ms\tremaining: 987ms\n",
      "164:\tlearn: 0.2193348\ttotal: 195ms\tremaining: 985ms\n",
      "165:\tlearn: 0.2193043\ttotal: 196ms\tremaining: 983ms\n",
      "166:\tlearn: 0.2192841\ttotal: 197ms\tremaining: 981ms\n",
      "167:\tlearn: 0.2192385\ttotal: 199ms\tremaining: 986ms\n",
      "168:\tlearn: 0.2192036\ttotal: 200ms\tremaining: 984ms\n",
      "169:\tlearn: 0.2191814\ttotal: 201ms\tremaining: 983ms\n",
      "170:\tlearn: 0.2191607\ttotal: 203ms\tremaining: 982ms\n",
      "171:\tlearn: 0.2191123\ttotal: 204ms\tremaining: 981ms\n",
      "172:\tlearn: 0.2190887\ttotal: 205ms\tremaining: 980ms\n",
      "173:\tlearn: 0.2190506\ttotal: 206ms\tremaining: 979ms\n",
      "174:\tlearn: 0.2190033\ttotal: 208ms\tremaining: 979ms\n",
      "175:\tlearn: 0.2189817\ttotal: 209ms\tremaining: 979ms\n",
      "176:\tlearn: 0.2189456\ttotal: 210ms\tremaining: 978ms\n",
      "177:\tlearn: 0.2189120\ttotal: 212ms\tremaining: 978ms\n",
      "178:\tlearn: 0.2188642\ttotal: 213ms\tremaining: 977ms\n",
      "179:\tlearn: 0.2188510\ttotal: 214ms\tremaining: 976ms\n",
      "180:\tlearn: 0.2188418\ttotal: 215ms\tremaining: 975ms\n",
      "181:\tlearn: 0.2188146\ttotal: 217ms\tremaining: 974ms\n",
      "182:\tlearn: 0.2187799\ttotal: 218ms\tremaining: 973ms\n",
      "183:\tlearn: 0.2187634\ttotal: 219ms\tremaining: 972ms\n",
      "184:\tlearn: 0.2187380\ttotal: 220ms\tremaining: 971ms\n",
      "185:\tlearn: 0.2187205\ttotal: 222ms\tremaining: 970ms\n",
      "186:\tlearn: 0.2186874\ttotal: 223ms\tremaining: 969ms\n",
      "187:\tlearn: 0.2186626\ttotal: 224ms\tremaining: 968ms\n",
      "188:\tlearn: 0.2186409\ttotal: 225ms\tremaining: 967ms\n",
      "189:\tlearn: 0.2186207\ttotal: 228ms\tremaining: 970ms\n",
      "190:\tlearn: 0.2185602\ttotal: 229ms\tremaining: 970ms\n",
      "191:\tlearn: 0.2185173\ttotal: 230ms\tremaining: 969ms\n",
      "192:\tlearn: 0.2184868\ttotal: 232ms\tremaining: 968ms\n",
      "193:\tlearn: 0.2184368\ttotal: 233ms\tremaining: 967ms\n",
      "194:\tlearn: 0.2183981\ttotal: 234ms\tremaining: 966ms\n",
      "195:\tlearn: 0.2183721\ttotal: 235ms\tremaining: 965ms\n",
      "196:\tlearn: 0.2183576\ttotal: 237ms\tremaining: 964ms\n",
      "197:\tlearn: 0.2183183\ttotal: 238ms\tremaining: 963ms\n",
      "198:\tlearn: 0.2182945\ttotal: 239ms\tremaining: 962ms\n",
      "199:\tlearn: 0.2182830\ttotal: 240ms\tremaining: 961ms\n",
      "200:\tlearn: 0.2182620\ttotal: 241ms\tremaining: 960ms\n",
      "201:\tlearn: 0.2182340\ttotal: 243ms\tremaining: 959ms\n",
      "202:\tlearn: 0.2181953\ttotal: 244ms\tremaining: 958ms\n",
      "203:\tlearn: 0.2181862\ttotal: 245ms\tremaining: 957ms\n",
      "204:\tlearn: 0.2181580\ttotal: 246ms\tremaining: 956ms\n",
      "205:\tlearn: 0.2180925\ttotal: 248ms\tremaining: 955ms\n",
      "206:\tlearn: 0.2180653\ttotal: 249ms\tremaining: 954ms\n",
      "207:\tlearn: 0.2180569\ttotal: 250ms\tremaining: 953ms\n",
      "208:\tlearn: 0.2180330\ttotal: 251ms\tremaining: 952ms\n",
      "209:\tlearn: 0.2179890\ttotal: 253ms\tremaining: 951ms\n",
      "210:\tlearn: 0.2179627\ttotal: 254ms\tremaining: 950ms\n",
      "211:\tlearn: 0.2179509\ttotal: 255ms\tremaining: 949ms\n",
      "212:\tlearn: 0.2179088\ttotal: 257ms\tremaining: 948ms\n",
      "213:\tlearn: 0.2178691\ttotal: 258ms\tremaining: 947ms\n",
      "214:\tlearn: 0.2178537\ttotal: 259ms\tremaining: 946ms\n",
      "215:\tlearn: 0.2178371\ttotal: 260ms\tremaining: 945ms\n",
      "216:\tlearn: 0.2178101\ttotal: 262ms\tremaining: 945ms\n",
      "217:\tlearn: 0.2177905\ttotal: 263ms\tremaining: 944ms\n",
      "218:\tlearn: 0.2177352\ttotal: 264ms\tremaining: 943ms\n",
      "219:\tlearn: 0.2177240\ttotal: 266ms\tremaining: 942ms\n",
      "220:\tlearn: 0.2176979\ttotal: 267ms\tremaining: 941ms\n",
      "221:\tlearn: 0.2176870\ttotal: 268ms\tremaining: 940ms\n",
      "222:\tlearn: 0.2176626\ttotal: 269ms\tremaining: 939ms\n",
      "223:\tlearn: 0.2176376\ttotal: 271ms\tremaining: 938ms\n",
      "224:\tlearn: 0.2175970\ttotal: 272ms\tremaining: 937ms\n",
      "225:\tlearn: 0.2175891\ttotal: 273ms\tremaining: 936ms\n",
      "226:\tlearn: 0.2175503\ttotal: 275ms\tremaining: 936ms\n",
      "227:\tlearn: 0.2175078\ttotal: 276ms\tremaining: 935ms\n",
      "228:\tlearn: 0.2174879\ttotal: 278ms\tremaining: 938ms\n",
      "229:\tlearn: 0.2174472\ttotal: 280ms\tremaining: 937ms\n",
      "230:\tlearn: 0.2174400\ttotal: 281ms\tremaining: 935ms\n",
      "231:\tlearn: 0.2174296\ttotal: 282ms\tremaining: 934ms\n",
      "232:\tlearn: 0.2174045\ttotal: 284ms\tremaining: 933ms\n",
      "233:\tlearn: 0.2173938\ttotal: 285ms\tremaining: 933ms\n",
      "234:\tlearn: 0.2173659\ttotal: 286ms\tremaining: 931ms\n",
      "235:\tlearn: 0.2173593\ttotal: 287ms\tremaining: 930ms\n",
      "236:\tlearn: 0.2173233\ttotal: 289ms\tremaining: 929ms\n",
      "237:\tlearn: 0.2173171\ttotal: 290ms\tremaining: 927ms\n",
      "238:\tlearn: 0.2172827\ttotal: 291ms\tremaining: 926ms\n",
      "239:\tlearn: 0.2172532\ttotal: 292ms\tremaining: 925ms\n",
      "240:\tlearn: 0.2172104\ttotal: 293ms\tremaining: 924ms\n",
      "241:\tlearn: 0.2172047\ttotal: 295ms\tremaining: 922ms\n",
      "242:\tlearn: 0.2171688\ttotal: 296ms\tremaining: 921ms\n",
      "243:\tlearn: 0.2171585\ttotal: 297ms\tremaining: 921ms\n",
      "244:\tlearn: 0.2171487\ttotal: 299ms\tremaining: 920ms\n",
      "245:\tlearn: 0.2171348\ttotal: 300ms\tremaining: 919ms\n",
      "246:\tlearn: 0.2171126\ttotal: 302ms\tremaining: 920ms\n",
      "247:\tlearn: 0.2170718\ttotal: 303ms\tremaining: 919ms\n",
      "248:\tlearn: 0.2170480\ttotal: 304ms\tremaining: 918ms\n",
      "249:\tlearn: 0.2170071\ttotal: 306ms\tremaining: 917ms\n",
      "250:\tlearn: 0.2169759\ttotal: 307ms\tremaining: 915ms\n",
      "251:\tlearn: 0.2169665\ttotal: 308ms\tremaining: 914ms\n",
      "252:\tlearn: 0.2169533\ttotal: 309ms\tremaining: 913ms\n",
      "253:\tlearn: 0.2169304\ttotal: 311ms\tremaining: 912ms\n",
      "254:\tlearn: 0.2169131\ttotal: 312ms\tremaining: 912ms\n",
      "255:\tlearn: 0.2169040\ttotal: 313ms\tremaining: 911ms\n",
      "256:\tlearn: 0.2168887\ttotal: 315ms\tremaining: 909ms\n",
      "257:\tlearn: 0.2168799\ttotal: 316ms\tremaining: 908ms\n",
      "258:\tlearn: 0.2168420\ttotal: 321ms\tremaining: 920ms\n",
      "259:\tlearn: 0.2168264\ttotal: 323ms\tremaining: 918ms\n",
      "260:\tlearn: 0.2168027\ttotal: 324ms\tremaining: 917ms\n",
      "261:\tlearn: 0.2167793\ttotal: 325ms\tremaining: 915ms\n",
      "262:\tlearn: 0.2167590\ttotal: 326ms\tremaining: 914ms\n",
      "263:\tlearn: 0.2167200\ttotal: 327ms\tremaining: 912ms\n",
      "264:\tlearn: 0.2166907\ttotal: 328ms\tremaining: 911ms\n",
      "265:\tlearn: 0.2166645\ttotal: 329ms\tremaining: 909ms\n",
      "266:\tlearn: 0.2166490\ttotal: 331ms\tremaining: 908ms\n",
      "267:\tlearn: 0.2166177\ttotal: 332ms\tremaining: 906ms\n",
      "268:\tlearn: 0.2166003\ttotal: 333ms\tremaining: 904ms\n",
      "269:\tlearn: 0.2165834\ttotal: 334ms\tremaining: 902ms\n",
      "270:\tlearn: 0.2165618\ttotal: 335ms\tremaining: 901ms\n",
      "271:\tlearn: 0.2165460\ttotal: 336ms\tremaining: 899ms\n",
      "272:\tlearn: 0.2165184\ttotal: 337ms\tremaining: 897ms\n",
      "273:\tlearn: 0.2165071\ttotal: 338ms\tremaining: 896ms\n",
      "274:\tlearn: 0.2164747\ttotal: 339ms\tremaining: 894ms\n",
      "275:\tlearn: 0.2164615\ttotal: 340ms\tremaining: 893ms\n",
      "276:\tlearn: 0.2164533\ttotal: 341ms\tremaining: 891ms\n",
      "277:\tlearn: 0.2164181\ttotal: 342ms\tremaining: 889ms\n",
      "278:\tlearn: 0.2163960\ttotal: 344ms\tremaining: 888ms\n",
      "279:\tlearn: 0.2163744\ttotal: 345ms\tremaining: 886ms\n",
      "280:\tlearn: 0.2163334\ttotal: 346ms\tremaining: 885ms\n",
      "281:\tlearn: 0.2163159\ttotal: 347ms\tremaining: 883ms\n",
      "282:\tlearn: 0.2162965\ttotal: 348ms\tremaining: 881ms\n",
      "283:\tlearn: 0.2162530\ttotal: 349ms\tremaining: 880ms\n",
      "284:\tlearn: 0.2162422\ttotal: 350ms\tremaining: 878ms\n",
      "285:\tlearn: 0.2162370\ttotal: 352ms\tremaining: 878ms\n",
      "286:\tlearn: 0.2162050\ttotal: 353ms\tremaining: 877ms\n",
      "287:\tlearn: 0.2161677\ttotal: 354ms\tremaining: 875ms\n",
      "288:\tlearn: 0.2161474\ttotal: 355ms\tremaining: 874ms\n",
      "289:\tlearn: 0.2161369\ttotal: 357ms\tremaining: 873ms\n",
      "290:\tlearn: 0.2161077\ttotal: 358ms\tremaining: 872ms\n",
      "291:\tlearn: 0.2160982\ttotal: 359ms\tremaining: 871ms\n",
      "292:\tlearn: 0.2160902\ttotal: 360ms\tremaining: 869ms\n",
      "293:\tlearn: 0.2160722\ttotal: 361ms\tremaining: 868ms\n",
      "294:\tlearn: 0.2160503\ttotal: 363ms\tremaining: 867ms\n",
      "295:\tlearn: 0.2160417\ttotal: 364ms\tremaining: 867ms\n",
      "296:\tlearn: 0.2160175\ttotal: 366ms\tremaining: 865ms\n",
      "297:\tlearn: 0.2160044\ttotal: 367ms\tremaining: 864ms\n",
      "298:\tlearn: 0.2159637\ttotal: 368ms\tremaining: 863ms\n",
      "299:\tlearn: 0.2159523\ttotal: 369ms\tremaining: 861ms\n",
      "300:\tlearn: 0.2159253\ttotal: 371ms\tremaining: 861ms\n",
      "301:\tlearn: 0.2159071\ttotal: 372ms\tremaining: 859ms\n",
      "302:\tlearn: 0.2158867\ttotal: 373ms\tremaining: 858ms\n",
      "303:\tlearn: 0.2158759\ttotal: 374ms\tremaining: 857ms\n",
      "304:\tlearn: 0.2158683\ttotal: 375ms\tremaining: 855ms\n",
      "305:\tlearn: 0.2158303\ttotal: 377ms\tremaining: 854ms\n",
      "306:\tlearn: 0.2158016\ttotal: 378ms\tremaining: 853ms\n",
      "307:\tlearn: 0.2157726\ttotal: 379ms\tremaining: 852ms\n",
      "308:\tlearn: 0.2157587\ttotal: 382ms\tremaining: 854ms\n",
      "309:\tlearn: 0.2157427\ttotal: 383ms\tremaining: 853ms\n",
      "310:\tlearn: 0.2157308\ttotal: 385ms\tremaining: 852ms\n",
      "311:\tlearn: 0.2157114\ttotal: 386ms\tremaining: 851ms\n",
      "312:\tlearn: 0.2157038\ttotal: 387ms\tremaining: 850ms\n",
      "313:\tlearn: 0.2156965\ttotal: 389ms\tremaining: 849ms\n",
      "314:\tlearn: 0.2156722\ttotal: 390ms\tremaining: 848ms\n",
      "315:\tlearn: 0.2156536\ttotal: 391ms\tremaining: 847ms\n",
      "316:\tlearn: 0.2156189\ttotal: 392ms\tremaining: 845ms\n",
      "317:\tlearn: 0.2156056\ttotal: 394ms\tremaining: 844ms\n",
      "318:\tlearn: 0.2155918\ttotal: 395ms\tremaining: 843ms\n",
      "319:\tlearn: 0.2155746\ttotal: 396ms\tremaining: 842ms\n",
      "320:\tlearn: 0.2155677\ttotal: 397ms\tremaining: 841ms\n",
      "321:\tlearn: 0.2155584\ttotal: 399ms\tremaining: 839ms\n",
      "322:\tlearn: 0.2155518\ttotal: 400ms\tremaining: 838ms\n",
      "323:\tlearn: 0.2155426\ttotal: 401ms\tremaining: 837ms\n",
      "324:\tlearn: 0.2155354\ttotal: 402ms\tremaining: 836ms\n",
      "325:\tlearn: 0.2155290\ttotal: 404ms\tremaining: 834ms\n",
      "326:\tlearn: 0.2155196\ttotal: 405ms\tremaining: 833ms\n",
      "327:\tlearn: 0.2154853\ttotal: 406ms\tremaining: 832ms\n",
      "328:\tlearn: 0.2154320\ttotal: 407ms\tremaining: 831ms\n",
      "329:\tlearn: 0.2154214\ttotal: 409ms\tremaining: 830ms\n",
      "330:\tlearn: 0.2154031\ttotal: 410ms\tremaining: 828ms\n",
      "331:\tlearn: 0.2153868\ttotal: 411ms\tremaining: 827ms\n",
      "332:\tlearn: 0.2153786\ttotal: 412ms\tremaining: 826ms\n",
      "333:\tlearn: 0.2153293\ttotal: 413ms\tremaining: 824ms\n",
      "334:\tlearn: 0.2153196\ttotal: 415ms\tremaining: 824ms\n",
      "335:\tlearn: 0.2152830\ttotal: 416ms\tremaining: 823ms\n",
      "336:\tlearn: 0.2152630\ttotal: 418ms\tremaining: 822ms\n",
      "337:\tlearn: 0.2152404\ttotal: 419ms\tremaining: 820ms\n",
      "338:\tlearn: 0.2152346\ttotal: 420ms\tremaining: 819ms\n",
      "339:\tlearn: 0.2152135\ttotal: 421ms\tremaining: 817ms\n",
      "340:\tlearn: 0.2151986\ttotal: 422ms\tremaining: 816ms\n",
      "341:\tlearn: 0.2151927\ttotal: 423ms\tremaining: 815ms\n",
      "342:\tlearn: 0.2151823\ttotal: 425ms\tremaining: 813ms\n",
      "343:\tlearn: 0.2151675\ttotal: 426ms\tremaining: 812ms\n",
      "344:\tlearn: 0.2151484\ttotal: 427ms\tremaining: 811ms\n",
      "345:\tlearn: 0.2151301\ttotal: 428ms\tremaining: 809ms\n",
      "346:\tlearn: 0.2151180\ttotal: 429ms\tremaining: 808ms\n",
      "347:\tlearn: 0.2151050\ttotal: 431ms\tremaining: 807ms\n",
      "348:\tlearn: 0.2150663\ttotal: 432ms\tremaining: 806ms\n",
      "349:\tlearn: 0.2150309\ttotal: 433ms\tremaining: 805ms\n",
      "350:\tlearn: 0.2149856\ttotal: 435ms\tremaining: 804ms\n",
      "351:\tlearn: 0.2149478\ttotal: 436ms\tremaining: 803ms\n",
      "352:\tlearn: 0.2149380\ttotal: 437ms\tremaining: 801ms\n",
      "353:\tlearn: 0.2149099\ttotal: 438ms\tremaining: 800ms\n",
      "354:\tlearn: 0.2148823\ttotal: 440ms\tremaining: 799ms\n",
      "355:\tlearn: 0.2148640\ttotal: 441ms\tremaining: 797ms\n",
      "356:\tlearn: 0.2148538\ttotal: 442ms\tremaining: 796ms\n",
      "357:\tlearn: 0.2148395\ttotal: 443ms\tremaining: 795ms\n",
      "358:\tlearn: 0.2148220\ttotal: 444ms\tremaining: 794ms\n",
      "359:\tlearn: 0.2148110\ttotal: 446ms\tremaining: 794ms\n",
      "360:\tlearn: 0.2147965\ttotal: 448ms\tremaining: 792ms\n",
      "361:\tlearn: 0.2147828\ttotal: 449ms\tremaining: 791ms\n",
      "362:\tlearn: 0.2147452\ttotal: 450ms\tremaining: 790ms\n",
      "363:\tlearn: 0.2147314\ttotal: 451ms\tremaining: 789ms\n",
      "364:\tlearn: 0.2147032\ttotal: 453ms\tremaining: 787ms\n",
      "365:\tlearn: 0.2146814\ttotal: 454ms\tremaining: 786ms\n",
      "366:\tlearn: 0.2146678\ttotal: 455ms\tremaining: 785ms\n",
      "367:\tlearn: 0.2146606\ttotal: 456ms\tremaining: 784ms\n",
      "368:\tlearn: 0.2146553\ttotal: 457ms\tremaining: 782ms\n",
      "369:\tlearn: 0.2146426\ttotal: 459ms\tremaining: 781ms\n",
      "370:\tlearn: 0.2146162\ttotal: 460ms\tremaining: 780ms\n",
      "371:\tlearn: 0.2145960\ttotal: 461ms\tremaining: 778ms\n",
      "372:\tlearn: 0.2145667\ttotal: 462ms\tremaining: 777ms\n",
      "373:\tlearn: 0.2145615\ttotal: 463ms\tremaining: 776ms\n",
      "374:\tlearn: 0.2145506\ttotal: 465ms\tremaining: 774ms\n",
      "375:\tlearn: 0.2145234\ttotal: 466ms\tremaining: 773ms\n",
      "376:\tlearn: 0.2145152\ttotal: 467ms\tremaining: 772ms\n",
      "377:\tlearn: 0.2145025\ttotal: 468ms\tremaining: 771ms\n",
      "378:\tlearn: 0.2144603\ttotal: 470ms\tremaining: 769ms\n",
      "379:\tlearn: 0.2144429\ttotal: 471ms\tremaining: 768ms\n",
      "380:\tlearn: 0.2144308\ttotal: 472ms\tremaining: 767ms\n",
      "381:\tlearn: 0.2144259\ttotal: 473ms\tremaining: 765ms\n",
      "382:\tlearn: 0.2144131\ttotal: 474ms\tremaining: 764ms\n",
      "383:\tlearn: 0.2144024\ttotal: 475ms\tremaining: 762ms\n",
      "384:\tlearn: 0.2143844\ttotal: 476ms\tremaining: 761ms\n",
      "385:\tlearn: 0.2143710\ttotal: 478ms\tremaining: 760ms\n",
      "386:\tlearn: 0.2143547\ttotal: 479ms\tremaining: 758ms\n",
      "387:\tlearn: 0.2143401\ttotal: 480ms\tremaining: 757ms\n",
      "388:\tlearn: 0.2143058\ttotal: 483ms\tremaining: 759ms\n",
      "389:\tlearn: 0.2142926\ttotal: 484ms\tremaining: 757ms\n",
      "390:\tlearn: 0.2142862\ttotal: 485ms\tremaining: 756ms\n",
      "391:\tlearn: 0.2142683\ttotal: 486ms\tremaining: 754ms\n",
      "392:\tlearn: 0.2142514\ttotal: 488ms\tremaining: 753ms\n",
      "393:\tlearn: 0.2142468\ttotal: 489ms\tremaining: 752ms\n",
      "394:\tlearn: 0.2142141\ttotal: 490ms\tremaining: 750ms\n",
      "395:\tlearn: 0.2142062\ttotal: 491ms\tremaining: 749ms\n",
      "396:\tlearn: 0.2141939\ttotal: 492ms\tremaining: 747ms\n",
      "397:\tlearn: 0.2141685\ttotal: 493ms\tremaining: 746ms\n",
      "398:\tlearn: 0.2141539\ttotal: 495ms\tremaining: 745ms\n",
      "399:\tlearn: 0.2141450\ttotal: 496ms\tremaining: 744ms\n",
      "400:\tlearn: 0.2141391\ttotal: 497ms\tremaining: 742ms\n",
      "401:\tlearn: 0.2141086\ttotal: 498ms\tremaining: 741ms\n",
      "402:\tlearn: 0.2140966\ttotal: 499ms\tremaining: 739ms\n",
      "403:\tlearn: 0.2140647\ttotal: 500ms\tremaining: 738ms\n",
      "404:\tlearn: 0.2140552\ttotal: 501ms\tremaining: 736ms\n",
      "405:\tlearn: 0.2140476\ttotal: 502ms\tremaining: 735ms\n",
      "406:\tlearn: 0.2140421\ttotal: 504ms\tremaining: 734ms\n",
      "407:\tlearn: 0.2140315\ttotal: 505ms\tremaining: 733ms\n",
      "408:\tlearn: 0.2140184\ttotal: 506ms\tremaining: 732ms\n",
      "409:\tlearn: 0.2140137\ttotal: 508ms\tremaining: 730ms\n",
      "410:\tlearn: 0.2140020\ttotal: 509ms\tremaining: 729ms\n",
      "411:\tlearn: 0.2139748\ttotal: 510ms\tremaining: 728ms\n",
      "412:\tlearn: 0.2139641\ttotal: 511ms\tremaining: 726ms\n",
      "413:\tlearn: 0.2139402\ttotal: 512ms\tremaining: 725ms\n",
      "414:\tlearn: 0.2139020\ttotal: 514ms\tremaining: 724ms\n",
      "415:\tlearn: 0.2138866\ttotal: 515ms\tremaining: 723ms\n",
      "416:\tlearn: 0.2138755\ttotal: 516ms\tremaining: 722ms\n",
      "417:\tlearn: 0.2138649\ttotal: 518ms\tremaining: 721ms\n",
      "418:\tlearn: 0.2138321\ttotal: 519ms\tremaining: 720ms\n",
      "419:\tlearn: 0.2137944\ttotal: 520ms\tremaining: 718ms\n",
      "420:\tlearn: 0.2137817\ttotal: 522ms\tremaining: 717ms\n",
      "421:\tlearn: 0.2137598\ttotal: 523ms\tremaining: 716ms\n",
      "422:\tlearn: 0.2137531\ttotal: 524ms\tremaining: 715ms\n",
      "423:\tlearn: 0.2137220\ttotal: 526ms\tremaining: 714ms\n",
      "424:\tlearn: 0.2137099\ttotal: 527ms\tremaining: 713ms\n",
      "425:\tlearn: 0.2137048\ttotal: 528ms\tremaining: 712ms\n",
      "426:\tlearn: 0.2136865\ttotal: 530ms\tremaining: 711ms\n",
      "427:\tlearn: 0.2136612\ttotal: 531ms\tremaining: 710ms\n",
      "428:\tlearn: 0.2136391\ttotal: 532ms\tremaining: 708ms\n",
      "429:\tlearn: 0.2136313\ttotal: 533ms\tremaining: 707ms\n",
      "430:\tlearn: 0.2136244\ttotal: 535ms\tremaining: 706ms\n",
      "431:\tlearn: 0.2136145\ttotal: 536ms\tremaining: 705ms\n",
      "432:\tlearn: 0.2136126\ttotal: 537ms\tremaining: 703ms\n",
      "433:\tlearn: 0.2135888\ttotal: 538ms\tremaining: 702ms\n",
      "434:\tlearn: 0.2135585\ttotal: 539ms\tremaining: 701ms\n",
      "435:\tlearn: 0.2135362\ttotal: 541ms\tremaining: 699ms\n",
      "436:\tlearn: 0.2135251\ttotal: 542ms\tremaining: 698ms\n",
      "437:\tlearn: 0.2135047\ttotal: 543ms\tremaining: 697ms\n",
      "438:\tlearn: 0.2134851\ttotal: 544ms\tremaining: 696ms\n",
      "439:\tlearn: 0.2134757\ttotal: 546ms\tremaining: 694ms\n",
      "440:\tlearn: 0.2134644\ttotal: 547ms\tremaining: 693ms\n",
      "441:\tlearn: 0.2134436\ttotal: 548ms\tremaining: 692ms\n",
      "442:\tlearn: 0.2134130\ttotal: 549ms\tremaining: 691ms\n",
      "443:\tlearn: 0.2133839\ttotal: 550ms\tremaining: 689ms\n",
      "444:\tlearn: 0.2133774\ttotal: 552ms\tremaining: 688ms\n",
      "445:\tlearn: 0.2133419\ttotal: 553ms\tremaining: 687ms\n",
      "446:\tlearn: 0.2133189\ttotal: 554ms\tremaining: 685ms\n",
      "447:\tlearn: 0.2133136\ttotal: 555ms\tremaining: 684ms\n",
      "448:\tlearn: 0.2132978\ttotal: 556ms\tremaining: 683ms\n",
      "449:\tlearn: 0.2132713\ttotal: 557ms\tremaining: 681ms\n",
      "450:\tlearn: 0.2132638\ttotal: 559ms\tremaining: 680ms\n",
      "451:\tlearn: 0.2132378\ttotal: 560ms\tremaining: 679ms\n",
      "452:\tlearn: 0.2132159\ttotal: 562ms\tremaining: 679ms\n",
      "453:\tlearn: 0.2131883\ttotal: 563ms\tremaining: 677ms\n",
      "454:\tlearn: 0.2131763\ttotal: 564ms\tremaining: 676ms\n",
      "455:\tlearn: 0.2131663\ttotal: 566ms\tremaining: 675ms\n",
      "456:\tlearn: 0.2131566\ttotal: 567ms\tremaining: 674ms\n",
      "457:\tlearn: 0.2131089\ttotal: 568ms\tremaining: 672ms\n",
      "458:\tlearn: 0.2130997\ttotal: 569ms\tremaining: 671ms\n",
      "459:\tlearn: 0.2130901\ttotal: 571ms\tremaining: 670ms\n",
      "460:\tlearn: 0.2130752\ttotal: 572ms\tremaining: 668ms\n"
     ]
    },
    {
     "name": "stdout",
     "output_type": "stream",
     "text": [
      "461:\tlearn: 0.2130678\ttotal: 573ms\tremaining: 667ms\n",
      "462:\tlearn: 0.2130477\ttotal: 574ms\tremaining: 666ms\n",
      "463:\tlearn: 0.2130345\ttotal: 576ms\tremaining: 665ms\n",
      "464:\tlearn: 0.2130253\ttotal: 577ms\tremaining: 664ms\n",
      "465:\tlearn: 0.2129977\ttotal: 578ms\tremaining: 663ms\n",
      "466:\tlearn: 0.2129797\ttotal: 580ms\tremaining: 661ms\n",
      "467:\tlearn: 0.2129729\ttotal: 583ms\tremaining: 663ms\n",
      "468:\tlearn: 0.2129568\ttotal: 585ms\tremaining: 662ms\n",
      "469:\tlearn: 0.2129473\ttotal: 586ms\tremaining: 661ms\n",
      "470:\tlearn: 0.2129433\ttotal: 587ms\tremaining: 659ms\n",
      "471:\tlearn: 0.2129352\ttotal: 589ms\tremaining: 658ms\n",
      "472:\tlearn: 0.2129250\ttotal: 590ms\tremaining: 657ms\n",
      "473:\tlearn: 0.2129155\ttotal: 591ms\tremaining: 656ms\n",
      "474:\tlearn: 0.2129052\ttotal: 593ms\tremaining: 655ms\n",
      "475:\tlearn: 0.2128833\ttotal: 594ms\tremaining: 654ms\n",
      "476:\tlearn: 0.2128562\ttotal: 595ms\tremaining: 653ms\n",
      "477:\tlearn: 0.2128336\ttotal: 597ms\tremaining: 652ms\n",
      "478:\tlearn: 0.2128192\ttotal: 598ms\tremaining: 650ms\n",
      "479:\tlearn: 0.2128087\ttotal: 599ms\tremaining: 649ms\n",
      "480:\tlearn: 0.2127763\ttotal: 601ms\tremaining: 648ms\n",
      "481:\tlearn: 0.2127504\ttotal: 602ms\tremaining: 647ms\n",
      "482:\tlearn: 0.2127417\ttotal: 604ms\tremaining: 646ms\n",
      "483:\tlearn: 0.2127334\ttotal: 605ms\tremaining: 645ms\n",
      "484:\tlearn: 0.2127043\ttotal: 607ms\tremaining: 644ms\n",
      "485:\tlearn: 0.2126748\ttotal: 608ms\tremaining: 643ms\n",
      "486:\tlearn: 0.2126363\ttotal: 609ms\tremaining: 642ms\n",
      "487:\tlearn: 0.2126111\ttotal: 611ms\tremaining: 641ms\n",
      "488:\tlearn: 0.2125975\ttotal: 612ms\tremaining: 640ms\n",
      "489:\tlearn: 0.2125666\ttotal: 613ms\tremaining: 638ms\n",
      "490:\tlearn: 0.2125585\ttotal: 615ms\tremaining: 637ms\n",
      "491:\tlearn: 0.2125460\ttotal: 616ms\tremaining: 636ms\n",
      "492:\tlearn: 0.2125251\ttotal: 617ms\tremaining: 635ms\n",
      "493:\tlearn: 0.2125069\ttotal: 618ms\tremaining: 633ms\n",
      "494:\tlearn: 0.2125007\ttotal: 620ms\tremaining: 632ms\n",
      "495:\tlearn: 0.2124968\ttotal: 621ms\tremaining: 631ms\n",
      "496:\tlearn: 0.2124877\ttotal: 622ms\tremaining: 630ms\n",
      "497:\tlearn: 0.2124721\ttotal: 624ms\tremaining: 629ms\n",
      "498:\tlearn: 0.2124581\ttotal: 625ms\tremaining: 627ms\n",
      "499:\tlearn: 0.2124460\ttotal: 627ms\tremaining: 627ms\n",
      "500:\tlearn: 0.2124413\ttotal: 628ms\tremaining: 625ms\n",
      "501:\tlearn: 0.2124281\ttotal: 629ms\tremaining: 624ms\n",
      "502:\tlearn: 0.2124154\ttotal: 630ms\tremaining: 623ms\n",
      "503:\tlearn: 0.2123970\ttotal: 631ms\tremaining: 621ms\n",
      "504:\tlearn: 0.2123858\ttotal: 633ms\tremaining: 620ms\n",
      "505:\tlearn: 0.2123559\ttotal: 634ms\tremaining: 619ms\n",
      "506:\tlearn: 0.2123274\ttotal: 635ms\tremaining: 618ms\n",
      "507:\tlearn: 0.2123114\ttotal: 637ms\tremaining: 616ms\n",
      "508:\tlearn: 0.2123034\ttotal: 638ms\tremaining: 615ms\n",
      "509:\tlearn: 0.2122861\ttotal: 639ms\tremaining: 614ms\n",
      "510:\tlearn: 0.2122611\ttotal: 641ms\tremaining: 613ms\n",
      "511:\tlearn: 0.2122337\ttotal: 642ms\tremaining: 612ms\n",
      "512:\tlearn: 0.2122219\ttotal: 643ms\tremaining: 611ms\n",
      "513:\tlearn: 0.2121950\ttotal: 644ms\tremaining: 609ms\n",
      "514:\tlearn: 0.2121817\ttotal: 646ms\tremaining: 608ms\n",
      "515:\tlearn: 0.2121774\ttotal: 651ms\tremaining: 610ms\n",
      "516:\tlearn: 0.2121688\ttotal: 652ms\tremaining: 609ms\n",
      "517:\tlearn: 0.2121629\ttotal: 655ms\tremaining: 609ms\n",
      "518:\tlearn: 0.2121408\ttotal: 656ms\tremaining: 608ms\n",
      "519:\tlearn: 0.2121184\ttotal: 657ms\tremaining: 607ms\n",
      "520:\tlearn: 0.2121058\ttotal: 659ms\tremaining: 605ms\n",
      "521:\tlearn: 0.2121025\ttotal: 660ms\tremaining: 604ms\n",
      "522:\tlearn: 0.2120893\ttotal: 661ms\tremaining: 603ms\n",
      "523:\tlearn: 0.2120803\ttotal: 662ms\tremaining: 601ms\n",
      "524:\tlearn: 0.2120539\ttotal: 663ms\tremaining: 600ms\n",
      "525:\tlearn: 0.2120390\ttotal: 664ms\tremaining: 598ms\n",
      "526:\tlearn: 0.2120337\ttotal: 666ms\tremaining: 598ms\n",
      "527:\tlearn: 0.2120268\ttotal: 667ms\tremaining: 597ms\n",
      "528:\tlearn: 0.2120237\ttotal: 668ms\tremaining: 595ms\n",
      "529:\tlearn: 0.2120014\ttotal: 669ms\tremaining: 594ms\n",
      "530:\tlearn: 0.2119844\ttotal: 671ms\tremaining: 592ms\n",
      "531:\tlearn: 0.2119774\ttotal: 672ms\tremaining: 591ms\n",
      "532:\tlearn: 0.2119659\ttotal: 673ms\tremaining: 589ms\n",
      "533:\tlearn: 0.2119445\ttotal: 674ms\tremaining: 588ms\n",
      "534:\tlearn: 0.2119381\ttotal: 675ms\tremaining: 587ms\n",
      "535:\tlearn: 0.2119349\ttotal: 676ms\tremaining: 585ms\n",
      "536:\tlearn: 0.2119295\ttotal: 677ms\tremaining: 584ms\n",
      "537:\tlearn: 0.2119205\ttotal: 678ms\tremaining: 583ms\n",
      "538:\tlearn: 0.2119127\ttotal: 679ms\tremaining: 581ms\n",
      "539:\tlearn: 0.2118929\ttotal: 681ms\tremaining: 580ms\n",
      "540:\tlearn: 0.2118820\ttotal: 682ms\tremaining: 579ms\n",
      "541:\tlearn: 0.2118738\ttotal: 683ms\tremaining: 577ms\n",
      "542:\tlearn: 0.2118591\ttotal: 684ms\tremaining: 576ms\n",
      "543:\tlearn: 0.2118500\ttotal: 686ms\tremaining: 575ms\n",
      "544:\tlearn: 0.2118429\ttotal: 687ms\tremaining: 573ms\n",
      "545:\tlearn: 0.2118226\ttotal: 688ms\tremaining: 572ms\n",
      "546:\tlearn: 0.2117943\ttotal: 689ms\tremaining: 571ms\n",
      "547:\tlearn: 0.2117872\ttotal: 690ms\tremaining: 569ms\n",
      "548:\tlearn: 0.2117670\ttotal: 691ms\tremaining: 568ms\n",
      "549:\tlearn: 0.2117640\ttotal: 692ms\tremaining: 567ms\n",
      "550:\tlearn: 0.2117464\ttotal: 694ms\tremaining: 565ms\n",
      "551:\tlearn: 0.2117369\ttotal: 695ms\tremaining: 564ms\n",
      "552:\tlearn: 0.2117282\ttotal: 696ms\tremaining: 563ms\n",
      "553:\tlearn: 0.2117217\ttotal: 697ms\tremaining: 561ms\n",
      "554:\tlearn: 0.2116999\ttotal: 699ms\tremaining: 560ms\n",
      "555:\tlearn: 0.2116786\ttotal: 700ms\tremaining: 559ms\n",
      "556:\tlearn: 0.2116624\ttotal: 702ms\tremaining: 558ms\n",
      "557:\tlearn: 0.2116522\ttotal: 703ms\tremaining: 557ms\n",
      "558:\tlearn: 0.2116211\ttotal: 704ms\tremaining: 556ms\n",
      "559:\tlearn: 0.2116058\ttotal: 706ms\tremaining: 554ms\n",
      "560:\tlearn: 0.2115919\ttotal: 708ms\tremaining: 554ms\n",
      "561:\tlearn: 0.2115823\ttotal: 709ms\tremaining: 552ms\n",
      "562:\tlearn: 0.2115711\ttotal: 710ms\tremaining: 551ms\n",
      "563:\tlearn: 0.2115589\ttotal: 711ms\tremaining: 550ms\n",
      "564:\tlearn: 0.2115440\ttotal: 714ms\tremaining: 549ms\n",
      "565:\tlearn: 0.2115256\ttotal: 715ms\tremaining: 548ms\n",
      "566:\tlearn: 0.2115090\ttotal: 716ms\tremaining: 547ms\n",
      "567:\tlearn: 0.2114875\ttotal: 718ms\tremaining: 546ms\n",
      "568:\tlearn: 0.2114590\ttotal: 719ms\tremaining: 545ms\n",
      "569:\tlearn: 0.2114410\ttotal: 720ms\tremaining: 543ms\n",
      "570:\tlearn: 0.2114383\ttotal: 722ms\tremaining: 542ms\n",
      "571:\tlearn: 0.2114297\ttotal: 723ms\tremaining: 541ms\n",
      "572:\tlearn: 0.2114270\ttotal: 724ms\tremaining: 539ms\n",
      "573:\tlearn: 0.2114205\ttotal: 725ms\tremaining: 538ms\n",
      "574:\tlearn: 0.2114163\ttotal: 726ms\tremaining: 537ms\n",
      "575:\tlearn: 0.2113991\ttotal: 728ms\tremaining: 536ms\n",
      "576:\tlearn: 0.2113820\ttotal: 729ms\tremaining: 535ms\n",
      "577:\tlearn: 0.2113579\ttotal: 731ms\tremaining: 533ms\n",
      "578:\tlearn: 0.2113530\ttotal: 732ms\tremaining: 532ms\n",
      "579:\tlearn: 0.2113296\ttotal: 733ms\tremaining: 531ms\n",
      "580:\tlearn: 0.2113105\ttotal: 735ms\tremaining: 530ms\n",
      "581:\tlearn: 0.2113027\ttotal: 736ms\tremaining: 529ms\n",
      "582:\tlearn: 0.2112949\ttotal: 737ms\tremaining: 527ms\n",
      "583:\tlearn: 0.2112826\ttotal: 739ms\tremaining: 526ms\n",
      "584:\tlearn: 0.2112755\ttotal: 740ms\tremaining: 525ms\n",
      "585:\tlearn: 0.2112604\ttotal: 741ms\tremaining: 524ms\n",
      "586:\tlearn: 0.2112461\ttotal: 742ms\tremaining: 522ms\n",
      "587:\tlearn: 0.2112379\ttotal: 744ms\tremaining: 521ms\n",
      "588:\tlearn: 0.2112355\ttotal: 745ms\tremaining: 520ms\n",
      "589:\tlearn: 0.2112249\ttotal: 746ms\tremaining: 518ms\n",
      "590:\tlearn: 0.2112075\ttotal: 747ms\tremaining: 517ms\n",
      "591:\tlearn: 0.2111939\ttotal: 749ms\tremaining: 516ms\n",
      "592:\tlearn: 0.2111805\ttotal: 750ms\tremaining: 515ms\n",
      "593:\tlearn: 0.2111655\ttotal: 751ms\tremaining: 513ms\n",
      "594:\tlearn: 0.2111405\ttotal: 752ms\tremaining: 512ms\n",
      "595:\tlearn: 0.2111202\ttotal: 754ms\tremaining: 511ms\n",
      "596:\tlearn: 0.2111055\ttotal: 755ms\tremaining: 510ms\n",
      "597:\tlearn: 0.2110762\ttotal: 756ms\tremaining: 508ms\n",
      "598:\tlearn: 0.2110509\ttotal: 757ms\tremaining: 507ms\n",
      "599:\tlearn: 0.2110453\ttotal: 759ms\tremaining: 506ms\n",
      "600:\tlearn: 0.2110318\ttotal: 760ms\tremaining: 505ms\n",
      "601:\tlearn: 0.2110170\ttotal: 761ms\tremaining: 503ms\n",
      "602:\tlearn: 0.2110098\ttotal: 762ms\tremaining: 502ms\n",
      "603:\tlearn: 0.2110018\ttotal: 763ms\tremaining: 501ms\n",
      "604:\tlearn: 0.2109886\ttotal: 765ms\tremaining: 499ms\n",
      "605:\tlearn: 0.2109823\ttotal: 766ms\tremaining: 498ms\n",
      "606:\tlearn: 0.2109696\ttotal: 767ms\tremaining: 497ms\n",
      "607:\tlearn: 0.2109649\ttotal: 768ms\tremaining: 495ms\n",
      "608:\tlearn: 0.2109517\ttotal: 769ms\tremaining: 494ms\n",
      "609:\tlearn: 0.2109394\ttotal: 770ms\tremaining: 493ms\n",
      "610:\tlearn: 0.2109325\ttotal: 772ms\tremaining: 491ms\n",
      "611:\tlearn: 0.2109223\ttotal: 773ms\tremaining: 490ms\n",
      "612:\tlearn: 0.2109098\ttotal: 774ms\tremaining: 489ms\n",
      "613:\tlearn: 0.2108851\ttotal: 775ms\tremaining: 487ms\n",
      "614:\tlearn: 0.2108830\ttotal: 776ms\tremaining: 486ms\n",
      "615:\tlearn: 0.2108766\ttotal: 777ms\tremaining: 485ms\n",
      "616:\tlearn: 0.2108514\ttotal: 779ms\tremaining: 483ms\n",
      "617:\tlearn: 0.2108380\ttotal: 780ms\tremaining: 482ms\n",
      "618:\tlearn: 0.2108196\ttotal: 781ms\tremaining: 481ms\n",
      "619:\tlearn: 0.2108056\ttotal: 782ms\tremaining: 480ms\n",
      "620:\tlearn: 0.2107934\ttotal: 784ms\tremaining: 478ms\n",
      "621:\tlearn: 0.2107826\ttotal: 785ms\tremaining: 477ms\n",
      "622:\tlearn: 0.2107715\ttotal: 786ms\tremaining: 476ms\n",
      "623:\tlearn: 0.2107528\ttotal: 787ms\tremaining: 474ms\n",
      "624:\tlearn: 0.2107437\ttotal: 788ms\tremaining: 473ms\n",
      "625:\tlearn: 0.2107326\ttotal: 790ms\tremaining: 472ms\n",
      "626:\tlearn: 0.2107232\ttotal: 791ms\tremaining: 471ms\n",
      "627:\tlearn: 0.2107073\ttotal: 795ms\tremaining: 471ms\n",
      "628:\tlearn: 0.2106846\ttotal: 797ms\tremaining: 470ms\n",
      "629:\tlearn: 0.2106677\ttotal: 798ms\tremaining: 469ms\n",
      "630:\tlearn: 0.2106611\ttotal: 799ms\tremaining: 467ms\n",
      "631:\tlearn: 0.2106409\ttotal: 801ms\tremaining: 467ms\n",
      "632:\tlearn: 0.2106354\ttotal: 803ms\tremaining: 465ms\n",
      "633:\tlearn: 0.2106139\ttotal: 804ms\tremaining: 464ms\n",
      "634:\tlearn: 0.2106083\ttotal: 805ms\tremaining: 463ms\n",
      "635:\tlearn: 0.2105988\ttotal: 807ms\tremaining: 462ms\n",
      "636:\tlearn: 0.2105889\ttotal: 809ms\tremaining: 461ms\n",
      "637:\tlearn: 0.2105837\ttotal: 810ms\tremaining: 460ms\n",
      "638:\tlearn: 0.2105755\ttotal: 811ms\tremaining: 458ms\n",
      "639:\tlearn: 0.2105674\ttotal: 813ms\tremaining: 457ms\n",
      "640:\tlearn: 0.2105464\ttotal: 814ms\tremaining: 456ms\n",
      "641:\tlearn: 0.2105430\ttotal: 816ms\tremaining: 455ms\n",
      "642:\tlearn: 0.2105396\ttotal: 817ms\tremaining: 454ms\n",
      "643:\tlearn: 0.2105184\ttotal: 818ms\tremaining: 452ms\n",
      "644:\tlearn: 0.2104917\ttotal: 820ms\tremaining: 452ms\n",
      "645:\tlearn: 0.2104828\ttotal: 822ms\tremaining: 450ms\n",
      "646:\tlearn: 0.2104697\ttotal: 823ms\tremaining: 449ms\n",
      "647:\tlearn: 0.2104616\ttotal: 825ms\tremaining: 448ms\n",
      "648:\tlearn: 0.2104369\ttotal: 826ms\tremaining: 447ms\n",
      "649:\tlearn: 0.2104267\ttotal: 827ms\tremaining: 445ms\n",
      "650:\tlearn: 0.2104078\ttotal: 828ms\tremaining: 444ms\n",
      "651:\tlearn: 0.2104038\ttotal: 830ms\tremaining: 443ms\n",
      "652:\tlearn: 0.2104015\ttotal: 831ms\tremaining: 442ms\n",
      "653:\tlearn: 0.2103937\ttotal: 832ms\tremaining: 440ms\n",
      "654:\tlearn: 0.2103837\ttotal: 833ms\tremaining: 439ms\n",
      "655:\tlearn: 0.2103721\ttotal: 835ms\tremaining: 438ms\n",
      "656:\tlearn: 0.2103653\ttotal: 836ms\tremaining: 437ms\n",
      "657:\tlearn: 0.2103599\ttotal: 837ms\tremaining: 435ms\n",
      "658:\tlearn: 0.2103406\ttotal: 839ms\tremaining: 434ms\n",
      "659:\tlearn: 0.2103311\ttotal: 840ms\tremaining: 433ms\n",
      "660:\tlearn: 0.2103200\ttotal: 842ms\tremaining: 432ms\n",
      "661:\tlearn: 0.2102973\ttotal: 843ms\tremaining: 430ms\n",
      "662:\tlearn: 0.2102825\ttotal: 844ms\tremaining: 429ms\n",
      "663:\tlearn: 0.2102755\ttotal: 846ms\tremaining: 428ms\n",
      "664:\tlearn: 0.2102702\ttotal: 847ms\tremaining: 427ms\n",
      "665:\tlearn: 0.2102580\ttotal: 848ms\tremaining: 425ms\n",
      "666:\tlearn: 0.2102464\ttotal: 850ms\tremaining: 424ms\n",
      "667:\tlearn: 0.2102373\ttotal: 851ms\tremaining: 423ms\n",
      "668:\tlearn: 0.2102227\ttotal: 852ms\tremaining: 422ms\n",
      "669:\tlearn: 0.2102119\ttotal: 853ms\tremaining: 420ms\n",
      "670:\tlearn: 0.2102068\ttotal: 855ms\tremaining: 419ms\n",
      "671:\tlearn: 0.2101933\ttotal: 857ms\tremaining: 418ms\n",
      "672:\tlearn: 0.2101745\ttotal: 858ms\tremaining: 417ms\n",
      "673:\tlearn: 0.2101619\ttotal: 859ms\tremaining: 416ms\n",
      "674:\tlearn: 0.2101485\ttotal: 861ms\tremaining: 414ms\n",
      "675:\tlearn: 0.2101453\ttotal: 863ms\tremaining: 413ms\n",
      "676:\tlearn: 0.2101356\ttotal: 864ms\tremaining: 412ms\n",
      "677:\tlearn: 0.2101307\ttotal: 865ms\tremaining: 411ms\n",
      "678:\tlearn: 0.2101133\ttotal: 866ms\tremaining: 410ms\n",
      "679:\tlearn: 0.2101049\ttotal: 868ms\tremaining: 408ms\n",
      "680:\tlearn: 0.2100900\ttotal: 869ms\tremaining: 407ms\n",
      "681:\tlearn: 0.2100762\ttotal: 870ms\tremaining: 406ms\n",
      "682:\tlearn: 0.2100680\ttotal: 872ms\tremaining: 405ms\n",
      "683:\tlearn: 0.2100638\ttotal: 874ms\tremaining: 404ms\n",
      "684:\tlearn: 0.2100488\ttotal: 875ms\tremaining: 402ms\n",
      "685:\tlearn: 0.2100302\ttotal: 876ms\tremaining: 401ms\n",
      "686:\tlearn: 0.2100179\ttotal: 878ms\tremaining: 400ms\n",
      "687:\tlearn: 0.2099811\ttotal: 879ms\tremaining: 399ms\n",
      "688:\tlearn: 0.2099772\ttotal: 880ms\tremaining: 397ms\n",
      "689:\tlearn: 0.2099663\ttotal: 881ms\tremaining: 396ms\n",
      "690:\tlearn: 0.2099594\ttotal: 883ms\tremaining: 395ms\n",
      "691:\tlearn: 0.2099405\ttotal: 884ms\tremaining: 394ms\n",
      "692:\tlearn: 0.2099296\ttotal: 885ms\tremaining: 392ms\n",
      "693:\tlearn: 0.2099103\ttotal: 887ms\tremaining: 391ms\n",
      "694:\tlearn: 0.2098941\ttotal: 888ms\tremaining: 390ms\n",
      "695:\tlearn: 0.2098897\ttotal: 889ms\tremaining: 388ms\n",
      "696:\tlearn: 0.2098741\ttotal: 891ms\tremaining: 387ms\n",
      "697:\tlearn: 0.2098629\ttotal: 892ms\tremaining: 386ms\n",
      "698:\tlearn: 0.2098588\ttotal: 893ms\tremaining: 385ms\n",
      "699:\tlearn: 0.2098445\ttotal: 894ms\tremaining: 383ms\n",
      "700:\tlearn: 0.2098270\ttotal: 896ms\tremaining: 382ms\n",
      "701:\tlearn: 0.2098190\ttotal: 897ms\tremaining: 381ms\n",
      "702:\tlearn: 0.2098085\ttotal: 898ms\tremaining: 380ms\n",
      "703:\tlearn: 0.2097833\ttotal: 900ms\tremaining: 378ms\n",
      "704:\tlearn: 0.2097814\ttotal: 901ms\tremaining: 377ms\n",
      "705:\tlearn: 0.2097570\ttotal: 902ms\tremaining: 376ms\n",
      "706:\tlearn: 0.2097511\ttotal: 904ms\tremaining: 375ms\n",
      "707:\tlearn: 0.2097402\ttotal: 905ms\tremaining: 373ms\n",
      "708:\tlearn: 0.2097204\ttotal: 906ms\tremaining: 372ms\n",
      "709:\tlearn: 0.2097042\ttotal: 908ms\tremaining: 371ms\n",
      "710:\tlearn: 0.2097011\ttotal: 909ms\tremaining: 369ms\n",
      "711:\tlearn: 0.2096949\ttotal: 910ms\tremaining: 368ms\n",
      "712:\tlearn: 0.2096842\ttotal: 912ms\tremaining: 367ms\n",
      "713:\tlearn: 0.2096787\ttotal: 913ms\tremaining: 366ms\n",
      "714:\tlearn: 0.2096623\ttotal: 914ms\tremaining: 364ms\n",
      "715:\tlearn: 0.2096581\ttotal: 915ms\tremaining: 363ms\n",
      "716:\tlearn: 0.2096437\ttotal: 917ms\tremaining: 362ms\n",
      "717:\tlearn: 0.2096418\ttotal: 918ms\tremaining: 361ms\n",
      "718:\tlearn: 0.2096355\ttotal: 919ms\tremaining: 359ms\n",
      "719:\tlearn: 0.2096306\ttotal: 920ms\tremaining: 358ms\n",
      "720:\tlearn: 0.2096151\ttotal: 922ms\tremaining: 357ms\n",
      "721:\tlearn: 0.2096069\ttotal: 923ms\tremaining: 356ms\n",
      "722:\tlearn: 0.2095944\ttotal: 925ms\tremaining: 354ms\n",
      "723:\tlearn: 0.2095855\ttotal: 926ms\tremaining: 353ms\n",
      "724:\tlearn: 0.2095737\ttotal: 927ms\tremaining: 352ms\n",
      "725:\tlearn: 0.2095615\ttotal: 929ms\tremaining: 350ms\n",
      "726:\tlearn: 0.2095389\ttotal: 930ms\tremaining: 349ms\n",
      "727:\tlearn: 0.2095358\ttotal: 931ms\tremaining: 348ms\n",
      "728:\tlearn: 0.2095239\ttotal: 932ms\tremaining: 347ms\n",
      "729:\tlearn: 0.2095003\ttotal: 934ms\tremaining: 345ms\n",
      "730:\tlearn: 0.2094938\ttotal: 935ms\tremaining: 344ms\n",
      "731:\tlearn: 0.2094807\ttotal: 936ms\tremaining: 343ms\n",
      "732:\tlearn: 0.2094676\ttotal: 937ms\tremaining: 341ms\n",
      "733:\tlearn: 0.2094474\ttotal: 939ms\tremaining: 340ms\n",
      "734:\tlearn: 0.2094374\ttotal: 940ms\tremaining: 339ms\n",
      "735:\tlearn: 0.2094288\ttotal: 941ms\tremaining: 338ms\n",
      "736:\tlearn: 0.2093959\ttotal: 943ms\tremaining: 336ms\n",
      "737:\tlearn: 0.2093848\ttotal: 944ms\tremaining: 335ms\n",
      "738:\tlearn: 0.2093752\ttotal: 945ms\tremaining: 334ms\n",
      "739:\tlearn: 0.2093545\ttotal: 946ms\tremaining: 332ms\n",
      "740:\tlearn: 0.2093437\ttotal: 948ms\tremaining: 331ms\n",
      "741:\tlearn: 0.2093316\ttotal: 949ms\tremaining: 330ms\n",
      "742:\tlearn: 0.2093162\ttotal: 950ms\tremaining: 329ms\n",
      "743:\tlearn: 0.2093066\ttotal: 951ms\tremaining: 327ms\n",
      "744:\tlearn: 0.2093028\ttotal: 952ms\tremaining: 326ms\n",
      "745:\tlearn: 0.2092909\ttotal: 954ms\tremaining: 325ms\n",
      "746:\tlearn: 0.2092873\ttotal: 955ms\tremaining: 324ms\n",
      "747:\tlearn: 0.2092857\ttotal: 956ms\tremaining: 322ms\n",
      "748:\tlearn: 0.2092819\ttotal: 958ms\tremaining: 321ms\n",
      "749:\tlearn: 0.2092768\ttotal: 959ms\tremaining: 320ms\n",
      "750:\tlearn: 0.2092623\ttotal: 960ms\tremaining: 318ms\n"
     ]
    },
    {
     "name": "stdout",
     "output_type": "stream",
     "text": [
      "751:\tlearn: 0.2092345\ttotal: 961ms\tremaining: 317ms\n",
      "752:\tlearn: 0.2092135\ttotal: 962ms\tremaining: 316ms\n",
      "753:\tlearn: 0.2092045\ttotal: 964ms\tremaining: 314ms\n",
      "754:\tlearn: 0.2091998\ttotal: 965ms\tremaining: 313ms\n",
      "755:\tlearn: 0.2091837\ttotal: 966ms\tremaining: 312ms\n",
      "756:\tlearn: 0.2091730\ttotal: 967ms\tremaining: 310ms\n",
      "757:\tlearn: 0.2091556\ttotal: 968ms\tremaining: 309ms\n",
      "758:\tlearn: 0.2091439\ttotal: 970ms\tremaining: 308ms\n",
      "759:\tlearn: 0.2091404\ttotal: 971ms\tremaining: 307ms\n",
      "760:\tlearn: 0.2091334\ttotal: 972ms\tremaining: 305ms\n",
      "761:\tlearn: 0.2091187\ttotal: 973ms\tremaining: 304ms\n",
      "762:\tlearn: 0.2091087\ttotal: 974ms\tremaining: 303ms\n",
      "763:\tlearn: 0.2090995\ttotal: 975ms\tremaining: 301ms\n",
      "764:\tlearn: 0.2090947\ttotal: 976ms\tremaining: 300ms\n",
      "765:\tlearn: 0.2090813\ttotal: 978ms\tremaining: 299ms\n",
      "766:\tlearn: 0.2090664\ttotal: 979ms\tremaining: 297ms\n",
      "767:\tlearn: 0.2090628\ttotal: 980ms\tremaining: 296ms\n",
      "768:\tlearn: 0.2090564\ttotal: 981ms\tremaining: 295ms\n",
      "769:\tlearn: 0.2090410\ttotal: 982ms\tremaining: 293ms\n",
      "770:\tlearn: 0.2090316\ttotal: 983ms\tremaining: 292ms\n",
      "771:\tlearn: 0.2090216\ttotal: 984ms\tremaining: 291ms\n",
      "772:\tlearn: 0.2090038\ttotal: 985ms\tremaining: 289ms\n",
      "773:\tlearn: 0.2089923\ttotal: 987ms\tremaining: 288ms\n",
      "774:\tlearn: 0.2089846\ttotal: 988ms\tremaining: 287ms\n",
      "775:\tlearn: 0.2089797\ttotal: 989ms\tremaining: 285ms\n",
      "776:\tlearn: 0.2089686\ttotal: 990ms\tremaining: 284ms\n",
      "777:\tlearn: 0.2089482\ttotal: 991ms\tremaining: 283ms\n",
      "778:\tlearn: 0.2089464\ttotal: 993ms\tremaining: 282ms\n",
      "779:\tlearn: 0.2089376\ttotal: 995ms\tremaining: 281ms\n",
      "780:\tlearn: 0.2089362\ttotal: 996ms\tremaining: 279ms\n",
      "781:\tlearn: 0.2089318\ttotal: 997ms\tremaining: 278ms\n",
      "782:\tlearn: 0.2089292\ttotal: 998ms\tremaining: 277ms\n",
      "783:\tlearn: 0.2089265\ttotal: 1s\tremaining: 276ms\n",
      "784:\tlearn: 0.2089168\ttotal: 1s\tremaining: 274ms\n",
      "785:\tlearn: 0.2089061\ttotal: 1s\tremaining: 273ms\n",
      "786:\tlearn: 0.2088848\ttotal: 1s\tremaining: 272ms\n",
      "787:\tlearn: 0.2088816\ttotal: 1s\tremaining: 271ms\n",
      "788:\tlearn: 0.2088671\ttotal: 1.01s\tremaining: 269ms\n",
      "789:\tlearn: 0.2088522\ttotal: 1.01s\tremaining: 268ms\n",
      "790:\tlearn: 0.2088422\ttotal: 1.01s\tremaining: 267ms\n",
      "791:\tlearn: 0.2088320\ttotal: 1.01s\tremaining: 266ms\n",
      "792:\tlearn: 0.2088262\ttotal: 1.01s\tremaining: 264ms\n",
      "793:\tlearn: 0.2088232\ttotal: 1.01s\tremaining: 263ms\n",
      "794:\tlearn: 0.2088038\ttotal: 1.02s\tremaining: 262ms\n",
      "795:\tlearn: 0.2087915\ttotal: 1.02s\tremaining: 261ms\n",
      "796:\tlearn: 0.2087852\ttotal: 1.02s\tremaining: 259ms\n",
      "797:\tlearn: 0.2087746\ttotal: 1.02s\tremaining: 258ms\n",
      "798:\tlearn: 0.2087675\ttotal: 1.02s\tremaining: 257ms\n",
      "799:\tlearn: 0.2087622\ttotal: 1.02s\tremaining: 256ms\n",
      "800:\tlearn: 0.2087435\ttotal: 1.02s\tremaining: 254ms\n",
      "801:\tlearn: 0.2087315\ttotal: 1.02s\tremaining: 253ms\n",
      "802:\tlearn: 0.2087234\ttotal: 1.03s\tremaining: 252ms\n",
      "803:\tlearn: 0.2087081\ttotal: 1.03s\tremaining: 250ms\n",
      "804:\tlearn: 0.2087002\ttotal: 1.03s\tremaining: 249ms\n",
      "805:\tlearn: 0.2086865\ttotal: 1.03s\tremaining: 248ms\n",
      "806:\tlearn: 0.2086734\ttotal: 1.03s\tremaining: 247ms\n",
      "807:\tlearn: 0.2086693\ttotal: 1.03s\tremaining: 245ms\n",
      "808:\tlearn: 0.2086633\ttotal: 1.03s\tremaining: 244ms\n",
      "809:\tlearn: 0.2086480\ttotal: 1.03s\tremaining: 243ms\n",
      "810:\tlearn: 0.2086198\ttotal: 1.04s\tremaining: 242ms\n",
      "811:\tlearn: 0.2086139\ttotal: 1.04s\tremaining: 240ms\n",
      "812:\tlearn: 0.2086022\ttotal: 1.04s\tremaining: 239ms\n",
      "813:\tlearn: 0.2085921\ttotal: 1.04s\tremaining: 238ms\n",
      "814:\tlearn: 0.2085838\ttotal: 1.04s\tremaining: 236ms\n",
      "815:\tlearn: 0.2085787\ttotal: 1.04s\tremaining: 235ms\n",
      "816:\tlearn: 0.2085667\ttotal: 1.04s\tremaining: 234ms\n",
      "817:\tlearn: 0.2085505\ttotal: 1.04s\tremaining: 232ms\n",
      "818:\tlearn: 0.2085438\ttotal: 1.04s\tremaining: 231ms\n",
      "819:\tlearn: 0.2085231\ttotal: 1.05s\tremaining: 230ms\n",
      "820:\tlearn: 0.2085135\ttotal: 1.05s\tremaining: 228ms\n",
      "821:\tlearn: 0.2084878\ttotal: 1.05s\tremaining: 227ms\n",
      "822:\tlearn: 0.2084754\ttotal: 1.05s\tremaining: 226ms\n",
      "823:\tlearn: 0.2084649\ttotal: 1.05s\tremaining: 225ms\n",
      "824:\tlearn: 0.2084603\ttotal: 1.05s\tremaining: 224ms\n",
      "825:\tlearn: 0.2084514\ttotal: 1.05s\tremaining: 222ms\n",
      "826:\tlearn: 0.2084427\ttotal: 1.06s\tremaining: 221ms\n",
      "827:\tlearn: 0.2084321\ttotal: 1.06s\tremaining: 220ms\n",
      "828:\tlearn: 0.2084148\ttotal: 1.06s\tremaining: 218ms\n",
      "829:\tlearn: 0.2084048\ttotal: 1.06s\tremaining: 217ms\n",
      "830:\tlearn: 0.2083928\ttotal: 1.06s\tremaining: 216ms\n",
      "831:\tlearn: 0.2083913\ttotal: 1.06s\tremaining: 215ms\n",
      "832:\tlearn: 0.2083845\ttotal: 1.06s\tremaining: 213ms\n",
      "833:\tlearn: 0.2083643\ttotal: 1.07s\tremaining: 212ms\n",
      "834:\tlearn: 0.2083586\ttotal: 1.07s\tremaining: 211ms\n",
      "835:\tlearn: 0.2083485\ttotal: 1.07s\tremaining: 210ms\n",
      "836:\tlearn: 0.2083359\ttotal: 1.07s\tremaining: 208ms\n",
      "837:\tlearn: 0.2083319\ttotal: 1.07s\tremaining: 207ms\n",
      "838:\tlearn: 0.2083278\ttotal: 1.07s\tremaining: 206ms\n",
      "839:\tlearn: 0.2083096\ttotal: 1.07s\tremaining: 204ms\n",
      "840:\tlearn: 0.2082960\ttotal: 1.07s\tremaining: 203ms\n",
      "841:\tlearn: 0.2082809\ttotal: 1.07s\tremaining: 202ms\n",
      "842:\tlearn: 0.2082666\ttotal: 1.08s\tremaining: 201ms\n",
      "843:\tlearn: 0.2082525\ttotal: 1.08s\tremaining: 199ms\n",
      "844:\tlearn: 0.2082408\ttotal: 1.08s\tremaining: 198ms\n",
      "845:\tlearn: 0.2082333\ttotal: 1.08s\tremaining: 197ms\n",
      "846:\tlearn: 0.2082263\ttotal: 1.08s\tremaining: 195ms\n",
      "847:\tlearn: 0.2082159\ttotal: 1.08s\tremaining: 194ms\n",
      "848:\tlearn: 0.2082146\ttotal: 1.08s\tremaining: 193ms\n",
      "849:\tlearn: 0.2081909\ttotal: 1.09s\tremaining: 192ms\n",
      "850:\tlearn: 0.2081842\ttotal: 1.09s\tremaining: 191ms\n",
      "851:\tlearn: 0.2081793\ttotal: 1.09s\tremaining: 189ms\n",
      "852:\tlearn: 0.2081736\ttotal: 1.09s\tremaining: 188ms\n",
      "853:\tlearn: 0.2081659\ttotal: 1.09s\tremaining: 187ms\n",
      "854:\tlearn: 0.2081534\ttotal: 1.09s\tremaining: 185ms\n",
      "855:\tlearn: 0.2081452\ttotal: 1.09s\tremaining: 184ms\n",
      "856:\tlearn: 0.2081264\ttotal: 1.1s\tremaining: 183ms\n",
      "857:\tlearn: 0.2081118\ttotal: 1.1s\tremaining: 182ms\n",
      "858:\tlearn: 0.2080803\ttotal: 1.1s\tremaining: 180ms\n",
      "859:\tlearn: 0.2080681\ttotal: 1.1s\tremaining: 179ms\n",
      "860:\tlearn: 0.2080538\ttotal: 1.1s\tremaining: 178ms\n",
      "861:\tlearn: 0.2080412\ttotal: 1.1s\tremaining: 176ms\n",
      "862:\tlearn: 0.2080276\ttotal: 1.1s\tremaining: 175ms\n",
      "863:\tlearn: 0.2080064\ttotal: 1.1s\tremaining: 174ms\n",
      "864:\tlearn: 0.2079898\ttotal: 1.1s\tremaining: 172ms\n",
      "865:\tlearn: 0.2079821\ttotal: 1.11s\tremaining: 171ms\n",
      "866:\tlearn: 0.2079610\ttotal: 1.11s\tremaining: 170ms\n",
      "867:\tlearn: 0.2079536\ttotal: 1.11s\tremaining: 169ms\n",
      "868:\tlearn: 0.2079476\ttotal: 1.11s\tremaining: 167ms\n",
      "869:\tlearn: 0.2079319\ttotal: 1.11s\tremaining: 166ms\n",
      "870:\tlearn: 0.2079173\ttotal: 1.11s\tremaining: 165ms\n",
      "871:\tlearn: 0.2078987\ttotal: 1.11s\tremaining: 164ms\n",
      "872:\tlearn: 0.2078898\ttotal: 1.11s\tremaining: 162ms\n",
      "873:\tlearn: 0.2078681\ttotal: 1.12s\tremaining: 161ms\n",
      "874:\tlearn: 0.2078562\ttotal: 1.12s\tremaining: 160ms\n",
      "875:\tlearn: 0.2078514\ttotal: 1.12s\tremaining: 158ms\n",
      "876:\tlearn: 0.2078392\ttotal: 1.12s\tremaining: 157ms\n",
      "877:\tlearn: 0.2078303\ttotal: 1.12s\tremaining: 156ms\n",
      "878:\tlearn: 0.2078289\ttotal: 1.12s\tremaining: 155ms\n",
      "879:\tlearn: 0.2078244\ttotal: 1.12s\tremaining: 153ms\n",
      "880:\tlearn: 0.2078142\ttotal: 1.13s\tremaining: 152ms\n",
      "881:\tlearn: 0.2078073\ttotal: 1.13s\tremaining: 151ms\n",
      "882:\tlearn: 0.2077906\ttotal: 1.13s\tremaining: 150ms\n",
      "883:\tlearn: 0.2077895\ttotal: 1.13s\tremaining: 148ms\n",
      "884:\tlearn: 0.2077849\ttotal: 1.13s\tremaining: 147ms\n",
      "885:\tlearn: 0.2077706\ttotal: 1.13s\tremaining: 146ms\n",
      "886:\tlearn: 0.2077567\ttotal: 1.13s\tremaining: 145ms\n",
      "887:\tlearn: 0.2077518\ttotal: 1.14s\tremaining: 143ms\n",
      "888:\tlearn: 0.2077422\ttotal: 1.14s\tremaining: 142ms\n",
      "889:\tlearn: 0.2077304\ttotal: 1.14s\tremaining: 141ms\n",
      "890:\tlearn: 0.2077182\ttotal: 1.14s\tremaining: 139ms\n",
      "891:\tlearn: 0.2077032\ttotal: 1.14s\tremaining: 138ms\n",
      "892:\tlearn: 0.2076982\ttotal: 1.14s\tremaining: 137ms\n",
      "893:\tlearn: 0.2076870\ttotal: 1.14s\tremaining: 136ms\n",
      "894:\tlearn: 0.2076714\ttotal: 1.14s\tremaining: 134ms\n",
      "895:\tlearn: 0.2076596\ttotal: 1.15s\tremaining: 133ms\n",
      "896:\tlearn: 0.2076490\ttotal: 1.15s\tremaining: 132ms\n",
      "897:\tlearn: 0.2076457\ttotal: 1.15s\tremaining: 130ms\n",
      "898:\tlearn: 0.2076401\ttotal: 1.15s\tremaining: 129ms\n",
      "899:\tlearn: 0.2076262\ttotal: 1.15s\tremaining: 128ms\n",
      "900:\tlearn: 0.2076197\ttotal: 1.15s\tremaining: 127ms\n",
      "901:\tlearn: 0.2076130\ttotal: 1.15s\tremaining: 125ms\n",
      "902:\tlearn: 0.2076061\ttotal: 1.16s\tremaining: 124ms\n",
      "903:\tlearn: 0.2076037\ttotal: 1.16s\tremaining: 123ms\n",
      "904:\tlearn: 0.2075948\ttotal: 1.16s\tremaining: 122ms\n",
      "905:\tlearn: 0.2075780\ttotal: 1.16s\tremaining: 120ms\n",
      "906:\tlearn: 0.2075692\ttotal: 1.16s\tremaining: 119ms\n",
      "907:\tlearn: 0.2075508\ttotal: 1.16s\tremaining: 118ms\n",
      "908:\tlearn: 0.2075387\ttotal: 1.16s\tremaining: 116ms\n",
      "909:\tlearn: 0.2075304\ttotal: 1.16s\tremaining: 115ms\n",
      "910:\tlearn: 0.2075238\ttotal: 1.17s\tremaining: 114ms\n",
      "911:\tlearn: 0.2075161\ttotal: 1.17s\tremaining: 113ms\n",
      "912:\tlearn: 0.2075083\ttotal: 1.17s\tremaining: 111ms\n",
      "913:\tlearn: 0.2074997\ttotal: 1.17s\tremaining: 110ms\n",
      "914:\tlearn: 0.2074908\ttotal: 1.17s\tremaining: 109ms\n",
      "915:\tlearn: 0.2074845\ttotal: 1.17s\tremaining: 107ms\n",
      "916:\tlearn: 0.2074729\ttotal: 1.17s\tremaining: 106ms\n",
      "917:\tlearn: 0.2074615\ttotal: 1.17s\tremaining: 105ms\n",
      "918:\tlearn: 0.2074483\ttotal: 1.18s\tremaining: 104ms\n",
      "919:\tlearn: 0.2074363\ttotal: 1.18s\tremaining: 102ms\n",
      "920:\tlearn: 0.2074244\ttotal: 1.18s\tremaining: 101ms\n",
      "921:\tlearn: 0.2074156\ttotal: 1.18s\tremaining: 99.8ms\n",
      "922:\tlearn: 0.2074123\ttotal: 1.18s\tremaining: 98.5ms\n",
      "923:\tlearn: 0.2074067\ttotal: 1.18s\tremaining: 97.2ms\n",
      "924:\tlearn: 0.2073957\ttotal: 1.18s\tremaining: 95.9ms\n",
      "925:\tlearn: 0.2073830\ttotal: 1.18s\tremaining: 94.7ms\n",
      "926:\tlearn: 0.2073636\ttotal: 1.19s\tremaining: 93.4ms\n",
      "927:\tlearn: 0.2073607\ttotal: 1.19s\tremaining: 92.1ms\n",
      "928:\tlearn: 0.2073582\ttotal: 1.19s\tremaining: 90.8ms\n",
      "929:\tlearn: 0.2073467\ttotal: 1.19s\tremaining: 89.6ms\n",
      "930:\tlearn: 0.2073246\ttotal: 1.19s\tremaining: 88.3ms\n",
      "931:\tlearn: 0.2073123\ttotal: 1.19s\tremaining: 87ms\n",
      "932:\tlearn: 0.2072928\ttotal: 1.19s\tremaining: 85.7ms\n",
      "933:\tlearn: 0.2072852\ttotal: 1.2s\tremaining: 84.5ms\n",
      "934:\tlearn: 0.2072778\ttotal: 1.2s\tremaining: 83.2ms\n",
      "935:\tlearn: 0.2072748\ttotal: 1.2s\tremaining: 81.9ms\n",
      "936:\tlearn: 0.2072708\ttotal: 1.2s\tremaining: 80.6ms\n",
      "937:\tlearn: 0.2072566\ttotal: 1.2s\tremaining: 79.3ms\n",
      "938:\tlearn: 0.2072541\ttotal: 1.2s\tremaining: 78.1ms\n",
      "939:\tlearn: 0.2072389\ttotal: 1.2s\tremaining: 76.8ms\n",
      "940:\tlearn: 0.2072240\ttotal: 1.2s\tremaining: 75.5ms\n",
      "941:\tlearn: 0.2072141\ttotal: 1.21s\tremaining: 74.2ms\n",
      "942:\tlearn: 0.2072070\ttotal: 1.21s\tremaining: 73ms\n",
      "943:\tlearn: 0.2072014\ttotal: 1.21s\tremaining: 71.7ms\n",
      "944:\tlearn: 0.2071986\ttotal: 1.21s\tremaining: 70.4ms\n",
      "945:\tlearn: 0.2071821\ttotal: 1.21s\tremaining: 69.1ms\n",
      "946:\tlearn: 0.2071659\ttotal: 1.21s\tremaining: 67.8ms\n",
      "947:\tlearn: 0.2071625\ttotal: 1.21s\tremaining: 66.6ms\n",
      "948:\tlearn: 0.2071540\ttotal: 1.21s\tremaining: 65.3ms\n",
      "949:\tlearn: 0.2071479\ttotal: 1.22s\tremaining: 64ms\n",
      "950:\tlearn: 0.2071383\ttotal: 1.22s\tremaining: 62.7ms\n",
      "951:\tlearn: 0.2071360\ttotal: 1.22s\tremaining: 61.5ms\n",
      "952:\tlearn: 0.2071267\ttotal: 1.22s\tremaining: 60.2ms\n",
      "953:\tlearn: 0.2071161\ttotal: 1.22s\tremaining: 58.9ms\n",
      "954:\tlearn: 0.2071060\ttotal: 1.22s\tremaining: 57.6ms\n",
      "955:\tlearn: 0.2070961\ttotal: 1.22s\tremaining: 56.3ms\n",
      "956:\tlearn: 0.2070856\ttotal: 1.23s\tremaining: 55.1ms\n",
      "957:\tlearn: 0.2070808\ttotal: 1.23s\tremaining: 53.8ms\n",
      "958:\tlearn: 0.2070726\ttotal: 1.23s\tremaining: 52.5ms\n",
      "959:\tlearn: 0.2070576\ttotal: 1.23s\tremaining: 51.2ms\n",
      "960:\tlearn: 0.2070385\ttotal: 1.23s\tremaining: 49.9ms\n",
      "961:\tlearn: 0.2070289\ttotal: 1.23s\tremaining: 48.7ms\n",
      "962:\tlearn: 0.2070206\ttotal: 1.23s\tremaining: 47.4ms\n",
      "963:\tlearn: 0.2070106\ttotal: 1.23s\tremaining: 46.1ms\n",
      "964:\tlearn: 0.2070085\ttotal: 1.24s\tremaining: 44.8ms\n",
      "965:\tlearn: 0.2069998\ttotal: 1.24s\tremaining: 43.5ms\n",
      "966:\tlearn: 0.2069928\ttotal: 1.24s\tremaining: 42.3ms\n",
      "967:\tlearn: 0.2069892\ttotal: 1.24s\tremaining: 41ms\n",
      "968:\tlearn: 0.2069828\ttotal: 1.24s\tremaining: 39.7ms\n",
      "969:\tlearn: 0.2069662\ttotal: 1.24s\tremaining: 38.4ms\n",
      "970:\tlearn: 0.2069533\ttotal: 1.24s\tremaining: 37.1ms\n",
      "971:\tlearn: 0.2069410\ttotal: 1.25s\tremaining: 35.9ms\n",
      "972:\tlearn: 0.2069293\ttotal: 1.25s\tremaining: 34.6ms\n",
      "973:\tlearn: 0.2069135\ttotal: 1.25s\tremaining: 33.3ms\n",
      "974:\tlearn: 0.2068956\ttotal: 1.25s\tremaining: 32ms\n",
      "975:\tlearn: 0.2068881\ttotal: 1.25s\tremaining: 30.8ms\n",
      "976:\tlearn: 0.2068778\ttotal: 1.25s\tremaining: 29.5ms\n",
      "977:\tlearn: 0.2068628\ttotal: 1.25s\tremaining: 28.2ms\n",
      "978:\tlearn: 0.2068535\ttotal: 1.25s\tremaining: 26.9ms\n",
      "979:\tlearn: 0.2068395\ttotal: 1.26s\tremaining: 25.6ms\n",
      "980:\tlearn: 0.2068249\ttotal: 1.26s\tremaining: 24.4ms\n",
      "981:\tlearn: 0.2068143\ttotal: 1.26s\tremaining: 23.1ms\n",
      "982:\tlearn: 0.2068110\ttotal: 1.26s\tremaining: 21.8ms\n",
      "983:\tlearn: 0.2067991\ttotal: 1.26s\tremaining: 20.5ms\n",
      "984:\tlearn: 0.2067963\ttotal: 1.26s\tremaining: 19.2ms\n",
      "985:\tlearn: 0.2067793\ttotal: 1.26s\tremaining: 17.9ms\n",
      "986:\tlearn: 0.2067642\ttotal: 1.26s\tremaining: 16.7ms\n",
      "987:\tlearn: 0.2067630\ttotal: 1.27s\tremaining: 15.4ms\n",
      "988:\tlearn: 0.2067619\ttotal: 1.27s\tremaining: 14.1ms\n",
      "989:\tlearn: 0.2067580\ttotal: 1.27s\tremaining: 12.8ms\n",
      "990:\tlearn: 0.2067447\ttotal: 1.27s\tremaining: 11.5ms\n",
      "991:\tlearn: 0.2067368\ttotal: 1.27s\tremaining: 10.2ms\n",
      "992:\tlearn: 0.2067174\ttotal: 1.27s\tremaining: 8.97ms\n",
      "993:\tlearn: 0.2067091\ttotal: 1.27s\tremaining: 7.69ms\n",
      "994:\tlearn: 0.2066984\ttotal: 1.27s\tremaining: 6.41ms\n",
      "995:\tlearn: 0.2066920\ttotal: 1.28s\tremaining: 5.13ms\n",
      "996:\tlearn: 0.2066865\ttotal: 1.28s\tremaining: 3.84ms\n",
      "997:\tlearn: 0.2066780\ttotal: 1.28s\tremaining: 2.56ms\n",
      "998:\tlearn: 0.2066660\ttotal: 1.28s\tremaining: 1.28ms\n",
      "999:\tlearn: 0.2066523\ttotal: 1.28s\tremaining: 0us\n"
     ]
    },
    {
     "name": "stdout",
     "output_type": "stream",
     "text": [
      "Точность модели по метрике MAPE: 14.80%\n"
     ]
    }
   ],
   "source": [
    "# Изменим параметры\n",
    "estimators = [('etr', ExtraTreesRegressor(random_state = 42)),\n",
    "              ('rfr', RandomForestRegressor(random_state=42\n",
    "                      , n_estimators=400\n",
    "                      , min_samples_split=2\n",
    "                      , min_samples_leaf=2\n",
    "                      , max_features='sqrt'\n",
    "                      , max_depth=None\n",
    "                      , bootstrap=False))]\n",
    "\n",
    "st_ensemble_3 = StackingRegressor(estimators=estimators, \n",
    "                                  final_estimator=CatBoostRegressor())\n",
    "\n",
    "# оцениваем точность\n",
    "st_ensemble_3.fit(X_train, np.log(y_train))\n",
    "predict_ensemble_3 = np.exp(st_ensemble_3.predict(X_val))\n",
    "print(f\"Точность модели по метрике MAPE: {(mape(y_val, predict_ensemble_3))*100:0.2f}%\")"
   ]
  },
  {
   "cell_type": "code",
   "execution_count": 1458,
   "id": "eadbfa92",
   "metadata": {},
   "outputs": [
    {
     "name": "stdout",
     "output_type": "stream",
     "text": [
      "Точность модели по метрике MAPE: 15.96%\n"
     ]
    }
   ],
   "source": [
    "# Изменим параметры\n",
    "estimators = [('etr', ExtraTreesRegressor(random_state = 42)),\n",
    "              ('gbr', GradientBoostingRegressor(learning_rate=0.1, \n",
    "                                   n_estimators=2000,\n",
    "                                   max_depth=5, \n",
    "                                   min_samples_split=2, \n",
    "                                   min_samples_leaf=1, \n",
    "                                   subsample=1,\n",
    "                                   random_state=42,\n",
    "                                   max_features=None))]\n",
    "\n",
    "st_ensemble_4 = StackingRegressor(estimators=estimators, \n",
    "                                  final_estimator=RandomForestRegressor())\n",
    "\n",
    "# оцениваем точность\n",
    "st_ensemble_4.fit(X_train, np.log(y_train))\n",
    "predict_ensemble_4 = np.exp(st_ensemble_4.predict(X_val))\n",
    "print(f\"Точность модели по метрике MAPE: {(mape(y_val, predict_ensemble_4))*100:0.2f}%\")"
   ]
  },
  {
   "cell_type": "markdown",
   "id": "cb7c64db",
   "metadata": {},
   "source": [
    "## Обработка тестовых данных и предсказание для соревнования"
   ]
  },
  {
   "cell_type": "code",
   "execution_count": 1854,
   "id": "016a3ff9",
   "metadata": {},
   "outputs": [],
   "source": [
    "# Стандартизируем\n",
    "# scaler = StandardScaler()\n",
    "# X_test[:,:len(num_cols)] = scaler.fit_transform(X_test[:,:len(num_cols)]) "
   ]
  },
  {
   "cell_type": "code",
   "execution_count": 1695,
   "id": "107198c8",
   "metadata": {},
   "outputs": [
    {
     "name": "stdout",
     "output_type": "stream",
     "text": [
      "Точность модели по метрике MAPE: 14.48%\n"
     ]
    }
   ],
   "source": [
    "# Выберем модель \n",
    "estimators = [('rfr', RandomForestRegressor(random_state=42\n",
    "                      , n_estimators=400\n",
    "                      , min_samples_split=2\n",
    "                      , min_samples_leaf=2\n",
    "                      , max_features='sqrt'\n",
    "                      , max_depth=None\n",
    "                      , bootstrap=False)),\n",
    "              ('etr', ExtraTreesRegressor(random_state = 42))]\n",
    "\n",
    "st_ensemble_1 = StackingRegressor(estimators=estimators, \n",
    "                                  final_estimator=LinearRegression())\n",
    "\n",
    "# оцениваем точность\n",
    "st_ensemble_1.fit(X_train, np.log(y_train))\n",
    "predict_ensemble_1 = np.exp(st_ensemble_1.predict(X_val))\n",
    "print(f\"Точность модели по метрике MAPE: {(mape(y_val, predict_ensemble_1))*100:0.2f}%\")"
   ]
  },
  {
   "cell_type": "code",
   "execution_count": 1470,
   "id": "614f0741",
   "metadata": {},
   "outputs": [],
   "source": [
    "predict_ensemble_1_test = np.exp(st_ensemble_1.predict(X_test))"
   ]
  },
  {
   "cell_type": "code",
   "execution_count": 1471,
   "id": "b882d16e",
   "metadata": {},
   "outputs": [
    {
     "data": {
      "text/plain": [
       "array([1838498.1044213 , 3649872.2426403 , 2447855.6781209 , ...,\n",
       "        705179.17570418, 3534360.78111441, 1373474.53091444])"
      ]
     },
     "execution_count": 1471,
     "metadata": {},
     "output_type": "execute_result"
    }
   ],
   "source": [
    "predict_ensemble_1_test"
   ]
  },
  {
   "cell_type": "code",
   "execution_count": 114,
   "id": "da01a520",
   "metadata": {},
   "outputs": [],
   "source": [
    "sample_submission = pd.read_csv('sample_submission.csv')"
   ]
  },
  {
   "cell_type": "code",
   "execution_count": 1483,
   "id": "39d4ea12",
   "metadata": {},
   "outputs": [
    {
     "data": {
      "text/html": [
       "<div>\n",
       "<style scoped>\n",
       "    .dataframe tbody tr th:only-of-type {\n",
       "        vertical-align: middle;\n",
       "    }\n",
       "\n",
       "    .dataframe tbody tr th {\n",
       "        vertical-align: top;\n",
       "    }\n",
       "\n",
       "    .dataframe thead th {\n",
       "        text-align: right;\n",
       "    }\n",
       "</style>\n",
       "<table border=\"1\" class=\"dataframe\">\n",
       "  <thead>\n",
       "    <tr style=\"text-align: right;\">\n",
       "      <th></th>\n",
       "      <th>sell_id</th>\n",
       "      <th>price</th>\n",
       "    </tr>\n",
       "  </thead>\n",
       "  <tbody>\n",
       "    <tr>\n",
       "      <th>0</th>\n",
       "      <td>1100575026</td>\n",
       "      <td>1838498.0</td>\n",
       "    </tr>\n",
       "    <tr>\n",
       "      <th>1</th>\n",
       "      <td>1100549428</td>\n",
       "      <td>3649872.0</td>\n",
       "    </tr>\n",
       "    <tr>\n",
       "      <th>2</th>\n",
       "      <td>1100658222</td>\n",
       "      <td>2447856.0</td>\n",
       "    </tr>\n",
       "    <tr>\n",
       "      <th>3</th>\n",
       "      <td>1100937408</td>\n",
       "      <td>2341252.0</td>\n",
       "    </tr>\n",
       "    <tr>\n",
       "      <th>4</th>\n",
       "      <td>1101037972</td>\n",
       "      <td>2292653.0</td>\n",
       "    </tr>\n",
       "  </tbody>\n",
       "</table>\n",
       "</div>"
      ],
      "text/plain": [
       "      sell_id      price\n",
       "0  1100575026  1838498.0\n",
       "1  1100549428  3649872.0\n",
       "2  1100658222  2447856.0\n",
       "3  1100937408  2341252.0\n",
       "4  1101037972  2292653.0"
      ]
     },
     "execution_count": 1483,
     "metadata": {},
     "output_type": "execute_result"
    }
   ],
   "source": [
    "predict_submission = predict_ensemble_1_test\n",
    "VERSION = 1\n",
    "sample_submission['price'] = np.round(predict_submission)\n",
    "sample_submission.to_csv(f'submission_2_v{VERSION}.csv', index=False)\n",
    "sample_submission.head()"
   ]
  },
  {
   "cell_type": "code",
   "execution_count": 1479,
   "id": "40e11127",
   "metadata": {},
   "outputs": [],
   "source": [
    "# Предсказываем\n",
    "y_pred_cbl = cbl.predict(X_test)"
   ]
  },
  {
   "cell_type": "code",
   "execution_count": 1480,
   "id": "efd91b98",
   "metadata": {},
   "outputs": [
    {
     "data": {
      "text/plain": [
       "array([4191572.36877455, 7753749.93326294, 4799505.86116576, ...,\n",
       "       3006166.39157851, 5463858.68512894, 3294453.06356319])"
      ]
     },
     "execution_count": 1480,
     "metadata": {},
     "output_type": "execute_result"
    }
   ],
   "source": [
    "y_pred_cbl"
   ]
  },
  {
   "cell_type": "code",
   "execution_count": 1482,
   "id": "d004e9ee",
   "metadata": {},
   "outputs": [
    {
     "data": {
      "text/html": [
       "<div>\n",
       "<style scoped>\n",
       "    .dataframe tbody tr th:only-of-type {\n",
       "        vertical-align: middle;\n",
       "    }\n",
       "\n",
       "    .dataframe tbody tr th {\n",
       "        vertical-align: top;\n",
       "    }\n",
       "\n",
       "    .dataframe thead th {\n",
       "        text-align: right;\n",
       "    }\n",
       "</style>\n",
       "<table border=\"1\" class=\"dataframe\">\n",
       "  <thead>\n",
       "    <tr style=\"text-align: right;\">\n",
       "      <th></th>\n",
       "      <th>sell_id</th>\n",
       "      <th>price</th>\n",
       "    </tr>\n",
       "  </thead>\n",
       "  <tbody>\n",
       "    <tr>\n",
       "      <th>0</th>\n",
       "      <td>1100575026</td>\n",
       "      <td>4191572.0</td>\n",
       "    </tr>\n",
       "    <tr>\n",
       "      <th>1</th>\n",
       "      <td>1100549428</td>\n",
       "      <td>7753750.0</td>\n",
       "    </tr>\n",
       "    <tr>\n",
       "      <th>2</th>\n",
       "      <td>1100658222</td>\n",
       "      <td>4799506.0</td>\n",
       "    </tr>\n",
       "    <tr>\n",
       "      <th>3</th>\n",
       "      <td>1100937408</td>\n",
       "      <td>4046016.0</td>\n",
       "    </tr>\n",
       "    <tr>\n",
       "      <th>4</th>\n",
       "      <td>1101037972</td>\n",
       "      <td>4130900.0</td>\n",
       "    </tr>\n",
       "  </tbody>\n",
       "</table>\n",
       "</div>"
      ],
      "text/plain": [
       "      sell_id      price\n",
       "0  1100575026  4191572.0\n",
       "1  1100549428  7753750.0\n",
       "2  1100658222  4799506.0\n",
       "3  1100937408  4046016.0\n",
       "4  1101037972  4130900.0"
      ]
     },
     "execution_count": 1482,
     "metadata": {},
     "output_type": "execute_result"
    }
   ],
   "source": [
    "predict_submission = y_pred_cbl\n",
    "VERSION = 2\n",
    "sample_submission['price'] = np.round(predict_submission)\n",
    "sample_submission.to_csv(f'submission_2_v{VERSION}.csv', index=False)\n",
    "sample_submission.head()"
   ]
  },
  {
   "cell_type": "code",
   "execution_count": 1484,
   "id": "99aba39d",
   "metadata": {},
   "outputs": [
    {
     "name": "stderr",
     "output_type": "stream",
     "text": [
      "[Parallel(n_jobs=16)]: Using backend ThreadingBackend with 16 concurrent workers.\n",
      "[Parallel(n_jobs=16)]: Done  18 tasks      | elapsed:    0.0s\n",
      "[Parallel(n_jobs=16)]: Done 168 tasks      | elapsed:    0.0s\n",
      "[Parallel(n_jobs=16)]: Done 400 out of 400 | elapsed:    0.1s finished\n"
     ]
    },
    {
     "data": {
      "text/html": [
       "<div>\n",
       "<style scoped>\n",
       "    .dataframe tbody tr th:only-of-type {\n",
       "        vertical-align: middle;\n",
       "    }\n",
       "\n",
       "    .dataframe tbody tr th {\n",
       "        vertical-align: top;\n",
       "    }\n",
       "\n",
       "    .dataframe thead th {\n",
       "        text-align: right;\n",
       "    }\n",
       "</style>\n",
       "<table border=\"1\" class=\"dataframe\">\n",
       "  <thead>\n",
       "    <tr style=\"text-align: right;\">\n",
       "      <th></th>\n",
       "      <th>sell_id</th>\n",
       "      <th>price</th>\n",
       "    </tr>\n",
       "  </thead>\n",
       "  <tbody>\n",
       "    <tr>\n",
       "      <th>0</th>\n",
       "      <td>1100575026</td>\n",
       "      <td>3446218.0</td>\n",
       "    </tr>\n",
       "    <tr>\n",
       "      <th>1</th>\n",
       "      <td>1100549428</td>\n",
       "      <td>7787187.0</td>\n",
       "    </tr>\n",
       "    <tr>\n",
       "      <th>2</th>\n",
       "      <td>1100658222</td>\n",
       "      <td>5246374.0</td>\n",
       "    </tr>\n",
       "    <tr>\n",
       "      <th>3</th>\n",
       "      <td>1100937408</td>\n",
       "      <td>4179546.0</td>\n",
       "    </tr>\n",
       "    <tr>\n",
       "      <th>4</th>\n",
       "      <td>1101037972</td>\n",
       "      <td>5050240.0</td>\n",
       "    </tr>\n",
       "  </tbody>\n",
       "</table>\n",
       "</div>"
      ],
      "text/plain": [
       "      sell_id      price\n",
       "0  1100575026  3446218.0\n",
       "1  1100549428  7787187.0\n",
       "2  1100658222  5246374.0\n",
       "3  1100937408  4179546.0\n",
       "4  1101037972  5050240.0"
      ]
     },
     "execution_count": 1484,
     "metadata": {},
     "output_type": "execute_result"
    }
   ],
   "source": [
    "predict_submission = rf.predict(X_test)\n",
    "VERSION = 3\n",
    "sample_submission['price'] = np.round(predict_submission)\n",
    "sample_submission.to_csv(f'submission_2_v{VERSION}.csv', index=False)\n",
    "sample_submission.head()"
   ]
  },
  {
   "cell_type": "code",
   "execution_count": 1486,
   "id": "618364cf",
   "metadata": {},
   "outputs": [
    {
     "name": "stderr",
     "output_type": "stream",
     "text": [
      "[Parallel(n_jobs=16)]: Using backend ThreadingBackend with 16 concurrent workers.\n",
      "[Parallel(n_jobs=16)]: Done  18 tasks      | elapsed:    0.0s\n",
      "[Parallel(n_jobs=16)]: Done 168 tasks      | elapsed:    0.0s\n",
      "[Parallel(n_jobs=16)]: Done 400 out of 400 | elapsed:    0.1s finished\n"
     ]
    },
    {
     "data": {
      "text/html": [
       "<div>\n",
       "<style scoped>\n",
       "    .dataframe tbody tr th:only-of-type {\n",
       "        vertical-align: middle;\n",
       "    }\n",
       "\n",
       "    .dataframe tbody tr th {\n",
       "        vertical-align: top;\n",
       "    }\n",
       "\n",
       "    .dataframe thead th {\n",
       "        text-align: right;\n",
       "    }\n",
       "</style>\n",
       "<table border=\"1\" class=\"dataframe\">\n",
       "  <thead>\n",
       "    <tr style=\"text-align: right;\">\n",
       "      <th></th>\n",
       "      <th>sell_id</th>\n",
       "      <th>price</th>\n",
       "    </tr>\n",
       "  </thead>\n",
       "  <tbody>\n",
       "    <tr>\n",
       "      <th>0</th>\n",
       "      <td>1100575026</td>\n",
       "      <td>6824496.0</td>\n",
       "    </tr>\n",
       "    <tr>\n",
       "      <th>1</th>\n",
       "      <td>1100549428</td>\n",
       "      <td>6794423.0</td>\n",
       "    </tr>\n",
       "    <tr>\n",
       "      <th>2</th>\n",
       "      <td>1100658222</td>\n",
       "      <td>6861552.0</td>\n",
       "    </tr>\n",
       "    <tr>\n",
       "      <th>3</th>\n",
       "      <td>1100937408</td>\n",
       "      <td>6177236.0</td>\n",
       "    </tr>\n",
       "    <tr>\n",
       "      <th>4</th>\n",
       "      <td>1101037972</td>\n",
       "      <td>6205969.0</td>\n",
       "    </tr>\n",
       "  </tbody>\n",
       "</table>\n",
       "</div>"
      ],
      "text/plain": [
       "      sell_id      price\n",
       "0  1100575026  6824496.0\n",
       "1  1100549428  6794423.0\n",
       "2  1100658222  6861552.0\n",
       "3  1100937408  6177236.0\n",
       "4  1101037972  6205969.0"
      ]
     },
     "execution_count": 1486,
     "metadata": {},
     "output_type": "execute_result"
    }
   ],
   "source": [
    "predict_submission = rf.predict(X_test)\n",
    "VERSION = 4\n",
    "sample_submission['price'] = np.round(predict_submission)\n",
    "sample_submission.to_csv(f'submission_2_v{VERSION}.csv', index=False)\n",
    "sample_submission.head()"
   ]
  },
  {
   "cell_type": "code",
   "execution_count": 1487,
   "id": "d70516d8",
   "metadata": {},
   "outputs": [
    {
     "data": {
      "text/html": [
       "<div>\n",
       "<style scoped>\n",
       "    .dataframe tbody tr th:only-of-type {\n",
       "        vertical-align: middle;\n",
       "    }\n",
       "\n",
       "    .dataframe tbody tr th {\n",
       "        vertical-align: top;\n",
       "    }\n",
       "\n",
       "    .dataframe thead th {\n",
       "        text-align: right;\n",
       "    }\n",
       "</style>\n",
       "<table border=\"1\" class=\"dataframe\">\n",
       "  <thead>\n",
       "    <tr style=\"text-align: right;\">\n",
       "      <th></th>\n",
       "      <th>sell_id</th>\n",
       "      <th>price</th>\n",
       "    </tr>\n",
       "  </thead>\n",
       "  <tbody>\n",
       "    <tr>\n",
       "      <th>0</th>\n",
       "      <td>1100575026</td>\n",
       "      <td>4191572.0</td>\n",
       "    </tr>\n",
       "    <tr>\n",
       "      <th>1</th>\n",
       "      <td>1100549428</td>\n",
       "      <td>7753750.0</td>\n",
       "    </tr>\n",
       "    <tr>\n",
       "      <th>2</th>\n",
       "      <td>1100658222</td>\n",
       "      <td>4799506.0</td>\n",
       "    </tr>\n",
       "    <tr>\n",
       "      <th>3</th>\n",
       "      <td>1100937408</td>\n",
       "      <td>4046016.0</td>\n",
       "    </tr>\n",
       "    <tr>\n",
       "      <th>4</th>\n",
       "      <td>1101037972</td>\n",
       "      <td>4130900.0</td>\n",
       "    </tr>\n",
       "  </tbody>\n",
       "</table>\n",
       "</div>"
      ],
      "text/plain": [
       "      sell_id      price\n",
       "0  1100575026  4191572.0\n",
       "1  1100549428  7753750.0\n",
       "2  1100658222  4799506.0\n",
       "3  1100937408  4046016.0\n",
       "4  1101037972  4130900.0"
      ]
     },
     "execution_count": 1487,
     "metadata": {},
     "output_type": "execute_result"
    }
   ],
   "source": [
    "predict_submission = y_pred_cbl\n",
    "VERSION = 5\n",
    "sample_submission['price'] = np.round(predict_submission)\n",
    "sample_submission.to_csv(f'submission_2_v{VERSION}.csv', index=False)\n",
    "sample_submission.head()"
   ]
  },
  {
   "cell_type": "code",
   "execution_count": 1718,
   "id": "2aeb649c",
   "metadata": {},
   "outputs": [
    {
     "name": "stderr",
     "output_type": "stream",
     "text": [
      "[Parallel(n_jobs=16)]: Using backend ThreadingBackend with 16 concurrent workers.\n",
      "[Parallel(n_jobs=16)]: Done  18 tasks      | elapsed:    0.0s\n",
      "[Parallel(n_jobs=16)]: Done 168 tasks      | elapsed:    0.1s\n",
      "[Parallel(n_jobs=16)]: Done 400 out of 400 | elapsed:    0.2s finished\n"
     ]
    },
    {
     "data": {
      "text/html": [
       "<div>\n",
       "<style scoped>\n",
       "    .dataframe tbody tr th:only-of-type {\n",
       "        vertical-align: middle;\n",
       "    }\n",
       "\n",
       "    .dataframe tbody tr th {\n",
       "        vertical-align: top;\n",
       "    }\n",
       "\n",
       "    .dataframe thead th {\n",
       "        text-align: right;\n",
       "    }\n",
       "</style>\n",
       "<table border=\"1\" class=\"dataframe\">\n",
       "  <thead>\n",
       "    <tr style=\"text-align: right;\">\n",
       "      <th></th>\n",
       "      <th>sell_id</th>\n",
       "      <th>price</th>\n",
       "    </tr>\n",
       "  </thead>\n",
       "  <tbody>\n",
       "    <tr>\n",
       "      <th>0</th>\n",
       "      <td>1100575026</td>\n",
       "      <td>812950.0</td>\n",
       "    </tr>\n",
       "    <tr>\n",
       "      <th>1</th>\n",
       "      <td>1100549428</td>\n",
       "      <td>1215434.0</td>\n",
       "    </tr>\n",
       "    <tr>\n",
       "      <th>2</th>\n",
       "      <td>1100658222</td>\n",
       "      <td>1124597.0</td>\n",
       "    </tr>\n",
       "    <tr>\n",
       "      <th>3</th>\n",
       "      <td>1100937408</td>\n",
       "      <td>876585.0</td>\n",
       "    </tr>\n",
       "    <tr>\n",
       "      <th>4</th>\n",
       "      <td>1101037972</td>\n",
       "      <td>912686.0</td>\n",
       "    </tr>\n",
       "  </tbody>\n",
       "</table>\n",
       "</div>"
      ],
      "text/plain": [
       "      sell_id      price\n",
       "0  1100575026   812950.0\n",
       "1  1100549428  1215434.0\n",
       "2  1100658222  1124597.0\n",
       "3  1100937408   876585.0\n",
       "4  1101037972   912686.0"
      ]
     },
     "execution_count": 1718,
     "metadata": {},
     "output_type": "execute_result"
    }
   ],
   "source": [
    "predict_submission = rf.predict(X_test)\n",
    "VERSION = 6\n",
    "sample_submission['price'] = np.round(predict_submission)\n",
    "sample_submission.to_csv(f'submission_2_v{VERSION}.csv', index=False)\n",
    "sample_submission.head()"
   ]
  },
  {
   "cell_type": "code",
   "execution_count": 1982,
   "id": "f0fe8de0",
   "metadata": {},
   "outputs": [
    {
     "data": {
      "text/html": [
       "<div>\n",
       "<style scoped>\n",
       "    .dataframe tbody tr th:only-of-type {\n",
       "        vertical-align: middle;\n",
       "    }\n",
       "\n",
       "    .dataframe tbody tr th {\n",
       "        vertical-align: top;\n",
       "    }\n",
       "\n",
       "    .dataframe thead th {\n",
       "        text-align: right;\n",
       "    }\n",
       "</style>\n",
       "<table border=\"1\" class=\"dataframe\">\n",
       "  <thead>\n",
       "    <tr style=\"text-align: right;\">\n",
       "      <th></th>\n",
       "      <th>sell_id</th>\n",
       "      <th>price</th>\n",
       "    </tr>\n",
       "  </thead>\n",
       "  <tbody>\n",
       "    <tr>\n",
       "      <th>0</th>\n",
       "      <td>1100575026</td>\n",
       "      <td>806369.0</td>\n",
       "    </tr>\n",
       "    <tr>\n",
       "      <th>1</th>\n",
       "      <td>1100549428</td>\n",
       "      <td>1223249.0</td>\n",
       "    </tr>\n",
       "    <tr>\n",
       "      <th>2</th>\n",
       "      <td>1100658222</td>\n",
       "      <td>1135120.0</td>\n",
       "    </tr>\n",
       "    <tr>\n",
       "      <th>3</th>\n",
       "      <td>1100937408</td>\n",
       "      <td>907200.0</td>\n",
       "    </tr>\n",
       "    <tr>\n",
       "      <th>4</th>\n",
       "      <td>1101037972</td>\n",
       "      <td>919391.0</td>\n",
       "    </tr>\n",
       "  </tbody>\n",
       "</table>\n",
       "</div>"
      ],
      "text/plain": [
       "      sell_id      price\n",
       "0  1100575026   806369.0\n",
       "1  1100549428  1223249.0\n",
       "2  1100658222  1135120.0\n",
       "3  1100937408   907200.0\n",
       "4  1101037972   919391.0"
      ]
     },
     "execution_count": 1982,
     "metadata": {},
     "output_type": "execute_result"
    }
   ],
   "source": [
    "predict_submission = rf.predict(X_test)\n",
    "VERSION = 7\n",
    "sample_submission['price'] = np.round(predict_submission)\n",
    "sample_submission.to_csv(f'submission_2_v{VERSION}.csv', index=False)\n",
    "sample_submission.head()"
   ]
  },
  {
   "cell_type": "code",
   "execution_count": 1742,
   "id": "e8eca03f",
   "metadata": {},
   "outputs": [
    {
     "data": {
      "text/html": [
       "<div>\n",
       "<style scoped>\n",
       "    .dataframe tbody tr th:only-of-type {\n",
       "        vertical-align: middle;\n",
       "    }\n",
       "\n",
       "    .dataframe tbody tr th {\n",
       "        vertical-align: top;\n",
       "    }\n",
       "\n",
       "    .dataframe thead th {\n",
       "        text-align: right;\n",
       "    }\n",
       "</style>\n",
       "<table border=\"1\" class=\"dataframe\">\n",
       "  <thead>\n",
       "    <tr style=\"text-align: right;\">\n",
       "      <th></th>\n",
       "      <th>sell_id</th>\n",
       "      <th>price</th>\n",
       "    </tr>\n",
       "  </thead>\n",
       "  <tbody>\n",
       "    <tr>\n",
       "      <th>0</th>\n",
       "      <td>1100575026</td>\n",
       "      <td>879364.0</td>\n",
       "    </tr>\n",
       "    <tr>\n",
       "      <th>1</th>\n",
       "      <td>1100549428</td>\n",
       "      <td>1212880.0</td>\n",
       "    </tr>\n",
       "    <tr>\n",
       "      <th>2</th>\n",
       "      <td>1100658222</td>\n",
       "      <td>1240469.0</td>\n",
       "    </tr>\n",
       "    <tr>\n",
       "      <th>3</th>\n",
       "      <td>1100937408</td>\n",
       "      <td>923133.0</td>\n",
       "    </tr>\n",
       "    <tr>\n",
       "      <th>4</th>\n",
       "      <td>1101037972</td>\n",
       "      <td>1126296.0</td>\n",
       "    </tr>\n",
       "  </tbody>\n",
       "</table>\n",
       "</div>"
      ],
      "text/plain": [
       "      sell_id      price\n",
       "0  1100575026   879364.0\n",
       "1  1100549428  1212880.0\n",
       "2  1100658222  1240469.0\n",
       "3  1100937408   923133.0\n",
       "4  1101037972  1126296.0"
      ]
     },
     "execution_count": 1742,
     "metadata": {},
     "output_type": "execute_result"
    }
   ],
   "source": [
    "predict_submission = cbr.predict(X_test)\n",
    "VERSION = 8\n",
    "sample_submission['price'] = np.round(predict_submission)\n",
    "sample_submission.to_csv(f'submission_2_v{VERSION}.csv', index=False)\n",
    "sample_submission.head()"
   ]
  },
  {
   "cell_type": "code",
   "execution_count": 1744,
   "id": "9dd84b42",
   "metadata": {},
   "outputs": [
    {
     "data": {
      "text/html": [
       "<div>\n",
       "<style scoped>\n",
       "    .dataframe tbody tr th:only-of-type {\n",
       "        vertical-align: middle;\n",
       "    }\n",
       "\n",
       "    .dataframe tbody tr th {\n",
       "        vertical-align: top;\n",
       "    }\n",
       "\n",
       "    .dataframe thead th {\n",
       "        text-align: right;\n",
       "    }\n",
       "</style>\n",
       "<table border=\"1\" class=\"dataframe\">\n",
       "  <thead>\n",
       "    <tr style=\"text-align: right;\">\n",
       "      <th></th>\n",
       "      <th>sell_id</th>\n",
       "      <th>price</th>\n",
       "    </tr>\n",
       "  </thead>\n",
       "  <tbody>\n",
       "    <tr>\n",
       "      <th>0</th>\n",
       "      <td>1100575026</td>\n",
       "      <td>879364.0</td>\n",
       "    </tr>\n",
       "    <tr>\n",
       "      <th>1</th>\n",
       "      <td>1100549428</td>\n",
       "      <td>1212880.0</td>\n",
       "    </tr>\n",
       "    <tr>\n",
       "      <th>2</th>\n",
       "      <td>1100658222</td>\n",
       "      <td>1240469.0</td>\n",
       "    </tr>\n",
       "    <tr>\n",
       "      <th>3</th>\n",
       "      <td>1100937408</td>\n",
       "      <td>923133.0</td>\n",
       "    </tr>\n",
       "    <tr>\n",
       "      <th>4</th>\n",
       "      <td>1101037972</td>\n",
       "      <td>1126296.0</td>\n",
       "    </tr>\n",
       "  </tbody>\n",
       "</table>\n",
       "</div>"
      ],
      "text/plain": [
       "      sell_id      price\n",
       "0  1100575026   879364.0\n",
       "1  1100549428  1212880.0\n",
       "2  1100658222  1240469.0\n",
       "3  1100937408   923133.0\n",
       "4  1101037972  1126296.0"
      ]
     },
     "execution_count": 1744,
     "metadata": {},
     "output_type": "execute_result"
    }
   ],
   "source": [
    "predict_submission = cbr.predict(X_test)\n",
    "VERSION = 9\n",
    "sample_submission['price'] = np.round(predict_submission)\n",
    "sample_submission.to_csv(f'submission_2_v{VERSION}.csv', index=False)\n",
    "sample_submission.head()"
   ]
  },
  {
   "cell_type": "code",
   "execution_count": 1975,
   "id": "e453ffd4",
   "metadata": {},
   "outputs": [
    {
     "name": "stderr",
     "output_type": "stream",
     "text": [
      "[Parallel(n_jobs=16)]: Using backend ThreadingBackend with 16 concurrent workers.\n",
      "[Parallel(n_jobs=16)]: Done  18 tasks      | elapsed:    0.0s\n",
      "[Parallel(n_jobs=16)]: Done 168 tasks      | elapsed:    0.1s\n",
      "[Parallel(n_jobs=16)]: Done 400 out of 400 | elapsed:    0.2s finished\n"
     ]
    },
    {
     "data": {
      "text/html": [
       "<div>\n",
       "<style scoped>\n",
       "    .dataframe tbody tr th:only-of-type {\n",
       "        vertical-align: middle;\n",
       "    }\n",
       "\n",
       "    .dataframe tbody tr th {\n",
       "        vertical-align: top;\n",
       "    }\n",
       "\n",
       "    .dataframe thead th {\n",
       "        text-align: right;\n",
       "    }\n",
       "</style>\n",
       "<table border=\"1\" class=\"dataframe\">\n",
       "  <thead>\n",
       "    <tr style=\"text-align: right;\">\n",
       "      <th></th>\n",
       "      <th>sell_id</th>\n",
       "      <th>price</th>\n",
       "    </tr>\n",
       "  </thead>\n",
       "  <tbody>\n",
       "    <tr>\n",
       "      <th>0</th>\n",
       "      <td>1100575026</td>\n",
       "      <td>812950.0</td>\n",
       "    </tr>\n",
       "    <tr>\n",
       "      <th>1</th>\n",
       "      <td>1100549428</td>\n",
       "      <td>1215434.0</td>\n",
       "    </tr>\n",
       "    <tr>\n",
       "      <th>2</th>\n",
       "      <td>1100658222</td>\n",
       "      <td>1124597.0</td>\n",
       "    </tr>\n",
       "    <tr>\n",
       "      <th>3</th>\n",
       "      <td>1100937408</td>\n",
       "      <td>876585.0</td>\n",
       "    </tr>\n",
       "    <tr>\n",
       "      <th>4</th>\n",
       "      <td>1101037972</td>\n",
       "      <td>912686.0</td>\n",
       "    </tr>\n",
       "  </tbody>\n",
       "</table>\n",
       "</div>"
      ],
      "text/plain": [
       "      sell_id      price\n",
       "0  1100575026   812950.0\n",
       "1  1100549428  1215434.0\n",
       "2  1100658222  1124597.0\n",
       "3  1100937408   876585.0\n",
       "4  1101037972   912686.0"
      ]
     },
     "execution_count": 1975,
     "metadata": {},
     "output_type": "execute_result"
    }
   ],
   "source": [
    "predict_submission = rf_2.predict(X_test)\n",
    "VERSION = 8\n",
    "sample_submission['price'] = np.round(predict_submission)\n",
    "sample_submission.to_csv(f'submission_2_v{VERSION}.csv', index=False)\n",
    "sample_submission.head()"
   ]
  },
  {
   "cell_type": "code",
   "execution_count": 2185,
   "id": "ed7933ca",
   "metadata": {},
   "outputs": [
    {
     "data": {
      "text/html": [
       "<div>\n",
       "<style scoped>\n",
       "    .dataframe tbody tr th:only-of-type {\n",
       "        vertical-align: middle;\n",
       "    }\n",
       "\n",
       "    .dataframe tbody tr th {\n",
       "        vertical-align: top;\n",
       "    }\n",
       "\n",
       "    .dataframe thead th {\n",
       "        text-align: right;\n",
       "    }\n",
       "</style>\n",
       "<table border=\"1\" class=\"dataframe\">\n",
       "  <thead>\n",
       "    <tr style=\"text-align: right;\">\n",
       "      <th></th>\n",
       "      <th>sell_id</th>\n",
       "      <th>price</th>\n",
       "    </tr>\n",
       "  </thead>\n",
       "  <tbody>\n",
       "    <tr>\n",
       "      <th>0</th>\n",
       "      <td>1100575026</td>\n",
       "      <td>620117.0</td>\n",
       "    </tr>\n",
       "    <tr>\n",
       "      <th>1</th>\n",
       "      <td>1100549428</td>\n",
       "      <td>1051019.0</td>\n",
       "    </tr>\n",
       "    <tr>\n",
       "      <th>2</th>\n",
       "      <td>1100658222</td>\n",
       "      <td>838467.0</td>\n",
       "    </tr>\n",
       "    <tr>\n",
       "      <th>3</th>\n",
       "      <td>1100937408</td>\n",
       "      <td>797939.0</td>\n",
       "    </tr>\n",
       "    <tr>\n",
       "      <th>4</th>\n",
       "      <td>1101037972</td>\n",
       "      <td>824791.0</td>\n",
       "    </tr>\n",
       "  </tbody>\n",
       "</table>\n",
       "</div>"
      ],
      "text/plain": [
       "      sell_id      price\n",
       "0  1100575026   620117.0\n",
       "1  1100549428  1051019.0\n",
       "2  1100658222   838467.0\n",
       "3  1100937408   797939.0\n",
       "4  1101037972   824791.0"
      ]
     },
     "execution_count": 2185,
     "metadata": {},
     "output_type": "execute_result"
    }
   ],
   "source": [
    "predict_submission = rf.predict(X_test)\n",
    "VERSION = 9\n",
    "sample_submission['price'] = np.round(predict_submission)\n",
    "sample_submission.to_csv(f'submission_2_v{VERSION}.csv', index=False)\n",
    "sample_submission.head()"
   ]
  },
  {
   "cell_type": "code",
   "execution_count": 119,
   "id": "a35e34f5",
   "metadata": {},
   "outputs": [
    {
     "data": {
      "text/html": [
       "<div>\n",
       "<style scoped>\n",
       "    .dataframe tbody tr th:only-of-type {\n",
       "        vertical-align: middle;\n",
       "    }\n",
       "\n",
       "    .dataframe tbody tr th {\n",
       "        vertical-align: top;\n",
       "    }\n",
       "\n",
       "    .dataframe thead th {\n",
       "        text-align: right;\n",
       "    }\n",
       "</style>\n",
       "<table border=\"1\" class=\"dataframe\">\n",
       "  <thead>\n",
       "    <tr style=\"text-align: right;\">\n",
       "      <th></th>\n",
       "      <th>sell_id</th>\n",
       "      <th>price</th>\n",
       "    </tr>\n",
       "  </thead>\n",
       "  <tbody>\n",
       "    <tr>\n",
       "      <th>0</th>\n",
       "      <td>1100575026</td>\n",
       "      <td>554807.0</td>\n",
       "    </tr>\n",
       "    <tr>\n",
       "      <th>1</th>\n",
       "      <td>1100549428</td>\n",
       "      <td>637444.0</td>\n",
       "    </tr>\n",
       "    <tr>\n",
       "      <th>2</th>\n",
       "      <td>1100658222</td>\n",
       "      <td>886570.0</td>\n",
       "    </tr>\n",
       "    <tr>\n",
       "      <th>3</th>\n",
       "      <td>1100937408</td>\n",
       "      <td>672042.0</td>\n",
       "    </tr>\n",
       "    <tr>\n",
       "      <th>4</th>\n",
       "      <td>1101037972</td>\n",
       "      <td>1040953.0</td>\n",
       "    </tr>\n",
       "  </tbody>\n",
       "</table>\n",
       "</div>"
      ],
      "text/plain": [
       "      sell_id      price\n",
       "0  1100575026   554807.0\n",
       "1  1100549428   637444.0\n",
       "2  1100658222   886570.0\n",
       "3  1100937408   672042.0\n",
       "4  1101037972  1040953.0"
      ]
     },
     "execution_count": 119,
     "metadata": {},
     "output_type": "execute_result"
    }
   ],
   "source": [
    "predict_submission = baseline_gradient.predict(X_test)\n",
    "VERSION = 10\n",
    "sample_submission['price'] = np.round(predict_submission)\n",
    "sample_submission.to_csv(f'submission_2_v{VERSION}.csv', index=False)\n",
    "sample_submission.head()"
   ]
  },
  {
   "cell_type": "code",
   "execution_count": 121,
   "id": "9e99757b",
   "metadata": {},
   "outputs": [
    {
     "data": {
      "text/html": [
       "<div>\n",
       "<style scoped>\n",
       "    .dataframe tbody tr th:only-of-type {\n",
       "        vertical-align: middle;\n",
       "    }\n",
       "\n",
       "    .dataframe tbody tr th {\n",
       "        vertical-align: top;\n",
       "    }\n",
       "\n",
       "    .dataframe thead th {\n",
       "        text-align: right;\n",
       "    }\n",
       "</style>\n",
       "<table border=\"1\" class=\"dataframe\">\n",
       "  <thead>\n",
       "    <tr style=\"text-align: right;\">\n",
       "      <th></th>\n",
       "      <th>sell_id</th>\n",
       "      <th>price</th>\n",
       "    </tr>\n",
       "  </thead>\n",
       "  <tbody>\n",
       "    <tr>\n",
       "      <th>0</th>\n",
       "      <td>1100575026</td>\n",
       "      <td>536949.0</td>\n",
       "    </tr>\n",
       "    <tr>\n",
       "      <th>1</th>\n",
       "      <td>1100549428</td>\n",
       "      <td>776017.0</td>\n",
       "    </tr>\n",
       "    <tr>\n",
       "      <th>2</th>\n",
       "      <td>1100658222</td>\n",
       "      <td>766818.0</td>\n",
       "    </tr>\n",
       "    <tr>\n",
       "      <th>3</th>\n",
       "      <td>1100937408</td>\n",
       "      <td>621728.0</td>\n",
       "    </tr>\n",
       "    <tr>\n",
       "      <th>4</th>\n",
       "      <td>1101037972</td>\n",
       "      <td>847212.0</td>\n",
       "    </tr>\n",
       "  </tbody>\n",
       "</table>\n",
       "</div>"
      ],
      "text/plain": [
       "      sell_id     price\n",
       "0  1100575026  536949.0\n",
       "1  1100549428  776017.0\n",
       "2  1100658222  766818.0\n",
       "3  1100937408  621728.0\n",
       "4  1101037972  847212.0"
      ]
     },
     "execution_count": 121,
     "metadata": {},
     "output_type": "execute_result"
    }
   ],
   "source": [
    "predict_submission = cbr.predict(X_test)\n",
    "VERSION = 11\n",
    "sample_submission['price'] = np.round(predict_submission)\n",
    "sample_submission.to_csv(f'submission_2_v{VERSION}.csv', index=False)\n",
    "sample_submission.head()"
   ]
  },
  {
   "cell_type": "code",
   "execution_count": 124,
   "id": "f4700cfd",
   "metadata": {},
   "outputs": [
    {
     "data": {
      "text/html": [
       "<div>\n",
       "<style scoped>\n",
       "    .dataframe tbody tr th:only-of-type {\n",
       "        vertical-align: middle;\n",
       "    }\n",
       "\n",
       "    .dataframe tbody tr th {\n",
       "        vertical-align: top;\n",
       "    }\n",
       "\n",
       "    .dataframe thead th {\n",
       "        text-align: right;\n",
       "    }\n",
       "</style>\n",
       "<table border=\"1\" class=\"dataframe\">\n",
       "  <thead>\n",
       "    <tr style=\"text-align: right;\">\n",
       "      <th></th>\n",
       "      <th>sell_id</th>\n",
       "      <th>price</th>\n",
       "    </tr>\n",
       "  </thead>\n",
       "  <tbody>\n",
       "    <tr>\n",
       "      <th>0</th>\n",
       "      <td>1100575026</td>\n",
       "      <td>572221.0</td>\n",
       "    </tr>\n",
       "    <tr>\n",
       "      <th>1</th>\n",
       "      <td>1100549428</td>\n",
       "      <td>879374.0</td>\n",
       "    </tr>\n",
       "    <tr>\n",
       "      <th>2</th>\n",
       "      <td>1100658222</td>\n",
       "      <td>824287.0</td>\n",
       "    </tr>\n",
       "    <tr>\n",
       "      <th>3</th>\n",
       "      <td>1100937408</td>\n",
       "      <td>691647.0</td>\n",
       "    </tr>\n",
       "    <tr>\n",
       "      <th>4</th>\n",
       "      <td>1101037972</td>\n",
       "      <td>646365.0</td>\n",
       "    </tr>\n",
       "  </tbody>\n",
       "</table>\n",
       "</div>"
      ],
      "text/plain": [
       "      sell_id     price\n",
       "0  1100575026  572221.0\n",
       "1  1100549428  879374.0\n",
       "2  1100658222  824287.0\n",
       "3  1100937408  691647.0\n",
       "4  1101037972  646365.0"
      ]
     },
     "execution_count": 124,
     "metadata": {},
     "output_type": "execute_result"
    }
   ],
   "source": [
    "predict_submission = np.exp(st_ensemble_1.predict(X_test))\n",
    "VERSION = 12\n",
    "sample_submission['price'] = np.round(predict_submission)\n",
    "sample_submission.to_csv(f'submission_2_v{VERSION}.csv', index=False)\n",
    "sample_submission.head()"
   ]
  },
  {
   "cell_type": "markdown",
   "id": "b7b4e9cb",
   "metadata": {},
   "source": [
    "После экперементов я выбрал stacking Random Forest Regressor, Extra Tree Regressor и Linear Regression в качестве оконательного эстиматора"
   ]
  }
 ],
 "metadata": {
  "kernelspec": {
   "display_name": "Python 3",
   "language": "python",
   "name": "python3"
  },
  "language_info": {
   "codemirror_mode": {
    "name": "ipython",
    "version": 3
   },
   "file_extension": ".py",
   "mimetype": "text/x-python",
   "name": "python",
   "nbconvert_exporter": "python",
   "pygments_lexer": "ipython3",
   "version": "3.8.8"
  }
 },
 "nbformat": 4,
 "nbformat_minor": 5
}
