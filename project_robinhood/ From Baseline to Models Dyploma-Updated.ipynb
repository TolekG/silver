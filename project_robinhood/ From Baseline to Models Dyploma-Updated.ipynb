{
 "cells": [
  {
   "cell_type": "markdown",
   "id": "c6b9b9ec",
   "metadata": {},
   "source": [
    "# Dyploma Project. Part 2:  Solving Tasks"
   ]
  },
  {
   "cell_type": "markdown",
   "id": "0088f328",
   "metadata": {
    "heading_collapsed": true
   },
   "source": [
    "# I. Imports"
   ]
  },
  {
   "cell_type": "code",
   "execution_count": 471,
   "id": "f08e6c50",
   "metadata": {
    "hidden": true
   },
   "outputs": [
    {
     "name": "stdout",
     "output_type": "stream",
     "text": [
      "Requirement already satisfied: catboost in /home/tolek/anaconda3/lib/python3.8/site-packages (0.26.1)\r\n",
      "Requirement already satisfied: scipy in /home/tolek/anaconda3/lib/python3.8/site-packages (from catboost) (1.6.2)\r\n",
      "Requirement already satisfied: six in /home/tolek/anaconda3/lib/python3.8/site-packages (from catboost) (1.15.0)\r\n",
      "Requirement already satisfied: graphviz in /home/tolek/anaconda3/lib/python3.8/site-packages (from catboost) (0.17)\r\n",
      "Requirement already satisfied: numpy>=1.16.0 in /home/tolek/anaconda3/lib/python3.8/site-packages (from catboost) (1.20.1)\r\n",
      "Requirement already satisfied: plotly in /home/tolek/anaconda3/lib/python3.8/site-packages (from catboost) (5.3.1)\r\n",
      "Requirement already satisfied: pandas>=0.24.0 in /home/tolek/anaconda3/lib/python3.8/site-packages (from catboost) (1.2.4)\r\n",
      "Requirement already satisfied: matplotlib in /home/tolek/anaconda3/lib/python3.8/site-packages (from catboost) (3.3.4)\r\n",
      "Requirement already satisfied: python-dateutil>=2.7.3 in /home/tolek/anaconda3/lib/python3.8/site-packages (from pandas>=0.24.0->catboost) (2.8.1)\r\n",
      "Requirement already satisfied: pytz>=2017.3 in /home/tolek/anaconda3/lib/python3.8/site-packages (from pandas>=0.24.0->catboost) (2021.1)\r\n",
      "Requirement already satisfied: pyparsing!=2.0.4,!=2.1.2,!=2.1.6,>=2.0.3 in /home/tolek/anaconda3/lib/python3.8/site-packages (from matplotlib->catboost) (2.4.7)\r\n",
      "Requirement already satisfied: kiwisolver>=1.0.1 in /home/tolek/anaconda3/lib/python3.8/site-packages (from matplotlib->catboost) (1.3.1)\r\n",
      "Requirement already satisfied: pillow>=6.2.0 in /home/tolek/anaconda3/lib/python3.8/site-packages (from matplotlib->catboost) (8.2.0)\r\n",
      "Requirement already satisfied: cycler>=0.10 in /home/tolek/anaconda3/lib/python3.8/site-packages (from matplotlib->catboost) (0.10.0)\r\n",
      "Requirement already satisfied: tenacity>=6.2.0 in /home/tolek/anaconda3/lib/python3.8/site-packages (from plotly->catboost) (8.0.1)\r\n"
     ]
    }
   ],
   "source": [
    "!pip install catboost"
   ]
  },
  {
   "cell_type": "code",
   "execution_count": 2,
   "id": "52c93850",
   "metadata": {
    "hidden": true
   },
   "outputs": [],
   "source": [
    "import pandas as pd\n",
    "import numpy as np\n",
    "import os\n",
    "\n",
    "import matplotlib.pyplot as plt\n",
    "import seaborn as sns\n",
    "import statsmodels.api as sm\n",
    "from statsmodels.tsa.seasonal import seasonal_decompose\n",
    "from datetime import datetime\n",
    "\n",
    "from matplotlib import cm\n",
    "from matplotlib.colors import ListedColormap, LinearSegmentedColormap\n",
    "\n",
    "from sklearn import metrics  # подгружаем метрики\n",
    "from sklearn.linear_model import LinearRegression\n",
    "from sklearn.ensemble import RandomForestRegressor\n",
    "from catboost import CatBoostRegressor"
   ]
  },
  {
   "cell_type": "markdown",
   "id": "e1e13427",
   "metadata": {
    "heading_collapsed": true
   },
   "source": [
    "# II. Own Functions"
   ]
  },
  {
   "cell_type": "code",
   "execution_count": 40,
   "id": "7f6e97a9",
   "metadata": {
    "hidden": true
   },
   "outputs": [],
   "source": [
    "def process_task_1(df_family):\n",
    "    '''Приготавливаем данные выбранной семьи для обучения'''\n",
    "    data = df_family\n",
    "    data = data.sort_values(by='order_date', ascending=True)\n",
    "    \n",
    "    ########################## Creating Timeframe #################################\n",
    "    # Данные по заказам, которые нужно суммировать\n",
    "    data_o = data[['order_date','ordered']]\n",
    "    data_o.columns = ['date','order']\n",
    "    data_o = data_o.sort_values(by='date', ascending=True)\n",
    "    data_o = data_o.groupby(['date']).sum()\n",
    "    data_od = data_o.resample('d').sum()\n",
    "\n",
    "    # Данные, которые нужно усреднить\n",
    "    data_l = data.copy()\n",
    "    data_l = data_l[['order_date', 'leadtime_int']]\n",
    "    data_l.columns = ['date','leadtime']\n",
    "    data_l = data_l.sort_values(by='date', ascending=True)\n",
    "    data_l = data_l.groupby(['date']).mean()\n",
    "    data_ld = data_l.resample('d').mean()\n",
    "    \n",
    "    # Соединяем\n",
    "    data_day = pd.concat([data_od, data_ld], axis=1)\n",
    "    data_day.fillna(0, inplace=True)\n",
    "    data_day.columns = ['ordered_family','leadtime_family']\n",
    "    data_day = data_day[data_day.ordered_family > 0]\n",
    "    \n",
    "    ######################## Feature Enginnering #################################\n",
    "    data_day['date'] = data_day.index\n",
    "    data_day['year'] = data_day['date'].dt.year\n",
    "    data_day['weekday'] = data_day['date'].dt.weekday\n",
    "    data_day = data_day.reset_index(drop=True)\n",
    "    data_day['quarter'] = data_day.date.dt.to_period('Q')\n",
    "    data_day['month'] = data_day.date.dt.to_period('M')\n",
    "    \n",
    "    ########################## Target Variable ###################################\n",
    "    data_day['difference'] = data_day.date.diff()\n",
    "    data_day['difference'] = data_day['difference'].astype('timedelta64[D]')\n",
    "\n",
    "    \n",
    "    ########################### Converting to Numeric Format #####################\n",
    "    data_day['date'] = data_day['date'].astype(int) // 10**9\n",
    "    data_day['quarter'] = data_day.quarter.astype(int)\n",
    "    data_day['month'] = data_day.month.astype(int)\n",
    "\n",
    "    data_day.dropna(inplace=True)\n",
    "    return data_day"
   ]
  },
  {
   "cell_type": "code",
   "execution_count": 41,
   "id": "4b1bdbc6",
   "metadata": {
    "hidden": true
   },
   "outputs": [
    {
     "data": {
      "text/html": [
       "<div>\n",
       "<style scoped>\n",
       "    .dataframe tbody tr th:only-of-type {\n",
       "        vertical-align: middle;\n",
       "    }\n",
       "\n",
       "    .dataframe tbody tr th {\n",
       "        vertical-align: top;\n",
       "    }\n",
       "\n",
       "    .dataframe thead th {\n",
       "        text-align: right;\n",
       "    }\n",
       "</style>\n",
       "<table border=\"1\" class=\"dataframe\">\n",
       "  <thead>\n",
       "    <tr style=\"text-align: right;\">\n",
       "      <th></th>\n",
       "      <th>ordered_family</th>\n",
       "      <th>leadtime_family</th>\n",
       "      <th>date</th>\n",
       "      <th>year</th>\n",
       "      <th>weekday</th>\n",
       "      <th>quarter</th>\n",
       "      <th>month</th>\n",
       "      <th>difference</th>\n",
       "    </tr>\n",
       "  </thead>\n",
       "  <tbody>\n",
       "    <tr>\n",
       "      <th>1</th>\n",
       "      <td>223098.0</td>\n",
       "      <td>7.000000</td>\n",
       "      <td>1578355200</td>\n",
       "      <td>2020</td>\n",
       "      <td>1</td>\n",
       "      <td>200</td>\n",
       "      <td>600</td>\n",
       "      <td>4.0</td>\n",
       "    </tr>\n",
       "    <tr>\n",
       "      <th>2</th>\n",
       "      <td>62910.0</td>\n",
       "      <td>7.181818</td>\n",
       "      <td>1578441600</td>\n",
       "      <td>2020</td>\n",
       "      <td>2</td>\n",
       "      <td>200</td>\n",
       "      <td>600</td>\n",
       "      <td>1.0</td>\n",
       "    </tr>\n",
       "    <tr>\n",
       "      <th>3</th>\n",
       "      <td>29445.0</td>\n",
       "      <td>8.571429</td>\n",
       "      <td>1578528000</td>\n",
       "      <td>2020</td>\n",
       "      <td>3</td>\n",
       "      <td>200</td>\n",
       "      <td>600</td>\n",
       "      <td>1.0</td>\n",
       "    </tr>\n",
       "    <tr>\n",
       "      <th>4</th>\n",
       "      <td>5994.0</td>\n",
       "      <td>6.000000</td>\n",
       "      <td>1578614400</td>\n",
       "      <td>2020</td>\n",
       "      <td>4</td>\n",
       "      <td>200</td>\n",
       "      <td>600</td>\n",
       "      <td>1.0</td>\n",
       "    </tr>\n",
       "    <tr>\n",
       "      <th>5</th>\n",
       "      <td>32894.0</td>\n",
       "      <td>7.888889</td>\n",
       "      <td>1578873600</td>\n",
       "      <td>2020</td>\n",
       "      <td>0</td>\n",
       "      <td>200</td>\n",
       "      <td>600</td>\n",
       "      <td>3.0</td>\n",
       "    </tr>\n",
       "    <tr>\n",
       "      <th>...</th>\n",
       "      <td>...</td>\n",
       "      <td>...</td>\n",
       "      <td>...</td>\n",
       "      <td>...</td>\n",
       "      <td>...</td>\n",
       "      <td>...</td>\n",
       "      <td>...</td>\n",
       "      <td>...</td>\n",
       "    </tr>\n",
       "    <tr>\n",
       "      <th>436</th>\n",
       "      <td>69432.0</td>\n",
       "      <td>41.333333</td>\n",
       "      <td>1644192000</td>\n",
       "      <td>2022</td>\n",
       "      <td>0</td>\n",
       "      <td>208</td>\n",
       "      <td>625</td>\n",
       "      <td>4.0</td>\n",
       "    </tr>\n",
       "    <tr>\n",
       "      <th>437</th>\n",
       "      <td>29970.0</td>\n",
       "      <td>41.000000</td>\n",
       "      <td>1644278400</td>\n",
       "      <td>2022</td>\n",
       "      <td>1</td>\n",
       "      <td>208</td>\n",
       "      <td>625</td>\n",
       "      <td>1.0</td>\n",
       "    </tr>\n",
       "    <tr>\n",
       "      <th>438</th>\n",
       "      <td>40959.0</td>\n",
       "      <td>35.333333</td>\n",
       "      <td>1644796800</td>\n",
       "      <td>2022</td>\n",
       "      <td>0</td>\n",
       "      <td>208</td>\n",
       "      <td>625</td>\n",
       "      <td>6.0</td>\n",
       "    </tr>\n",
       "    <tr>\n",
       "      <th>439</th>\n",
       "      <td>49998.0</td>\n",
       "      <td>37.000000</td>\n",
       "      <td>1644969600</td>\n",
       "      <td>2022</td>\n",
       "      <td>2</td>\n",
       "      <td>208</td>\n",
       "      <td>625</td>\n",
       "      <td>2.0</td>\n",
       "    </tr>\n",
       "    <tr>\n",
       "      <th>440</th>\n",
       "      <td>64374.0</td>\n",
       "      <td>27.500000</td>\n",
       "      <td>1645142400</td>\n",
       "      <td>2022</td>\n",
       "      <td>4</td>\n",
       "      <td>208</td>\n",
       "      <td>625</td>\n",
       "      <td>2.0</td>\n",
       "    </tr>\n",
       "  </tbody>\n",
       "</table>\n",
       "<p>440 rows × 8 columns</p>\n",
       "</div>"
      ],
      "text/plain": [
       "     ordered_family  leadtime_family        date  year  weekday  quarter  \\\n",
       "1          223098.0         7.000000  1578355200  2020        1      200   \n",
       "2           62910.0         7.181818  1578441600  2020        2      200   \n",
       "3           29445.0         8.571429  1578528000  2020        3      200   \n",
       "4            5994.0         6.000000  1578614400  2020        4      200   \n",
       "5           32894.0         7.888889  1578873600  2020        0      200   \n",
       "..              ...              ...         ...   ...      ...      ...   \n",
       "436         69432.0        41.333333  1644192000  2022        0      208   \n",
       "437         29970.0        41.000000  1644278400  2022        1      208   \n",
       "438         40959.0        35.333333  1644796800  2022        0      208   \n",
       "439         49998.0        37.000000  1644969600  2022        2      208   \n",
       "440         64374.0        27.500000  1645142400  2022        4      208   \n",
       "\n",
       "     month  difference  \n",
       "1      600         4.0  \n",
       "2      600         1.0  \n",
       "3      600         1.0  \n",
       "4      600         1.0  \n",
       "5      600         3.0  \n",
       "..     ...         ...  \n",
       "436    625         4.0  \n",
       "437    625         1.0  \n",
       "438    625         6.0  \n",
       "439    625         2.0  \n",
       "440    625         2.0  \n",
       "\n",
       "[440 rows x 8 columns]"
      ]
     },
     "execution_count": 41,
     "metadata": {},
     "output_type": "execute_result"
    }
   ],
   "source": [
    "process_task_1(family_119)"
   ]
  },
  {
   "cell_type": "code",
   "execution_count": 4,
   "id": "940609c7",
   "metadata": {
    "hidden": true
   },
   "outputs": [],
   "source": [
    "def features_split(data):\n",
    "    split_coef = 0.8 # 80 - тренировочный сет, 20 - тестовый сет\n",
    "    \n",
    "    ## линейное разбиение \n",
    "    feature_train, features_test = np.split(data, [int(split_coef*len(data))])\n",
    "    features_train, features_val = np.split(feature_train, [int(split_coef*len(feature_train))])\n",
    "    \n",
    "    return features_train, features_val, features_test"
   ]
  },
  {
   "cell_type": "code",
   "execution_count": 5,
   "id": "f88c3fb8",
   "metadata": {
    "hidden": true
   },
   "outputs": [],
   "source": [
    "def train_split(features_train, features_val, features_test):\n",
    "    # подготавливаем сеты\n",
    "    x_train = features_train[features_list]\n",
    "    x_val = features_val[features_list]\n",
    "    x_test  = features_test[features_list]\n",
    "    y_train = features_train['difference']\n",
    "    y_val = features_val['difference']\n",
    "    y_test = features_test['difference']\n",
    "    \n",
    "    return x_train, x_val, x_test, y_train, y_val, y_test"
   ]
  },
  {
   "cell_type": "markdown",
   "id": "314dcb9d",
   "metadata": {
    "heading_collapsed": true
   },
   "source": [
    "# III. Data"
   ]
  },
  {
   "cell_type": "code",
   "execution_count": 6,
   "id": "9f71f062",
   "metadata": {
    "hidden": true
   },
   "outputs": [],
   "source": [
    "# Загружаем приготовленный датасет\n",
    "df_village = pd.read_csv('village_table.csv')"
   ]
  },
  {
   "cell_type": "code",
   "execution_count": 7,
   "id": "e1094858",
   "metadata": {
    "hidden": true
   },
   "outputs": [],
   "source": [
    "# Преобразуем в формат datetime\n",
    "df_village.order_date = pd.to_datetime(df_village.order_date)\n",
    "df_village.delivery_date = pd.to_datetime(df_village.delivery_date)"
   ]
  },
  {
   "cell_type": "code",
   "execution_count": 8,
   "id": "d5f41eb0",
   "metadata": {
    "hidden": true
   },
   "outputs": [
    {
     "name": "stdout",
     "output_type": "stream",
     "text": [
      "<class 'pandas.core.frame.DataFrame'>\n",
      "RangeIndex: 243743 entries, 0 to 243742\n",
      "Data columns (total 13 columns):\n",
      " #   Column          Non-Null Count   Dtype         \n",
      "---  ------          --------------   -----         \n",
      " 0   village         243743 non-null  object        \n",
      " 1   year            243743 non-null  int64         \n",
      " 2   family          243743 non-null  object        \n",
      " 3   category        243743 non-null  object        \n",
      " 4   fruit           243743 non-null  object        \n",
      " 5   grade           243743 non-null  int64         \n",
      " 6   order_date      243743 non-null  datetime64[ns]\n",
      " 7   delivery_date   243743 non-null  datetime64[ns]\n",
      " 8   ordered         243743 non-null  float64       \n",
      " 9   shipped         243743 non-null  float64       \n",
      " 10  leadtime        243743 non-null  object        \n",
      " 11  leadtime_int    243743 non-null  int64         \n",
      " 12  order_date_int  243743 non-null  int64         \n",
      "dtypes: datetime64[ns](2), float64(2), int64(4), object(5)\n",
      "memory usage: 24.2+ MB\n"
     ]
    }
   ],
   "source": [
    "df_village.info()"
   ]
  },
  {
   "cell_type": "code",
   "execution_count": 31,
   "id": "f18a2129",
   "metadata": {
    "hidden": true
   },
   "outputs": [
    {
     "data": {
      "text/html": [
       "<div>\n",
       "<style scoped>\n",
       "    .dataframe tbody tr th:only-of-type {\n",
       "        vertical-align: middle;\n",
       "    }\n",
       "\n",
       "    .dataframe tbody tr th {\n",
       "        vertical-align: top;\n",
       "    }\n",
       "\n",
       "    .dataframe thead th {\n",
       "        text-align: right;\n",
       "    }\n",
       "</style>\n",
       "<table border=\"1\" class=\"dataframe\">\n",
       "  <thead>\n",
       "    <tr style=\"text-align: right;\">\n",
       "      <th></th>\n",
       "      <th>village</th>\n",
       "      <th>year</th>\n",
       "      <th>family</th>\n",
       "      <th>category</th>\n",
       "      <th>fruit</th>\n",
       "      <th>grade</th>\n",
       "      <th>order_date</th>\n",
       "      <th>delivery_date</th>\n",
       "      <th>ordered</th>\n",
       "      <th>shipped</th>\n",
       "      <th>leadtime</th>\n",
       "      <th>leadtime_int</th>\n",
       "      <th>order_date_int</th>\n",
       "      <th>quarter</th>\n",
       "    </tr>\n",
       "  </thead>\n",
       "  <tbody>\n",
       "    <tr>\n",
       "      <th>0</th>\n",
       "      <td>Robinhood_village</td>\n",
       "      <td>2020</td>\n",
       "      <td>family_244</td>\n",
       "      <td>category_25</td>\n",
       "      <td>fruit_37</td>\n",
       "      <td>165</td>\n",
       "      <td>2019-12-30</td>\n",
       "      <td>2020-01-03</td>\n",
       "      <td>1650.00</td>\n",
       "      <td>1663.200</td>\n",
       "      <td>4 days</td>\n",
       "      <td>4</td>\n",
       "      <td>1577664000</td>\n",
       "      <td>199</td>\n",
       "    </tr>\n",
       "    <tr>\n",
       "      <th>1</th>\n",
       "      <td>Robinhood_village</td>\n",
       "      <td>2020</td>\n",
       "      <td>family_127</td>\n",
       "      <td>category_14</td>\n",
       "      <td>fruit_62</td>\n",
       "      <td>250</td>\n",
       "      <td>2019-12-30</td>\n",
       "      <td>2020-01-10</td>\n",
       "      <td>1000.00</td>\n",
       "      <td>1060.000</td>\n",
       "      <td>11 days</td>\n",
       "      <td>11</td>\n",
       "      <td>1577664000</td>\n",
       "      <td>199</td>\n",
       "    </tr>\n",
       "    <tr>\n",
       "      <th>2</th>\n",
       "      <td>Robinhood_village</td>\n",
       "      <td>2020</td>\n",
       "      <td>family_133</td>\n",
       "      <td>category_16</td>\n",
       "      <td>fruit_48</td>\n",
       "      <td>330</td>\n",
       "      <td>2019-12-30</td>\n",
       "      <td>2020-01-08</td>\n",
       "      <td>1320.00</td>\n",
       "      <td>1336.500</td>\n",
       "      <td>9 days</td>\n",
       "      <td>9</td>\n",
       "      <td>1577664000</td>\n",
       "      <td>199</td>\n",
       "    </tr>\n",
       "    <tr>\n",
       "      <th>3</th>\n",
       "      <td>Robinhood_village</td>\n",
       "      <td>2020</td>\n",
       "      <td>family_133</td>\n",
       "      <td>category_25</td>\n",
       "      <td>fruit_49</td>\n",
       "      <td>250</td>\n",
       "      <td>2019-12-30</td>\n",
       "      <td>2020-01-08</td>\n",
       "      <td>2500.00</td>\n",
       "      <td>2508.750</td>\n",
       "      <td>9 days</td>\n",
       "      <td>9</td>\n",
       "      <td>1577664000</td>\n",
       "      <td>199</td>\n",
       "    </tr>\n",
       "    <tr>\n",
       "      <th>4</th>\n",
       "      <td>Robinhood_village</td>\n",
       "      <td>2020</td>\n",
       "      <td>family_133</td>\n",
       "      <td>category_4</td>\n",
       "      <td>fruit_52</td>\n",
       "      <td>315</td>\n",
       "      <td>2019-12-30</td>\n",
       "      <td>2020-01-08</td>\n",
       "      <td>4725.00</td>\n",
       "      <td>4759.650</td>\n",
       "      <td>9 days</td>\n",
       "      <td>9</td>\n",
       "      <td>1577664000</td>\n",
       "      <td>199</td>\n",
       "    </tr>\n",
       "    <tr>\n",
       "      <th>...</th>\n",
       "      <td>...</td>\n",
       "      <td>...</td>\n",
       "      <td>...</td>\n",
       "      <td>...</td>\n",
       "      <td>...</td>\n",
       "      <td>...</td>\n",
       "      <td>...</td>\n",
       "      <td>...</td>\n",
       "      <td>...</td>\n",
       "      <td>...</td>\n",
       "      <td>...</td>\n",
       "      <td>...</td>\n",
       "      <td>...</td>\n",
       "      <td>...</td>\n",
       "    </tr>\n",
       "    <tr>\n",
       "      <th>243738</th>\n",
       "      <td>Robinhood_village</td>\n",
       "      <td>2022</td>\n",
       "      <td>family_16</td>\n",
       "      <td>category_87</td>\n",
       "      <td>fruit_474</td>\n",
       "      <td>145</td>\n",
       "      <td>2022-02-19</td>\n",
       "      <td>2022-02-23</td>\n",
       "      <td>287.10</td>\n",
       "      <td>287.100</td>\n",
       "      <td>4 days</td>\n",
       "      <td>4</td>\n",
       "      <td>1645228800</td>\n",
       "      <td>208</td>\n",
       "    </tr>\n",
       "    <tr>\n",
       "      <th>243739</th>\n",
       "      <td>Robinhood_village</td>\n",
       "      <td>2022</td>\n",
       "      <td>family_11</td>\n",
       "      <td>category_56</td>\n",
       "      <td>fruit_248</td>\n",
       "      <td>320</td>\n",
       "      <td>2022-02-19</td>\n",
       "      <td>2022-02-25</td>\n",
       "      <td>2561.92</td>\n",
       "      <td>2561.920</td>\n",
       "      <td>6 days</td>\n",
       "      <td>6</td>\n",
       "      <td>1645228800</td>\n",
       "      <td>208</td>\n",
       "    </tr>\n",
       "    <tr>\n",
       "      <th>243740</th>\n",
       "      <td>Robinhood_village</td>\n",
       "      <td>2022</td>\n",
       "      <td>family_108</td>\n",
       "      <td>category_16</td>\n",
       "      <td>fruit_410</td>\n",
       "      <td>340</td>\n",
       "      <td>2022-02-20</td>\n",
       "      <td>2022-02-25</td>\n",
       "      <td>1377.00</td>\n",
       "      <td>1377.000</td>\n",
       "      <td>5 days</td>\n",
       "      <td>5</td>\n",
       "      <td>1645315200</td>\n",
       "      <td>208</td>\n",
       "    </tr>\n",
       "    <tr>\n",
       "      <th>243741</th>\n",
       "      <td>Robinhood_village</td>\n",
       "      <td>2022</td>\n",
       "      <td>family_278</td>\n",
       "      <td>category_9</td>\n",
       "      <td>fruit_233</td>\n",
       "      <td>252</td>\n",
       "      <td>2022-02-20</td>\n",
       "      <td>2022-02-25</td>\n",
       "      <td>554.40</td>\n",
       "      <td>554.400</td>\n",
       "      <td>5 days</td>\n",
       "      <td>5</td>\n",
       "      <td>1645315200</td>\n",
       "      <td>208</td>\n",
       "    </tr>\n",
       "    <tr>\n",
       "      <th>243742</th>\n",
       "      <td>Robinhood_village</td>\n",
       "      <td>2022</td>\n",
       "      <td>family_97</td>\n",
       "      <td>category_14</td>\n",
       "      <td>fruit_1774</td>\n",
       "      <td>333</td>\n",
       "      <td>2022-02-20</td>\n",
       "      <td>2022-03-10</td>\n",
       "      <td>9990.00</td>\n",
       "      <td>10820.169</td>\n",
       "      <td>18 days</td>\n",
       "      <td>18</td>\n",
       "      <td>1645315200</td>\n",
       "      <td>208</td>\n",
       "    </tr>\n",
       "  </tbody>\n",
       "</table>\n",
       "<p>243743 rows × 14 columns</p>\n",
       "</div>"
      ],
      "text/plain": [
       "                  village  year      family     category       fruit  grade  \\\n",
       "0       Robinhood_village  2020  family_244  category_25    fruit_37    165   \n",
       "1       Robinhood_village  2020  family_127  category_14    fruit_62    250   \n",
       "2       Robinhood_village  2020  family_133  category_16    fruit_48    330   \n",
       "3       Robinhood_village  2020  family_133  category_25    fruit_49    250   \n",
       "4       Robinhood_village  2020  family_133   category_4    fruit_52    315   \n",
       "...                   ...   ...         ...          ...         ...    ...   \n",
       "243738  Robinhood_village  2022   family_16  category_87   fruit_474    145   \n",
       "243739  Robinhood_village  2022   family_11  category_56   fruit_248    320   \n",
       "243740  Robinhood_village  2022  family_108  category_16   fruit_410    340   \n",
       "243741  Robinhood_village  2022  family_278   category_9   fruit_233    252   \n",
       "243742  Robinhood_village  2022   family_97  category_14  fruit_1774    333   \n",
       "\n",
       "       order_date delivery_date  ordered    shipped leadtime  leadtime_int  \\\n",
       "0      2019-12-30    2020-01-03  1650.00   1663.200   4 days             4   \n",
       "1      2019-12-30    2020-01-10  1000.00   1060.000  11 days            11   \n",
       "2      2019-12-30    2020-01-08  1320.00   1336.500   9 days             9   \n",
       "3      2019-12-30    2020-01-08  2500.00   2508.750   9 days             9   \n",
       "4      2019-12-30    2020-01-08  4725.00   4759.650   9 days             9   \n",
       "...           ...           ...      ...        ...      ...           ...   \n",
       "243738 2022-02-19    2022-02-23   287.10    287.100   4 days             4   \n",
       "243739 2022-02-19    2022-02-25  2561.92   2561.920   6 days             6   \n",
       "243740 2022-02-20    2022-02-25  1377.00   1377.000   5 days             5   \n",
       "243741 2022-02-20    2022-02-25   554.40    554.400   5 days             5   \n",
       "243742 2022-02-20    2022-03-10  9990.00  10820.169  18 days            18   \n",
       "\n",
       "        order_date_int  quarter  \n",
       "0           1577664000      199  \n",
       "1           1577664000      199  \n",
       "2           1577664000      199  \n",
       "3           1577664000      199  \n",
       "4           1577664000      199  \n",
       "...                ...      ...  \n",
       "243738      1645228800      208  \n",
       "243739      1645228800      208  \n",
       "243740      1645315200      208  \n",
       "243741      1645315200      208  \n",
       "243742      1645315200      208  \n",
       "\n",
       "[243743 rows x 14 columns]"
      ]
     },
     "execution_count": 31,
     "metadata": {},
     "output_type": "execute_result"
    }
   ],
   "source": [
    "df_test"
   ]
  },
  {
   "cell_type": "code",
   "execution_count": 9,
   "id": "9030de73",
   "metadata": {
    "hidden": true
   },
   "outputs": [],
   "source": [
    "#  Создадим датафреймы для каждой семьи\n",
    "for parent in df_village.family.unique():\n",
    "    globals()[f'{parent}'] = df_village.query(f\"family == '{parent}'\")\n",
    "    globals()[f'{parent}'].to_csv(f'dfs/{parent}.csv', index=False)"
   ]
  },
  {
   "cell_type": "markdown",
   "id": "5a4cc854",
   "metadata": {},
   "source": [
    "# IV. Task 1: Predicting the day of the next purchase\n"
   ]
  },
  {
   "cell_type": "markdown",
   "id": "7005f536",
   "metadata": {
    "heading_collapsed": true
   },
   "source": [
    "## 1. Preparing sets for traing"
   ]
  },
  {
   "cell_type": "code",
   "execution_count": 42,
   "id": "d5cb566e",
   "metadata": {
    "hidden": true
   },
   "outputs": [],
   "source": [
    "features_list = ['ordered_family','leadtime_family','date','year','weekday','quarter', 'month']"
   ]
  },
  {
   "cell_type": "markdown",
   "id": "20e11fc6",
   "metadata": {
    "heading_collapsed": true
   },
   "source": [
    "## 2. Baseline"
   ]
  },
  {
   "cell_type": "markdown",
   "id": "65ed2607",
   "metadata": {
    "hidden": true
   },
   "source": [
    "Baseline - это предсказание дня следующей закупки на основании среднего значения в обучающей выборке"
   ]
  },
  {
   "cell_type": "code",
   "execution_count": 43,
   "id": "a5560017",
   "metadata": {
    "hidden": true,
    "scrolled": true
   },
   "outputs": [],
   "source": [
    "updated_list = []\n",
    "results = pd.DataFrame(columns=['family','mse_val_naive','mse_test_naive'])\n",
    "\n",
    "for parent in df_village.family.unique():\n",
    "    temp = globals()[f'{parent}']\n",
    "    data_day = process_task_1(temp)\n",
    "    if len(data_day) < 35: # удаляем семьи с записями менее 35\n",
    "        continue\n",
    "    updated_list.append(parent)\n",
    "    \n",
    "    #  Разделим датасеты каждой семьи на обучачение и тест\n",
    "    features_train, features_val, features_test = features_split(data_day)\n",
    "    x_train, x_val, x_test, y_train, y_val, y_test = train_split(features_train, features_val, features_test)\n",
    "    \n",
    "    # Наивная модель\n",
    "    features_val['y_pred_val_naive'] = (round(y_train.mean()))\n",
    "    features_test['y_pred_test_naive'] = (round(y_train.mean()))\n",
    "    y_pred_val_naive = features_val['y_pred_val_naive']\n",
    "    y_pred_test_naive = features_test['y_pred_test_naive']\n",
    "    \n",
    "    mse_val_naive = round(metrics.mean_squared_error(y_val, y_pred_val_naive),3)\n",
    "    mse_test_naive = round(metrics.mean_squared_error(y_test, y_pred_test_naive),3)\n",
    "    new_row = {'family':parent, 'mse_val_naive':mse_val_naive,'mse_test_naive':mse_test_naive}\n",
    "    results = results.append(new_row,ignore_index=True)"
   ]
  },
  {
   "cell_type": "code",
   "execution_count": 44,
   "id": "f3f3b42d",
   "metadata": {
    "hidden": true
   },
   "outputs": [
    {
     "data": {
      "text/html": [
       "<div>\n",
       "<style scoped>\n",
       "    .dataframe tbody tr th:only-of-type {\n",
       "        vertical-align: middle;\n",
       "    }\n",
       "\n",
       "    .dataframe tbody tr th {\n",
       "        vertical-align: top;\n",
       "    }\n",
       "\n",
       "    .dataframe thead th {\n",
       "        text-align: right;\n",
       "    }\n",
       "</style>\n",
       "<table border=\"1\" class=\"dataframe\">\n",
       "  <thead>\n",
       "    <tr style=\"text-align: right;\">\n",
       "      <th></th>\n",
       "      <th>family</th>\n",
       "      <th>mse_val_naive</th>\n",
       "      <th>mse_test_naive</th>\n",
       "    </tr>\n",
       "  </thead>\n",
       "  <tbody>\n",
       "    <tr>\n",
       "      <th>0</th>\n",
       "      <td>family_127</td>\n",
       "      <td>3.162</td>\n",
       "      <td>16.739</td>\n",
       "    </tr>\n",
       "    <tr>\n",
       "      <th>1</th>\n",
       "      <td>family_133</td>\n",
       "      <td>1.420</td>\n",
       "      <td>3.621</td>\n",
       "    </tr>\n",
       "    <tr>\n",
       "      <th>2</th>\n",
       "      <td>family_69</td>\n",
       "      <td>1.203</td>\n",
       "      <td>4.360</td>\n",
       "    </tr>\n",
       "    <tr>\n",
       "      <th>3</th>\n",
       "      <td>family_245</td>\n",
       "      <td>20.917</td>\n",
       "      <td>13.233</td>\n",
       "    </tr>\n",
       "    <tr>\n",
       "      <th>4</th>\n",
       "      <td>family_102</td>\n",
       "      <td>1.962</td>\n",
       "      <td>7.200</td>\n",
       "    </tr>\n",
       "    <tr>\n",
       "      <th>...</th>\n",
       "      <td>...</td>\n",
       "      <td>...</td>\n",
       "      <td>...</td>\n",
       "    </tr>\n",
       "    <tr>\n",
       "      <th>235</th>\n",
       "      <td>family_185</td>\n",
       "      <td>133.250</td>\n",
       "      <td>239.500</td>\n",
       "    </tr>\n",
       "    <tr>\n",
       "      <th>236</th>\n",
       "      <td>family_76</td>\n",
       "      <td>173.312</td>\n",
       "      <td>30.600</td>\n",
       "    </tr>\n",
       "    <tr>\n",
       "      <th>237</th>\n",
       "      <td>family_335</td>\n",
       "      <td>92.714</td>\n",
       "      <td>511.778</td>\n",
       "    </tr>\n",
       "    <tr>\n",
       "      <th>238</th>\n",
       "      <td>family_215</td>\n",
       "      <td>191.444</td>\n",
       "      <td>153.083</td>\n",
       "    </tr>\n",
       "    <tr>\n",
       "      <th>239</th>\n",
       "      <td>family_169</td>\n",
       "      <td>137.000</td>\n",
       "      <td>80.000</td>\n",
       "    </tr>\n",
       "  </tbody>\n",
       "</table>\n",
       "<p>240 rows × 3 columns</p>\n",
       "</div>"
      ],
      "text/plain": [
       "         family  mse_val_naive  mse_test_naive\n",
       "0    family_127          3.162          16.739\n",
       "1    family_133          1.420           3.621\n",
       "2     family_69          1.203           4.360\n",
       "3    family_245         20.917          13.233\n",
       "4    family_102          1.962           7.200\n",
       "..          ...            ...             ...\n",
       "235  family_185        133.250         239.500\n",
       "236   family_76        173.312          30.600\n",
       "237  family_335         92.714         511.778\n",
       "238  family_215        191.444         153.083\n",
       "239  family_169        137.000          80.000\n",
       "\n",
       "[240 rows x 3 columns]"
      ]
     },
     "execution_count": 44,
     "metadata": {},
     "output_type": "execute_result"
    }
   ],
   "source": [
    "results"
   ]
  },
  {
   "cell_type": "code",
   "execution_count": 45,
   "id": "bd2eba65",
   "metadata": {
    "hidden": true
   },
   "outputs": [
    {
     "data": {
      "text/plain": [
       "mse_val_naive      68.980204\n",
       "mse_test_naive    101.631454\n",
       "dtype: float64"
      ]
     },
     "execution_count": 45,
     "metadata": {},
     "output_type": "execute_result"
    }
   ],
   "source": [
    "results.mean()"
   ]
  },
  {
   "cell_type": "markdown",
   "id": "bfd88ddf",
   "metadata": {
    "heading_collapsed": true
   },
   "source": [
    "## 3. ML Regression"
   ]
  },
  {
   "cell_type": "markdown",
   "id": "a3e8e02b",
   "metadata": {
    "hidden": true
   },
   "source": [
    "### 3.1. Linear Regression"
   ]
  },
  {
   "cell_type": "code",
   "execution_count": 46,
   "id": "23e55b67",
   "metadata": {
    "hidden": true,
    "scrolled": true
   },
   "outputs": [],
   "source": [
    "results_lr = pd.DataFrame(columns=['family','mse_val_lr', 'mse_test_lr'])\n",
    "\n",
    "for parent in updated_list:\n",
    "    temp = globals()[f'{parent}']\n",
    "    data_day = process_task_1(temp)\n",
    "    \n",
    "    #  Разделим датасеты каждой семьи на обучающую, валидационную и тестовую выборки\n",
    "    features_train, features_val, features_test = features_split(data_day)\n",
    "    x_train, x_val, x_test, y_train, y_val, y_test = train_split(features_train, features_val, features_test)\n",
    "    \n",
    "    # Линейная регрессия\n",
    "    lr = LinearRegression()\n",
    "    lr.fit(x_train, y_train)\n",
    "    y_pred_val_lr = np.round(lr.predict(x_val))\n",
    "    y_pred_test_lr = np.round(lr.predict(x_test))\n",
    "    features_val['y_pred_val_lr'] = y_pred_val_lr\n",
    "    features_test['y_pred_test_lr'] = y_pred_test_lr\n",
    "    mse_val_lr = round(metrics.mean_squared_error(y_val, y_pred_val_lr),3)\n",
    "    mse_test_lr = round(metrics.mean_squared_error(y_test, y_pred_test_lr),3)\n",
    "    \n",
    "    new_row = {'family':parent, 'mse_val_lr':mse_val_lr, 'mse_test_lr':mse_test_lr}\n",
    "    results_lr = results_lr.append(new_row,ignore_index=True)\n",
    "    \n",
    "results = pd.merge(results, results_lr, how='left', on='family')"
   ]
  },
  {
   "cell_type": "code",
   "execution_count": 47,
   "id": "19f34873",
   "metadata": {
    "hidden": true
   },
   "outputs": [
    {
     "data": {
      "text/plain": [
       "mse_val_naive      68.980204\n",
       "mse_test_naive    101.631454\n",
       "mse_val_lr        143.467479\n",
       "mse_test_lr       179.821117\n",
       "dtype: float64"
      ]
     },
     "execution_count": 47,
     "metadata": {},
     "output_type": "execute_result"
    }
   ],
   "source": [
    "results.mean()"
   ]
  },
  {
   "cell_type": "markdown",
   "id": "fd831f06",
   "metadata": {
    "hidden": true
   },
   "source": [
    "### 3.2. Random Forest"
   ]
  },
  {
   "cell_type": "code",
   "execution_count": 48,
   "id": "f726c0f0",
   "metadata": {
    "hidden": true
   },
   "outputs": [],
   "source": [
    "results_rf = pd.DataFrame(columns=['family','mse_val_rf', 'mse_test_rf'])\n",
    "\n",
    "for parent in updated_list:\n",
    "    temp = globals()[f'{parent}']\n",
    "    data_day = process_task_1(temp)\n",
    "    \n",
    "    #  Разделим датасеты каждой семьи на обучающую, валидационную и тестовую выборки\n",
    "    features_train, features_val, features_test = features_split(data_day)\n",
    "    x_train, x_val, x_test, y_train, y_val, y_test = train_split(features_train, features_val, features_test)\n",
    "    \n",
    "    # Random Forest\n",
    "    rf = RandomForestRegressor(n_estimators= 47,\n",
    "                            max_depth = 3,\n",
    "                            min_samples_split = 2,\n",
    "                            max_features = 2,\n",
    "                            random_state=42)\n",
    "    rf.fit(x_train, y_train)\n",
    "    y_pred_val_rf = np.round(rf.predict(x_val))\n",
    "    y_pred_test_rf = np.round(rf.predict(x_test))\n",
    "    features_val['y_pred_val_rf'] = y_pred_val_rf\n",
    "    features_test['y_pred_test_lr'] = y_pred_test_rf\n",
    "    mse_val_rf = round(metrics.mean_squared_error(y_val, y_pred_val_rf),3)\n",
    "    mse_test_rf = round(metrics.mean_squared_error(y_test, y_pred_test_rf),3)\n",
    "    \n",
    "    new_row = {'family':parent, 'mse_val_rf':mse_val_rf, 'mse_test_rf':mse_test_rf}\n",
    "    results_rf = results_rf.append(new_row,ignore_index=True)\n",
    "\n",
    "results = pd.merge(results, results_rf, how='left', on='family')"
   ]
  },
  {
   "cell_type": "code",
   "execution_count": 49,
   "id": "3442393b",
   "metadata": {
    "hidden": true
   },
   "outputs": [
    {
     "data": {
      "text/plain": [
       "mse_val_naive      68.980204\n",
       "mse_test_naive    101.631454\n",
       "mse_val_lr        143.467479\n",
       "mse_test_lr       179.821117\n",
       "mse_val_rf         79.603700\n",
       "mse_test_rf       104.189712\n",
       "dtype: float64"
      ]
     },
     "execution_count": 49,
     "metadata": {},
     "output_type": "execute_result"
    }
   ],
   "source": [
    "results.mean()"
   ]
  },
  {
   "cell_type": "markdown",
   "id": "fe830638",
   "metadata": {
    "hidden": true
   },
   "source": [
    "### 3.3. CatBoost Regressor"
   ]
  },
  {
   "cell_type": "code",
   "execution_count": 50,
   "id": "acedf063",
   "metadata": {
    "hidden": true
   },
   "outputs": [],
   "source": [
    "results_cb = pd.DataFrame(columns=['family','mse_val_cb', 'mse_test_cb'])\n",
    "\n",
    "for parent in updated_list:\n",
    "    temp = globals()[f'{parent}']\n",
    "    data_day = process_task_1(temp)\n",
    "    \n",
    "    #  Разделим датасеты каждой семьи на обучающую, валидационную и тестовую выборки\n",
    "    features_train, features_val, features_test = features_split(data_day)\n",
    "    x_train, x_val, x_test, y_train, y_val, y_test = train_split(features_train, features_val, features_test)\n",
    "    \n",
    "    cb = CatBoostRegressor(iterations = 170,\n",
    "                          depth=2,\n",
    "                          learning_rate = 0.9,\n",
    "                          random_seed = 42,\n",
    "                          eval_metric='RMSE',\n",
    "                          l2_leaf_reg = 5,\n",
    "                          od_wait=500,)\n",
    "    cb.fit(x_train, y_train,use_best_model=True, eval_set=(x_test, y_test), verbose=False)\n",
    "\n",
    "    y_pred_val_cb = np.round(cb.predict(x_val))\n",
    "    y_pred_test_cb = np.round(cb.predict(x_test))\n",
    "    features_val['y_pred_val_cb'] = y_pred_val_cb\n",
    "    features_test['y_pred_test_lr'] = y_pred_test_cb\n",
    "    mse_val_cb = round(metrics.mean_squared_error(y_val, y_pred_val_cb),3)\n",
    "    mse_test_cb = round(metrics.mean_squared_error(y_test, y_pred_test_cb),3)\n",
    "    \n",
    "    new_row = {'family':parent, 'mse_val_cb':mse_val_cb, 'mse_test_cb':mse_test_cb}\n",
    "    results_cb = results_cb.append(new_row,ignore_index=True)\n",
    "\n",
    "results = pd.merge(results, results_cb, how='left', on='family')"
   ]
  },
  {
   "cell_type": "code",
   "execution_count": 51,
   "id": "f1584231",
   "metadata": {
    "hidden": true
   },
   "outputs": [],
   "source": [
    "# results.mean()"
   ]
  },
  {
   "cell_type": "code",
   "execution_count": 52,
   "id": "f0aa9f66",
   "metadata": {
    "hidden": true
   },
   "outputs": [
    {
     "data": {
      "text/html": [
       "<div>\n",
       "<style scoped>\n",
       "    .dataframe tbody tr th:only-of-type {\n",
       "        vertical-align: middle;\n",
       "    }\n",
       "\n",
       "    .dataframe tbody tr th {\n",
       "        vertical-align: top;\n",
       "    }\n",
       "\n",
       "    .dataframe thead th {\n",
       "        text-align: right;\n",
       "    }\n",
       "</style>\n",
       "<table border=\"1\" class=\"dataframe\">\n",
       "  <thead>\n",
       "    <tr style=\"text-align: right;\">\n",
       "      <th></th>\n",
       "      <th>sample_model</th>\n",
       "      <th>average_mse</th>\n",
       "    </tr>\n",
       "  </thead>\n",
       "  <tbody>\n",
       "    <tr>\n",
       "      <th>0</th>\n",
       "      <td>val_naive</td>\n",
       "      <td>68.980204</td>\n",
       "    </tr>\n",
       "    <tr>\n",
       "      <th>1</th>\n",
       "      <td>test_naive</td>\n",
       "      <td>101.631454</td>\n",
       "    </tr>\n",
       "    <tr>\n",
       "      <th>2</th>\n",
       "      <td>val_lr</td>\n",
       "      <td>143.467479</td>\n",
       "    </tr>\n",
       "    <tr>\n",
       "      <th>3</th>\n",
       "      <td>test_lr</td>\n",
       "      <td>179.821117</td>\n",
       "    </tr>\n",
       "    <tr>\n",
       "      <th>4</th>\n",
       "      <td>val_rf</td>\n",
       "      <td>79.6037</td>\n",
       "    </tr>\n",
       "    <tr>\n",
       "      <th>5</th>\n",
       "      <td>test_rf</td>\n",
       "      <td>104.189712</td>\n",
       "    </tr>\n",
       "    <tr>\n",
       "      <th>6</th>\n",
       "      <td>val_cb</td>\n",
       "      <td>77.244946</td>\n",
       "    </tr>\n",
       "    <tr>\n",
       "      <th>7</th>\n",
       "      <td>test_cb</td>\n",
       "      <td>94.803608</td>\n",
       "    </tr>\n",
       "  </tbody>\n",
       "</table>\n",
       "</div>"
      ],
      "text/plain": [
       "  sample_model average_mse\n",
       "0    val_naive   68.980204\n",
       "1   test_naive  101.631454\n",
       "2       val_lr  143.467479\n",
       "3      test_lr  179.821117\n",
       "4       val_rf     79.6037\n",
       "5      test_rf  104.189712\n",
       "6       val_cb   77.244946\n",
       "7      test_cb   94.803608"
      ]
     },
     "execution_count": 52,
     "metadata": {},
     "output_type": "execute_result"
    }
   ],
   "source": [
    "# Выводим среднее результатов машинного обучения\n",
    "task_1 = pd.DataFrame(results.mean().reset_index().values, columns=[\"sample_model\", \"average_mse\"])\n",
    "task_1 = task_1.sort_index(axis = 0, ascending=True)\n",
    "task_1.sample_model = task_1.sample_model.apply(lambda x: x[4:])\n",
    "task_1"
   ]
  },
  {
   "cell_type": "code",
   "execution_count": null,
   "id": "dc113e46",
   "metadata": {
    "hidden": true
   },
   "outputs": [],
   "source": []
  }
 ],
 "metadata": {
  "kernelspec": {
   "display_name": "Python 3",
   "language": "python",
   "name": "python3"
  },
  "language_info": {
   "codemirror_mode": {
    "name": "ipython",
    "version": 3
   },
   "file_extension": ".py",
   "mimetype": "text/x-python",
   "name": "python",
   "nbconvert_exporter": "python",
   "pygments_lexer": "ipython3",
   "version": "3.8.8"
  }
 },
 "nbformat": 4,
 "nbformat_minor": 5
}
