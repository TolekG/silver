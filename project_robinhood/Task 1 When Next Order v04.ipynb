{
 "cells": [
  {
   "cell_type": "markdown",
   "id": "c6b9b9ec",
   "metadata": {},
   "source": [
    "# Задача 1:  Предсказание даты следующего заказа"
   ]
  },
  {
   "cell_type": "markdown",
   "id": "0088f328",
   "metadata": {},
   "source": [
    "# I. Импорт библиотек"
   ]
  },
  {
   "cell_type": "code",
   "execution_count": 71,
   "id": "f08e6c50",
   "metadata": {},
   "outputs": [],
   "source": [
    "# !pip install catboost"
   ]
  },
  {
   "cell_type": "code",
   "execution_count": 2,
   "id": "06d68ebd",
   "metadata": {},
   "outputs": [],
   "source": [
    "# !pip install lightgbm"
   ]
  },
  {
   "cell_type": "code",
   "execution_count": 35,
   "id": "52c93850",
   "metadata": {},
   "outputs": [],
   "source": [
    "import pandas as pd\n",
    "import numpy as np\n",
    "import os\n",
    "\n",
    "import matplotlib.pyplot as plt\n",
    "import seaborn as sns\n",
    "import statsmodels.api as sm\n",
    "from statsmodels.tsa.seasonal import seasonal_decompose\n",
    "from datetime import datetime\n",
    "\n",
    "from matplotlib import cm\n",
    "from matplotlib.colors import ListedColormap, LinearSegmentedColormap\n",
    "\n",
    "from sklearn import metrics  # подгружаем метрики\n",
    "from sklearn.linear_model import LinearRegression\n",
    "from sklearn.ensemble import RandomForestRegressor\n",
    "from catboost import CatBoostRegressor\n",
    "from lightgbm import LGBMRegressor\n",
    "from sklearn.ensemble import GradientBoostingRegressor\n",
    "from sklearn.ensemble import ExtraTreesRegressor\n",
    "from sklearn.preprocessing import LabelEncoder, OneHotEncoder, StandardScaler"
   ]
  },
  {
   "cell_type": "markdown",
   "id": "e1e13427",
   "metadata": {},
   "source": [
    "# II. Функции"
   ]
  },
  {
   "cell_type": "code",
   "execution_count": 246,
   "id": "7f6e97a9",
   "metadata": {},
   "outputs": [],
   "source": [
    "def process_task_1(df_family):\n",
    "    '''Приготавливаем данные выбранной семьи для обучения'''\n",
    "    data = df_family\n",
    "    data = data.sort_values(by='order_date', ascending=True)\n",
    "    \n",
    "    ########################## Creating Timeframe #################################\n",
    "    # Данные по заказам, которые нужно суммировать\n",
    "    data_o = data[['order_date','ordered']]\n",
    "    data_o.columns = ['date','order']\n",
    "    data_o = data_o.sort_values(by='date', ascending=True)\n",
    "    data_o = data_o.groupby(['date']).sum()\n",
    "    data_od = data_o.resample('d').sum()\n",
    "\n",
    "    # Данные, которые нужно усреднить\n",
    "    data_l = data.copy()\n",
    "    data_l = data_l[['order_date', 'leadtime']]\n",
    "    data_l.columns = ['date','leadtime']\n",
    "    data_l = data_l.sort_values(by='date', ascending=True)\n",
    "    data_l = data_l.groupby(['date']).mean()\n",
    "    data_ld = data_l.resample('d').mean()\n",
    "    \n",
    "    # Соединяем\n",
    "    data_day = pd.concat([data_od, data_ld], axis=1)\n",
    "    data_day.fillna(0, inplace=True)\n",
    "    data_day.columns = ['ordered_family','leadtime_family']\n",
    "    data_day = data_day[data_day.ordered_family > 0]\n",
    "    \n",
    "    ######################## Feature Enginnering #################################\n",
    "    data_day['date'] = data_day.index\n",
    "    data_day['year'] = data_day['date'].dt.year\n",
    "    data_day['weekday'] = data_day['date'].dt.weekday\n",
    "    data_day = data_day.reset_index(drop=True)\n",
    "    data_day['quarter'] = data_day.date.dt.to_period('Q')\n",
    "    data_day['month'] = data_day.date.dt.to_period('M')\n",
    "    data_day['order_diff'] = data_day.ordered_family.diff()\n",
    "    quarter = data_day.groupby(['quarter']).mean()\n",
    "    quarter = quarter[['ordered_family']]\n",
    "    quarter = quarter.reset_index()\n",
    "    quarter.columns = ['quarter','ordered_mean']\n",
    "    data_day = pd.merge(data_day, quarter, how='left', on='quarter')\n",
    "    data_day['volume_inc'] = data_day.ordered_family - data_day.ordered_mean\n",
    "    data_day['volume_compare'] = data_day.volume_inc.apply(lambda x: 1 if x <= 0 else 0)\n",
    "    \n",
    "    ########################## Target Variable ###################################\n",
    "    data_day['difference'] = data_day.date.diff(-1)\n",
    "    data_day['difference'] = data_day['difference'].astype('timedelta64[D]')\n",
    "    data_day['difference'] = data_day['difference'].apply(lambda x: -x)\n",
    "    \n",
    "    ########################### Converting to Numeric Format #####################\n",
    "    data_day['date'] = data_day['date'].astype(int) // 10**9\n",
    "    data_day['quarter'] = data_day.quarter.astype(int)\n",
    "    data_day['month'] = data_day.month.astype(int)\n",
    "\n",
    "    data_day.dropna(inplace=True)\n",
    "    return data_day"
   ]
  },
  {
   "cell_type": "code",
   "execution_count": 247,
   "id": "940609c7",
   "metadata": {},
   "outputs": [],
   "source": [
    "def features_split(data):\n",
    "    split_coef = 0.8\n",
    "    \n",
    "    feature_train, features_test = np.split(data, [int(split_coef*len(data))])\n",
    "    features_train, features_val = np.split(feature_train, [int(split_coef*len(feature_train))])\n",
    "    \n",
    "    return features_train, features_val, features_test"
   ]
  },
  {
   "cell_type": "code",
   "execution_count": 248,
   "id": "f88c3fb8",
   "metadata": {},
   "outputs": [],
   "source": [
    "def train_split(features_train, features_val, features_test):\n",
    "    \n",
    "    x_train = features_train[features_list]\n",
    "    x_val = features_val[features_list]\n",
    "    x_test  = features_test[features_list]\n",
    "    y_train = features_train['difference']\n",
    "    y_val = features_val['difference']\n",
    "    y_test = features_test['difference']\n",
    "    \n",
    "    return x_train, x_val, x_test, y_train, y_val, y_test"
   ]
  },
  {
   "cell_type": "markdown",
   "id": "314dcb9d",
   "metadata": {},
   "source": [
    "# III. Данные"
   ]
  },
  {
   "cell_type": "code",
   "execution_count": 249,
   "id": "9f71f062",
   "metadata": {},
   "outputs": [],
   "source": [
    "df_village = pd.read_csv('village_table.csv')"
   ]
  },
  {
   "cell_type": "code",
   "execution_count": 250,
   "id": "e1094858",
   "metadata": {},
   "outputs": [],
   "source": [
    "# Преобразуем в формат datetime\n",
    "df_village.order_date = pd.to_datetime(df_village.order_date)\n",
    "df_village.delivery_date = pd.to_datetime(df_village.delivery_date)\n",
    "# Преобразуем в цифровой формат \n",
    "df_village['leadtime'] = df_village['leadtime'].apply(lambda x: x[:-5])\n",
    "df_village['leadtime'] = df_village['leadtime'].astype(int)"
   ]
  },
  {
   "cell_type": "code",
   "execution_count": 251,
   "id": "d5f41eb0",
   "metadata": {},
   "outputs": [
    {
     "name": "stdout",
     "output_type": "stream",
     "text": [
      "<class 'pandas.core.frame.DataFrame'>\n",
      "RangeIndex: 243743 entries, 0 to 243742\n",
      "Data columns (total 11 columns):\n",
      " #   Column         Non-Null Count   Dtype         \n",
      "---  ------         --------------   -----         \n",
      " 0   village        243743 non-null  object        \n",
      " 1   year           243743 non-null  int64         \n",
      " 2   family         243743 non-null  object        \n",
      " 3   category       243743 non-null  object        \n",
      " 4   fruit          243743 non-null  object        \n",
      " 5   grade          243743 non-null  int64         \n",
      " 6   order_date     243743 non-null  datetime64[ns]\n",
      " 7   delivery_date  243743 non-null  datetime64[ns]\n",
      " 8   ordered        243743 non-null  float64       \n",
      " 9   shipped        243743 non-null  float64       \n",
      " 10  leadtime       243743 non-null  int64         \n",
      "dtypes: datetime64[ns](2), float64(2), int64(3), object(4)\n",
      "memory usage: 20.5+ MB\n"
     ]
    }
   ],
   "source": [
    "df_village.info()"
   ]
  },
  {
   "cell_type": "code",
   "execution_count": 252,
   "id": "98740c1c",
   "metadata": {},
   "outputs": [
    {
     "data": {
      "text/html": [
       "<div>\n",
       "<style scoped>\n",
       "    .dataframe tbody tr th:only-of-type {\n",
       "        vertical-align: middle;\n",
       "    }\n",
       "\n",
       "    .dataframe tbody tr th {\n",
       "        vertical-align: top;\n",
       "    }\n",
       "\n",
       "    .dataframe thead th {\n",
       "        text-align: right;\n",
       "    }\n",
       "</style>\n",
       "<table border=\"1\" class=\"dataframe\">\n",
       "  <thead>\n",
       "    <tr style=\"text-align: right;\">\n",
       "      <th></th>\n",
       "      <th>village</th>\n",
       "      <th>year</th>\n",
       "      <th>family</th>\n",
       "      <th>category</th>\n",
       "      <th>fruit</th>\n",
       "      <th>grade</th>\n",
       "      <th>order_date</th>\n",
       "      <th>delivery_date</th>\n",
       "      <th>ordered</th>\n",
       "      <th>shipped</th>\n",
       "      <th>leadtime</th>\n",
       "    </tr>\n",
       "  </thead>\n",
       "  <tbody>\n",
       "    <tr>\n",
       "      <th>0</th>\n",
       "      <td>Robinhood_village</td>\n",
       "      <td>2020</td>\n",
       "      <td>family_244</td>\n",
       "      <td>category_25</td>\n",
       "      <td>fruit_37</td>\n",
       "      <td>165</td>\n",
       "      <td>2019-12-30</td>\n",
       "      <td>2020-01-03</td>\n",
       "      <td>1650.0</td>\n",
       "      <td>1663.20</td>\n",
       "      <td>4</td>\n",
       "    </tr>\n",
       "    <tr>\n",
       "      <th>1</th>\n",
       "      <td>Robinhood_village</td>\n",
       "      <td>2020</td>\n",
       "      <td>family_127</td>\n",
       "      <td>category_14</td>\n",
       "      <td>fruit_62</td>\n",
       "      <td>250</td>\n",
       "      <td>2019-12-30</td>\n",
       "      <td>2020-01-10</td>\n",
       "      <td>1000.0</td>\n",
       "      <td>1060.00</td>\n",
       "      <td>11</td>\n",
       "    </tr>\n",
       "    <tr>\n",
       "      <th>2</th>\n",
       "      <td>Robinhood_village</td>\n",
       "      <td>2020</td>\n",
       "      <td>family_133</td>\n",
       "      <td>category_16</td>\n",
       "      <td>fruit_48</td>\n",
       "      <td>330</td>\n",
       "      <td>2019-12-30</td>\n",
       "      <td>2020-01-08</td>\n",
       "      <td>1320.0</td>\n",
       "      <td>1336.50</td>\n",
       "      <td>9</td>\n",
       "    </tr>\n",
       "    <tr>\n",
       "      <th>3</th>\n",
       "      <td>Robinhood_village</td>\n",
       "      <td>2020</td>\n",
       "      <td>family_133</td>\n",
       "      <td>category_25</td>\n",
       "      <td>fruit_49</td>\n",
       "      <td>250</td>\n",
       "      <td>2019-12-30</td>\n",
       "      <td>2020-01-08</td>\n",
       "      <td>2500.0</td>\n",
       "      <td>2508.75</td>\n",
       "      <td>9</td>\n",
       "    </tr>\n",
       "    <tr>\n",
       "      <th>4</th>\n",
       "      <td>Robinhood_village</td>\n",
       "      <td>2020</td>\n",
       "      <td>family_133</td>\n",
       "      <td>category_4</td>\n",
       "      <td>fruit_52</td>\n",
       "      <td>315</td>\n",
       "      <td>2019-12-30</td>\n",
       "      <td>2020-01-08</td>\n",
       "      <td>4725.0</td>\n",
       "      <td>4759.65</td>\n",
       "      <td>9</td>\n",
       "    </tr>\n",
       "  </tbody>\n",
       "</table>\n",
       "</div>"
      ],
      "text/plain": [
       "             village  year      family     category     fruit  grade  \\\n",
       "0  Robinhood_village  2020  family_244  category_25  fruit_37    165   \n",
       "1  Robinhood_village  2020  family_127  category_14  fruit_62    250   \n",
       "2  Robinhood_village  2020  family_133  category_16  fruit_48    330   \n",
       "3  Robinhood_village  2020  family_133  category_25  fruit_49    250   \n",
       "4  Robinhood_village  2020  family_133   category_4  fruit_52    315   \n",
       "\n",
       "  order_date delivery_date  ordered  shipped  leadtime  \n",
       "0 2019-12-30    2020-01-03   1650.0  1663.20         4  \n",
       "1 2019-12-30    2020-01-10   1000.0  1060.00        11  \n",
       "2 2019-12-30    2020-01-08   1320.0  1336.50         9  \n",
       "3 2019-12-30    2020-01-08   2500.0  2508.75         9  \n",
       "4 2019-12-30    2020-01-08   4725.0  4759.65         9  "
      ]
     },
     "execution_count": 252,
     "metadata": {},
     "output_type": "execute_result"
    }
   ],
   "source": [
    "df_village.head()"
   ]
  },
  {
   "cell_type": "code",
   "execution_count": 253,
   "id": "9030de73",
   "metadata": {},
   "outputs": [],
   "source": [
    "#  Создадим датафреймы для каждой семьи\n",
    "for parent in df_village.family.unique():\n",
    "    globals()[f'{parent}'] = df_village.query(f\"family == '{parent}'\")\n",
    "#     globals()[f'{parent}'].to_csv(f'dfs/{parent}.csv', index=False)"
   ]
  },
  {
   "cell_type": "markdown",
   "id": "5a4cc854",
   "metadata": {},
   "source": [
    "# IV Решение задачи предсказания\n"
   ]
  },
  {
   "cell_type": "markdown",
   "id": "7005f536",
   "metadata": {},
   "source": [
    "## 1. Преобразования данных"
   ]
  },
  {
   "cell_type": "code",
   "execution_count": 254,
   "id": "d5cb566e",
   "metadata": {},
   "outputs": [],
   "source": [
    "# features_list = ['ordered_family','order_diff','leadtime_family','date','year','weekday','quarter', 'month']"
   ]
  },
  {
   "cell_type": "code",
   "execution_count": 269,
   "id": "b90202ee",
   "metadata": {},
   "outputs": [],
   "source": [
    "features_list = ['ordered_family', 'leadtime_family', 'date', 'year', 'weekday',\n",
    "       'quarter', 'month',  'order_diff', 'ordered_mean',\n",
    "       'volume_inc', 'volume_compare']"
   ]
  },
  {
   "cell_type": "markdown",
   "id": "20e11fc6",
   "metadata": {},
   "source": [
    "## 2. Baseline"
   ]
  },
  {
   "cell_type": "markdown",
   "id": "65ed2607",
   "metadata": {},
   "source": [
    "Baseline - это предсказание дня следующей закупки на основании среднего значения в обучающей выборке"
   ]
  },
  {
   "cell_type": "code",
   "execution_count": 256,
   "id": "ff69f327",
   "metadata": {},
   "outputs": [
    {
     "data": {
      "text/html": [
       "<div>\n",
       "<style scoped>\n",
       "    .dataframe tbody tr th:only-of-type {\n",
       "        vertical-align: middle;\n",
       "    }\n",
       "\n",
       "    .dataframe tbody tr th {\n",
       "        vertical-align: top;\n",
       "    }\n",
       "\n",
       "    .dataframe thead th {\n",
       "        text-align: right;\n",
       "    }\n",
       "</style>\n",
       "<table border=\"1\" class=\"dataframe\">\n",
       "  <thead>\n",
       "    <tr style=\"text-align: right;\">\n",
       "      <th></th>\n",
       "      <th>village</th>\n",
       "      <th>year</th>\n",
       "      <th>family</th>\n",
       "      <th>category</th>\n",
       "      <th>fruit</th>\n",
       "      <th>grade</th>\n",
       "      <th>order_date</th>\n",
       "      <th>delivery_date</th>\n",
       "      <th>ordered</th>\n",
       "      <th>shipped</th>\n",
       "      <th>leadtime</th>\n",
       "    </tr>\n",
       "  </thead>\n",
       "  <tbody>\n",
       "    <tr>\n",
       "      <th>514</th>\n",
       "      <td>Robinhood_village</td>\n",
       "      <td>2020</td>\n",
       "      <td>family_119</td>\n",
       "      <td>category_3</td>\n",
       "      <td>fruit_310</td>\n",
       "      <td>250</td>\n",
       "      <td>2020-01-03</td>\n",
       "      <td>2020-01-13</td>\n",
       "      <td>4000.0</td>\n",
       "      <td>4000.0</td>\n",
       "      <td>10</td>\n",
       "    </tr>\n",
       "    <tr>\n",
       "      <th>551</th>\n",
       "      <td>Robinhood_village</td>\n",
       "      <td>2020</td>\n",
       "      <td>family_119</td>\n",
       "      <td>category_3</td>\n",
       "      <td>fruit_310</td>\n",
       "      <td>400</td>\n",
       "      <td>2020-01-03</td>\n",
       "      <td>2020-01-13</td>\n",
       "      <td>24000.0</td>\n",
       "      <td>24500.0</td>\n",
       "      <td>10</td>\n",
       "    </tr>\n",
       "    <tr>\n",
       "      <th>552</th>\n",
       "      <td>Robinhood_village</td>\n",
       "      <td>2020</td>\n",
       "      <td>family_119</td>\n",
       "      <td>category_9</td>\n",
       "      <td>fruit_311</td>\n",
       "      <td>420</td>\n",
       "      <td>2020-01-03</td>\n",
       "      <td>2020-01-13</td>\n",
       "      <td>30240.0</td>\n",
       "      <td>30452.1</td>\n",
       "      <td>10</td>\n",
       "    </tr>\n",
       "    <tr>\n",
       "      <th>641</th>\n",
       "      <td>Robinhood_village</td>\n",
       "      <td>2020</td>\n",
       "      <td>family_119</td>\n",
       "      <td>category_76</td>\n",
       "      <td>fruit_382</td>\n",
       "      <td>320</td>\n",
       "      <td>2020-01-07</td>\n",
       "      <td>2020-01-16</td>\n",
       "      <td>11520.0</td>\n",
       "      <td>11212.8</td>\n",
       "      <td>9</td>\n",
       "    </tr>\n",
       "    <tr>\n",
       "      <th>663</th>\n",
       "      <td>Robinhood_village</td>\n",
       "      <td>2020</td>\n",
       "      <td>family_119</td>\n",
       "      <td>category_24</td>\n",
       "      <td>fruit_406</td>\n",
       "      <td>430</td>\n",
       "      <td>2020-01-07</td>\n",
       "      <td>2020-01-22</td>\n",
       "      <td>20640.0</td>\n",
       "      <td>21156.0</td>\n",
       "      <td>15</td>\n",
       "    </tr>\n",
       "  </tbody>\n",
       "</table>\n",
       "</div>"
      ],
      "text/plain": [
       "               village  year      family     category      fruit  grade  \\\n",
       "514  Robinhood_village  2020  family_119   category_3  fruit_310    250   \n",
       "551  Robinhood_village  2020  family_119   category_3  fruit_310    400   \n",
       "552  Robinhood_village  2020  family_119   category_9  fruit_311    420   \n",
       "641  Robinhood_village  2020  family_119  category_76  fruit_382    320   \n",
       "663  Robinhood_village  2020  family_119  category_24  fruit_406    430   \n",
       "\n",
       "    order_date delivery_date  ordered  shipped  leadtime  \n",
       "514 2020-01-03    2020-01-13   4000.0   4000.0        10  \n",
       "551 2020-01-03    2020-01-13  24000.0  24500.0        10  \n",
       "552 2020-01-03    2020-01-13  30240.0  30452.1        10  \n",
       "641 2020-01-07    2020-01-16  11520.0  11212.8         9  \n",
       "663 2020-01-07    2020-01-22  20640.0  21156.0        15  "
      ]
     },
     "execution_count": 256,
     "metadata": {},
     "output_type": "execute_result"
    }
   ],
   "source": [
    "family_119.head()"
   ]
  },
  {
   "cell_type": "code",
   "execution_count": 257,
   "id": "9ceeec2d",
   "metadata": {},
   "outputs": [],
   "source": [
    "# process_task_1(family_119)"
   ]
  },
  {
   "cell_type": "code",
   "execution_count": 220,
   "id": "8c74e0a8",
   "metadata": {},
   "outputs": [],
   "source": [
    "# data = family_119.copy()\n",
    "# data = data.sort_values(by='order_date', ascending=True)"
   ]
  },
  {
   "cell_type": "code",
   "execution_count": 242,
   "id": "e3f86c10",
   "metadata": {},
   "outputs": [],
   "source": [
    "#     ########################## Creating Timeframe #################################\n",
    "#     # Данные по заказам, которые нужно суммировать\n",
    "# data_o = data[['order_date','ordered']]\n",
    "# data_o.columns = ['date','order']\n",
    "# data_o = data_o.sort_values(by='date', ascending=True)\n",
    "# data_o = data_o.groupby(['date']).sum()\n",
    "# data_od = data_o.resample('d').sum()\n",
    "\n",
    "#     # Данные, которые нужно усреднить\n",
    "# data_l = data.copy()\n",
    "# data_l = data_l[['order_date', 'leadtime']]\n",
    "# data_l.columns = ['date','leadtime']\n",
    "# data_l = data_l.sort_values(by='date', ascending=True)\n",
    "# data_l = data_l.groupby(['date']).mean()\n",
    "# data_ld = data_l.resample('d').mean()\n",
    "    \n",
    "#     # Соединяем\n",
    "# data_day = pd.concat([data_od, data_ld], axis=1)\n",
    "# data_day.fillna(0, inplace=True)\n",
    "# data_day.columns = ['ordered_family','leadtime_family']\n",
    "# data_day = data_day[data_day.ordered_family > 0]\n",
    "    \n",
    "#     ######################## Feature Enginnering #################################\n",
    "# data_day['date'] = data_day.index\n",
    "# data_day['year'] = data_day['date'].dt.year\n",
    "# data_day['weekday'] = data_day['date'].dt.weekday\n",
    "# data_day = data_day.reset_index(drop=True)\n",
    "# data_day['quarter'] = data_day.date.dt.to_period('Q')\n",
    "# data_day['month'] = data_day.date.dt.to_period('M')"
   ]
  },
  {
   "cell_type": "code",
   "execution_count": 239,
   "id": "13796ead",
   "metadata": {},
   "outputs": [],
   "source": [
    "# data_day"
   ]
  },
  {
   "cell_type": "code",
   "execution_count": 243,
   "id": "d19d30ee",
   "metadata": {},
   "outputs": [],
   "source": [
    "#     ########################## Target Variable ###################################\n",
    "# data_day['difference'] = data_day.date.diff(-1)\n",
    "# data_day['difference'] = data_day['difference'].astype('timedelta64[D]')\n",
    "# data_day['difference'] = data_day['difference'].apply(lambda x: -x)"
   ]
  },
  {
   "cell_type": "code",
   "execution_count": 244,
   "id": "8b589609",
   "metadata": {},
   "outputs": [],
   "source": [
    "# data_day"
   ]
  },
  {
   "cell_type": "code",
   "execution_count": 245,
   "id": "c8b9779e",
   "metadata": {},
   "outputs": [],
   "source": [
    "# data_day['order_diff'] = data_day.ordered_family.diff()\n",
    "# quarter = data_day.groupby(['quarter']).mean()\n",
    "# quarter = quarter[['ordered_family']]\n",
    "# quarter = quarter.reset_index()\n",
    "# quarter.columns = ['quarter','ordered_mean']\n",
    "# data_day = pd.merge(data_day, quarter, how='left', on='quarter')\n",
    "# data_day['volume_inc'] = data_day.ordered_family - data_day.ordered_mean\n",
    "# data_day['volume_compare'] = data_day.volume_inc.apply(lambda x: 1 if x <= 0 else 0)"
   ]
  },
  {
   "cell_type": "code",
   "execution_count": 241,
   "id": "74b077fe",
   "metadata": {},
   "outputs": [],
   "source": [
    "# data_day.columns"
   ]
  },
  {
   "cell_type": "code",
   "execution_count": null,
   "id": "f7fa6802",
   "metadata": {},
   "outputs": [],
   "source": []
  },
  {
   "cell_type": "code",
   "execution_count": null,
   "id": "6a75811d",
   "metadata": {},
   "outputs": [],
   "source": []
  },
  {
   "cell_type": "code",
   "execution_count": null,
   "id": "f47b06f7",
   "metadata": {},
   "outputs": [],
   "source": []
  },
  {
   "cell_type": "code",
   "execution_count": 326,
   "id": "a5560017",
   "metadata": {
    "scrolled": true
   },
   "outputs": [
    {
     "data": {
      "text/html": [
       "<div>\n",
       "<style scoped>\n",
       "    .dataframe tbody tr th:only-of-type {\n",
       "        vertical-align: middle;\n",
       "    }\n",
       "\n",
       "    .dataframe tbody tr th {\n",
       "        vertical-align: top;\n",
       "    }\n",
       "\n",
       "    .dataframe thead th {\n",
       "        text-align: right;\n",
       "    }\n",
       "</style>\n",
       "<table border=\"1\" class=\"dataframe\">\n",
       "  <thead>\n",
       "    <tr style=\"text-align: right;\">\n",
       "      <th></th>\n",
       "      <th>model</th>\n",
       "      <th>mse validation</th>\n",
       "      <th>mse test</th>\n",
       "    </tr>\n",
       "  </thead>\n",
       "  <tbody>\n",
       "    <tr>\n",
       "      <th>0</th>\n",
       "      <td>Naive</td>\n",
       "      <td>62.333</td>\n",
       "      <td>102.704</td>\n",
       "    </tr>\n",
       "  </tbody>\n",
       "</table>\n",
       "</div>"
      ],
      "text/plain": [
       "   model  mse validation  mse test\n",
       "0  Naive          62.333   102.704"
      ]
     },
     "execution_count": 326,
     "metadata": {},
     "output_type": "execute_result"
    }
   ],
   "source": [
    "updated_list = []\n",
    "results_naive = pd.DataFrame(columns=['family','mse_val_naive','mse_test_naive'])\n",
    "\n",
    "for parent in df_village.family.unique():\n",
    "    temp = globals()[f'{parent}']\n",
    "    data_day = process_task_1(temp)\n",
    "    if len(data_day) < 35: # удаляем семьи с записями менее 35\n",
    "        continue\n",
    "    updated_list.append(parent)\n",
    "    \n",
    "    #  Разделим датасеты каждой семьи на обучачение и тест\n",
    "    features_train, features_val, features_test = features_split(data_day)\n",
    "    x_train, x_val, x_test, y_train, y_val, y_test = train_split(features_train, features_val, features_test)\n",
    "    \n",
    "    \n",
    "    # Наивная модель\n",
    "    features_val['y_pred_val_naive'] = (round(y_train.mean()))\n",
    "    features_test['y_pred_test_naive'] = (round(y_train.mean()))\n",
    "    y_pred_val_naive = features_val['y_pred_val_naive']\n",
    "    y_pred_test_naive = features_test['y_pred_test_naive']\n",
    "    \n",
    "    mse_val_naive = round(metrics.mean_squared_error(y_val, y_pred_val_naive),3)\n",
    "    mse_test_naive = round(metrics.mean_squared_error(y_test, y_pred_test_naive),3)\n",
    "    new_row = {'family':parent, 'mse_val_naive':mse_val_naive,'mse_test_naive':mse_test_naive}\n",
    "    results_naive = results_naive.append(new_row,ignore_index=True)\n",
    "\n",
    "mse_val_naive_total = round(results_naive.mse_val_naive.mean(),3)\n",
    "mse_test_naive_total = round(results_naive.mse_test_naive.mean(),3)\n",
    "row = {'model': 'Naive','mse validation':mse_val_naive_total,'mse test':mse_test_naive_total}\n",
    "results_naive_total = pd.DataFrame(columns = ['model','mse validation','mse test'])\n",
    "results_naive_total = results_naive_total.append(row,ignore_index=True)\n",
    "\n",
    "results_naive_total"
   ]
  },
  {
   "cell_type": "markdown",
   "id": "bfd88ddf",
   "metadata": {},
   "source": [
    "## 3. ML Regression"
   ]
  },
  {
   "cell_type": "markdown",
   "id": "a3e8e02b",
   "metadata": {},
   "source": [
    "### 3.1. Linear Regression"
   ]
  },
  {
   "cell_type": "code",
   "execution_count": 163,
   "id": "23e55b67",
   "metadata": {
    "scrolled": true
   },
   "outputs": [],
   "source": [
    "# results_lr = pd.DataFrame(columns=['family','mse_val_lr', 'mse_test_lr'])\n",
    "\n",
    "# for parent in updated_list:\n",
    "#     temp = globals()[f'{parent}']\n",
    "#     data_day = process_task_1(temp)\n",
    "    \n",
    "#     #  Разделим датасеты каждой семьи на обучающую, валидационную и тестовую выборки\n",
    "#     features_train, features_val, features_test = features_split(data_day)\n",
    "#     x_train, x_val, x_test, y_train, y_val, y_test = train_split(features_train, features_val, features_test)\n",
    "    \n",
    "    \n",
    "#     # Линейная регрессия\n",
    "#     lr = LinearRegression()\n",
    "#     lr.fit(x_train, y_train)\n",
    "#     y_pred_val_lr = np.round(lr.predict(x_val))\n",
    "#     y_pred_test_lr = np.round(lr.predict(x_test))\n",
    "#     features_val['y_pred_val_lr'] = y_pred_val_lr\n",
    "#     features_test['y_pred_test_lr'] = y_pred_test_lr\n",
    "#     mse_val_lr = round(metrics.mean_squared_error(y_val, y_pred_val_lr),3)\n",
    "#     mse_test_lr = round(metrics.mean_squared_error(y_test, y_pred_test_lr),3)\n",
    "    \n",
    "#     new_row = {'family':parent, 'mse_val_lr':mse_val_lr, 'mse_test_lr':mse_test_lr}\n",
    "#     results_lr = results_lr.append(new_row,ignore_index=True)\n",
    "    \n",
    "\n",
    "# mse_val_lr_total = round(results_lr.mse_val_lr.mean(),3)\n",
    "# mse_test_lr_total = round(results_lr.mse_test_lr.mean(),3)\n",
    "# row = {'model': 'linear regressor','mse validation':mse_val_lr_total,'mse test':mse_test_lr_total}\n",
    "# results_lr_total = pd.DataFrame(columns = ['model','mse validation','mse test'])\n",
    "# results_lr_total = results_lr_total.append(row,ignore_index=True)\n",
    "\n",
    "# results_lr_total"
   ]
  },
  {
   "cell_type": "code",
   "execution_count": 164,
   "id": "5ad1e518",
   "metadata": {},
   "outputs": [],
   "source": [
    "# results_lr_total"
   ]
  },
  {
   "cell_type": "code",
   "execution_count": 331,
   "id": "cee52c6d",
   "metadata": {},
   "outputs": [],
   "source": [
    "evaluation = pd.concat([results_naive_total],ignore_index=True)"
   ]
  },
  {
   "cell_type": "code",
   "execution_count": 329,
   "id": "9a0dc7f1",
   "metadata": {},
   "outputs": [],
   "source": [
    "# evaluation = pd.DataFrame()"
   ]
  },
  {
   "cell_type": "code",
   "execution_count": 332,
   "id": "c0fd7ba4",
   "metadata": {},
   "outputs": [
    {
     "data": {
      "text/html": [
       "<div>\n",
       "<style scoped>\n",
       "    .dataframe tbody tr th:only-of-type {\n",
       "        vertical-align: middle;\n",
       "    }\n",
       "\n",
       "    .dataframe tbody tr th {\n",
       "        vertical-align: top;\n",
       "    }\n",
       "\n",
       "    .dataframe thead th {\n",
       "        text-align: right;\n",
       "    }\n",
       "</style>\n",
       "<table border=\"1\" class=\"dataframe\">\n",
       "  <thead>\n",
       "    <tr style=\"text-align: right;\">\n",
       "      <th></th>\n",
       "      <th>model</th>\n",
       "      <th>mse validation</th>\n",
       "      <th>mse test</th>\n",
       "    </tr>\n",
       "  </thead>\n",
       "  <tbody>\n",
       "    <tr>\n",
       "      <th>0</th>\n",
       "      <td>Naive</td>\n",
       "      <td>62.333</td>\n",
       "      <td>102.704</td>\n",
       "    </tr>\n",
       "  </tbody>\n",
       "</table>\n",
       "</div>"
      ],
      "text/plain": [
       "   model  mse validation  mse test\n",
       "0  Naive          62.333   102.704"
      ]
     },
     "execution_count": 332,
     "metadata": {},
     "output_type": "execute_result"
    }
   ],
   "source": [
    "evaluation"
   ]
  },
  {
   "cell_type": "markdown",
   "id": "fd831f06",
   "metadata": {},
   "source": [
    "### 3.1. Random Forest"
   ]
  },
  {
   "cell_type": "code",
   "execution_count": 333,
   "id": "3bcf38f9",
   "metadata": {},
   "outputs": [],
   "source": [
    "features_list = ['ordered_family', 'leadtime_family', 'date', 'year', 'weekday','quarter', 'month','order_diff', \n",
    "                 'ordered_mean', ]"
   ]
  },
  {
   "cell_type": "code",
   "execution_count": 334,
   "id": "f726c0f0",
   "metadata": {},
   "outputs": [
    {
     "data": {
      "text/html": [
       "<div>\n",
       "<style scoped>\n",
       "    .dataframe tbody tr th:only-of-type {\n",
       "        vertical-align: middle;\n",
       "    }\n",
       "\n",
       "    .dataframe tbody tr th {\n",
       "        vertical-align: top;\n",
       "    }\n",
       "\n",
       "    .dataframe thead th {\n",
       "        text-align: right;\n",
       "    }\n",
       "</style>\n",
       "<table border=\"1\" class=\"dataframe\">\n",
       "  <thead>\n",
       "    <tr style=\"text-align: right;\">\n",
       "      <th></th>\n",
       "      <th>model</th>\n",
       "      <th>mse validation</th>\n",
       "      <th>mse test</th>\n",
       "    </tr>\n",
       "  </thead>\n",
       "  <tbody>\n",
       "    <tr>\n",
       "      <th>0</th>\n",
       "      <td>Random forest regressor</td>\n",
       "      <td>61.817</td>\n",
       "      <td>102.398</td>\n",
       "    </tr>\n",
       "  </tbody>\n",
       "</table>\n",
       "</div>"
      ],
      "text/plain": [
       "                     model  mse validation  mse test\n",
       "0  Random forest regressor          61.817   102.398"
      ]
     },
     "execution_count": 334,
     "metadata": {},
     "output_type": "execute_result"
    }
   ],
   "source": [
    "results_rf = pd.DataFrame(columns=['family','mse_val_rf', 'mse_test_rf'])\n",
    "\n",
    "for parent in updated_list:\n",
    "    temp = globals()[f'{parent}']\n",
    "    data_day = process_task_1(temp)\n",
    "    \n",
    "    #  Разделим датасеты каждой семьи на обучающую, валидационную и тестовую выборки\n",
    "    features_train, features_val, features_test = features_split(data_day)\n",
    "    x_train, x_val, x_test, y_train, y_val, y_test = train_split(features_train, features_val, features_test)\n",
    "    \n",
    "    scaler = StandardScaler()\n",
    "    x_train = scaler.fit_transform(x_train) \n",
    "    x_val = scaler.transform(x_val)\n",
    "    x_test = scaler.transform(x_test)\n",
    "    \n",
    "    \n",
    "    # Random Forest\n",
    "    rf = RandomForestRegressor(n_estimators= 130,\n",
    "                            max_depth = 3,\n",
    "                            min_samples_split = 2,\n",
    "                            min_samples_leaf = 3,\n",
    "                            max_features = 2,\n",
    "                            criterion = 'mse',\n",
    "                            min_weight_fraction_leaf =0.4,\n",
    "                            random_state=42)\n",
    "    rf.fit(x_train, y_train)\n",
    "    y_pred_val_rf = np.round(rf.predict(x_val))\n",
    "    y_pred_test_rf = np.round(rf.predict(x_test))\n",
    "    features_val['y_pred_val_rf'] = y_pred_val_rf\n",
    "    features_test['y_pred_test_lr'] = y_pred_test_rf\n",
    "    mse_val_rf = round(metrics.mean_squared_error(y_val, y_pred_val_rf),3)\n",
    "    mse_test_rf = round(metrics.mean_squared_error(y_test, y_pred_test_rf),3)\n",
    "    \n",
    "    new_row = {'family':parent, 'mse_val_rf':mse_val_rf, 'mse_test_rf':mse_test_rf}\n",
    "    results_rf = results_rf.append(new_row,ignore_index=True)\n",
    "\n",
    "mse_val_rf_total = round(results_rf.mse_val_rf.mean(),3)\n",
    "mse_test_rf_total = round(results_rf.mse_test_rf.mean(),3)\n",
    "row = {'model': 'Random forest regressor','mse validation':mse_val_rf_total,'mse test':mse_test_rf_total}\n",
    "results_rf_total = pd.DataFrame(columns = ['model','mse validation','mse test'])\n",
    "results_rf_total = results_rf_total.append(row,ignore_index=True)\n",
    "\n",
    "results_rf_total"
   ]
  },
  {
   "cell_type": "code",
   "execution_count": 335,
   "id": "b213ba6c",
   "metadata": {},
   "outputs": [
    {
     "data": {
      "text/html": [
       "<div>\n",
       "<style scoped>\n",
       "    .dataframe tbody tr th:only-of-type {\n",
       "        vertical-align: middle;\n",
       "    }\n",
       "\n",
       "    .dataframe tbody tr th {\n",
       "        vertical-align: top;\n",
       "    }\n",
       "\n",
       "    .dataframe thead th {\n",
       "        text-align: right;\n",
       "    }\n",
       "</style>\n",
       "<table border=\"1\" class=\"dataframe\">\n",
       "  <thead>\n",
       "    <tr style=\"text-align: right;\">\n",
       "      <th></th>\n",
       "      <th>model</th>\n",
       "      <th>mse validation</th>\n",
       "      <th>mse test</th>\n",
       "    </tr>\n",
       "  </thead>\n",
       "  <tbody>\n",
       "    <tr>\n",
       "      <th>0</th>\n",
       "      <td>Random forest regressor</td>\n",
       "      <td>61.817</td>\n",
       "      <td>102.398</td>\n",
       "    </tr>\n",
       "  </tbody>\n",
       "</table>\n",
       "</div>"
      ],
      "text/plain": [
       "                     model  mse validation  mse test\n",
       "0  Random forest regressor          61.817   102.398"
      ]
     },
     "execution_count": 335,
     "metadata": {},
     "output_type": "execute_result"
    }
   ],
   "source": [
    "results_rf_total"
   ]
  },
  {
   "cell_type": "code",
   "execution_count": 336,
   "id": "e809a5a8",
   "metadata": {},
   "outputs": [],
   "source": [
    "evaluation = pd.concat([results_naive_total, results_rf_total],ignore_index=True)"
   ]
  },
  {
   "cell_type": "code",
   "execution_count": 337,
   "id": "3442393b",
   "metadata": {},
   "outputs": [
    {
     "data": {
      "text/html": [
       "<div>\n",
       "<style scoped>\n",
       "    .dataframe tbody tr th:only-of-type {\n",
       "        vertical-align: middle;\n",
       "    }\n",
       "\n",
       "    .dataframe tbody tr th {\n",
       "        vertical-align: top;\n",
       "    }\n",
       "\n",
       "    .dataframe thead th {\n",
       "        text-align: right;\n",
       "    }\n",
       "</style>\n",
       "<table border=\"1\" class=\"dataframe\">\n",
       "  <thead>\n",
       "    <tr style=\"text-align: right;\">\n",
       "      <th></th>\n",
       "      <th>model</th>\n",
       "      <th>mse validation</th>\n",
       "      <th>mse test</th>\n",
       "    </tr>\n",
       "  </thead>\n",
       "  <tbody>\n",
       "    <tr>\n",
       "      <th>0</th>\n",
       "      <td>Naive</td>\n",
       "      <td>62.333</td>\n",
       "      <td>102.704</td>\n",
       "    </tr>\n",
       "    <tr>\n",
       "      <th>1</th>\n",
       "      <td>Random forest regressor</td>\n",
       "      <td>61.817</td>\n",
       "      <td>102.398</td>\n",
       "    </tr>\n",
       "  </tbody>\n",
       "</table>\n",
       "</div>"
      ],
      "text/plain": [
       "                     model  mse validation  mse test\n",
       "0                    Naive          62.333   102.704\n",
       "1  Random forest regressor          61.817   102.398"
      ]
     },
     "execution_count": 337,
     "metadata": {},
     "output_type": "execute_result"
    }
   ],
   "source": [
    "evaluation"
   ]
  },
  {
   "cell_type": "markdown",
   "id": "fe830638",
   "metadata": {},
   "source": [
    "### 3.2. CatBoost Regressor"
   ]
  },
  {
   "cell_type": "code",
   "execution_count": 345,
   "id": "d9a683b5",
   "metadata": {},
   "outputs": [],
   "source": [
    "features_list = ['ordered_family', 'leadtime_family','date', 'year', 'weekday','quarter', 'month', 'order_diff', \n",
    "                 'ordered_mean','volume_inc', 'volume_compare']"
   ]
  },
  {
   "cell_type": "code",
   "execution_count": 350,
   "id": "acedf063",
   "metadata": {},
   "outputs": [
    {
     "data": {
      "text/html": [
       "<div>\n",
       "<style scoped>\n",
       "    .dataframe tbody tr th:only-of-type {\n",
       "        vertical-align: middle;\n",
       "    }\n",
       "\n",
       "    .dataframe tbody tr th {\n",
       "        vertical-align: top;\n",
       "    }\n",
       "\n",
       "    .dataframe thead th {\n",
       "        text-align: right;\n",
       "    }\n",
       "</style>\n",
       "<table border=\"1\" class=\"dataframe\">\n",
       "  <thead>\n",
       "    <tr style=\"text-align: right;\">\n",
       "      <th></th>\n",
       "      <th>model</th>\n",
       "      <th>mse validation</th>\n",
       "      <th>mse test</th>\n",
       "    </tr>\n",
       "  </thead>\n",
       "  <tbody>\n",
       "    <tr>\n",
       "      <th>0</th>\n",
       "      <td>CatBoost regressor</td>\n",
       "      <td>63.644</td>\n",
       "      <td>94.458</td>\n",
       "    </tr>\n",
       "  </tbody>\n",
       "</table>\n",
       "</div>"
      ],
      "text/plain": [
       "                model  mse validation  mse test\n",
       "0  CatBoost regressor          63.644    94.458"
      ]
     },
     "execution_count": 350,
     "metadata": {},
     "output_type": "execute_result"
    }
   ],
   "source": [
    "results_cb = pd.DataFrame(columns=['family','mse_val_cb', 'mse_test_cb'])\n",
    "\n",
    "for parent in updated_list:\n",
    "    temp = globals()[f'{parent}']\n",
    "    data_day = process_task_1(temp)\n",
    "    \n",
    "    #  Разделим датасеты каждой семьи на обучающую, валидационную и тестовую выборки\n",
    "    features_train, features_val, features_test = features_split(data_day)\n",
    "    x_train, x_val, x_test, y_train, y_val, y_test = train_split(features_train, features_val, features_test)\n",
    "    \n",
    "    \n",
    "    cb = CatBoostRegressor(iterations = 2300,\n",
    "                          depth=2,\n",
    "                          learning_rate = 0.08,\n",
    "                          random_seed = 42,\n",
    "                          eval_metric='RMSE',\n",
    "                          l2_leaf_reg = 7,\n",
    "                          od_wait=500,)\n",
    "    cb.fit(x_train, y_train,use_best_model=True, eval_set=(x_test, y_test), verbose=False)\n",
    "\n",
    "    y_pred_val_cb = np.round(cb.predict(x_val))\n",
    "    y_pred_test_cb = np.round(cb.predict(x_test))\n",
    "    features_val['y_pred_val_cb'] = y_pred_val_cb\n",
    "    features_test['y_pred_test_lr'] = y_pred_test_cb\n",
    "    mse_val_cb = round(metrics.mean_squared_error(y_val, y_pred_val_cb),3)\n",
    "    mse_test_cb = round(metrics.mean_squared_error(y_test, y_pred_test_cb),3)\n",
    "    \n",
    "    new_row = {'family':parent, 'mse_val_cb':mse_val_cb, 'mse_test_cb':mse_test_cb}\n",
    "    results_cb = results_cb.append(new_row,ignore_index=True)\n",
    "\n",
    "mse_val_cb_total = round(results_cb.mse_val_cb.mean(),3)\n",
    "mse_test_cb_total = round(results_cb.mse_test_cb.mean(),3)\n",
    "row = {'model': 'CatBoost regressor','mse validation':mse_val_cb_total,'mse test':mse_test_cb_total}\n",
    "results_cb_total = pd.DataFrame(columns = ['model','mse validation','mse test'])\n",
    "results_cb_total = results_cb_total.append(row,ignore_index=True)\n",
    "\n",
    "results_cb_total"
   ]
  },
  {
   "cell_type": "code",
   "execution_count": 351,
   "id": "5141437f",
   "metadata": {},
   "outputs": [
    {
     "data": {
      "text/html": [
       "<div>\n",
       "<style scoped>\n",
       "    .dataframe tbody tr th:only-of-type {\n",
       "        vertical-align: middle;\n",
       "    }\n",
       "\n",
       "    .dataframe tbody tr th {\n",
       "        vertical-align: top;\n",
       "    }\n",
       "\n",
       "    .dataframe thead th {\n",
       "        text-align: right;\n",
       "    }\n",
       "</style>\n",
       "<table border=\"1\" class=\"dataframe\">\n",
       "  <thead>\n",
       "    <tr style=\"text-align: right;\">\n",
       "      <th></th>\n",
       "      <th>model</th>\n",
       "      <th>mse validation</th>\n",
       "      <th>mse test</th>\n",
       "    </tr>\n",
       "  </thead>\n",
       "  <tbody>\n",
       "    <tr>\n",
       "      <th>0</th>\n",
       "      <td>CatBoost regressor</td>\n",
       "      <td>63.644</td>\n",
       "      <td>94.458</td>\n",
       "    </tr>\n",
       "  </tbody>\n",
       "</table>\n",
       "</div>"
      ],
      "text/plain": [
       "                model  mse validation  mse test\n",
       "0  CatBoost regressor          63.644    94.458"
      ]
     },
     "execution_count": 351,
     "metadata": {},
     "output_type": "execute_result"
    }
   ],
   "source": [
    "results_cb_total"
   ]
  },
  {
   "cell_type": "code",
   "execution_count": 352,
   "id": "7bec3416",
   "metadata": {},
   "outputs": [],
   "source": [
    "evaluation = pd.concat([evaluation, results_cb_total],ignore_index=True)"
   ]
  },
  {
   "cell_type": "code",
   "execution_count": 353,
   "id": "f1584231",
   "metadata": {},
   "outputs": [
    {
     "data": {
      "text/html": [
       "<div>\n",
       "<style scoped>\n",
       "    .dataframe tbody tr th:only-of-type {\n",
       "        vertical-align: middle;\n",
       "    }\n",
       "\n",
       "    .dataframe tbody tr th {\n",
       "        vertical-align: top;\n",
       "    }\n",
       "\n",
       "    .dataframe thead th {\n",
       "        text-align: right;\n",
       "    }\n",
       "</style>\n",
       "<table border=\"1\" class=\"dataframe\">\n",
       "  <thead>\n",
       "    <tr style=\"text-align: right;\">\n",
       "      <th></th>\n",
       "      <th>model</th>\n",
       "      <th>mse validation</th>\n",
       "      <th>mse test</th>\n",
       "    </tr>\n",
       "  </thead>\n",
       "  <tbody>\n",
       "    <tr>\n",
       "      <th>0</th>\n",
       "      <td>Naive</td>\n",
       "      <td>62.333</td>\n",
       "      <td>102.704</td>\n",
       "    </tr>\n",
       "    <tr>\n",
       "      <th>1</th>\n",
       "      <td>Random forest regressor</td>\n",
       "      <td>61.817</td>\n",
       "      <td>102.398</td>\n",
       "    </tr>\n",
       "    <tr>\n",
       "      <th>2</th>\n",
       "      <td>CatBoost regressor</td>\n",
       "      <td>63.644</td>\n",
       "      <td>94.458</td>\n",
       "    </tr>\n",
       "  </tbody>\n",
       "</table>\n",
       "</div>"
      ],
      "text/plain": [
       "                     model  mse validation  mse test\n",
       "0                    Naive          62.333   102.704\n",
       "1  Random forest regressor          61.817   102.398\n",
       "2       CatBoost regressor          63.644    94.458"
      ]
     },
     "execution_count": 353,
     "metadata": {},
     "output_type": "execute_result"
    }
   ],
   "source": [
    "evaluation"
   ]
  },
  {
   "cell_type": "markdown",
   "id": "2a6644c7",
   "metadata": {},
   "source": [
    "### 3.3. Light GBM Regressor"
   ]
  },
  {
   "cell_type": "code",
   "execution_count": 362,
   "id": "42b7aeb9",
   "metadata": {},
   "outputs": [],
   "source": [
    "features_list = ['ordered_family', 'leadtime_family', 'date', 'year', 'weekday',\n",
    "       'quarter', 'month','volume_compare']"
   ]
  },
  {
   "cell_type": "code",
   "execution_count": 363,
   "id": "2a0705ec",
   "metadata": {},
   "outputs": [
    {
     "data": {
      "text/html": [
       "<div>\n",
       "<style scoped>\n",
       "    .dataframe tbody tr th:only-of-type {\n",
       "        vertical-align: middle;\n",
       "    }\n",
       "\n",
       "    .dataframe tbody tr th {\n",
       "        vertical-align: top;\n",
       "    }\n",
       "\n",
       "    .dataframe thead th {\n",
       "        text-align: right;\n",
       "    }\n",
       "</style>\n",
       "<table border=\"1\" class=\"dataframe\">\n",
       "  <thead>\n",
       "    <tr style=\"text-align: right;\">\n",
       "      <th></th>\n",
       "      <th>model</th>\n",
       "      <th>mse validation</th>\n",
       "      <th>mse test</th>\n",
       "    </tr>\n",
       "  </thead>\n",
       "  <tbody>\n",
       "    <tr>\n",
       "      <th>0</th>\n",
       "      <td>Light gbm regressor</td>\n",
       "      <td>62.245</td>\n",
       "      <td>102.551</td>\n",
       "    </tr>\n",
       "  </tbody>\n",
       "</table>\n",
       "</div>"
      ],
      "text/plain": [
       "                 model  mse validation  mse test\n",
       "0  Light gbm regressor          62.245   102.551"
      ]
     },
     "execution_count": 363,
     "metadata": {},
     "output_type": "execute_result"
    }
   ],
   "source": [
    "results_lgbm = pd.DataFrame(columns=['family','mse_val_lgbm', 'mse_test_lgbm'])\n",
    "\n",
    "for parent in updated_list:\n",
    "    temp = globals()[f'{parent}']\n",
    "    data_day = process_task_1(temp)\n",
    "    \n",
    "    #  Разделим датасеты каждой семьи на обучающую, валидационную и тестовую выборки\n",
    "    features_train, features_val, features_test = features_split(data_day)\n",
    "    x_train, x_val, x_test, y_train, y_val, y_test = train_split(features_train, features_val, features_test)\n",
    "    \n",
    "    \n",
    "    lgbm_reg = LGBMRegressor(n_estimators = 180,\n",
    "                             max_depth=3,\n",
    "                             learning_rate = 0.007,\n",
    "                             random_state = 42,\n",
    "                             num_leaves = 15,\n",
    "                             reg_lambda = 50,\n",
    "                             reg_alpha = 3,\n",
    "                             n_jobs = -1,\n",
    "                             )\n",
    "    lgbm_reg.fit(x_train, y_train)\n",
    "\n",
    "    y_pred_val_lgbm = np.round(lgbm_reg.predict(x_val))\n",
    "    y_pred_test_lgbm = np.round(lgbm_reg.predict(x_test))\n",
    "    features_val['y_pred_val_lgbm'] = y_pred_val_lgbm\n",
    "    features_test['y_pred_test_lgbm'] = y_pred_test_lgbm\n",
    "    \n",
    "    mse_val_lgbm = round(metrics.mean_squared_error(y_val, y_pred_val_lgbm),3)\n",
    "    mse_test_lgbm = round(metrics.mean_squared_error(y_test, y_pred_test_lgbm),3)\n",
    "    \n",
    "    new_row = {'family':parent, 'mse_val_lgbm':mse_val_lgbm, 'mse_test_lgbm':mse_test_lgbm}\n",
    "    results_lgbm = results_lgbm.append(new_row,ignore_index=True)\n",
    "#     print(results_lgbm)\n",
    "\n",
    "mse_val_lgbm_total = round(results_lgbm.mse_val_lgbm.mean(),3)\n",
    "mse_test_lgbm_total = round(results_lgbm.mse_test_lgbm.mean(),3)\n",
    "row = {'model': 'Light gbm regressor','mse validation':mse_val_lgbm_total,'mse test':mse_test_lgbm_total}\n",
    "results_lgbm_total = pd.DataFrame(columns = ['model','mse validation','mse test'])\n",
    "results_lgbm_total = results_lgbm_total.append(row,ignore_index=True)\n",
    "\n",
    "\n",
    "results_lgbm_total"
   ]
  },
  {
   "cell_type": "code",
   "execution_count": 364,
   "id": "239c5397",
   "metadata": {},
   "outputs": [
    {
     "data": {
      "text/html": [
       "<div>\n",
       "<style scoped>\n",
       "    .dataframe tbody tr th:only-of-type {\n",
       "        vertical-align: middle;\n",
       "    }\n",
       "\n",
       "    .dataframe tbody tr th {\n",
       "        vertical-align: top;\n",
       "    }\n",
       "\n",
       "    .dataframe thead th {\n",
       "        text-align: right;\n",
       "    }\n",
       "</style>\n",
       "<table border=\"1\" class=\"dataframe\">\n",
       "  <thead>\n",
       "    <tr style=\"text-align: right;\">\n",
       "      <th></th>\n",
       "      <th>model</th>\n",
       "      <th>mse validation</th>\n",
       "      <th>mse test</th>\n",
       "    </tr>\n",
       "  </thead>\n",
       "  <tbody>\n",
       "    <tr>\n",
       "      <th>0</th>\n",
       "      <td>Light gbm regressor</td>\n",
       "      <td>62.245</td>\n",
       "      <td>102.551</td>\n",
       "    </tr>\n",
       "  </tbody>\n",
       "</table>\n",
       "</div>"
      ],
      "text/plain": [
       "                 model  mse validation  mse test\n",
       "0  Light gbm regressor          62.245   102.551"
      ]
     },
     "execution_count": 364,
     "metadata": {},
     "output_type": "execute_result"
    }
   ],
   "source": [
    "results_lgbm_total"
   ]
  },
  {
   "cell_type": "code",
   "execution_count": 365,
   "id": "d9fb4fe5",
   "metadata": {},
   "outputs": [],
   "source": [
    "evaluation = pd.concat([evaluation, results_lgbm_total],ignore_index=True)"
   ]
  },
  {
   "cell_type": "code",
   "execution_count": 366,
   "id": "405f13b9",
   "metadata": {},
   "outputs": [
    {
     "data": {
      "text/html": [
       "<div>\n",
       "<style scoped>\n",
       "    .dataframe tbody tr th:only-of-type {\n",
       "        vertical-align: middle;\n",
       "    }\n",
       "\n",
       "    .dataframe tbody tr th {\n",
       "        vertical-align: top;\n",
       "    }\n",
       "\n",
       "    .dataframe thead th {\n",
       "        text-align: right;\n",
       "    }\n",
       "</style>\n",
       "<table border=\"1\" class=\"dataframe\">\n",
       "  <thead>\n",
       "    <tr style=\"text-align: right;\">\n",
       "      <th></th>\n",
       "      <th>model</th>\n",
       "      <th>mse validation</th>\n",
       "      <th>mse test</th>\n",
       "    </tr>\n",
       "  </thead>\n",
       "  <tbody>\n",
       "    <tr>\n",
       "      <th>0</th>\n",
       "      <td>Naive</td>\n",
       "      <td>62.333</td>\n",
       "      <td>102.704</td>\n",
       "    </tr>\n",
       "    <tr>\n",
       "      <th>1</th>\n",
       "      <td>Random forest regressor</td>\n",
       "      <td>61.817</td>\n",
       "      <td>102.398</td>\n",
       "    </tr>\n",
       "    <tr>\n",
       "      <th>2</th>\n",
       "      <td>CatBoost regressor</td>\n",
       "      <td>63.644</td>\n",
       "      <td>94.458</td>\n",
       "    </tr>\n",
       "    <tr>\n",
       "      <th>3</th>\n",
       "      <td>Light gbm regressor</td>\n",
       "      <td>62.245</td>\n",
       "      <td>102.551</td>\n",
       "    </tr>\n",
       "  </tbody>\n",
       "</table>\n",
       "</div>"
      ],
      "text/plain": [
       "                     model  mse validation  mse test\n",
       "0                    Naive          62.333   102.704\n",
       "1  Random forest regressor          61.817   102.398\n",
       "2       CatBoost regressor          63.644    94.458\n",
       "3      Light gbm regressor          62.245   102.551"
      ]
     },
     "execution_count": 366,
     "metadata": {},
     "output_type": "execute_result"
    }
   ],
   "source": [
    "evaluation"
   ]
  },
  {
   "cell_type": "markdown",
   "id": "501ea619",
   "metadata": {},
   "source": [
    "### 3.4. Gradient Boosting Regressor"
   ]
  },
  {
   "cell_type": "code",
   "execution_count": 377,
   "id": "559a27ab",
   "metadata": {},
   "outputs": [],
   "source": [
    "features_list = ['ordered_family', 'leadtime_family', 'date', 'year', 'weekday',\n",
    "       'quarter', 'month',\n",
    "                 'order_diff',\n",
    "#                  'ordered_mean',\n",
    "       'volume_inc', \n",
    "                 'volume_compare']"
   ]
  },
  {
   "cell_type": "code",
   "execution_count": 381,
   "id": "f533f2d6",
   "metadata": {},
   "outputs": [
    {
     "data": {
      "text/html": [
       "<div>\n",
       "<style scoped>\n",
       "    .dataframe tbody tr th:only-of-type {\n",
       "        vertical-align: middle;\n",
       "    }\n",
       "\n",
       "    .dataframe tbody tr th {\n",
       "        vertical-align: top;\n",
       "    }\n",
       "\n",
       "    .dataframe thead th {\n",
       "        text-align: right;\n",
       "    }\n",
       "</style>\n",
       "<table border=\"1\" class=\"dataframe\">\n",
       "  <thead>\n",
       "    <tr style=\"text-align: right;\">\n",
       "      <th></th>\n",
       "      <th>model</th>\n",
       "      <th>mse validation</th>\n",
       "      <th>mse test</th>\n",
       "    </tr>\n",
       "  </thead>\n",
       "  <tbody>\n",
       "    <tr>\n",
       "      <th>0</th>\n",
       "      <td>grad boost regressor</td>\n",
       "      <td>62.192</td>\n",
       "      <td>102.401</td>\n",
       "    </tr>\n",
       "  </tbody>\n",
       "</table>\n",
       "</div>"
      ],
      "text/plain": [
       "                  model  mse validation  mse test\n",
       "0  grad boost regressor          62.192   102.401"
      ]
     },
     "execution_count": 381,
     "metadata": {},
     "output_type": "execute_result"
    }
   ],
   "source": [
    "results_grad = pd.DataFrame(columns=['family','mse_val_grad', 'mse_test_grad'])\n",
    "\n",
    "for parent in updated_list:\n",
    "    temp = globals()[f'{parent}']\n",
    "    data_day = process_task_1(temp)\n",
    "    \n",
    "    #  Разделим датасеты каждой семьи на обучающую, валидационную и тестовую выборки\n",
    "    features_train, features_val, features_test = features_split(data_day)\n",
    "    x_train, x_val, x_test, y_train, y_val, y_test = train_split(features_train, features_val, features_test)\n",
    "    \n",
    "    scaler = StandardScaler()\n",
    "    x_train = scaler.fit_transform(x_train) \n",
    "    x_val = scaler.transform(x_val)\n",
    "    x_test = scaler.transform(x_test)\n",
    "    \n",
    "    grad_boost = GradientBoostingRegressor(n_estimators = 200,\n",
    "                             max_depth=3,\n",
    "                             learning_rate = 0.00015,\n",
    "                             random_state = 42,\n",
    "                             subsample = 0.7,\n",
    "                             criterion = 'mse',\n",
    "                             min_samples_leaf = 1,\n",
    "                             min_samples_split = 2,\n",
    "                             loss='ls',\n",
    "                             max_features = 'auto'\n",
    "                             )\n",
    "    grad_boost.fit(x_train, y_train)\n",
    "\n",
    "    y_pred_val_grad = np.round(grad_boost.predict(x_val))\n",
    "    y_pred_test_grad = np.round(grad_boost.predict(x_test))\n",
    "    features_val['y_pred_val_grad'] = y_pred_val_grad\n",
    "    features_test['y_pred_test_grad'] = y_pred_test_grad\n",
    "    \n",
    "    mse_val_grad = round(metrics.mean_squared_error(y_val, y_pred_val_grad),3)\n",
    "    mse_test_grad = round(metrics.mean_squared_error(y_test, y_pred_test_grad),3)\n",
    "    \n",
    "    new_row = {'family':parent, 'mse_val_grad':mse_val_grad, 'mse_test_grad':mse_test_grad}\n",
    "    results_grad = results_grad.append(new_row,ignore_index=True)\n",
    "#     print(results_grad)\n",
    "\n",
    "mse_val_grad_total = round(results_grad.mse_val_grad.mean(),3)\n",
    "mse_test_grad_total = round(results_grad.mse_test_grad.mean(),3)\n",
    "row = {'model': 'Grad boost regressor','mse validation':mse_val_grad_total,'mse test':mse_test_grad_total}\n",
    "results_grad_total = pd.DataFrame(columns = ['model','mse validation','mse test'])\n",
    "results_grad_total = results_grad_total.append(row,ignore_index=True)\n",
    "\n",
    "\n",
    "results_grad_total"
   ]
  },
  {
   "cell_type": "code",
   "execution_count": 382,
   "id": "5bcaec9d",
   "metadata": {},
   "outputs": [
    {
     "data": {
      "text/html": [
       "<div>\n",
       "<style scoped>\n",
       "    .dataframe tbody tr th:only-of-type {\n",
       "        vertical-align: middle;\n",
       "    }\n",
       "\n",
       "    .dataframe tbody tr th {\n",
       "        vertical-align: top;\n",
       "    }\n",
       "\n",
       "    .dataframe thead th {\n",
       "        text-align: right;\n",
       "    }\n",
       "</style>\n",
       "<table border=\"1\" class=\"dataframe\">\n",
       "  <thead>\n",
       "    <tr style=\"text-align: right;\">\n",
       "      <th></th>\n",
       "      <th>model</th>\n",
       "      <th>mse validation</th>\n",
       "      <th>mse test</th>\n",
       "    </tr>\n",
       "  </thead>\n",
       "  <tbody>\n",
       "    <tr>\n",
       "      <th>0</th>\n",
       "      <td>grad boost regressor</td>\n",
       "      <td>62.192</td>\n",
       "      <td>102.401</td>\n",
       "    </tr>\n",
       "  </tbody>\n",
       "</table>\n",
       "</div>"
      ],
      "text/plain": [
       "                  model  mse validation  mse test\n",
       "0  grad boost regressor          62.192   102.401"
      ]
     },
     "execution_count": 382,
     "metadata": {},
     "output_type": "execute_result"
    }
   ],
   "source": [
    "results_grad_total"
   ]
  },
  {
   "cell_type": "code",
   "execution_count": 383,
   "id": "35a3492d",
   "metadata": {},
   "outputs": [],
   "source": [
    "evaluation = pd.concat([evaluation, results_grad_total],ignore_index=True)"
   ]
  },
  {
   "cell_type": "code",
   "execution_count": 384,
   "id": "1f14ce17",
   "metadata": {},
   "outputs": [
    {
     "data": {
      "text/html": [
       "<div>\n",
       "<style scoped>\n",
       "    .dataframe tbody tr th:only-of-type {\n",
       "        vertical-align: middle;\n",
       "    }\n",
       "\n",
       "    .dataframe tbody tr th {\n",
       "        vertical-align: top;\n",
       "    }\n",
       "\n",
       "    .dataframe thead th {\n",
       "        text-align: right;\n",
       "    }\n",
       "</style>\n",
       "<table border=\"1\" class=\"dataframe\">\n",
       "  <thead>\n",
       "    <tr style=\"text-align: right;\">\n",
       "      <th></th>\n",
       "      <th>model</th>\n",
       "      <th>mse validation</th>\n",
       "      <th>mse test</th>\n",
       "    </tr>\n",
       "  </thead>\n",
       "  <tbody>\n",
       "    <tr>\n",
       "      <th>0</th>\n",
       "      <td>Naive</td>\n",
       "      <td>62.333</td>\n",
       "      <td>102.704</td>\n",
       "    </tr>\n",
       "    <tr>\n",
       "      <th>1</th>\n",
       "      <td>Random forest regressor</td>\n",
       "      <td>61.817</td>\n",
       "      <td>102.398</td>\n",
       "    </tr>\n",
       "    <tr>\n",
       "      <th>2</th>\n",
       "      <td>CatBoost regressor</td>\n",
       "      <td>63.644</td>\n",
       "      <td>94.458</td>\n",
       "    </tr>\n",
       "    <tr>\n",
       "      <th>3</th>\n",
       "      <td>Light gbm regressor</td>\n",
       "      <td>62.245</td>\n",
       "      <td>102.551</td>\n",
       "    </tr>\n",
       "    <tr>\n",
       "      <th>4</th>\n",
       "      <td>grad boost regressor</td>\n",
       "      <td>62.192</td>\n",
       "      <td>102.401</td>\n",
       "    </tr>\n",
       "  </tbody>\n",
       "</table>\n",
       "</div>"
      ],
      "text/plain": [
       "                     model  mse validation  mse test\n",
       "0                    Naive          62.333   102.704\n",
       "1  Random forest regressor          61.817   102.398\n",
       "2       CatBoost regressor          63.644    94.458\n",
       "3      Light gbm regressor          62.245   102.551\n",
       "4     grad boost regressor          62.192   102.401"
      ]
     },
     "execution_count": 384,
     "metadata": {},
     "output_type": "execute_result"
    }
   ],
   "source": [
    "evaluation"
   ]
  },
  {
   "cell_type": "markdown",
   "id": "c05c9fb8",
   "metadata": {},
   "source": [
    "### 3.5. Extra Trees Regressor"
   ]
  },
  {
   "cell_type": "code",
   "execution_count": 396,
   "id": "6ec09ac3",
   "metadata": {},
   "outputs": [],
   "source": [
    "features_list = ['ordered_family','leadtime_family', 'date', 'year', 'weekday','quarter', 'month', \n",
    "                 'order_diff','ordered_mean','volume_inc', 'volume_compare']"
   ]
  },
  {
   "cell_type": "code",
   "execution_count": 397,
   "id": "c8d8bfac",
   "metadata": {},
   "outputs": [
    {
     "data": {
      "text/html": [
       "<div>\n",
       "<style scoped>\n",
       "    .dataframe tbody tr th:only-of-type {\n",
       "        vertical-align: middle;\n",
       "    }\n",
       "\n",
       "    .dataframe tbody tr th {\n",
       "        vertical-align: top;\n",
       "    }\n",
       "\n",
       "    .dataframe thead th {\n",
       "        text-align: right;\n",
       "    }\n",
       "</style>\n",
       "<table border=\"1\" class=\"dataframe\">\n",
       "  <thead>\n",
       "    <tr style=\"text-align: right;\">\n",
       "      <th></th>\n",
       "      <th>model</th>\n",
       "      <th>mse validation</th>\n",
       "      <th>mse test</th>\n",
       "    </tr>\n",
       "  </thead>\n",
       "  <tbody>\n",
       "    <tr>\n",
       "      <th>0</th>\n",
       "      <td>Extra trees regressor</td>\n",
       "      <td>62.268</td>\n",
       "      <td>102.598</td>\n",
       "    </tr>\n",
       "  </tbody>\n",
       "</table>\n",
       "</div>"
      ],
      "text/plain": [
       "                   model  mse validation  mse test\n",
       "0  Extra trees regressor          62.268   102.598"
      ]
     },
     "execution_count": 397,
     "metadata": {},
     "output_type": "execute_result"
    }
   ],
   "source": [
    "results_extra = pd.DataFrame(columns=['family','mse_val_extra', 'mse_test_extra'])\n",
    "\n",
    "for parent in updated_list:\n",
    "    temp = globals()[f'{parent}']\n",
    "    data_day = process_task_1(temp)\n",
    "    \n",
    "    #  Разделим датасеты каждой семьи на обучающую, валидационную и тестовую выборки\n",
    "    features_train, features_val, features_test = features_split(data_day)\n",
    "    x_train, x_val, x_test, y_train, y_val, y_test = train_split(features_train, features_val, features_test)\n",
    "    \n",
    "    scaler = StandardScaler()\n",
    "    x_train = scaler.fit_transform(x_train) \n",
    "    x_val = scaler.transform(x_val)\n",
    "    x_test = scaler.transform(x_test)\n",
    "    \n",
    "    extra = ExtraTreesRegressor(n_estimators = 200,\n",
    "                                max_depth=2,\n",
    "                                random_state = 42,\n",
    "                                criterion = 'mse',\n",
    "                                min_samples_leaf = 2,\n",
    "                                min_samples_split = 2,\n",
    "                                min_weight_fraction_leaf = 0.5,\n",
    "                                max_leaf_nodes = 3,\n",
    "                                ccp_alpha = 0.5,\n",
    "                                max_features = 'log2'\n",
    "                             )\n",
    "    extra.fit(x_train, y_train)\n",
    "\n",
    "    y_pred_val_extra = np.round(extra.predict(x_val))\n",
    "    y_pred_test_extra = np.round(extra.predict(x_test))\n",
    "    features_val['y_pred_val_extra'] = y_pred_val_extra\n",
    "    features_test['y_pred_test_extra'] = y_pred_test_extra\n",
    "    \n",
    "    mse_val_extra = round(metrics.mean_squared_error(y_val, y_pred_val_extra),3)\n",
    "    mse_test_extra = round(metrics.mean_squared_error(y_test, y_pred_test_extra),3)\n",
    "    \n",
    "    new_row = {'family':parent, 'mse_val_extra':mse_val_extra, 'mse_test_extra':mse_test_extra}\n",
    "    results_extra = results_extra.append(new_row,ignore_index=True)\n",
    "#     print(results_grad)\n",
    "\n",
    "mse_val_extra_total = round(results_extra.mse_val_extra.mean(),3)\n",
    "mse_test_extra_total = round(results_extra.mse_test_extra.mean(),3)\n",
    "row = {'model': 'Extra trees regressor','mse validation':mse_val_extra_total,'mse test':mse_test_extra_total}\n",
    "results_extra_total = pd.DataFrame(columns = ['model','mse validation','mse test'])\n",
    "results_extra_total = results_extra_total.append(row,ignore_index=True)\n",
    "\n",
    "results_extra_total"
   ]
  },
  {
   "cell_type": "code",
   "execution_count": 398,
   "id": "eb1ece5a",
   "metadata": {},
   "outputs": [
    {
     "data": {
      "text/html": [
       "<div>\n",
       "<style scoped>\n",
       "    .dataframe tbody tr th:only-of-type {\n",
       "        vertical-align: middle;\n",
       "    }\n",
       "\n",
       "    .dataframe tbody tr th {\n",
       "        vertical-align: top;\n",
       "    }\n",
       "\n",
       "    .dataframe thead th {\n",
       "        text-align: right;\n",
       "    }\n",
       "</style>\n",
       "<table border=\"1\" class=\"dataframe\">\n",
       "  <thead>\n",
       "    <tr style=\"text-align: right;\">\n",
       "      <th></th>\n",
       "      <th>model</th>\n",
       "      <th>mse validation</th>\n",
       "      <th>mse test</th>\n",
       "    </tr>\n",
       "  </thead>\n",
       "  <tbody>\n",
       "    <tr>\n",
       "      <th>0</th>\n",
       "      <td>Extra trees regressor</td>\n",
       "      <td>62.268</td>\n",
       "      <td>102.598</td>\n",
       "    </tr>\n",
       "  </tbody>\n",
       "</table>\n",
       "</div>"
      ],
      "text/plain": [
       "                   model  mse validation  mse test\n",
       "0  Extra trees regressor          62.268   102.598"
      ]
     },
     "execution_count": 398,
     "metadata": {},
     "output_type": "execute_result"
    }
   ],
   "source": [
    "results_extra_total"
   ]
  },
  {
   "cell_type": "code",
   "execution_count": 399,
   "id": "395aef25",
   "metadata": {},
   "outputs": [],
   "source": [
    "evaluation = pd.concat([evaluation, results_extra_total],ignore_index=True)"
   ]
  },
  {
   "cell_type": "markdown",
   "id": "fee3ccc0",
   "metadata": {},
   "source": [
    "## 4. Итоги"
   ]
  },
  {
   "cell_type": "code",
   "execution_count": 400,
   "id": "fbf235bb",
   "metadata": {},
   "outputs": [
    {
     "data": {
      "text/html": [
       "<div>\n",
       "<style scoped>\n",
       "    .dataframe tbody tr th:only-of-type {\n",
       "        vertical-align: middle;\n",
       "    }\n",
       "\n",
       "    .dataframe tbody tr th {\n",
       "        vertical-align: top;\n",
       "    }\n",
       "\n",
       "    .dataframe thead th {\n",
       "        text-align: right;\n",
       "    }\n",
       "</style>\n",
       "<table border=\"1\" class=\"dataframe\">\n",
       "  <thead>\n",
       "    <tr style=\"text-align: right;\">\n",
       "      <th></th>\n",
       "      <th>model</th>\n",
       "      <th>mse validation</th>\n",
       "      <th>mse test</th>\n",
       "    </tr>\n",
       "  </thead>\n",
       "  <tbody>\n",
       "    <tr>\n",
       "      <th>2</th>\n",
       "      <td>CatBoost regressor</td>\n",
       "      <td>63.644</td>\n",
       "      <td>94.458</td>\n",
       "    </tr>\n",
       "    <tr>\n",
       "      <th>1</th>\n",
       "      <td>Random forest regressor</td>\n",
       "      <td>61.817</td>\n",
       "      <td>102.398</td>\n",
       "    </tr>\n",
       "    <tr>\n",
       "      <th>4</th>\n",
       "      <td>grad boost regressor</td>\n",
       "      <td>62.192</td>\n",
       "      <td>102.401</td>\n",
       "    </tr>\n",
       "    <tr>\n",
       "      <th>3</th>\n",
       "      <td>Light gbm regressor</td>\n",
       "      <td>62.245</td>\n",
       "      <td>102.551</td>\n",
       "    </tr>\n",
       "    <tr>\n",
       "      <th>5</th>\n",
       "      <td>Extra trees regressor</td>\n",
       "      <td>62.268</td>\n",
       "      <td>102.598</td>\n",
       "    </tr>\n",
       "    <tr>\n",
       "      <th>0</th>\n",
       "      <td>Naive</td>\n",
       "      <td>62.333</td>\n",
       "      <td>102.704</td>\n",
       "    </tr>\n",
       "  </tbody>\n",
       "</table>\n",
       "</div>"
      ],
      "text/plain": [
       "                     model  mse validation  mse test\n",
       "2       CatBoost regressor          63.644    94.458\n",
       "1  Random forest regressor          61.817   102.398\n",
       "4     grad boost regressor          62.192   102.401\n",
       "3      Light gbm regressor          62.245   102.551\n",
       "5    Extra trees regressor          62.268   102.598\n",
       "0                    Naive          62.333   102.704"
      ]
     },
     "execution_count": 400,
     "metadata": {},
     "output_type": "execute_result"
    }
   ],
   "source": [
    "evaluation = evaluation.sort_values(['mse test'], ascending=True)\n",
    "evaluation"
   ]
  },
  {
   "cell_type": "code",
   "execution_count": null,
   "id": "c24ebc6f",
   "metadata": {},
   "outputs": [],
   "source": []
  },
  {
   "cell_type": "code",
   "execution_count": 403,
   "id": "eeedf063",
   "metadata": {},
   "outputs": [
    {
     "data": {
      "image/png": "[encoded data removed]",
      "text/plain": [
       "<Figure size 576x360 with 1 Axes>"
      ]
     },
     "metadata": {
      "needs_background": "light"
     },
     "output_type": "display_data"
    }
   ],
   "source": [
    "plt.figure(figsize=(8,5))\n",
    "plt.grid(True)\n",
    "plt.xticks(rotation=75)\n",
    "plt.title('Метрика MSE обученных моделей ',fontsize=14, pad=20)\n",
    "\n",
    "sns.barplot(data=evaluation, x='mse test', y='model', dodge='True',capsize= 0.000001,\n",
    "                       palette='Blues_r',linewidth=1,edgecolor=\".001\")\n",
    "plt.axvline(102.704,color='r',linestyle = '--')\n",
    "plt.xlabel('MSE score', fontsize=8, )\n",
    "plt.ylabel('Models', fontsize=11)\n",
    "plt.show()"
   ]
  },
  {
   "cell_type": "markdown",
   "id": "1dfc8c0c",
   "metadata": {},
   "source": [
    "Целью задачи 1 было предсказание, когда семья разместит заказ\n",
    "\n",
    "Эта задача была сведена к задаче регрессии. Использовались основные алгоритмы регрессии. Лучший результат показал catboost regressor. \n",
    "Нужно отметить, что во всех алгоритмах видно ухудшение результатов на тестовой выборке по сравнению с валидационной. Это связано с хрогологическим разделением данных. А как мы заметили в EDA поведение семей в 2022 сильно изменилось, увеличились сами заказы, сроки реализации. Я искал модель, которая покажет себя наилучшим образом на тестовой выборке, а также будет адаптироваться к изменяющимся условиям, связанным с увеличением сроков."
   ]
  },
  {
   "cell_type": "code",
   "execution_count": null,
   "id": "cd985412",
   "metadata": {},
   "outputs": [],
   "source": []
  }
 ],
 "metadata": {
  "kernelspec": {
   "display_name": "Python 3",
   "language": "python",
   "name": "python3"
  },
  "language_info": {
   "codemirror_mode": {
    "name": "ipython",
    "version": 3
   },
   "file_extension": ".py",
   "mimetype": "text/x-python",
   "name": "python",
   "nbconvert_exporter": "python",
   "pygments_lexer": "ipython3",
   "version": "3.8.8"
  }
 },
 "nbformat": 4,
 "nbformat_minor": 5
}
