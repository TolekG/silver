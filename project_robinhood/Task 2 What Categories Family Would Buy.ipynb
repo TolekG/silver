{
 "cells": [
  {
   "cell_type": "markdown",
   "id": "359d0cad",
   "metadata": {},
   "source": [
    "# Task 2: What Category Family Would Buy Next"
   ]
  },
  {
   "cell_type": "markdown",
   "id": "8290c06e",
   "metadata": {},
   "source": [
    "# I. Imports"
   ]
  },
  {
   "cell_type": "code",
   "execution_count": 921,
   "id": "a7fcddc3",
   "metadata": {},
   "outputs": [],
   "source": [
    "# importing necessary Python libraries\n",
    "import pandas as pd \n",
    "import numpy as np\n",
    "import matplotlib.pyplot as plt\n",
    "import seaborn as sns\n",
    "\n",
    "import plotly.express as px\n",
    "#import plotly.offline as pyoff\n",
    "import plotly.graph_objs as go \n",
    "#import plotly.figure_factory as ff\n",
    "\n",
    "# avoid displaying warnings\n",
    "import warnings\n",
    "warnings.filterwarnings(\"ignore\")\n",
    "\n",
    "from sklearn.model_selection import TimeSeriesSplit\n",
    "\n",
    "from sklearn.preprocessing import LabelEncoder, OneHotEncoder, StandardScaler\n",
    "from pandas import Series\n",
    "from sklearn.feature_selection import f_classif, mutual_info_classif\n",
    "\n",
    "from sklearn.linear_model import LogisticRegression\n",
    "from sklearn.tree import DecisionTreeClassifier\n",
    "from sklearn.ensemble import BaggingClassifier\n",
    "from sklearn.ensemble import RandomForestClassifier\n",
    "from sklearn.ensemble import GradientBoostingClassifier\n",
    "from sklearn.ensemble import ExtraTreesClassifier\n",
    "from sklearn.ensemble import StackingClassifier\n",
    "from catboost import CatBoostClassifier\n",
    "from xgboost import XGBClassifier\n",
    "\n",
    "from sklearn.metrics import confusion_matrix, ConfusionMatrixDisplay\n",
    "from sklearn.metrics import auc, roc_auc_score, roc_curve\n",
    "from sklearn.metrics import f1_score\n",
    "from sklearn.metrics import precision_score, recall_score"
   ]
  },
  {
   "cell_type": "markdown",
   "id": "052d03b8",
   "metadata": {
    "heading_collapsed": true
   },
   "source": [
    "# II. Functions"
   ]
  },
  {
   "cell_type": "code",
   "execution_count": 922,
   "id": "fc13195a",
   "metadata": {
    "hidden": true
   },
   "outputs": [],
   "source": [
    "# Measuring results\n",
    "def metrics(y_test, probs, y_pred_test):\n",
    "    fpr, tpr, threshold = roc_curve(y_test, probs)\n",
    "    roc_auc = roc_auc_score(y_test, probs)\n",
    "\n",
    "    plt.figure()\n",
    "    plt.plot([0, 1], label='Baseline', linestyle='--')\n",
    "    plt.plot(fpr, tpr, label = 'Regression')\n",
    "    plt.title('Model ROC AUC = %0.5f' % roc_auc)\n",
    "    plt.ylabel('True Positive Rate')\n",
    "    plt.xlabel('False Positive Rate')\n",
    "    plt.legend(loc = 'lower right')\n",
    "    plt.show()\n",
    "\n",
    "    f1_test_n = f1_score(y_test, y_pred_test)\n",
    "    print('f1 score:=',round(f1_test_n,4))\n",
    "\n",
    "    precision = precision_score(y_test, y_pred_test)\n",
    "    recall = recall_score(y_test, y_pred_test)\n",
    "    print('precision: {:.4f}\\nrecall: {:.4f}'.format(precision, recall))\n",
    "\n",
    "#     calc_accuracy(y_test, y_pred_test)\n",
    "#     acc, TP, TN, P, N = calc_accuracy(y_test, y_pred_test)\n",
    "#     print('TP = {}\\nTN = {}\\nP = {}\\nN = {}\\nacc = {:.4f}'.format(TP, TN, P, N, acc))\n",
    "\n",
    "    conf_mat = confusion_matrix(y_test, y_pred_test)\n",
    "    print('Confusion matrix:\\n{}'.format(conf_mat))\n",
    "    disp = ConfusionMatrixDisplay(confusion_matrix=conf_mat,display_labels=model.classes_)\n",
    "    disp.plot()"
   ]
  },
  {
   "cell_type": "code",
   "execution_count": 1324,
   "id": "545bec12",
   "metadata": {
    "hidden": true
   },
   "outputs": [],
   "source": [
    "def prepare_target(data_n):\n",
    "    ''' Функция приготовления целевой переменной в выборке'''\n",
    "    # Приготовление списка категорий в выбранный период времени\n",
    "    df_cat = data_n.copy()\n",
    "    df_cat = df_cat.groupby('category').first()\n",
    "    df_cat.reset_index(inplace=True)\n",
    "    df_cat = df_cat[['category']]\n",
    "    \n",
    "    # Приготовление этикеток целевой переменной\n",
    "    df_target = data_n.copy()\n",
    "    # Присваиваем по умолчанию 0\n",
    "    df_target['target'] = 0\n",
    "    \n",
    "    # Если была продажа в последней неделе, то целевая переменная = 1\n",
    "    df_target.loc[df_target.week == df_target.week.max(), 'target'] = 1\n",
    "    df_target = df_target[df_target.target == 1]\n",
    "    df_target = df_target.groupby('category').first()\n",
    "    df_target = df_target[['target']]\n",
    "    df_target.reset_index(inplace=True)\n",
    "\n",
    "    # Соединение общего датасета категории и датасета с категориями, которые купили в контрольную неделю\n",
    "    df_cat = pd.merge(df_cat,df_target, how='left', on='category')\n",
    "\n",
    "    # Если категории нет в датафрейме контрольной недели, целевая переменная равна 0\n",
    "    df_cat.fillna(0, inplace=True)\n",
    "\n",
    "    df_control = data_n.loc[data_n.week < data_n.week.max()]\n",
    "    df_bought = df_control.category.unique()\n",
    "    # Удалим из датасета категории в контрольном периоде, которые ранее не покупали\n",
    "    df_cat = df_cat[df_cat.category.isin(df_bought)]\n",
    "    \n",
    "    return df_cat.target"
   ]
  },
  {
   "cell_type": "code",
   "execution_count": 1313,
   "id": "be1b4725",
   "metadata": {
    "hidden": true
   },
   "outputs": [],
   "source": [
    "def prepare_x(data_n):\n",
    "    ''' Функция подготовки признаков'''\n",
    "    df_x = data_n.copy()\n",
    "    df_x = df_x.loc[df_x.week < df_x.week.max()]\n",
    "    # Посчитаем, какой период охватывает наша обучающая выборка\n",
    "    length = (df_x.order_date.max() - df_x.order_date.min()).days\n",
    "    \n",
    "    ################################ Feature Engineering ####################################\n",
    "    \n",
    "    ###################################### Recency ##########################################\n",
    "    # Выведем последнюю дату заказа по каждой категории\n",
    "    df_recent_order = df_x.groupby('category').order_date.max().reset_index()\n",
    "    df_recent_order.columns = ['category','last_order']\n",
    "    df_recent_order['recency'] = df_recent_order.last_order.max() - df_recent_order.last_order\n",
    "    df_recent_order['recency'] = df_recent_order['recency'].astype('timedelta64[D]')\n",
    "    \n",
    "    # Создадим признак интервала между заказами в среднем по категории \n",
    "    df_interval = pd.DataFrame(columns=['category','interval'])\n",
    "\n",
    "    for cat in df_x.category.unique():\n",
    "        i = df_x[df_x.category == cat].order_date.diff().astype('timedelta64[D]')\n",
    "    #     new_row = {'category':cat, 'interval':i.mean()}\n",
    "        new_row = {'category':cat, 'interval':i.median()}\n",
    "        df_interval = df_interval.append(new_row,ignore_index=True)\n",
    "    # Заполним пропуски значением на 1 день больше, чем промежуток от начала до конца выборки\n",
    "    df_interval.fillna(length+1, inplace=True)\n",
    "    df_recent_order = pd.merge(df_recent_order,df_interval, how='left', on='category')\n",
    "    \n",
    "    \n",
    "    # Считаем разницу среднего промежутка по категори и последнего заказа\n",
    "    df_recent_order['median_recent'] = df_recent_order.interval - df_recent_order.recency\n",
    "    #  Вычитаем длительность контрольного периода, чтобы посчитать остаток\n",
    "    df_recent_order['remain'] = df_recent_order.median_recent - control_length\n",
    "    # Создадим бинарный признак, 1 - если промежуток от последнего заказа плюс контрольный период < обычного срока\n",
    "    df_recent_order['compare'] = df_recent_order.remain.apply(lambda x: 1 if x <= 0 else 0)\n",
    "    \n",
    "    ###################################### Frequency ##########################################\n",
    "    # Считаем количество заказов каждой категории в выборке\n",
    "    df_frequency = df_x.groupby('category').order_date.count().reset_index()\n",
    "    df_frequency.columns = ['category','frequency']\n",
    "    df_features = pd.merge(df_recent_order,df_frequency, how='left', on='category')\n",
    "    df_last_order = pd.DataFrame(columns=['category','last_volume', 'volume'])\n",
    "\n",
    "    ###################################### Volume ############################################    \n",
    "    for cat in df_x.category.unique():  \n",
    "        df_volume = df_x[['order_date','category','ordered']]\n",
    "        df_volume = df_volume[df_volume.category == cat]\n",
    "\n",
    "        # Считаем сумму последнего заказа по категориям\n",
    "        last_order = df_volume[df_volume.order_date == df_volume.order_date.max()]\n",
    "        last_order = last_order.groupby(['category']).sum().reset_index()\n",
    "        last_order.columns = last_order.columns.droplevel(1)\n",
    "\n",
    "        # Считаем средний срок поставки заказов в выборке по категориям\n",
    "        volume = df_volume.groupby(['category']).sum().reset_index()\n",
    "        volume.columns = volume.columns.droplevel(1)\n",
    "\n",
    "        new_row = {'category':cat, 'last_volume':last_order.ordered[0], 'volume':volume.ordered[0]}\n",
    "        df_last_order = df_last_order.append(new_row,ignore_index=True)\n",
    "        \n",
    "    # Считаем соотношение последнего срока поставки к среднему в выборке\n",
    "    df_last_order['increase_volume'] = df_last_order.last_volume/df_last_order.volume\n",
    "    \n",
    "    # Соединяем с приготовленным датасетом признаков\n",
    "    df_features = pd.merge(df_features,df_last_order, how='left', on='category')\n",
    "    \n",
    "    ###################################### Leadtime ############################################\n",
    "    \n",
    "    df_last_leadtime = pd.DataFrame(columns=['category','last_leadtime', 'leadtime'])\n",
    "\n",
    "    for cat in df_x.category.unique():  \n",
    "        df_leadtime = df_x[['order_date','category','leadtime_int']]\n",
    "        df_leadtime = df_leadtime[df_leadtime.category == cat]\n",
    "\n",
    "        # Считаем сумму последнего заказа по категориям\n",
    "        last_leadtime = df_leadtime[df_leadtime.order_date == df_leadtime.order_date.max()]\n",
    "        last_leadtime = last_leadtime.groupby(['category']).mean().reset_index()\n",
    "        last_leadtime.columns = last_leadtime.columns.droplevel(1)\n",
    "\n",
    "        # Считаем средний срок поставки заказов в выборке по категориям\n",
    "        leadtime = df_leadtime.groupby(['category']).mean().reset_index()\n",
    "        leadtime.columns = leadtime.columns.droplevel(1)\n",
    "\n",
    "        new_row = {'category':cat, 'last_leadtime':last_leadtime.leadtime_int[0], 'leadtime':leadtime.leadtime_int[0]}\n",
    "        df_last_leadtime = df_last_leadtime.append(new_row,ignore_index=True)\n",
    "        \n",
    "    # Создадим бинарный признак, 1 - если срока поставки >  обычного срока\n",
    "    df_last_leadtime['leadtime_diff'] = df_last_leadtime.last_leadtime - df_last_leadtime.leadtime\n",
    "    df_last_leadtime['leadtime_inc'] = df_last_leadtime.leadtime_diff.apply(lambda x: 1 if x > 0 else 0)\n",
    "    \n",
    "    # Соединяем датасет признаков\n",
    "    df_features = pd.merge(df_features,df_last_leadtime, how='left', on='category')\n",
    "    feature_list = ['recency','interval', 'median_recent',\n",
    "       'remain', 'compare', 'frequency', 'last_volume', 'volume',\n",
    "       'increase_volume', 'last_leadtime', 'leadtime', 'leadtime_diff',\n",
    "       'leadtime_inc']\n",
    "    df_features = df_features[feature_list]\n",
    "    return df_features"
   ]
  },
  {
   "cell_type": "markdown",
   "id": "45c2ae4a",
   "metadata": {
    "heading_collapsed": true
   },
   "source": [
    "# III. Data"
   ]
  },
  {
   "cell_type": "code",
   "execution_count": 1042,
   "id": "d10b557d",
   "metadata": {
    "hidden": true
   },
   "outputs": [],
   "source": [
    "# Загружаем приготовленный датасет\n",
    "df_village = pd.read_csv('village_table.csv')"
   ]
  },
  {
   "cell_type": "code",
   "execution_count": 1043,
   "id": "5594bf7b",
   "metadata": {
    "hidden": true
   },
   "outputs": [
    {
     "data": {
      "text/html": [
       "<div>\n",
       "<style scoped>\n",
       "    .dataframe tbody tr th:only-of-type {\n",
       "        vertical-align: middle;\n",
       "    }\n",
       "\n",
       "    .dataframe tbody tr th {\n",
       "        vertical-align: top;\n",
       "    }\n",
       "\n",
       "    .dataframe thead th {\n",
       "        text-align: right;\n",
       "    }\n",
       "</style>\n",
       "<table border=\"1\" class=\"dataframe\">\n",
       "  <thead>\n",
       "    <tr style=\"text-align: right;\">\n",
       "      <th></th>\n",
       "      <th>village</th>\n",
       "      <th>year</th>\n",
       "      <th>family</th>\n",
       "      <th>category</th>\n",
       "      <th>fruit</th>\n",
       "      <th>grade</th>\n",
       "      <th>order_date</th>\n",
       "      <th>delivery_date</th>\n",
       "      <th>ordered</th>\n",
       "      <th>shipped</th>\n",
       "      <th>leadtime</th>\n",
       "      <th>leadtime_int</th>\n",
       "      <th>order_date_int</th>\n",
       "    </tr>\n",
       "  </thead>\n",
       "  <tbody>\n",
       "    <tr>\n",
       "      <th>0</th>\n",
       "      <td>Robinhood_village</td>\n",
       "      <td>2020</td>\n",
       "      <td>family_244</td>\n",
       "      <td>category_25</td>\n",
       "      <td>fruit_37</td>\n",
       "      <td>165</td>\n",
       "      <td>2019-12-30</td>\n",
       "      <td>2020-01-03</td>\n",
       "      <td>1650.00</td>\n",
       "      <td>1663.200</td>\n",
       "      <td>4 days</td>\n",
       "      <td>4</td>\n",
       "      <td>1577664000</td>\n",
       "    </tr>\n",
       "    <tr>\n",
       "      <th>1</th>\n",
       "      <td>Robinhood_village</td>\n",
       "      <td>2020</td>\n",
       "      <td>family_127</td>\n",
       "      <td>category_14</td>\n",
       "      <td>fruit_62</td>\n",
       "      <td>250</td>\n",
       "      <td>2019-12-30</td>\n",
       "      <td>2020-01-10</td>\n",
       "      <td>1000.00</td>\n",
       "      <td>1060.000</td>\n",
       "      <td>11 days</td>\n",
       "      <td>11</td>\n",
       "      <td>1577664000</td>\n",
       "    </tr>\n",
       "    <tr>\n",
       "      <th>2</th>\n",
       "      <td>Robinhood_village</td>\n",
       "      <td>2020</td>\n",
       "      <td>family_133</td>\n",
       "      <td>category_16</td>\n",
       "      <td>fruit_48</td>\n",
       "      <td>330</td>\n",
       "      <td>2019-12-30</td>\n",
       "      <td>2020-01-08</td>\n",
       "      <td>1320.00</td>\n",
       "      <td>1336.500</td>\n",
       "      <td>9 days</td>\n",
       "      <td>9</td>\n",
       "      <td>1577664000</td>\n",
       "    </tr>\n",
       "    <tr>\n",
       "      <th>3</th>\n",
       "      <td>Robinhood_village</td>\n",
       "      <td>2020</td>\n",
       "      <td>family_133</td>\n",
       "      <td>category_25</td>\n",
       "      <td>fruit_49</td>\n",
       "      <td>250</td>\n",
       "      <td>2019-12-30</td>\n",
       "      <td>2020-01-08</td>\n",
       "      <td>2500.00</td>\n",
       "      <td>2508.750</td>\n",
       "      <td>9 days</td>\n",
       "      <td>9</td>\n",
       "      <td>1577664000</td>\n",
       "    </tr>\n",
       "    <tr>\n",
       "      <th>4</th>\n",
       "      <td>Robinhood_village</td>\n",
       "      <td>2020</td>\n",
       "      <td>family_133</td>\n",
       "      <td>category_4</td>\n",
       "      <td>fruit_52</td>\n",
       "      <td>315</td>\n",
       "      <td>2019-12-30</td>\n",
       "      <td>2020-01-08</td>\n",
       "      <td>4725.00</td>\n",
       "      <td>4759.650</td>\n",
       "      <td>9 days</td>\n",
       "      <td>9</td>\n",
       "      <td>1577664000</td>\n",
       "    </tr>\n",
       "    <tr>\n",
       "      <th>...</th>\n",
       "      <td>...</td>\n",
       "      <td>...</td>\n",
       "      <td>...</td>\n",
       "      <td>...</td>\n",
       "      <td>...</td>\n",
       "      <td>...</td>\n",
       "      <td>...</td>\n",
       "      <td>...</td>\n",
       "      <td>...</td>\n",
       "      <td>...</td>\n",
       "      <td>...</td>\n",
       "      <td>...</td>\n",
       "      <td>...</td>\n",
       "    </tr>\n",
       "    <tr>\n",
       "      <th>243738</th>\n",
       "      <td>Robinhood_village</td>\n",
       "      <td>2022</td>\n",
       "      <td>family_16</td>\n",
       "      <td>category_87</td>\n",
       "      <td>fruit_474</td>\n",
       "      <td>145</td>\n",
       "      <td>2022-02-19</td>\n",
       "      <td>2022-02-23</td>\n",
       "      <td>287.10</td>\n",
       "      <td>287.100</td>\n",
       "      <td>4 days</td>\n",
       "      <td>4</td>\n",
       "      <td>1645228800</td>\n",
       "    </tr>\n",
       "    <tr>\n",
       "      <th>243739</th>\n",
       "      <td>Robinhood_village</td>\n",
       "      <td>2022</td>\n",
       "      <td>family_11</td>\n",
       "      <td>category_56</td>\n",
       "      <td>fruit_248</td>\n",
       "      <td>320</td>\n",
       "      <td>2022-02-19</td>\n",
       "      <td>2022-02-25</td>\n",
       "      <td>2561.92</td>\n",
       "      <td>2561.920</td>\n",
       "      <td>6 days</td>\n",
       "      <td>6</td>\n",
       "      <td>1645228800</td>\n",
       "    </tr>\n",
       "    <tr>\n",
       "      <th>243740</th>\n",
       "      <td>Robinhood_village</td>\n",
       "      <td>2022</td>\n",
       "      <td>family_108</td>\n",
       "      <td>category_16</td>\n",
       "      <td>fruit_410</td>\n",
       "      <td>340</td>\n",
       "      <td>2022-02-20</td>\n",
       "      <td>2022-02-25</td>\n",
       "      <td>1377.00</td>\n",
       "      <td>1377.000</td>\n",
       "      <td>5 days</td>\n",
       "      <td>5</td>\n",
       "      <td>1645315200</td>\n",
       "    </tr>\n",
       "    <tr>\n",
       "      <th>243741</th>\n",
       "      <td>Robinhood_village</td>\n",
       "      <td>2022</td>\n",
       "      <td>family_278</td>\n",
       "      <td>category_9</td>\n",
       "      <td>fruit_233</td>\n",
       "      <td>252</td>\n",
       "      <td>2022-02-20</td>\n",
       "      <td>2022-02-25</td>\n",
       "      <td>554.40</td>\n",
       "      <td>554.400</td>\n",
       "      <td>5 days</td>\n",
       "      <td>5</td>\n",
       "      <td>1645315200</td>\n",
       "    </tr>\n",
       "    <tr>\n",
       "      <th>243742</th>\n",
       "      <td>Robinhood_village</td>\n",
       "      <td>2022</td>\n",
       "      <td>family_97</td>\n",
       "      <td>category_14</td>\n",
       "      <td>fruit_1774</td>\n",
       "      <td>333</td>\n",
       "      <td>2022-02-20</td>\n",
       "      <td>2022-03-10</td>\n",
       "      <td>9990.00</td>\n",
       "      <td>10820.169</td>\n",
       "      <td>18 days</td>\n",
       "      <td>18</td>\n",
       "      <td>1645315200</td>\n",
       "    </tr>\n",
       "  </tbody>\n",
       "</table>\n",
       "<p>243743 rows × 13 columns</p>\n",
       "</div>"
      ],
      "text/plain": [
       "                  village  year      family     category       fruit  grade  \\\n",
       "0       Robinhood_village  2020  family_244  category_25    fruit_37    165   \n",
       "1       Robinhood_village  2020  family_127  category_14    fruit_62    250   \n",
       "2       Robinhood_village  2020  family_133  category_16    fruit_48    330   \n",
       "3       Robinhood_village  2020  family_133  category_25    fruit_49    250   \n",
       "4       Robinhood_village  2020  family_133   category_4    fruit_52    315   \n",
       "...                   ...   ...         ...          ...         ...    ...   \n",
       "243738  Robinhood_village  2022   family_16  category_87   fruit_474    145   \n",
       "243739  Robinhood_village  2022   family_11  category_56   fruit_248    320   \n",
       "243740  Robinhood_village  2022  family_108  category_16   fruit_410    340   \n",
       "243741  Robinhood_village  2022  family_278   category_9   fruit_233    252   \n",
       "243742  Robinhood_village  2022   family_97  category_14  fruit_1774    333   \n",
       "\n",
       "        order_date delivery_date  ordered    shipped leadtime  leadtime_int  \\\n",
       "0       2019-12-30    2020-01-03  1650.00   1663.200   4 days             4   \n",
       "1       2019-12-30    2020-01-10  1000.00   1060.000  11 days            11   \n",
       "2       2019-12-30    2020-01-08  1320.00   1336.500   9 days             9   \n",
       "3       2019-12-30    2020-01-08  2500.00   2508.750   9 days             9   \n",
       "4       2019-12-30    2020-01-08  4725.00   4759.650   9 days             9   \n",
       "...            ...           ...      ...        ...      ...           ...   \n",
       "243738  2022-02-19    2022-02-23   287.10    287.100   4 days             4   \n",
       "243739  2022-02-19    2022-02-25  2561.92   2561.920   6 days             6   \n",
       "243740  2022-02-20    2022-02-25  1377.00   1377.000   5 days             5   \n",
       "243741  2022-02-20    2022-02-25   554.40    554.400   5 days             5   \n",
       "243742  2022-02-20    2022-03-10  9990.00  10820.169  18 days            18   \n",
       "\n",
       "        order_date_int  \n",
       "0           1577664000  \n",
       "1           1577664000  \n",
       "2           1577664000  \n",
       "3           1577664000  \n",
       "4           1577664000  \n",
       "...                ...  \n",
       "243738      1645228800  \n",
       "243739      1645228800  \n",
       "243740      1645315200  \n",
       "243741      1645315200  \n",
       "243742      1645315200  \n",
       "\n",
       "[243743 rows x 13 columns]"
      ]
     },
     "execution_count": 1043,
     "metadata": {},
     "output_type": "execute_result"
    }
   ],
   "source": [
    "df_village"
   ]
  },
  {
   "cell_type": "code",
   "execution_count": 1044,
   "id": "01023b92",
   "metadata": {
    "hidden": true
   },
   "outputs": [],
   "source": [
    "# Преобразуем в формат datetime\n",
    "df_village.order_date = pd.to_datetime(df_village.order_date)\n",
    "df_village.delivery_date = pd.to_datetime(df_village.delivery_date)"
   ]
  },
  {
   "cell_type": "code",
   "execution_count": 1045,
   "id": "cda6ec5e",
   "metadata": {
    "hidden": true
   },
   "outputs": [
    {
     "name": "stdout",
     "output_type": "stream",
     "text": [
      "<class 'pandas.core.frame.DataFrame'>\n",
      "RangeIndex: 243743 entries, 0 to 243742\n",
      "Data columns (total 13 columns):\n",
      " #   Column          Non-Null Count   Dtype         \n",
      "---  ------          --------------   -----         \n",
      " 0   village         243743 non-null  object        \n",
      " 1   year            243743 non-null  int64         \n",
      " 2   family          243743 non-null  object        \n",
      " 3   category        243743 non-null  object        \n",
      " 4   fruit           243743 non-null  object        \n",
      " 5   grade           243743 non-null  int64         \n",
      " 6   order_date      243743 non-null  datetime64[ns]\n",
      " 7   delivery_date   243743 non-null  datetime64[ns]\n",
      " 8   ordered         243743 non-null  float64       \n",
      " 9   shipped         243743 non-null  float64       \n",
      " 10  leadtime        243743 non-null  object        \n",
      " 11  leadtime_int    243743 non-null  int64         \n",
      " 12  order_date_int  243743 non-null  int64         \n",
      "dtypes: datetime64[ns](2), float64(2), int64(4), object(5)\n",
      "memory usage: 24.2+ MB\n"
     ]
    }
   ],
   "source": [
    "df_village.info()"
   ]
  },
  {
   "cell_type": "code",
   "execution_count": 1046,
   "id": "dceec38e",
   "metadata": {
    "hidden": true
   },
   "outputs": [],
   "source": [
    "#  Создадим датафреймы для каждой семьи\n",
    "for parent in df_village.family.unique():\n",
    "    globals()[f'{parent}'] = df_village.query(f\"family == '{parent}'\")\n",
    "#     globals()[f'{parent}'].to_csv(f'dfs/{parent}.csv', index=False)"
   ]
  },
  {
   "cell_type": "markdown",
   "id": "8697330b",
   "metadata": {},
   "source": [
    "# IV. Task 2: Predicting categories"
   ]
  },
  {
   "cell_type": "markdown",
   "id": "bebfa449",
   "metadata": {},
   "source": [
    "## 1. Preparing datasets"
   ]
  },
  {
   "cell_type": "markdown",
   "id": "791ecff3",
   "metadata": {},
   "source": [
    "### 1.1. Transformation"
   ]
  },
  {
   "cell_type": "code",
   "execution_count": 1275,
   "id": "8d68be40",
   "metadata": {},
   "outputs": [],
   "source": [
    "data = family_119.copy()\n",
    "data = data.sort_values(by='order_date', ascending=True)\n",
    "    \n",
    "# Данные по заказам, которые нужно суммировать\n",
    "data_o = data[['order_date','ordered','category']]\n",
    "data_o = data_o.groupby(['order_date','category']).agg(['sum'])\n",
    "# data_o.reset_index(inplace=True)"
   ]
  },
  {
   "cell_type": "code",
   "execution_count": 1276,
   "id": "59feac2e",
   "metadata": {},
   "outputs": [
    {
     "data": {
      "text/html": [
       "<div>\n",
       "<style scoped>\n",
       "    .dataframe tbody tr th:only-of-type {\n",
       "        vertical-align: middle;\n",
       "    }\n",
       "\n",
       "    .dataframe tbody tr th {\n",
       "        vertical-align: top;\n",
       "    }\n",
       "\n",
       "    .dataframe thead tr th {\n",
       "        text-align: left;\n",
       "    }\n",
       "\n",
       "    .dataframe thead tr:last-of-type th {\n",
       "        text-align: right;\n",
       "    }\n",
       "</style>\n",
       "<table border=\"1\" class=\"dataframe\">\n",
       "  <thead>\n",
       "    <tr>\n",
       "      <th></th>\n",
       "      <th></th>\n",
       "      <th>ordered</th>\n",
       "    </tr>\n",
       "    <tr>\n",
       "      <th></th>\n",
       "      <th></th>\n",
       "      <th>sum</th>\n",
       "    </tr>\n",
       "    <tr>\n",
       "      <th>order_date</th>\n",
       "      <th>category</th>\n",
       "      <th></th>\n",
       "    </tr>\n",
       "  </thead>\n",
       "  <tbody>\n",
       "    <tr>\n",
       "      <th rowspan=\"2\" valign=\"top\">2020-01-03</th>\n",
       "      <th>category_3</th>\n",
       "      <td>28000.0</td>\n",
       "    </tr>\n",
       "    <tr>\n",
       "      <th>category_9</th>\n",
       "      <td>30240.0</td>\n",
       "    </tr>\n",
       "    <tr>\n",
       "      <th rowspan=\"3\" valign=\"top\">2020-01-07</th>\n",
       "      <th>category_14</th>\n",
       "      <td>1999.0</td>\n",
       "    </tr>\n",
       "    <tr>\n",
       "      <th>category_16</th>\n",
       "      <td>3996.0</td>\n",
       "    </tr>\n",
       "    <tr>\n",
       "      <th>category_24</th>\n",
       "      <td>20640.0</td>\n",
       "    </tr>\n",
       "    <tr>\n",
       "      <th>...</th>\n",
       "      <th>...</th>\n",
       "      <td>...</td>\n",
       "    </tr>\n",
       "    <tr>\n",
       "      <th>2022-02-14</th>\n",
       "      <th>category_9</th>\n",
       "      <td>14985.0</td>\n",
       "    </tr>\n",
       "    <tr>\n",
       "      <th rowspan=\"2\" valign=\"top\">2022-02-16</th>\n",
       "      <th>category_16</th>\n",
       "      <td>1998.0</td>\n",
       "    </tr>\n",
       "    <tr>\n",
       "      <th>category_62</th>\n",
       "      <td>48000.0</td>\n",
       "    </tr>\n",
       "    <tr>\n",
       "      <th rowspan=\"2\" valign=\"top\">2022-02-18</th>\n",
       "      <th>category_10</th>\n",
       "      <td>38400.0</td>\n",
       "    </tr>\n",
       "    <tr>\n",
       "      <th>category_8</th>\n",
       "      <td>25974.0</td>\n",
       "    </tr>\n",
       "  </tbody>\n",
       "</table>\n",
       "<p>1836 rows × 1 columns</p>\n",
       "</div>"
      ],
      "text/plain": [
       "                        ordered\n",
       "                            sum\n",
       "order_date category            \n",
       "2020-01-03 category_3   28000.0\n",
       "           category_9   30240.0\n",
       "2020-01-07 category_14   1999.0\n",
       "           category_16   3996.0\n",
       "           category_24  20640.0\n",
       "...                         ...\n",
       "2022-02-14 category_9   14985.0\n",
       "2022-02-16 category_16   1998.0\n",
       "           category_62  48000.0\n",
       "2022-02-18 category_10  38400.0\n",
       "           category_8   25974.0\n",
       "\n",
       "[1836 rows x 1 columns]"
      ]
     },
     "metadata": {},
     "output_type": "display_data"
    }
   ],
   "source": [
    "display(data_o)"
   ]
  },
  {
   "cell_type": "code",
   "execution_count": 1277,
   "id": "5c402bfd",
   "metadata": {},
   "outputs": [],
   "source": [
    "# Данные, которые нужно усреднить\n",
    "data_l = data.copy()\n",
    "data_l = data_l[['order_date', 'category','leadtime_int']]\n",
    "data_l = data_l.groupby(['order_date','category']).agg(['mean'])\n",
    "# data_l.reset_index(inplace=True)"
   ]
  },
  {
   "cell_type": "code",
   "execution_count": 1278,
   "id": "471a6cf6",
   "metadata": {},
   "outputs": [],
   "source": [
    "# Соединяем\n",
    "data_order_cat = pd.concat([data_o, data_l], axis=1)"
   ]
  },
  {
   "cell_type": "code",
   "execution_count": 1279,
   "id": "c9f79604",
   "metadata": {},
   "outputs": [],
   "source": [
    "data_order_cat.reset_index(inplace=True)"
   ]
  },
  {
   "cell_type": "code",
   "execution_count": 1280,
   "id": "2942ec0d",
   "metadata": {},
   "outputs": [
    {
     "name": "stdout",
     "output_type": "stream",
     "text": [
      "<class 'pandas.core.frame.DataFrame'>\n",
      "RangeIndex: 1836 entries, 0 to 1835\n",
      "Data columns (total 4 columns):\n",
      " #   Column                Non-Null Count  Dtype         \n",
      "---  ------                --------------  -----         \n",
      " 0   (order_date, )        1836 non-null   datetime64[ns]\n",
      " 1   (category, )          1836 non-null   object        \n",
      " 2   (ordered, sum)        1836 non-null   float64       \n",
      " 3   (leadtime_int, mean)  1836 non-null   float64       \n",
      "dtypes: datetime64[ns](1), float64(2), object(1)\n",
      "memory usage: 57.5+ KB\n"
     ]
    }
   ],
   "source": [
    "data_order_cat.info()"
   ]
  },
  {
   "cell_type": "code",
   "execution_count": 1514,
   "id": "c45658fa",
   "metadata": {},
   "outputs": [],
   "source": [
    "# data_order_cat"
   ]
  },
  {
   "cell_type": "code",
   "execution_count": 1282,
   "id": "ef044eda",
   "metadata": {},
   "outputs": [
    {
     "data": {
      "text/plain": [
       "Timestamp('2020-01-03 00:00:00')"
      ]
     },
     "execution_count": 1282,
     "metadata": {},
     "output_type": "execute_result"
    }
   ],
   "source": [
    "# Найстаршая дата данных\n",
    "data_order_cat.order_date.min()"
   ]
  },
  {
   "cell_type": "code",
   "execution_count": 1283,
   "id": "9b84a11d",
   "metadata": {},
   "outputs": [
    {
     "data": {
      "text/plain": [
       "Timestamp('2022-02-18 00:00:00')"
      ]
     },
     "execution_count": 1283,
     "metadata": {},
     "output_type": "execute_result"
    }
   ],
   "source": [
    "# Самая поздняя дата \n",
    "data_order_cat.order_date.max()"
   ]
  },
  {
   "cell_type": "markdown",
   "id": "702285bd",
   "metadata": {},
   "source": [
    "### 1.2. Analysis of new features"
   ]
  },
  {
   "cell_type": "markdown",
   "id": "955b74a4",
   "metadata": {
    "heading_collapsed": true
   },
   "source": [
    "#### 1.2.1. Frequency"
   ]
  },
  {
   "cell_type": "code",
   "execution_count": 1284,
   "id": "7fba549f",
   "metadata": {
    "hidden": true
   },
   "outputs": [],
   "source": [
    "# Выведем количество всех заказов по категории\n",
    "cat_frequency = data_order_cat.groupby('category').order_date.count().reset_index()\n",
    "cat_frequency.columns = ['category','frequency']"
   ]
  },
  {
   "cell_type": "code",
   "execution_count": 1285,
   "id": "d6389e71",
   "metadata": {
    "hidden": true
   },
   "outputs": [
    {
     "data": {
      "text/html": [
       "<div>\n",
       "<style scoped>\n",
       "    .dataframe tbody tr th:only-of-type {\n",
       "        vertical-align: middle;\n",
       "    }\n",
       "\n",
       "    .dataframe tbody tr th {\n",
       "        vertical-align: top;\n",
       "    }\n",
       "\n",
       "    .dataframe thead th {\n",
       "        text-align: right;\n",
       "    }\n",
       "</style>\n",
       "<table border=\"1\" class=\"dataframe\">\n",
       "  <thead>\n",
       "    <tr style=\"text-align: right;\">\n",
       "      <th></th>\n",
       "      <th>category</th>\n",
       "      <th>frequency</th>\n",
       "    </tr>\n",
       "  </thead>\n",
       "  <tbody>\n",
       "    <tr>\n",
       "      <th>0</th>\n",
       "      <td>category_0</td>\n",
       "      <td>1</td>\n",
       "    </tr>\n",
       "    <tr>\n",
       "      <th>1</th>\n",
       "      <td>category_10</td>\n",
       "      <td>20</td>\n",
       "    </tr>\n",
       "    <tr>\n",
       "      <th>2</th>\n",
       "      <td>category_102</td>\n",
       "      <td>5</td>\n",
       "    </tr>\n",
       "    <tr>\n",
       "      <th>3</th>\n",
       "      <td>category_12</td>\n",
       "      <td>13</td>\n",
       "    </tr>\n",
       "    <tr>\n",
       "      <th>4</th>\n",
       "      <td>category_13</td>\n",
       "      <td>10</td>\n",
       "    </tr>\n",
       "  </tbody>\n",
       "</table>\n",
       "</div>"
      ],
      "text/plain": [
       "       category  frequency\n",
       "0    category_0          1\n",
       "1   category_10         20\n",
       "2  category_102          5\n",
       "3   category_12         13\n",
       "4   category_13         10"
      ]
     },
     "execution_count": 1285,
     "metadata": {},
     "output_type": "execute_result"
    }
   ],
   "source": [
    "cat_frequency.head()"
   ]
  },
  {
   "cell_type": "code",
   "execution_count": 1286,
   "id": "d5293731",
   "metadata": {
    "hidden": true
   },
   "outputs": [
    {
     "data": {
      "application/vnd.plotly.v1+json": {
       "config": {
        "displaylogo": false,
        "plotlyServerURL": "https://plot.ly"
       },
       "data": [
        {
         "alignmentgroup": "True",
         "bingroup": "x",
         "histfunc": "sum",
         "hovertemplate": "x=%{x}<br>sum of y=%{y}<extra></extra>",
         "legendgroup": "",
         "marker": {
          "color": "#1F77B4",
          "pattern": {
           "shape": ""
          }
         },
         "name": "",
         "offsetgroup": "",
         "orientation": "v",
         "showlegend": false,
         "type": "histogram",
         "x": [
          "category_0",
          "category_10",
          "category_102",
          "category_12",
          "category_13",
          "category_133",
          "category_138",
          "category_14",
          "category_157",
          "category_158",
          "category_16",
          "category_21",
          "category_217",
          "category_22",
          "category_23",
          "category_24",
          "category_3",
          "category_38",
          "category_4",
          "category_40",
          "category_47",
          "category_56",
          "category_58",
          "category_62",
          "category_7",
          "category_76",
          "category_8",
          "category_84",
          "category_85",
          "category_87",
          "category_89",
          "category_9",
          "category_91"
         ],
         "xaxis": "x",
         "y": [
          1,
          20,
          5,
          13,
          10,
          7,
          19,
          249,
          2,
          3,
          137,
          3,
          2,
          25,
          8,
          122,
          194,
          224,
          14,
          11,
          31,
          44,
          82,
          143,
          52,
          28,
          76,
          55,
          6,
          21,
          1,
          225,
          3
         ],
         "yaxis": "y"
        }
       ],
       "layout": {
        "barmode": "relative",
        "legend": {
         "tracegroupgap": 0
        },
        "template": {
         "data": {
          "pie": [
           {
            "automargin": true,
            "type": "pie"
           }
          ]
         },
         "layout": {
          "yaxis": {
           "showgrid": false
          }
         }
        },
        "title": {
         "text": "Number of Orders per Category",
         "x": 0.2
        },
        "xaxis": {
         "anchor": "y",
         "categoryorder": "total ascending",
         "domain": [
          0,
          1
         ],
         "title": {
          "text": "x"
         }
        },
        "yaxis": {
         "anchor": "x",
         "domain": [
          0,
          1
         ],
         "title": {
          "text": "Number of Orders"
         }
        }
       }
      },
      "text/html": [
       "<div>                            <div id=\"7456edf2-05a2-428a-8a54-3ff43d522232\" class=\"plotly-graph-div\" style=\"height:525px; width:100%;\"></div>            <script type=\"text/javascript\">                require([\"plotly\"], function(Plotly) {                    window.PLOTLYENV=window.PLOTLYENV || {};                                    if (document.getElementById(\"7456edf2-05a2-428a-8a54-3ff43d522232\")) {                    Plotly.newPlot(                        \"7456edf2-05a2-428a-8a54-3ff43d522232\",                        [{\"alignmentgroup\":\"True\",\"bingroup\":\"x\",\"histfunc\":\"sum\",\"hovertemplate\":\"x=%{x}<br>sum of y=%{y}<extra></extra>\",\"legendgroup\":\"\",\"marker\":{\"color\":\"#1F77B4\",\"pattern\":{\"shape\":\"\"}},\"name\":\"\",\"offsetgroup\":\"\",\"orientation\":\"v\",\"showlegend\":false,\"type\":\"histogram\",\"x\":[\"category_0\",\"category_10\",\"category_102\",\"category_12\",\"category_13\",\"category_133\",\"category_138\",\"category_14\",\"category_157\",\"category_158\",\"category_16\",\"category_21\",\"category_217\",\"category_22\",\"category_23\",\"category_24\",\"category_3\",\"category_38\",\"category_4\",\"category_40\",\"category_47\",\"category_56\",\"category_58\",\"category_62\",\"category_7\",\"category_76\",\"category_8\",\"category_84\",\"category_85\",\"category_87\",\"category_89\",\"category_9\",\"category_91\"],\"xaxis\":\"x\",\"y\":[1,20,5,13,10,7,19,249,2,3,137,3,2,25,8,122,194,224,14,11,31,44,82,143,52,28,76,55,6,21,1,225,3],\"yaxis\":\"y\"}],                        {\"barmode\":\"relative\",\"legend\":{\"tracegroupgap\":0},\"template\":{\"data\":{\"pie\":[{\"automargin\":true,\"type\":\"pie\"}]},\"layout\":{\"yaxis\":{\"showgrid\":false}}},\"title\":{\"text\":\"Number of Orders per Category\",\"x\":0.2},\"xaxis\":{\"anchor\":\"y\",\"categoryorder\":\"total ascending\",\"domain\":[0.0,1.0],\"title\":{\"text\":\"x\"}},\"yaxis\":{\"anchor\":\"x\",\"domain\":[0.0,1.0],\"title\":{\"text\":\"Number of Orders\"}}},                        {\"displaylogo\": false, \"responsive\": true}                    ).then(function(){\n",
       "                            \n",
       "var gd = document.getElementById('7456edf2-05a2-428a-8a54-3ff43d522232');\n",
       "var x = new MutationObserver(function (mutations, observer) {{\n",
       "        var display = window.getComputedStyle(gd).display;\n",
       "        if (!display || display === 'none') {{\n",
       "            console.log([gd, 'removed!']);\n",
       "            Plotly.purge(gd);\n",
       "            observer.disconnect();\n",
       "        }}\n",
       "}});\n",
       "\n",
       "// Listen for the removal of the full notebook cells\n",
       "var notebookContainer = gd.closest('#notebook-container');\n",
       "if (notebookContainer) {{\n",
       "    x.observe(notebookContainer, {childList: true});\n",
       "}}\n",
       "\n",
       "// Listen for the clearing of the current output cell\n",
       "var outputEl = gd.closest('.output');\n",
       "if (outputEl) {{\n",
       "    x.observe(outputEl, {childList: true});\n",
       "}}\n",
       "\n",
       "                        })                };                });            </script>        </div>"
      ]
     },
     "metadata": {},
     "output_type": "display_data"
    }
   ],
   "source": [
    "# plot histogram\n",
    "hist_fig = px.histogram(x=cat_frequency.category, y=cat_frequency.frequency,\n",
    "                        title=\"Number of Orders per Category\", template= \"ygridoff\" \n",
    "                       ).update_xaxes(categoryorder='total ascending')\n",
    "hist_fig.update_layout(title_x=0.2,\n",
    "#                        xaxis_title=\"Categories\", \n",
    "                       yaxis_title=\"Number of Orders\"\n",
    "                      )\n",
    "\n",
    "hist_fig.show(config={'displaylogo': False})"
   ]
  },
  {
   "cell_type": "code",
   "execution_count": 1287,
   "id": "1f7b4188",
   "metadata": {
    "hidden": true
   },
   "outputs": [
    {
     "data": {
      "text/html": [
       "<div>\n",
       "<style scoped>\n",
       "    .dataframe tbody tr th:only-of-type {\n",
       "        vertical-align: middle;\n",
       "    }\n",
       "\n",
       "    .dataframe tbody tr th {\n",
       "        vertical-align: top;\n",
       "    }\n",
       "\n",
       "    .dataframe thead th {\n",
       "        text-align: right;\n",
       "    }\n",
       "</style>\n",
       "<table border=\"1\" class=\"dataframe\">\n",
       "  <thead>\n",
       "    <tr style=\"text-align: right;\">\n",
       "      <th></th>\n",
       "      <th>category</th>\n",
       "      <th>frequency</th>\n",
       "    </tr>\n",
       "  </thead>\n",
       "  <tbody>\n",
       "    <tr>\n",
       "      <th>0</th>\n",
       "      <td>category_0</td>\n",
       "      <td>1</td>\n",
       "    </tr>\n",
       "    <tr>\n",
       "      <th>8</th>\n",
       "      <td>category_157</td>\n",
       "      <td>2</td>\n",
       "    </tr>\n",
       "    <tr>\n",
       "      <th>9</th>\n",
       "      <td>category_158</td>\n",
       "      <td>3</td>\n",
       "    </tr>\n",
       "    <tr>\n",
       "      <th>11</th>\n",
       "      <td>category_21</td>\n",
       "      <td>3</td>\n",
       "    </tr>\n",
       "    <tr>\n",
       "      <th>12</th>\n",
       "      <td>category_217</td>\n",
       "      <td>2</td>\n",
       "    </tr>\n",
       "    <tr>\n",
       "      <th>30</th>\n",
       "      <td>category_89</td>\n",
       "      <td>1</td>\n",
       "    </tr>\n",
       "    <tr>\n",
       "      <th>32</th>\n",
       "      <td>category_91</td>\n",
       "      <td>3</td>\n",
       "    </tr>\n",
       "  </tbody>\n",
       "</table>\n",
       "</div>"
      ],
      "text/plain": [
       "        category  frequency\n",
       "0     category_0          1\n",
       "8   category_157          2\n",
       "9   category_158          3\n",
       "11   category_21          3\n",
       "12  category_217          2\n",
       "30   category_89          1\n",
       "32   category_91          3"
      ]
     },
     "execution_count": 1287,
     "metadata": {},
     "output_type": "execute_result"
    }
   ],
   "source": [
    "# Катеогории, которые купили менее 5 раз за более, чем два года, стоит удалить\n",
    "cat_frequency[cat_frequency.frequency < 5]"
   ]
  },
  {
   "cell_type": "code",
   "execution_count": 1288,
   "id": "78400c40",
   "metadata": {
    "hidden": true
   },
   "outputs": [],
   "source": [
    "to_delete = list(cat_frequency[cat_frequency.frequency < 5].category.values)"
   ]
  },
  {
   "cell_type": "code",
   "execution_count": 1289,
   "id": "8b4c616e",
   "metadata": {
    "hidden": true
   },
   "outputs": [],
   "source": [
    "# Удалим из датасета категории с заказами менее 5\n",
    "data_order_cat = data_order_cat[~data_order_cat.category.isin(to_delete)]"
   ]
  },
  {
   "cell_type": "markdown",
   "id": "7fc5a6fb",
   "metadata": {
    "heading_collapsed": true
   },
   "source": [
    "#### 1.2.2. Interval"
   ]
  },
  {
   "cell_type": "code",
   "execution_count": 1290,
   "id": "be03daec",
   "metadata": {
    "hidden": true
   },
   "outputs": [],
   "source": [
    "for cat in data_order_cat.category.unique():\n",
    "    j = data_order_cat[data_order_cat.category == cat].order_date.diff().astype('timedelta64[D]')\n",
    "    globals()[f\"diff_{cat}\"] = j.mean()"
   ]
  },
  {
   "cell_type": "code",
   "execution_count": 1291,
   "id": "9cdb9719",
   "metadata": {
    "hidden": true
   },
   "outputs": [],
   "source": [
    "# Создадим признак интервала между заказами в среднем по категории \n",
    "category_interval = pd.DataFrame(columns=['category','interval'])\n",
    "\n",
    "for cat in data_order_cat.category.unique():\n",
    "    i = data_order_cat[data_order_cat.category == cat].order_date.diff().astype('timedelta64[D]')\n",
    "    new_row = {'category':cat, 'interval':i.mean()}\n",
    "    category_interval = category_interval.append(new_row,ignore_index=True)"
   ]
  },
  {
   "cell_type": "code",
   "execution_count": 1292,
   "id": "a2a38c71",
   "metadata": {
    "hidden": true
   },
   "outputs": [
    {
     "data": {
      "application/vnd.plotly.v1+json": {
       "config": {
        "displaylogo": false,
        "plotlyServerURL": "https://plot.ly"
       },
       "data": [
        {
         "alignmentgroup": "True",
         "bingroup": "x",
         "histfunc": "sum",
         "hovertemplate": "x=%{x}<br>sum of y=%{y}<extra></extra>",
         "legendgroup": "",
         "marker": {
          "color": "#1F77B4",
          "pattern": {
           "shape": ""
          }
         },
         "name": "",
         "offsetgroup": "",
         "orientation": "v",
         "showlegend": false,
         "type": "histogram",
         "x": [
          "category_3",
          "category_9",
          "category_14",
          "category_16",
          "category_24",
          "category_38",
          "category_58",
          "category_76",
          "category_133",
          "category_4",
          "category_12",
          "category_56",
          "category_7",
          "category_8",
          "category_87",
          "category_22",
          "category_84",
          "category_62",
          "category_138",
          "category_102",
          "category_10",
          "category_47",
          "category_85",
          "category_23",
          "category_13",
          "category_40"
         ],
         "xaxis": "x",
         "y": [
          3.948186528497409,
          3.450892857142857,
          3.0725806451612905,
          5.669117647058823,
          6.355371900826446,
          3.4170403587443947,
          9.358024691358025,
          27.59259259259259,
          106,
          57.69230769230769,
          63.583333333333336,
          16.41860465116279,
          14.450980392156863,
          10.133333333333333,
          34.7,
          30.666666666666668,
          13.648148148148149,
          5.26056338028169,
          39.27777777777778,
          169.25,
          36.578947368421055,
          21.833333333333332,
          116,
          78.28571428571429,
          50.55555555555556,
          44.4
         ],
         "yaxis": "y"
        }
       ],
       "layout": {
        "barmode": "relative",
        "legend": {
         "tracegroupgap": 0
        },
        "template": {
         "data": {
          "pie": [
           {
            "automargin": true,
            "type": "pie"
           }
          ]
         },
         "layout": {
          "yaxis": {
           "showgrid": false
          }
         }
        },
        "title": {
         "text": "Intervals between Orders per Category",
         "x": 0.2
        },
        "xaxis": {
         "anchor": "y",
         "categoryorder": "total descending",
         "domain": [
          0,
          1
         ],
         "title": {
          "text": "x"
         }
        },
        "yaxis": {
         "anchor": "x",
         "domain": [
          0,
          1
         ],
         "title": {
          "text": "Days between Orders"
         }
        }
       }
      },
      "text/html": [
       "<div>                            <div id=\"716f0e2b-f03b-444e-ab95-aeb9237dab07\" class=\"plotly-graph-div\" style=\"height:525px; width:100%;\"></div>            <script type=\"text/javascript\">                require([\"plotly\"], function(Plotly) {                    window.PLOTLYENV=window.PLOTLYENV || {};                                    if (document.getElementById(\"716f0e2b-f03b-444e-ab95-aeb9237dab07\")) {                    Plotly.newPlot(                        \"716f0e2b-f03b-444e-ab95-aeb9237dab07\",                        [{\"alignmentgroup\":\"True\",\"bingroup\":\"x\",\"histfunc\":\"sum\",\"hovertemplate\":\"x=%{x}<br>sum of y=%{y}<extra></extra>\",\"legendgroup\":\"\",\"marker\":{\"color\":\"#1F77B4\",\"pattern\":{\"shape\":\"\"}},\"name\":\"\",\"offsetgroup\":\"\",\"orientation\":\"v\",\"showlegend\":false,\"type\":\"histogram\",\"x\":[\"category_3\",\"category_9\",\"category_14\",\"category_16\",\"category_24\",\"category_38\",\"category_58\",\"category_76\",\"category_133\",\"category_4\",\"category_12\",\"category_56\",\"category_7\",\"category_8\",\"category_87\",\"category_22\",\"category_84\",\"category_62\",\"category_138\",\"category_102\",\"category_10\",\"category_47\",\"category_85\",\"category_23\",\"category_13\",\"category_40\"],\"xaxis\":\"x\",\"y\":[3.948186528497409,3.450892857142857,3.0725806451612905,5.669117647058823,6.355371900826446,3.4170403587443947,9.358024691358025,27.59259259259259,106.0,57.69230769230769,63.583333333333336,16.41860465116279,14.450980392156863,10.133333333333333,34.7,30.666666666666668,13.648148148148149,5.26056338028169,39.27777777777778,169.25,36.578947368421055,21.833333333333332,116.0,78.28571428571429,50.55555555555556,44.4],\"yaxis\":\"y\"}],                        {\"barmode\":\"relative\",\"legend\":{\"tracegroupgap\":0},\"template\":{\"data\":{\"pie\":[{\"automargin\":true,\"type\":\"pie\"}]},\"layout\":{\"yaxis\":{\"showgrid\":false}}},\"title\":{\"text\":\"Intervals between Orders per Category\",\"x\":0.2},\"xaxis\":{\"anchor\":\"y\",\"categoryorder\":\"total descending\",\"domain\":[0.0,1.0],\"title\":{\"text\":\"x\"}},\"yaxis\":{\"anchor\":\"x\",\"domain\":[0.0,1.0],\"title\":{\"text\":\"Days between Orders\"}}},                        {\"displaylogo\": false, \"responsive\": true}                    ).then(function(){\n",
       "                            \n",
       "var gd = document.getElementById('716f0e2b-f03b-444e-ab95-aeb9237dab07');\n",
       "var x = new MutationObserver(function (mutations, observer) {{\n",
       "        var display = window.getComputedStyle(gd).display;\n",
       "        if (!display || display === 'none') {{\n",
       "            console.log([gd, 'removed!']);\n",
       "            Plotly.purge(gd);\n",
       "            observer.disconnect();\n",
       "        }}\n",
       "}});\n",
       "\n",
       "// Listen for the removal of the full notebook cells\n",
       "var notebookContainer = gd.closest('#notebook-container');\n",
       "if (notebookContainer) {{\n",
       "    x.observe(notebookContainer, {childList: true});\n",
       "}}\n",
       "\n",
       "// Listen for the clearing of the current output cell\n",
       "var outputEl = gd.closest('.output');\n",
       "if (outputEl) {{\n",
       "    x.observe(outputEl, {childList: true});\n",
       "}}\n",
       "\n",
       "                        })                };                });            </script>        </div>"
      ]
     },
     "metadata": {},
     "output_type": "display_data"
    }
   ],
   "source": [
    "# plot histogram\n",
    "hist_fig = px.histogram(x=category_interval.category, y=category_interval.interval,\n",
    "                        title=\"Intervals between Orders per Category\", template= \"ygridoff\" \n",
    "                       ).update_xaxes(categoryorder='total descending')\n",
    "hist_fig.update_layout(title_x=0.2,\n",
    "#                        xaxis_title=\"Categories\", \n",
    "                       yaxis_title=\"Days between Orders\"\n",
    "                      )\n",
    "\n",
    "hist_fig.show(config={'displaylogo': False})"
   ]
  },
  {
   "cell_type": "code",
   "execution_count": 453,
   "id": "4aaa737b",
   "metadata": {
    "hidden": true
   },
   "outputs": [],
   "source": [
    "# data_week = data.copy()"
   ]
  },
  {
   "cell_type": "code",
   "execution_count": 248,
   "id": "e159830c",
   "metadata": {
    "hidden": true
   },
   "outputs": [],
   "source": [
    "# data_week_sum = data_week[['order_date','category','ordered']]"
   ]
  },
  {
   "cell_type": "code",
   "execution_count": 454,
   "id": "7632578b",
   "metadata": {
    "hidden": true
   },
   "outputs": [],
   "source": [
    "# data_week_sum.columns"
   ]
  },
  {
   "cell_type": "code",
   "execution_count": 455,
   "id": "2ed8d035",
   "metadata": {
    "hidden": true
   },
   "outputs": [],
   "source": [
    "# pd.get_dummies(data_week_sum['category'], drop_first=True)"
   ]
  },
  {
   "cell_type": "code",
   "execution_count": 456,
   "id": "ce775e7f",
   "metadata": {
    "hidden": true
   },
   "outputs": [],
   "source": [
    "# data_week_sum = pd.concat([data_week_sum, pd.get_dummies(data_week.category,drop_first=True)], axis = 1)"
   ]
  },
  {
   "cell_type": "code",
   "execution_count": 457,
   "id": "c80a5577",
   "metadata": {
    "hidden": true
   },
   "outputs": [],
   "source": [
    "# data_week_sum"
   ]
  },
  {
   "cell_type": "code",
   "execution_count": 458,
   "id": "55b7dee7",
   "metadata": {
    "hidden": true
   },
   "outputs": [],
   "source": [
    "# data_week_sum = data_week_sum.groupby(['order_date']).sum()"
   ]
  },
  {
   "cell_type": "code",
   "execution_count": 459,
   "id": "316a59e8",
   "metadata": {
    "hidden": true
   },
   "outputs": [],
   "source": [
    "# data_week_sum"
   ]
  },
  {
   "cell_type": "code",
   "execution_count": 460,
   "id": "44813f9a",
   "metadata": {
    "hidden": true
   },
   "outputs": [],
   "source": [
    "# data_week_sum = data_week_sum.resample('W').sum()"
   ]
  },
  {
   "cell_type": "code",
   "execution_count": 461,
   "id": "cbbff4e2",
   "metadata": {
    "hidden": true
   },
   "outputs": [],
   "source": [
    "# data_week_sum"
   ]
  },
  {
   "cell_type": "code",
   "execution_count": 462,
   "id": "02aa152c",
   "metadata": {
    "hidden": true
   },
   "outputs": [],
   "source": [
    "# tscv = TimeSeriesSplit(n_splits=4)\n",
    "\n",
    "# for train_index, valid_index in tscv.split(iris_data):\n",
    "#     print('train indices: {}\\nvalid indices: {}'.format(train_index, valid_index))\n",
    "#     print('='*20)"
   ]
  },
  {
   "cell_type": "code",
   "execution_count": 463,
   "id": "ce243ced",
   "metadata": {
    "hidden": true
   },
   "outputs": [],
   "source": [
    "# df = data_order_cat.copy()"
   ]
  },
  {
   "cell_type": "code",
   "execution_count": 464,
   "id": "286ba63f",
   "metadata": {
    "hidden": true
   },
   "outputs": [],
   "source": [
    "# df.head()"
   ]
  },
  {
   "cell_type": "code",
   "execution_count": 465,
   "id": "89e3145a",
   "metadata": {
    "hidden": true
   },
   "outputs": [],
   "source": [
    "# df.sort_values('order_date', ignore_index = True, inplace = True)"
   ]
  },
  {
   "cell_type": "code",
   "execution_count": 466,
   "id": "225e8c2a",
   "metadata": {
    "hidden": true
   },
   "outputs": [],
   "source": [
    "# df.head(10)"
   ]
  },
  {
   "cell_type": "code",
   "execution_count": 430,
   "id": "cfa38015",
   "metadata": {
    "hidden": true
   },
   "outputs": [],
   "source": [
    "# data_order_cat"
   ]
  },
  {
   "cell_type": "code",
   "execution_count": 429,
   "id": "c1adcf55",
   "metadata": {
    "hidden": true
   },
   "outputs": [],
   "source": [
    "# tscv = TimeSeriesSplit(n_splits=5, test_size=5)\n",
    "# for train_index, test_index in tscv.split(data_order_cat):\n",
    "#     print(\"\\nTRAIN:\", train_index, \"\\nTEST:\", test_index)"
   ]
  },
  {
   "cell_type": "markdown",
   "id": "7fed32d2",
   "metadata": {},
   "source": [
    "### 1.3. Preparing Target Variable"
   ]
  },
  {
   "cell_type": "markdown",
   "id": "31cef8d8",
   "metadata": {
    "heading_collapsed": true
   },
   "source": [
    "#### 1.3.1. Кодирование признака категории"
   ]
  },
  {
   "cell_type": "code",
   "execution_count": 1293,
   "id": "bae33680",
   "metadata": {
    "hidden": true
   },
   "outputs": [],
   "source": [
    "label_encoder = LabelEncoder()\n",
    "mapped_category = pd.Series(label_encoder.fit_transform(data_order_cat['category']))\n",
    "# print(dict(enumerate(label_encoder.classes_)))"
   ]
  },
  {
   "cell_type": "code",
   "execution_count": 1294,
   "id": "286f1b45",
   "metadata": {
    "hidden": true
   },
   "outputs": [
    {
     "data": {
      "text/html": [
       "<div>\n",
       "<style scoped>\n",
       "    .dataframe tbody tr th:only-of-type {\n",
       "        vertical-align: middle;\n",
       "    }\n",
       "\n",
       "    .dataframe tbody tr th {\n",
       "        vertical-align: top;\n",
       "    }\n",
       "\n",
       "    .dataframe thead tr th {\n",
       "        text-align: left;\n",
       "    }\n",
       "</style>\n",
       "<table border=\"1\" class=\"dataframe\">\n",
       "  <thead>\n",
       "    <tr>\n",
       "      <th></th>\n",
       "      <th>order_date</th>\n",
       "      <th>category</th>\n",
       "      <th>ordered</th>\n",
       "      <th>leadtime_int</th>\n",
       "    </tr>\n",
       "    <tr>\n",
       "      <th></th>\n",
       "      <th></th>\n",
       "      <th></th>\n",
       "      <th>sum</th>\n",
       "      <th>mean</th>\n",
       "    </tr>\n",
       "  </thead>\n",
       "  <tbody>\n",
       "    <tr>\n",
       "      <th>1303</th>\n",
       "      <td>2021-07-29</td>\n",
       "      <td>7</td>\n",
       "      <td>2000.0</td>\n",
       "      <td>14.000000</td>\n",
       "    </tr>\n",
       "    <tr>\n",
       "      <th>31</th>\n",
       "      <td>2020-01-15</td>\n",
       "      <td>7</td>\n",
       "      <td>1332.0</td>\n",
       "      <td>8.000000</td>\n",
       "    </tr>\n",
       "    <tr>\n",
       "      <th>1735</th>\n",
       "      <td>2022-01-07</td>\n",
       "      <td>17</td>\n",
       "      <td>4495.5</td>\n",
       "      <td>34.000000</td>\n",
       "    </tr>\n",
       "    <tr>\n",
       "      <th>1431</th>\n",
       "      <td>2021-09-20</td>\n",
       "      <td>18</td>\n",
       "      <td>73926.0</td>\n",
       "      <td>13.000000</td>\n",
       "    </tr>\n",
       "    <tr>\n",
       "      <th>1711</th>\n",
       "      <td>2021-12-28</td>\n",
       "      <td>6</td>\n",
       "      <td>18828.0</td>\n",
       "      <td>34.333333</td>\n",
       "    </tr>\n",
       "  </tbody>\n",
       "</table>\n",
       "</div>"
      ],
      "text/plain": [
       "     order_date category  ordered leadtime_int\n",
       "                              sum         mean\n",
       "1303 2021-07-29        7   2000.0    14.000000\n",
       "31   2020-01-15        7   1332.0     8.000000\n",
       "1735 2022-01-07       17   4495.5    34.000000\n",
       "1431 2021-09-20       18  73926.0    13.000000\n",
       "1711 2021-12-28        6  18828.0    34.333333"
      ]
     },
     "execution_count": 1294,
     "metadata": {},
     "output_type": "execute_result"
    }
   ],
   "source": [
    "data_order_cat['category'] = label_encoder.fit_transform(data_order_cat['category'])\n",
    "data_order_cat.sample(5)"
   ]
  },
  {
   "cell_type": "markdown",
   "id": "78162ddd",
   "metadata": {
    "heading_collapsed": true
   },
   "source": [
    "#### 1.3.2. Создание признака недели "
   ]
  },
  {
   "cell_type": "code",
   "execution_count": 1295,
   "id": "7569ab55",
   "metadata": {
    "hidden": true
   },
   "outputs": [],
   "source": [
    "data_order_cat['week'] = data_order_cat.order_date.dt.to_period('W')"
   ]
  },
  {
   "cell_type": "code",
   "execution_count": 1296,
   "id": "15cc455f",
   "metadata": {
    "hidden": true
   },
   "outputs": [],
   "source": [
    "label_encoder = LabelEncoder()\n",
    "mapped_week = pd.Series(label_encoder.fit_transform(data_order_cat['week']))\n",
    "# print(dict(enumerate(label_encoder.classes_)))"
   ]
  },
  {
   "cell_type": "code",
   "execution_count": 1297,
   "id": "415bd22f",
   "metadata": {
    "hidden": true
   },
   "outputs": [],
   "source": [
    "data_order_cat['week'] = label_encoder.fit_transform(data_order_cat['week'])"
   ]
  },
  {
   "cell_type": "code",
   "execution_count": 1298,
   "id": "8f9cc1e6",
   "metadata": {
    "hidden": true
   },
   "outputs": [],
   "source": [
    "train_1 = data_order_cat[data_order_cat.week <= 26]\n",
    "val_1 = data_order_cat[(data_order_cat.week > 26)&(data_order_cat.week <= 33)]\n",
    "control_length = 7 # сколько контрольный дней, когда будем проверять, был ли заказ"
   ]
  },
  {
   "cell_type": "code",
   "execution_count": 1271,
   "id": "a955c336",
   "metadata": {
    "hidden": true
   },
   "outputs": [],
   "source": [
    "# train_1"
   ]
  },
  {
   "cell_type": "code",
   "execution_count": 1299,
   "id": "cd0a4933",
   "metadata": {
    "hidden": true
   },
   "outputs": [],
   "source": [
    "# Приготовление списка категорий в выбранный период времени\n",
    "train_1_cat = train_1.copy()\n",
    "train_1_cat = train_1.groupby('category').first()\n",
    "train_1_cat.reset_index(inplace=True)\n",
    "train_1_cat = train_1_cat[['category']]"
   ]
  },
  {
   "cell_type": "code",
   "execution_count": 1300,
   "id": "24a1d266",
   "metadata": {
    "hidden": true
   },
   "outputs": [],
   "source": [
    "# Приготовление этикеток целевой переменной\n",
    "train_1_target = train_1.copy()\n",
    "# Присваиваем по умолчанию 0\n",
    "train_1_target['target'] = 0\n",
    "\n",
    "# Если была продажа в последней неделе, то целевая переменная = 1\n",
    "train_1_target.loc[train_1_target.week == train_1_target.week.max(), 'target'] = 1\n",
    "train_1_target = train_1_target[train_1_target.target == 1]\n",
    "train_1_target = train_1_target.groupby('category').first()\n",
    "train_1_target = train_1_target[['target']]\n",
    "train_1_target.reset_index(inplace=True)\n",
    "\n",
    "# Соединение общего датасета категории и датасета с категориями, которые купили в контрольную неделю\n",
    "train_1_cat = pd.merge(train_1_cat,train_1_target, how='left', on='category')\n",
    "\n",
    "# Если категории нет в датафрейме контрольной недели, целевая переменная равна 0\n",
    "train_1_cat.fillna(0, inplace=True)\n",
    "\n",
    "train_1_control = train_1.loc[train_1.week < train_1.week.max()]\n",
    "train_bought = train_1_control.category.unique()\n",
    "# Удалим из датасета категории в контрольном периоде, которые ранее не покупали\n",
    "train_1_cat = train_1_cat[train_1_cat.category.isin(train_bought)]"
   ]
  },
  {
   "cell_type": "code",
   "execution_count": 1301,
   "id": "84d2e219",
   "metadata": {
    "hidden": true
   },
   "outputs": [],
   "source": [
    "# Приготовление списка категорий в валидационной выборке\n",
    "val_1_cat = val_1.copy()\n",
    "val_1_cat = val_1_cat.groupby('category').first()\n",
    "val_1_cat.reset_index(inplace=True)\n",
    "val_1_cat = val_1_cat[['category']]\n",
    "\n",
    "# Приготовление этикеток целевой переменной\n",
    "val_1_target = val_1.copy()\n",
    "# Присваиваем по умолчанию 0\n",
    "val_1_target['target'] = 0\n",
    "\n",
    "# Если была продажа в последней неделе, то целевая переменная = 1\n",
    "val_1_target.loc[val_1_target.week == val_1_target.week.max(), 'target'] = 1\n",
    "val_1_target = val_1_target[val_1_target.target == 1]\n",
    "val_1_target = val_1_target.groupby('category').first()\n",
    "val_1_target = val_1_target[['target']]\n",
    "val_1_target.reset_index(inplace=True)\n",
    "\n",
    "# Соединение общего датасета категории и датасета с категориями, которые купили в контрольную неделю\n",
    "val_1_cat = pd.merge(val_1_cat,val_1_target, how='left', on='category')\n",
    "\n",
    "# Если категории нет в датафрейме контрольной недели, целевая переменная равна 0\n",
    "val_1_cat.fillna(0, inplace=True)\n",
    "\n",
    "val_1_control = val_1.loc[val_1.week < val_1.week.max()]\n",
    "val_bought = val_1_control.category.unique()\n",
    "# Удалим из датасета категории в контрольном периоде, которые ранее не покупали\n",
    "val_1_cat = val_1_cat[val_1_cat.category.isin(val_bought)]"
   ]
  },
  {
   "cell_type": "code",
   "execution_count": 1302,
   "id": "7fdf722a",
   "metadata": {
    "hidden": true
   },
   "outputs": [],
   "source": [
    "# val_1 = prepare_target(val_1)"
   ]
  },
  {
   "cell_type": "code",
   "execution_count": 1303,
   "id": "4c72606b",
   "metadata": {
    "hidden": true
   },
   "outputs": [],
   "source": [
    "# val_1"
   ]
  },
  {
   "cell_type": "markdown",
   "id": "93af4654",
   "metadata": {},
   "source": [
    "### Preparing Features Set "
   ]
  },
  {
   "cell_type": "code",
   "execution_count": 1518,
   "id": "793850b0",
   "metadata": {},
   "outputs": [],
   "source": [
    "# Пример применения функции приготовления признаков для обучения\n",
    "train_1 = data_order_cat[data_order_cat.week <= 35]\n",
    "val_1 = data_order_cat[(data_order_cat.week > 35)&(data_order_cat.week <= 42)]\n",
    "X_train = prepare_x(train_1)\n",
    "y_train = prepare_target(train_1)"
   ]
  },
  {
   "cell_type": "code",
   "execution_count": 1517,
   "id": "ca7bfa87",
   "metadata": {},
   "outputs": [
    {
     "data": {
      "text/html": [
       "<div>\n",
       "<style scoped>\n",
       "    .dataframe tbody tr th:only-of-type {\n",
       "        vertical-align: middle;\n",
       "    }\n",
       "\n",
       "    .dataframe tbody tr th {\n",
       "        vertical-align: top;\n",
       "    }\n",
       "\n",
       "    .dataframe thead th {\n",
       "        text-align: right;\n",
       "    }\n",
       "</style>\n",
       "<table border=\"1\" class=\"dataframe\">\n",
       "  <thead>\n",
       "    <tr style=\"text-align: right;\">\n",
       "      <th></th>\n",
       "      <th>recency</th>\n",
       "      <th>interval</th>\n",
       "      <th>median_recent</th>\n",
       "      <th>remain</th>\n",
       "      <th>compare</th>\n",
       "      <th>frequency</th>\n",
       "      <th>last_volume</th>\n",
       "      <th>volume</th>\n",
       "      <th>increase_volume</th>\n",
       "      <th>last_leadtime</th>\n",
       "      <th>leadtime</th>\n",
       "      <th>leadtime_diff</th>\n",
       "      <th>leadtime_inc</th>\n",
       "    </tr>\n",
       "  </thead>\n",
       "  <tbody>\n",
       "    <tr>\n",
       "      <th>0</th>\n",
       "      <td>156.0</td>\n",
       "      <td>239.0</td>\n",
       "      <td>83.0</td>\n",
       "      <td>76.0</td>\n",
       "      <td>0</td>\n",
       "      <td>1</td>\n",
       "      <td>3900.0</td>\n",
       "      <td>3900.0</td>\n",
       "      <td>1.000000</td>\n",
       "      <td>29.0</td>\n",
       "      <td>29.000</td>\n",
       "      <td>0.000</td>\n",
       "      <td>0</td>\n",
       "    </tr>\n",
       "    <tr>\n",
       "      <th>1</th>\n",
       "      <td>169.0</td>\n",
       "      <td>239.0</td>\n",
       "      <td>70.0</td>\n",
       "      <td>63.0</td>\n",
       "      <td>0</td>\n",
       "      <td>1</td>\n",
       "      <td>1920.0</td>\n",
       "      <td>1920.0</td>\n",
       "      <td>1.000000</td>\n",
       "      <td>7.0</td>\n",
       "      <td>7.000</td>\n",
       "      <td>0.000</td>\n",
       "      <td>0</td>\n",
       "    </tr>\n",
       "    <tr>\n",
       "      <th>2</th>\n",
       "      <td>29.0</td>\n",
       "      <td>43.0</td>\n",
       "      <td>14.0</td>\n",
       "      <td>7.0</td>\n",
       "      <td>0</td>\n",
       "      <td>4</td>\n",
       "      <td>5496.0</td>\n",
       "      <td>10924.0</td>\n",
       "      <td>0.503112</td>\n",
       "      <td>19.0</td>\n",
       "      <td>17.625</td>\n",
       "      <td>1.375</td>\n",
       "      <td>1</td>\n",
       "    </tr>\n",
       "    <tr>\n",
       "      <th>3</th>\n",
       "      <td>113.0</td>\n",
       "      <td>120.0</td>\n",
       "      <td>7.0</td>\n",
       "      <td>0.0</td>\n",
       "      <td>1</td>\n",
       "      <td>2</td>\n",
       "      <td>6000.0</td>\n",
       "      <td>10000.0</td>\n",
       "      <td>0.600000</td>\n",
       "      <td>12.0</td>\n",
       "      <td>9.500</td>\n",
       "      <td>2.500</td>\n",
       "      <td>1</td>\n",
       "    </tr>\n",
       "    <tr>\n",
       "      <th>4</th>\n",
       "      <td>1.0</td>\n",
       "      <td>15.0</td>\n",
       "      <td>14.0</td>\n",
       "      <td>7.0</td>\n",
       "      <td>0</td>\n",
       "      <td>7</td>\n",
       "      <td>999.0</td>\n",
       "      <td>7992.0</td>\n",
       "      <td>0.125000</td>\n",
       "      <td>6.0</td>\n",
       "      <td>13.000</td>\n",
       "      <td>-7.000</td>\n",
       "      <td>0</td>\n",
       "    </tr>\n",
       "  </tbody>\n",
       "</table>\n",
       "</div>"
      ],
      "text/plain": [
       "   recency  interval  median_recent  remain  compare  frequency  last_volume  \\\n",
       "0    156.0     239.0           83.0    76.0        0          1       3900.0   \n",
       "1    169.0     239.0           70.0    63.0        0          1       1920.0   \n",
       "2     29.0      43.0           14.0     7.0        0          4       5496.0   \n",
       "3    113.0     120.0            7.0     0.0        1          2       6000.0   \n",
       "4      1.0      15.0           14.0     7.0        0          7        999.0   \n",
       "\n",
       "    volume  increase_volume  last_leadtime  leadtime  leadtime_diff  \\\n",
       "0   3900.0         1.000000           29.0    29.000          0.000   \n",
       "1   1920.0         1.000000            7.0     7.000          0.000   \n",
       "2  10924.0         0.503112           19.0    17.625          1.375   \n",
       "3  10000.0         0.600000           12.0     9.500          2.500   \n",
       "4   7992.0         0.125000            6.0    13.000         -7.000   \n",
       "\n",
       "   leadtime_inc  \n",
       "0             0  \n",
       "1             0  \n",
       "2             1  \n",
       "3             1  \n",
       "4             0  "
      ]
     },
     "execution_count": 1517,
     "metadata": {},
     "output_type": "execute_result"
    }
   ],
   "source": [
    "X_train.head()"
   ]
  },
  {
   "cell_type": "markdown",
   "id": "fef04175",
   "metadata": {},
   "source": [
    "#### Selecting Features"
   ]
  },
  {
   "cell_type": "code",
   "execution_count": 1227,
   "id": "38782222",
   "metadata": {},
   "outputs": [],
   "source": [
    "train_features_x = train_features[['recency','interval', 'median_recent',\n",
    "       'remain', 'compare', 'frequency', 'last_volume', 'volume',\n",
    "       'increase_volume', 'last_leadtime', 'leadtime', 'leadtime_diff',\n",
    "       'leadtime_inc']]"
   ]
  },
  {
   "cell_type": "code",
   "execution_count": 1228,
   "id": "db8c0bd8",
   "metadata": {},
   "outputs": [],
   "source": [
    "# train_features"
   ]
  },
  {
   "cell_type": "code",
   "execution_count": 1520,
   "id": "137a9e60",
   "metadata": {},
   "outputs": [
    {
     "data": {
      "text/plain": [
       "<AxesSubplot:>"
      ]
     },
     "execution_count": 1520,
     "metadata": {},
     "output_type": "execute_result"
    },
    {
     "data": {
      "image/png": "[encoded data removed]",
      "text/plain": [
       "<Figure size 432x288 with 1 Axes>"
      ]
     },
     "metadata": {
      "needs_background": "light"
     },
     "output_type": "display_data"
    }
   ],
   "source": [
    "imp_cat = Series(mutual_info_classif(X_train, y_train),\n",
    "                 index = X_train.columns)\n",
    "imp_cat.sort_values(inplace = True)\n",
    "imp_cat.plot(kind = 'barh')"
   ]
  },
  {
   "cell_type": "code",
   "execution_count": 1231,
   "id": "9dc45c9e",
   "metadata": {},
   "outputs": [],
   "source": [
    "train_features_x = train_features[feature_list]"
   ]
  },
  {
   "cell_type": "markdown",
   "id": "f608d67d",
   "metadata": {},
   "source": [
    "## Training "
   ]
  },
  {
   "cell_type": "markdown",
   "id": "df098181",
   "metadata": {},
   "source": [
    "Важным элементом решения задачи является разбитие данных. \n",
    "\n",
    "Данные разбиваются последовательно на обучающую и валидационные выборки. Но здесь еще стоит обратить внимание, что мы ищем категории, которые будут покупаться в следующую неделю за обучающей и соответственно валидационной выборкой. Для категорий, которые семья покупала, присвоим значение 1, если нет, то 0.\n",
    "\n",
    "Поскольку мы имеем дело с меняющимся таймфремом, эту процедуру применим для нескольких выборок. А обучение будет проходить внутри цикла. Посчитаем среднее."
   ]
  },
  {
   "attachments": {
    "TimeSplit.png": {
     "image/png": "[encoded data removed]"
    }
   },
   "cell_type": "markdown",
   "id": "d1cc0071",
   "metadata": {},
   "source": [
    "![TimeSplit.png](attachment:TimeSplit.png)"
   ]
  },
  {
   "cell_type": "code",
   "execution_count": 1409,
   "id": "2e51c367",
   "metadata": {},
   "outputs": [],
   "source": [
    "# Данные разобъем вручную:\n",
    "train_1 = data_order_cat[data_order_cat.week <= 35]\n",
    "val_1 = data_order_cat[(data_order_cat.week > 35)&(data_order_cat.week <= 42)]\n",
    "train_2 = data_order_cat[data_order_cat.week <= 44]\n",
    "val_2 = data_order_cat[(data_order_cat.week > 44)&(data_order_cat.week <= 51)]\n",
    "train_3 = data_order_cat[data_order_cat.week <= 53]\n",
    "val_3 = data_order_cat[(data_order_cat.week > 53)&(data_order_cat.week <= 60)]\n",
    "train_4 = data_order_cat[data_order_cat.week <= 77]\n",
    "val_4 = data_order_cat[(data_order_cat.week > 77)&(data_order_cat.week <= 84)]\n",
    "train_5 = data_order_cat[data_order_cat.week <= 86]\n",
    "val_5 = data_order_cat[(data_order_cat.week > 86)&(data_order_cat.week <= 93)]\n",
    "train_6 = data_order_cat[data_order_cat.week <= 104]\n",
    "val_6 = data_order_cat[(data_order_cat.week > 104)&(data_order_cat.week <= 111)]"
   ]
  },
  {
   "cell_type": "markdown",
   "id": "62fe32a6",
   "metadata": {},
   "source": [
    "###  Тестируем различные модели"
   ]
  },
  {
   "cell_type": "code",
   "execution_count": 1425,
   "id": "eaeec1aa",
   "metadata": {},
   "outputs": [
    {
     "name": "stdout",
     "output_type": "stream",
     "text": [
      "0.6217164643635232\n"
     ]
    }
   ],
   "source": [
    "log_reg_score = []\n",
    "for i in range (1,7):\n",
    "    globals()[f\"X_train_{i}\"] = prepare_x(globals()[f\"train_{i}\"])\n",
    "    globals()[f\"X_val_{i}\"] = prepare_x(globals()[f\"val_{i}\"])\n",
    "    X_train = prepare_x(globals()[f\"train_{i}\"])\n",
    "    y_train = prepare_target(globals()[f\"train_{i}\"])\n",
    "    X_val = prepare_x(globals()[f\"val_{i}\"])\n",
    "    y_val = prepare_target(globals()[f\"val_{i}\"])\n",
    "\n",
    "    # Стандартизируем числовые переменные, записываем в матрицу X\n",
    "    scaler = StandardScaler()\n",
    "    X_train = scaler.fit_transform(X_train) \n",
    "    X_val = scaler.transform(X_val)\n",
    "    \n",
    "    log_reg = LogisticRegression(C=0.0001,\n",
    "                                 random_state = 42,\n",
    "                                 penalty='l2',\n",
    "                                 max_iter=200, \n",
    "                                 class_weight='balanced',\n",
    "#                                  solver='saga',\n",
    "                                 solver='liblinear' \n",
    "                                )\n",
    "    log_reg.fit(X_train, y_train)\n",
    "    # Предсказываем на валидационной выборке\n",
    "    y_pred_val = log_reg.predict(X_val)\n",
    "    f1 = f1_score(y_val, y_pred_val)\n",
    "    log_reg_score.append(f1)\n",
    "    \n",
    "average_f1 = np.mean(log_reg_score)\n",
    "print(average_f1)"
   ]
  },
  {
   "cell_type": "code",
   "execution_count": 1445,
   "id": "54a15c0d",
   "metadata": {},
   "outputs": [
    {
     "name": "stdout",
     "output_type": "stream",
     "text": [
      "0.6290829375228353\n"
     ]
    }
   ],
   "source": [
    "bagging_score = []\n",
    "for i in range (1,7):\n",
    "    globals()[f\"X_train_{i}\"] = prepare_x(globals()[f\"train_{i}\"])\n",
    "    globals()[f\"X_val_{i}\"] = prepare_x(globals()[f\"val_{i}\"])\n",
    "    X_train = prepare_x(globals()[f\"train_{i}\"])\n",
    "    y_train = prepare_target(globals()[f\"train_{i}\"])\n",
    "    X_val = prepare_x(globals()[f\"val_{i}\"])\n",
    "    y_val = prepare_target(globals()[f\"val_{i}\"])\n",
    "\n",
    "    # Стандартизируем числовые переменные, записываем в матрицу X\n",
    "    scaler = StandardScaler()\n",
    "    X_train = scaler.fit_transform(X_train) \n",
    "    X_val = scaler.transform(X_val)\n",
    "    \n",
    "    clf = LogisticRegression(C=0.0001,random_state = 42,\n",
    "                                 penalty='l2',\n",
    "                                 max_iter=200, \n",
    "                                 class_weight='balanced',\n",
    "                                 solver='liblinear')\n",
    "\n",
    "    bagging = BaggingClassifier(clf, n_estimators=50, random_state=42, n_jobs=-1, oob_score=True)\n",
    "    \n",
    "    \n",
    "    bagging.fit(X_train, y_train)\n",
    "    # Предсказываем на валидационной выборке\n",
    "    y_pred_val = bagging.predict(X_val)\n",
    "    f1 = f1_score(y_val, y_pred_val)\n",
    "    bagging_score.append(f1)\n",
    "    \n",
    "average_f1 = np.mean(bagging_score)\n",
    "print(average_f1)"
   ]
  },
  {
   "cell_type": "code",
   "execution_count": 1513,
   "id": "07f3e9db",
   "metadata": {},
   "outputs": [
    {
     "name": "stdout",
     "output_type": "stream",
     "text": [
      "0.489057239057239\n"
     ]
    }
   ],
   "source": [
    "xgb_score = []\n",
    "for i in range (1,7):\n",
    "    globals()[f\"X_train_{i}\"] = prepare_x(globals()[f\"train_{i}\"])\n",
    "    globals()[f\"X_val_{i}\"] = prepare_x(globals()[f\"val_{i}\"])\n",
    "    X_train = prepare_x(globals()[f\"train_{i}\"])\n",
    "    y_train = prepare_target(globals()[f\"train_{i}\"])\n",
    "    X_val = prepare_x(globals()[f\"val_{i}\"])\n",
    "    y_val = prepare_target(globals()[f\"val_{i}\"])\n",
    "\n",
    "    # Стандартизируем числовые переменные, записываем в матрицу X\n",
    "    scaler = StandardScaler()\n",
    "    X_train = scaler.fit_transform(X_train) \n",
    "    X_val = scaler.transform(X_val)\n",
    "    \n",
    "    xgb = XGBClassifier(objective ='reg:squarederror',\n",
    "                        random_state = 42,\n",
    "                        colsample_bytree = 0.01, \n",
    "                        learning_rate = 0.0001, \n",
    "                        use_label_encoder=False, \n",
    "                        scale_pos_weight=2,\n",
    "                        max_depth = 5, \n",
    "                        alpha = 1, \n",
    "                        n_estimators = 80, \n",
    "                        eval_metric='mlogloss')\n",
    "                                         \n",
    "    xgb.fit(X_train, y_train)\n",
    "    # Предсказываем на валидационной выборке\n",
    "    y_pred_val = xgb.predict(X_val)\n",
    "    f1 = f1_score(y_val, y_pred_val)\n",
    "    xgb_score.append(f1)\n",
    "    \n",
    "average_f1 = np.mean(xgb_score)\n",
    "print(average_f1)"
   ]
  },
  {
   "cell_type": "code",
   "execution_count": 1412,
   "id": "6359fea4",
   "metadata": {},
   "outputs": [
    {
     "name": "stdout",
     "output_type": "stream",
     "text": [
      "0.4312146187146187\n"
     ]
    }
   ],
   "source": [
    "cat_boost_score = []\n",
    "for i in range (1,7):\n",
    "    globals()[f\"X_train_{i}\"] = prepare_x(globals()[f\"train_{i}\"])\n",
    "    globals()[f\"X_val_{i}\"] = prepare_x(globals()[f\"val_{i}\"])\n",
    "    X_train = prepare_x(globals()[f\"train_{i}\"])\n",
    "    y_train = prepare_target(globals()[f\"train_{i}\"])\n",
    "    X_val = prepare_x(globals()[f\"val_{i}\"])\n",
    "    y_val = prepare_target(globals()[f\"val_{i}\"])\n",
    "\n",
    "    # Стандартизируем числовые переменные, записываем в матрицу X\n",
    "    scaler = StandardScaler()\n",
    "    X_train = scaler.fit_transform(X_train) \n",
    "    X_val = scaler.transform(X_val)\n",
    "    \n",
    "    cat_boost = CatBoostClassifier(verbose=False,\n",
    "#                                    iterations = 300,\n",
    "                                   n_estimators = 900,\n",
    "                                   l2_leaf_reg= 2,\n",
    "                                   min_data_in_leaf = 4,\n",
    "                                   depth=8,\n",
    "                                   learning_rate = 0.5,\n",
    "                                   random_seed = 42,\n",
    "                                  )\n",
    "    \n",
    "    cat_boost.fit(X_train, y_train)\n",
    "    # Предсказываем на валидационной выборке\n",
    "    y_pred_val = cat_boost.predict(X_val)\n",
    "    f1 = f1_score(y_val, y_pred_val)\n",
    "    cat_boost_score.append(f1)\n",
    "    \n",
    "average_f1 = np.mean(cat_boost_score)\n",
    "print(average_f1)"
   ]
  },
  {
   "cell_type": "code",
   "execution_count": 1438,
   "id": "1b681cd7",
   "metadata": {},
   "outputs": [
    {
     "name": "stdout",
     "output_type": "stream",
     "text": [
      "0.41636141636141627\n"
     ]
    }
   ],
   "source": [
    "x_tree_score = []\n",
    "for i in range (1,7):\n",
    "    globals()[f\"X_train_{i}\"] = prepare_x(globals()[f\"train_{i}\"])\n",
    "    globals()[f\"X_val_{i}\"] = prepare_x(globals()[f\"val_{i}\"])\n",
    "    X_train = prepare_x(globals()[f\"train_{i}\"])\n",
    "    y_train = prepare_target(globals()[f\"train_{i}\"])\n",
    "    X_val = prepare_x(globals()[f\"val_{i}\"])\n",
    "    y_val = prepare_target(globals()[f\"val_{i}\"])\n",
    "\n",
    "    # Стандартизируем числовые переменные, записываем в матрицу X\n",
    "    scaler = StandardScaler()\n",
    "    X_train = scaler.fit_transform(X_train) \n",
    "    X_val = scaler.transform(X_val)\n",
    "    \n",
    "    \n",
    "    x_tree = ExtraTreesClassifier(random_state=42, \n",
    "                                 max_depth=9,\n",
    "                                 n_estimators = 100,\n",
    "                                 class_weight='balanced_subsample',\n",
    "                                 min_samples_split = 6,\n",
    "                                 max_features='auto' )\n",
    "    \n",
    "    x_tree.fit(X_train, y_train)\n",
    "    # Предсказываем на валидационной выборке\n",
    "    y_pred_val = x_tree.predict(X_val)\n",
    "    f1 = f1_score(y_val, y_pred_val)\n",
    "    x_tree_score.append(f1)\n",
    "    \n",
    "average_f1 = np.mean(x_tree_score)\n",
    "print(average_f1)"
   ]
  },
  {
   "cell_type": "code",
   "execution_count": 1468,
   "id": "4110e29b",
   "metadata": {},
   "outputs": [
    {
     "name": "stdout",
     "output_type": "stream",
     "text": [
      "0.4166666666666667\n"
     ]
    }
   ],
   "source": [
    "forest_score = []\n",
    "for i in range (1,7):\n",
    "    globals()[f\"X_train_{i}\"] = prepare_x(globals()[f\"train_{i}\"])\n",
    "    globals()[f\"X_val_{i}\"] = prepare_x(globals()[f\"val_{i}\"])\n",
    "    X_train = prepare_x(globals()[f\"train_{i}\"])\n",
    "    y_train = prepare_target(globals()[f\"train_{i}\"])\n",
    "    X_val = prepare_x(globals()[f\"val_{i}\"])\n",
    "    y_val = prepare_target(globals()[f\"val_{i}\"])\n",
    "\n",
    "    # Стандартизируем числовые переменные, записываем в матрицу X\n",
    "    scaler = StandardScaler()\n",
    "    X_train = scaler.fit_transform(X_train) \n",
    "    X_val = scaler.transform(X_val)\n",
    "    \n",
    "    forest = RandomForestClassifier(n_estimators=900,\n",
    "                                    random_state = 42,\n",
    "                                    n_jobs=-1,\n",
    "                                    max_features=8,\n",
    "                                    max_depth=8,\n",
    "                                    class_weight='balanced_subsample',\n",
    "                                    ccp_alpha=0.07)\n",
    "    \n",
    "    forest.fit(X_train, y_train)\n",
    "    # Предсказываем на валидационной выборке\n",
    "    y_pred_val = forest.predict(X_val)\n",
    "    f1 = f1_score(y_val, y_pred_val)\n",
    "    forest_score.append(f1)\n",
    "    \n",
    "average_f1 = np.mean(forest_score)\n",
    "print(average_f1)"
   ]
  }
 ],
 "metadata": {
  "kernelspec": {
   "display_name": "Python 3",
   "language": "python",
   "name": "python3"
  },
  "language_info": {
   "codemirror_mode": {
    "name": "ipython",
    "version": 3
   },
   "file_extension": ".py",
   "mimetype": "text/x-python",
   "name": "python",
   "nbconvert_exporter": "python",
   "pygments_lexer": "ipython3",
   "version": "3.8.8"
  }
 },
 "nbformat": 4,
 "nbformat_minor": 5
}
