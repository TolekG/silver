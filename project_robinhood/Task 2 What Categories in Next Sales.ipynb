{
 "cells": [
  {
   "cell_type": "markdown",
   "id": "359d0cad",
   "metadata": {},
   "source": [
    "# Задача 2: Какие категории фруктов будут заказаны в следующий период"
   ]
  },
  {
   "cell_type": "markdown",
   "id": "8290c06e",
   "metadata": {},
   "source": [
    "# I. Импорт библиотек"
   ]
  },
  {
   "cell_type": "code",
   "execution_count": 2,
   "id": "a7fcddc3",
   "metadata": {},
   "outputs": [],
   "source": [
    "import pandas as pd \n",
    "import numpy as np\n",
    "import matplotlib.pyplot as plt\n",
    "import seaborn as sns\n",
    "\n",
    "import plotly.express as px\n",
    "import plotly.graph_objs as go \n",
    "\n",
    "import warnings\n",
    "warnings.filterwarnings(\"ignore\")\n",
    "\n",
    "from sklearn.model_selection import TimeSeriesSplit\n",
    "\n",
    "from sklearn.preprocessing import LabelEncoder, OneHotEncoder, StandardScaler\n",
    "from pandas import Series\n",
    "from sklearn.feature_selection import f_classif, mutual_info_classif\n",
    "\n",
    "from sklearn.linear_model import LogisticRegression\n",
    "from sklearn.tree import DecisionTreeClassifier\n",
    "from sklearn.ensemble import BaggingClassifier\n",
    "from sklearn.ensemble import RandomForestClassifier\n",
    "from sklearn.ensemble import GradientBoostingClassifier\n",
    "from sklearn.ensemble import ExtraTreesClassifier\n",
    "from sklearn.ensemble import StackingClassifier\n",
    "from catboost import CatBoostClassifier\n",
    "from xgboost import XGBClassifier\n",
    "\n",
    "from sklearn.metrics import confusion_matrix, ConfusionMatrixDisplay\n",
    "from sklearn.metrics import auc, roc_auc_score, roc_curve\n",
    "from sklearn.metrics import f1_score\n",
    "from sklearn.metrics import precision_score, recall_score\n",
    "from imblearn.over_sampling import RandomOverSampler"
   ]
  },
  {
   "cell_type": "markdown",
   "id": "052d03b8",
   "metadata": {},
   "source": [
    "# II. Функции"
   ]
  },
  {
   "cell_type": "code",
   "execution_count": 3,
   "id": "fc13195a",
   "metadata": {},
   "outputs": [],
   "source": [
    "def metrics(y_test, probs, y_pred_test):\n",
    "    fpr, tpr, threshold = roc_curve(y_test, probs)\n",
    "    roc_auc = roc_auc_score(y_test, probs)\n",
    "\n",
    "    plt.figure()\n",
    "    plt.plot([0, 1], label='Baseline', linestyle='--')\n",
    "    plt.plot(fpr, tpr, label = 'Regression')\n",
    "    plt.title('Model ROC AUC = %0.5f' % roc_auc)\n",
    "    plt.ylabel('True Positive Rate')\n",
    "    plt.xlabel('False Positive Rate')\n",
    "    plt.legend(loc = 'lower right')\n",
    "    plt.show()\n",
    "\n",
    "    f1_test_n = f1_score(y_test, y_pred_test)\n",
    "    print('f1 score:=',round(f1_test_n,4))\n",
    "\n",
    "    precision = precision_score(y_test, y_pred_test)\n",
    "    recall = recall_score(y_test, y_pred_test)\n",
    "    print('precision: {:.4f}\\nrecall: {:.4f}'.format(precision, recall))\n",
    "\n",
    "    conf_mat = confusion_matrix(y_test, y_pred_test)\n",
    "    print('Confusion matrix:\\n{}'.format(conf_mat))\n",
    "    disp = ConfusionMatrixDisplay(confusion_matrix=conf_mat,display_labels=model.classes_)\n",
    "    disp.plot()"
   ]
  },
  {
   "cell_type": "code",
   "execution_count": 4,
   "id": "545bec12",
   "metadata": {},
   "outputs": [],
   "source": [
    "def prepare_target(data_n):\n",
    "    ''' Функция приготовления целевой переменной в выборке'''\n",
    "    # Приготовление списка категорий в выбранный период времени\n",
    "    df_cat = data_n.copy()\n",
    "    df_cat = df_cat.groupby('category').first()\n",
    "    df_cat.reset_index(inplace=True)\n",
    "    df_cat = df_cat[['category']]\n",
    "    \n",
    "    # Приготовление этикеток целевой переменной\n",
    "    df_target = data_n.copy()\n",
    "    # Присваиваем по умолчанию 0\n",
    "    df_target['target'] = 0\n",
    "    \n",
    "    # Если была продажа в последней неделе, то целевая переменная = 1\n",
    "    df_target.loc[df_target.week == df_target.week.max(), 'target'] = 1\n",
    "    df_target = df_target[df_target.target == 1]\n",
    "    df_target = df_target.groupby('category').first()\n",
    "    df_target = df_target[['target']]\n",
    "    df_target.reset_index(inplace=True)\n",
    "\n",
    "    # Соединение общего датасета категории и датасета с категориями, которые купили в контрольную неделю\n",
    "    df_cat = pd.merge(df_cat,df_target, how='left', on='category')\n",
    "\n",
    "    # Если категории нет в датафрейме контрольной недели, целевая переменная равна 0\n",
    "    df_cat.fillna(0, inplace=True)\n",
    "\n",
    "    df_control = data_n.loc[data_n.week < data_n.week.max()]\n",
    "    df_bought = df_control.category.unique()\n",
    "    # Оставим в контрольном периоде только те категории, которые ранее не покупали\n",
    "    df_cat = df_cat[df_cat.category.isin(df_bought)]\n",
    "    \n",
    "    return df_cat.target"
   ]
  },
  {
   "cell_type": "code",
   "execution_count": 81,
   "id": "be1b4725",
   "metadata": {},
   "outputs": [],
   "source": [
    "def prepare_x(data_n):\n",
    "    ''' Функция подготовки признаков'''\n",
    "    df_x = data_n.copy()\n",
    "    df_x = df_x.loc[df_x.week < df_x.week.max()]\n",
    "    # Посчитаем, какой период охватывает наша обучающая выборка\n",
    "    length = (df_x.order_date.max() - df_x.order_date.min()).days\n",
    "    \n",
    "    ################################ Feature Engineering ####################################\n",
    "    \n",
    "    ###################################### Recency ##########################################\n",
    "    # Выведем последнюю дату заказа по каждой категории\n",
    "    df_recent_order = df_x.groupby('category').order_date.max().reset_index()\n",
    "    df_recent_order.columns = ['category','last_order']\n",
    "    df_recent_order['recency'] = df_recent_order.last_order.max() - df_recent_order.last_order\n",
    "    df_recent_order['recency'] = df_recent_order['recency'].astype('timedelta64[D]')\n",
    "    \n",
    "    # Создадим признак интервала между заказами в среднем по категории \n",
    "    df_interval = pd.DataFrame(columns=['category','interval'])\n",
    "\n",
    "    for cat in df_x.category.unique():\n",
    "        i = df_x[df_x.category == cat].order_date.diff().astype('timedelta64[D]')\n",
    "    #     new_row = {'category':cat, 'interval':i.mean()}\n",
    "        new_row = {'category':cat, 'interval':i.median()}\n",
    "        df_interval = df_interval.append(new_row,ignore_index=True)\n",
    "    # Заполним пропуски значением на 7 дней больше, чем промежуток от начала до конца выборки\n",
    "    df_interval.fillna(length + 7, inplace=True)\n",
    "    df_recent_order = pd.merge(df_recent_order,df_interval, how='left', on='category')\n",
    "    \n",
    "    \n",
    "    # Считаем разницу среднего промежутка по категории и последнего заказа\n",
    "    df_recent_order['median_recent'] = df_recent_order.interval - df_recent_order.recency\n",
    "    #  Вычитаем длительность контрольного периода, чтобы посчитать остаток\n",
    "    df_recent_order['remain'] = df_recent_order.median_recent - control_length\n",
    "    # Создадим бинарный признак, 1 - если промежуток от последнего заказа плюс контрольный период < обычного срока\n",
    "    df_recent_order['compare'] = df_recent_order.remain.apply(lambda x: 1 if x <= 0 else 0)\n",
    "    \n",
    "    ###################################### Frequency ##########################################\n",
    "    # Считаем количество заказов каждой категории в выборке\n",
    "    df_frequency = df_x.groupby('category').order_date.count().reset_index()\n",
    "    df_frequency.columns = ['category','frequency']\n",
    "    df_features = pd.merge(df_recent_order,df_frequency, how='left', on='category')\n",
    "    df_last_order = pd.DataFrame(columns=['category','last_volume', 'volume'])\n",
    "\n",
    "    ###################################### Volume ############################################    \n",
    "    for cat in df_x.category.unique():  \n",
    "        df_volume = df_x[['order_date','category','ordered']]\n",
    "        df_volume = df_volume[df_volume.category == cat]\n",
    "\n",
    "        # Считаем сумму последнего заказа по категориям\n",
    "        last_order = df_volume[df_volume.order_date == df_volume.order_date.max()]\n",
    "        last_order = last_order.groupby(['category']).sum().reset_index()\n",
    "        last_order.columns = last_order.columns.droplevel(1)\n",
    "\n",
    "        # Считаем средний срок поставки заказов в выборке по категориям\n",
    "        volume = df_volume.groupby(['category']).sum().reset_index()\n",
    "        volume.columns = volume.columns.droplevel(1)\n",
    "\n",
    "        new_row = {'category':cat, 'last_volume':last_order.ordered[0], 'volume':volume.ordered[0]}\n",
    "        df_last_order = df_last_order.append(new_row,ignore_index=True)\n",
    "        \n",
    "    # Считаем соотношение последнего срока поставки к среднему в выборке\n",
    "    df_last_order['increase_volume'] = df_last_order.last_volume/df_last_order.volume\n",
    "    \n",
    "    # Соединяем с приготовленным датасетом признаков\n",
    "    df_features = pd.merge(df_features,df_last_order, how='left', on='category')\n",
    "    \n",
    "    ###################################### Leadtime ############################################\n",
    "    \n",
    "    df_last_leadtime = pd.DataFrame(columns=['category','last_leadtime', 'leadtime'])\n",
    "\n",
    "    for cat in df_x.category.unique():  \n",
    "        df_leadtime = df_x[['order_date','category','leadtime']]\n",
    "        df_leadtime = df_leadtime[df_leadtime.category == cat]\n",
    "\n",
    "        # Считаем сумму последнего заказа по категориям\n",
    "        last_leadtime = df_leadtime[df_leadtime.order_date == df_leadtime.order_date.max()]\n",
    "        last_leadtime = last_leadtime.groupby(['category']).mean().reset_index()\n",
    "        last_leadtime.columns = last_leadtime.columns.droplevel(1)\n",
    "\n",
    "        # Считаем средний срок поставки заказов в выборке по категориям\n",
    "        leadtime = df_leadtime.groupby(['category']).mean().reset_index()\n",
    "        leadtime.columns = leadtime.columns.droplevel(1)\n",
    "\n",
    "        new_row = {'category':cat, 'last_leadtime':last_leadtime.leadtime[0], 'leadtime':leadtime.leadtime[0]}\n",
    "        df_last_leadtime = df_last_leadtime.append(new_row,ignore_index=True)\n",
    "        \n",
    "    # Создадим бинарный признак, 1 - если срока поставки >  обычного срока\n",
    "    df_last_leadtime['leadtime_diff'] = df_last_leadtime.last_leadtime - df_last_leadtime.leadtime\n",
    "    df_last_leadtime['leadtime_inc'] = df_last_leadtime.leadtime_diff.apply(lambda x: 1 if x > 0 else 0)\n",
    "    \n",
    "    # Соединяем датасет признаков\n",
    "    df_features = pd.merge(df_features,df_last_leadtime, how='left', on='category')\n",
    "    df_features = df_features[feature_list]\n",
    "    \n",
    "    return df_features"
   ]
  },
  {
   "cell_type": "markdown",
   "id": "45c2ae4a",
   "metadata": {},
   "source": [
    "# III. Данные"
   ]
  },
  {
   "cell_type": "code",
   "execution_count": 16,
   "id": "d10b557d",
   "metadata": {},
   "outputs": [],
   "source": [
    "# Загружаем приготовленный датасет\n",
    "df_village = pd.read_csv('village_table.csv')"
   ]
  },
  {
   "cell_type": "code",
   "execution_count": 17,
   "id": "5594bf7b",
   "metadata": {},
   "outputs": [
    {
     "data": {
      "text/html": [
       "<div>\n",
       "<style scoped>\n",
       "    .dataframe tbody tr th:only-of-type {\n",
       "        vertical-align: middle;\n",
       "    }\n",
       "\n",
       "    .dataframe tbody tr th {\n",
       "        vertical-align: top;\n",
       "    }\n",
       "\n",
       "    .dataframe thead th {\n",
       "        text-align: right;\n",
       "    }\n",
       "</style>\n",
       "<table border=\"1\" class=\"dataframe\">\n",
       "  <thead>\n",
       "    <tr style=\"text-align: right;\">\n",
       "      <th></th>\n",
       "      <th>village</th>\n",
       "      <th>year</th>\n",
       "      <th>family</th>\n",
       "      <th>category</th>\n",
       "      <th>fruit</th>\n",
       "      <th>grade</th>\n",
       "      <th>order_date</th>\n",
       "      <th>delivery_date</th>\n",
       "      <th>ordered</th>\n",
       "      <th>shipped</th>\n",
       "      <th>leadtime</th>\n",
       "    </tr>\n",
       "  </thead>\n",
       "  <tbody>\n",
       "    <tr>\n",
       "      <th>0</th>\n",
       "      <td>Robinhood_village</td>\n",
       "      <td>2020</td>\n",
       "      <td>family_244</td>\n",
       "      <td>category_25</td>\n",
       "      <td>fruit_37</td>\n",
       "      <td>165</td>\n",
       "      <td>2019-12-30</td>\n",
       "      <td>2020-01-03</td>\n",
       "      <td>1650.00</td>\n",
       "      <td>1663.200</td>\n",
       "      <td>4 days</td>\n",
       "    </tr>\n",
       "    <tr>\n",
       "      <th>1</th>\n",
       "      <td>Robinhood_village</td>\n",
       "      <td>2020</td>\n",
       "      <td>family_127</td>\n",
       "      <td>category_14</td>\n",
       "      <td>fruit_62</td>\n",
       "      <td>250</td>\n",
       "      <td>2019-12-30</td>\n",
       "      <td>2020-01-10</td>\n",
       "      <td>1000.00</td>\n",
       "      <td>1060.000</td>\n",
       "      <td>11 days</td>\n",
       "    </tr>\n",
       "    <tr>\n",
       "      <th>2</th>\n",
       "      <td>Robinhood_village</td>\n",
       "      <td>2020</td>\n",
       "      <td>family_133</td>\n",
       "      <td>category_16</td>\n",
       "      <td>fruit_48</td>\n",
       "      <td>330</td>\n",
       "      <td>2019-12-30</td>\n",
       "      <td>2020-01-08</td>\n",
       "      <td>1320.00</td>\n",
       "      <td>1336.500</td>\n",
       "      <td>9 days</td>\n",
       "    </tr>\n",
       "    <tr>\n",
       "      <th>3</th>\n",
       "      <td>Robinhood_village</td>\n",
       "      <td>2020</td>\n",
       "      <td>family_133</td>\n",
       "      <td>category_25</td>\n",
       "      <td>fruit_49</td>\n",
       "      <td>250</td>\n",
       "      <td>2019-12-30</td>\n",
       "      <td>2020-01-08</td>\n",
       "      <td>2500.00</td>\n",
       "      <td>2508.750</td>\n",
       "      <td>9 days</td>\n",
       "    </tr>\n",
       "    <tr>\n",
       "      <th>4</th>\n",
       "      <td>Robinhood_village</td>\n",
       "      <td>2020</td>\n",
       "      <td>family_133</td>\n",
       "      <td>category_4</td>\n",
       "      <td>fruit_52</td>\n",
       "      <td>315</td>\n",
       "      <td>2019-12-30</td>\n",
       "      <td>2020-01-08</td>\n",
       "      <td>4725.00</td>\n",
       "      <td>4759.650</td>\n",
       "      <td>9 days</td>\n",
       "    </tr>\n",
       "    <tr>\n",
       "      <th>...</th>\n",
       "      <td>...</td>\n",
       "      <td>...</td>\n",
       "      <td>...</td>\n",
       "      <td>...</td>\n",
       "      <td>...</td>\n",
       "      <td>...</td>\n",
       "      <td>...</td>\n",
       "      <td>...</td>\n",
       "      <td>...</td>\n",
       "      <td>...</td>\n",
       "      <td>...</td>\n",
       "    </tr>\n",
       "    <tr>\n",
       "      <th>243738</th>\n",
       "      <td>Robinhood_village</td>\n",
       "      <td>2022</td>\n",
       "      <td>family_16</td>\n",
       "      <td>category_87</td>\n",
       "      <td>fruit_474</td>\n",
       "      <td>145</td>\n",
       "      <td>2022-02-19</td>\n",
       "      <td>2022-02-23</td>\n",
       "      <td>287.10</td>\n",
       "      <td>287.100</td>\n",
       "      <td>4 days</td>\n",
       "    </tr>\n",
       "    <tr>\n",
       "      <th>243739</th>\n",
       "      <td>Robinhood_village</td>\n",
       "      <td>2022</td>\n",
       "      <td>family_11</td>\n",
       "      <td>category_56</td>\n",
       "      <td>fruit_248</td>\n",
       "      <td>320</td>\n",
       "      <td>2022-02-19</td>\n",
       "      <td>2022-02-25</td>\n",
       "      <td>2561.92</td>\n",
       "      <td>2561.920</td>\n",
       "      <td>6 days</td>\n",
       "    </tr>\n",
       "    <tr>\n",
       "      <th>243740</th>\n",
       "      <td>Robinhood_village</td>\n",
       "      <td>2022</td>\n",
       "      <td>family_108</td>\n",
       "      <td>category_16</td>\n",
       "      <td>fruit_410</td>\n",
       "      <td>340</td>\n",
       "      <td>2022-02-20</td>\n",
       "      <td>2022-02-25</td>\n",
       "      <td>1377.00</td>\n",
       "      <td>1377.000</td>\n",
       "      <td>5 days</td>\n",
       "    </tr>\n",
       "    <tr>\n",
       "      <th>243741</th>\n",
       "      <td>Robinhood_village</td>\n",
       "      <td>2022</td>\n",
       "      <td>family_278</td>\n",
       "      <td>category_9</td>\n",
       "      <td>fruit_233</td>\n",
       "      <td>252</td>\n",
       "      <td>2022-02-20</td>\n",
       "      <td>2022-02-25</td>\n",
       "      <td>554.40</td>\n",
       "      <td>554.400</td>\n",
       "      <td>5 days</td>\n",
       "    </tr>\n",
       "    <tr>\n",
       "      <th>243742</th>\n",
       "      <td>Robinhood_village</td>\n",
       "      <td>2022</td>\n",
       "      <td>family_97</td>\n",
       "      <td>category_14</td>\n",
       "      <td>fruit_1774</td>\n",
       "      <td>333</td>\n",
       "      <td>2022-02-20</td>\n",
       "      <td>2022-03-10</td>\n",
       "      <td>9990.00</td>\n",
       "      <td>10820.169</td>\n",
       "      <td>18 days</td>\n",
       "    </tr>\n",
       "  </tbody>\n",
       "</table>\n",
       "<p>243743 rows × 11 columns</p>\n",
       "</div>"
      ],
      "text/plain": [
       "                  village  year      family     category       fruit  grade  \\\n",
       "0       Robinhood_village  2020  family_244  category_25    fruit_37    165   \n",
       "1       Robinhood_village  2020  family_127  category_14    fruit_62    250   \n",
       "2       Robinhood_village  2020  family_133  category_16    fruit_48    330   \n",
       "3       Robinhood_village  2020  family_133  category_25    fruit_49    250   \n",
       "4       Robinhood_village  2020  family_133   category_4    fruit_52    315   \n",
       "...                   ...   ...         ...          ...         ...    ...   \n",
       "243738  Robinhood_village  2022   family_16  category_87   fruit_474    145   \n",
       "243739  Robinhood_village  2022   family_11  category_56   fruit_248    320   \n",
       "243740  Robinhood_village  2022  family_108  category_16   fruit_410    340   \n",
       "243741  Robinhood_village  2022  family_278   category_9   fruit_233    252   \n",
       "243742  Robinhood_village  2022   family_97  category_14  fruit_1774    333   \n",
       "\n",
       "        order_date delivery_date  ordered    shipped leadtime  \n",
       "0       2019-12-30    2020-01-03  1650.00   1663.200   4 days  \n",
       "1       2019-12-30    2020-01-10  1000.00   1060.000  11 days  \n",
       "2       2019-12-30    2020-01-08  1320.00   1336.500   9 days  \n",
       "3       2019-12-30    2020-01-08  2500.00   2508.750   9 days  \n",
       "4       2019-12-30    2020-01-08  4725.00   4759.650   9 days  \n",
       "...            ...           ...      ...        ...      ...  \n",
       "243738  2022-02-19    2022-02-23   287.10    287.100   4 days  \n",
       "243739  2022-02-19    2022-02-25  2561.92   2561.920   6 days  \n",
       "243740  2022-02-20    2022-02-25  1377.00   1377.000   5 days  \n",
       "243741  2022-02-20    2022-02-25   554.40    554.400   5 days  \n",
       "243742  2022-02-20    2022-03-10  9990.00  10820.169  18 days  \n",
       "\n",
       "[243743 rows x 11 columns]"
      ]
     },
     "execution_count": 17,
     "metadata": {},
     "output_type": "execute_result"
    }
   ],
   "source": [
    "df_village"
   ]
  },
  {
   "cell_type": "code",
   "execution_count": 18,
   "id": "01023b92",
   "metadata": {},
   "outputs": [],
   "source": [
    "# Преобразуем в формат datetime\n",
    "df_village.order_date = pd.to_datetime(df_village.order_date)\n",
    "df_village.delivery_date = pd.to_datetime(df_village.delivery_date)\n",
    "\n",
    "# Преобразуем в цифровой формат \n",
    "df_village['leadtime'] = df_village['leadtime'].apply(lambda x: x[:-5])\n",
    "df_village['leadtime'] = df_village['leadtime'].astype(int)"
   ]
  },
  {
   "cell_type": "code",
   "execution_count": 19,
   "id": "cda6ec5e",
   "metadata": {},
   "outputs": [
    {
     "name": "stdout",
     "output_type": "stream",
     "text": [
      "<class 'pandas.core.frame.DataFrame'>\n",
      "RangeIndex: 243743 entries, 0 to 243742\n",
      "Data columns (total 11 columns):\n",
      " #   Column         Non-Null Count   Dtype         \n",
      "---  ------         --------------   -----         \n",
      " 0   village        243743 non-null  object        \n",
      " 1   year           243743 non-null  int64         \n",
      " 2   family         243743 non-null  object        \n",
      " 3   category       243743 non-null  object        \n",
      " 4   fruit          243743 non-null  object        \n",
      " 5   grade          243743 non-null  int64         \n",
      " 6   order_date     243743 non-null  datetime64[ns]\n",
      " 7   delivery_date  243743 non-null  datetime64[ns]\n",
      " 8   ordered        243743 non-null  float64       \n",
      " 9   shipped        243743 non-null  float64       \n",
      " 10  leadtime       243743 non-null  int64         \n",
      "dtypes: datetime64[ns](2), float64(2), int64(3), object(4)\n",
      "memory usage: 20.5+ MB\n"
     ]
    }
   ],
   "source": [
    "df_village.info()"
   ]
  },
  {
   "cell_type": "code",
   "execution_count": 20,
   "id": "dceec38e",
   "metadata": {},
   "outputs": [],
   "source": [
    "#  Создадим датафреймы для каждой семьи\n",
    "for parent in df_village.family.unique():\n",
    "    globals()[f'{parent}'] = df_village.query(f\"family == '{parent}'\")"
   ]
  },
  {
   "cell_type": "markdown",
   "id": "8697330b",
   "metadata": {},
   "source": [
    "# IV. Задача 2: Предсказывание категорий в следующий период заказов"
   ]
  },
  {
   "cell_type": "markdown",
   "id": "bebfa449",
   "metadata": {},
   "source": [
    "## 1. Подготовка данных"
   ]
  },
  {
   "cell_type": "markdown",
   "id": "791ecff3",
   "metadata": {},
   "source": [
    "### 1.1. Преобразования на примере одной семьи"
   ]
  },
  {
   "cell_type": "code",
   "execution_count": 21,
   "id": "8d68be40",
   "metadata": {},
   "outputs": [],
   "source": [
    "data = family_119.copy()\n",
    "data = data.sort_values(by='order_date', ascending=True)\n",
    "    \n",
    "# Данные по заказам, которые нужно суммировать\n",
    "data_o = data[['order_date','ordered','category']]\n",
    "data_o = data_o.groupby(['order_date','category']).agg(['sum'])\n",
    "# data_o.reset_index(inplace=True)"
   ]
  },
  {
   "cell_type": "code",
   "execution_count": 22,
   "id": "59feac2e",
   "metadata": {},
   "outputs": [
    {
     "data": {
      "text/html": [
       "<div>\n",
       "<style scoped>\n",
       "    .dataframe tbody tr th:only-of-type {\n",
       "        vertical-align: middle;\n",
       "    }\n",
       "\n",
       "    .dataframe tbody tr th {\n",
       "        vertical-align: top;\n",
       "    }\n",
       "\n",
       "    .dataframe thead tr th {\n",
       "        text-align: left;\n",
       "    }\n",
       "\n",
       "    .dataframe thead tr:last-of-type th {\n",
       "        text-align: right;\n",
       "    }\n",
       "</style>\n",
       "<table border=\"1\" class=\"dataframe\">\n",
       "  <thead>\n",
       "    <tr>\n",
       "      <th></th>\n",
       "      <th></th>\n",
       "      <th>ordered</th>\n",
       "    </tr>\n",
       "    <tr>\n",
       "      <th></th>\n",
       "      <th></th>\n",
       "      <th>sum</th>\n",
       "    </tr>\n",
       "    <tr>\n",
       "      <th>order_date</th>\n",
       "      <th>category</th>\n",
       "      <th></th>\n",
       "    </tr>\n",
       "  </thead>\n",
       "  <tbody>\n",
       "    <tr>\n",
       "      <th rowspan=\"2\" valign=\"top\">2020-01-03</th>\n",
       "      <th>category_3</th>\n",
       "      <td>28000.0</td>\n",
       "    </tr>\n",
       "    <tr>\n",
       "      <th>category_9</th>\n",
       "      <td>30240.0</td>\n",
       "    </tr>\n",
       "    <tr>\n",
       "      <th rowspan=\"3\" valign=\"top\">2020-01-07</th>\n",
       "      <th>category_14</th>\n",
       "      <td>1999.0</td>\n",
       "    </tr>\n",
       "    <tr>\n",
       "      <th>category_16</th>\n",
       "      <td>3996.0</td>\n",
       "    </tr>\n",
       "    <tr>\n",
       "      <th>category_24</th>\n",
       "      <td>20640.0</td>\n",
       "    </tr>\n",
       "    <tr>\n",
       "      <th>...</th>\n",
       "      <th>...</th>\n",
       "      <td>...</td>\n",
       "    </tr>\n",
       "    <tr>\n",
       "      <th>2022-02-14</th>\n",
       "      <th>category_9</th>\n",
       "      <td>14985.0</td>\n",
       "    </tr>\n",
       "    <tr>\n",
       "      <th rowspan=\"2\" valign=\"top\">2022-02-16</th>\n",
       "      <th>category_16</th>\n",
       "      <td>1998.0</td>\n",
       "    </tr>\n",
       "    <tr>\n",
       "      <th>category_62</th>\n",
       "      <td>48000.0</td>\n",
       "    </tr>\n",
       "    <tr>\n",
       "      <th rowspan=\"2\" valign=\"top\">2022-02-18</th>\n",
       "      <th>category_10</th>\n",
       "      <td>38400.0</td>\n",
       "    </tr>\n",
       "    <tr>\n",
       "      <th>category_8</th>\n",
       "      <td>25974.0</td>\n",
       "    </tr>\n",
       "  </tbody>\n",
       "</table>\n",
       "<p>1836 rows × 1 columns</p>\n",
       "</div>"
      ],
      "text/plain": [
       "                        ordered\n",
       "                            sum\n",
       "order_date category            \n",
       "2020-01-03 category_3   28000.0\n",
       "           category_9   30240.0\n",
       "2020-01-07 category_14   1999.0\n",
       "           category_16   3996.0\n",
       "           category_24  20640.0\n",
       "...                         ...\n",
       "2022-02-14 category_9   14985.0\n",
       "2022-02-16 category_16   1998.0\n",
       "           category_62  48000.0\n",
       "2022-02-18 category_10  38400.0\n",
       "           category_8   25974.0\n",
       "\n",
       "[1836 rows x 1 columns]"
      ]
     },
     "metadata": {},
     "output_type": "display_data"
    }
   ],
   "source": [
    "display(data_o)"
   ]
  },
  {
   "cell_type": "markdown",
   "id": "ce0f6788",
   "metadata": {},
   "source": [
    "Как видно выше, в один день семья может заказать несколько различных категорий фруктов. Может даже быть несколько заказов той же категории. Значит, нужно соответствующим образом сгруппировать данные"
   ]
  },
  {
   "cell_type": "code",
   "execution_count": 23,
   "id": "5c402bfd",
   "metadata": {},
   "outputs": [],
   "source": [
    "# Данные, которые нужно усреднить\n",
    "data_l = data.copy()\n",
    "data_l = data_l[['order_date', 'category','leadtime']]\n",
    "data_l = data_l.groupby(['order_date','category']).agg(['mean'])\n",
    "# data_l.reset_index(inplace=True)"
   ]
  },
  {
   "cell_type": "code",
   "execution_count": 24,
   "id": "471a6cf6",
   "metadata": {},
   "outputs": [],
   "source": [
    "# Соединяем\n",
    "data_order_cat = pd.concat([data_o, data_l], axis=1)"
   ]
  },
  {
   "cell_type": "code",
   "execution_count": 25,
   "id": "c9f79604",
   "metadata": {},
   "outputs": [],
   "source": [
    "data_order_cat.reset_index(inplace=True)"
   ]
  },
  {
   "cell_type": "code",
   "execution_count": 26,
   "id": "2942ec0d",
   "metadata": {},
   "outputs": [
    {
     "name": "stdout",
     "output_type": "stream",
     "text": [
      "<class 'pandas.core.frame.DataFrame'>\n",
      "RangeIndex: 1836 entries, 0 to 1835\n",
      "Data columns (total 4 columns):\n",
      " #   Column            Non-Null Count  Dtype         \n",
      "---  ------            --------------  -----         \n",
      " 0   (order_date, )    1836 non-null   datetime64[ns]\n",
      " 1   (category, )      1836 non-null   object        \n",
      " 2   (ordered, sum)    1836 non-null   float64       \n",
      " 3   (leadtime, mean)  1836 non-null   float64       \n",
      "dtypes: datetime64[ns](1), float64(2), object(1)\n",
      "memory usage: 57.5+ KB\n"
     ]
    }
   ],
   "source": [
    "data_order_cat.info()"
   ]
  },
  {
   "cell_type": "markdown",
   "id": "4785454d",
   "metadata": {},
   "source": [
    "Мы получили сгруппированную таблицу:"
   ]
  },
  {
   "cell_type": "code",
   "execution_count": 29,
   "id": "c45658fa",
   "metadata": {},
   "outputs": [
    {
     "data": {
      "text/html": [
       "<div>\n",
       "<style scoped>\n",
       "    .dataframe tbody tr th:only-of-type {\n",
       "        vertical-align: middle;\n",
       "    }\n",
       "\n",
       "    .dataframe tbody tr th {\n",
       "        vertical-align: top;\n",
       "    }\n",
       "\n",
       "    .dataframe thead tr th {\n",
       "        text-align: left;\n",
       "    }\n",
       "</style>\n",
       "<table border=\"1\" class=\"dataframe\">\n",
       "  <thead>\n",
       "    <tr>\n",
       "      <th></th>\n",
       "      <th>order_date</th>\n",
       "      <th>category</th>\n",
       "      <th>ordered</th>\n",
       "      <th>leadtime</th>\n",
       "    </tr>\n",
       "    <tr>\n",
       "      <th></th>\n",
       "      <th></th>\n",
       "      <th></th>\n",
       "      <th>sum</th>\n",
       "      <th>mean</th>\n",
       "    </tr>\n",
       "  </thead>\n",
       "  <tbody>\n",
       "    <tr>\n",
       "      <th>0</th>\n",
       "      <td>2020-01-03</td>\n",
       "      <td>category_3</td>\n",
       "      <td>28000.0</td>\n",
       "      <td>10.0</td>\n",
       "    </tr>\n",
       "    <tr>\n",
       "      <th>1</th>\n",
       "      <td>2020-01-03</td>\n",
       "      <td>category_9</td>\n",
       "      <td>30240.0</td>\n",
       "      <td>10.0</td>\n",
       "    </tr>\n",
       "    <tr>\n",
       "      <th>2</th>\n",
       "      <td>2020-01-07</td>\n",
       "      <td>category_14</td>\n",
       "      <td>1999.0</td>\n",
       "      <td>8.0</td>\n",
       "    </tr>\n",
       "    <tr>\n",
       "      <th>3</th>\n",
       "      <td>2020-01-07</td>\n",
       "      <td>category_16</td>\n",
       "      <td>3996.0</td>\n",
       "      <td>13.0</td>\n",
       "    </tr>\n",
       "    <tr>\n",
       "      <th>4</th>\n",
       "      <td>2020-01-07</td>\n",
       "      <td>category_24</td>\n",
       "      <td>20640.0</td>\n",
       "      <td>15.0</td>\n",
       "    </tr>\n",
       "  </tbody>\n",
       "</table>\n",
       "</div>"
      ],
      "text/plain": [
       "  order_date     category  ordered leadtime\n",
       "                               sum     mean\n",
       "0 2020-01-03   category_3  28000.0     10.0\n",
       "1 2020-01-03   category_9  30240.0     10.0\n",
       "2 2020-01-07  category_14   1999.0      8.0\n",
       "3 2020-01-07  category_16   3996.0     13.0\n",
       "4 2020-01-07  category_24  20640.0     15.0"
      ]
     },
     "execution_count": 29,
     "metadata": {},
     "output_type": "execute_result"
    }
   ],
   "source": [
    "data_order_cat.head()"
   ]
  },
  {
   "cell_type": "code",
   "execution_count": 30,
   "id": "ef044eda",
   "metadata": {},
   "outputs": [
    {
     "data": {
      "text/plain": [
       "Timestamp('2020-01-03 00:00:00')"
      ]
     },
     "execution_count": 30,
     "metadata": {},
     "output_type": "execute_result"
    }
   ],
   "source": [
    "# Найстаршая дата данных\n",
    "data_order_cat.order_date.min()"
   ]
  },
  {
   "cell_type": "code",
   "execution_count": 31,
   "id": "9b84a11d",
   "metadata": {},
   "outputs": [
    {
     "data": {
      "text/plain": [
       "Timestamp('2022-02-18 00:00:00')"
      ]
     },
     "execution_count": 31,
     "metadata": {},
     "output_type": "execute_result"
    }
   ],
   "source": [
    "# Самая поздняя дата \n",
    "data_order_cat.order_date.max()"
   ]
  },
  {
   "cell_type": "markdown",
   "id": "702285bd",
   "metadata": {},
   "source": [
    "### 1.2. Создание новых признаков"
   ]
  },
  {
   "cell_type": "markdown",
   "id": "955b74a4",
   "metadata": {},
   "source": [
    "#### 1.2.1. Частота (Frequency)"
   ]
  },
  {
   "cell_type": "code",
   "execution_count": 32,
   "id": "7fba549f",
   "metadata": {},
   "outputs": [],
   "source": [
    "# Выведем количество всех заказов по категории\n",
    "cat_frequency = data_order_cat.groupby('category').order_date.count().reset_index()\n",
    "cat_frequency.columns = ['category','frequency']"
   ]
  },
  {
   "cell_type": "code",
   "execution_count": 33,
   "id": "d6389e71",
   "metadata": {},
   "outputs": [
    {
     "data": {
      "text/html": [
       "<div>\n",
       "<style scoped>\n",
       "    .dataframe tbody tr th:only-of-type {\n",
       "        vertical-align: middle;\n",
       "    }\n",
       "\n",
       "    .dataframe tbody tr th {\n",
       "        vertical-align: top;\n",
       "    }\n",
       "\n",
       "    .dataframe thead th {\n",
       "        text-align: right;\n",
       "    }\n",
       "</style>\n",
       "<table border=\"1\" class=\"dataframe\">\n",
       "  <thead>\n",
       "    <tr style=\"text-align: right;\">\n",
       "      <th></th>\n",
       "      <th>category</th>\n",
       "      <th>frequency</th>\n",
       "    </tr>\n",
       "  </thead>\n",
       "  <tbody>\n",
       "    <tr>\n",
       "      <th>0</th>\n",
       "      <td>category_0</td>\n",
       "      <td>1</td>\n",
       "    </tr>\n",
       "    <tr>\n",
       "      <th>1</th>\n",
       "      <td>category_10</td>\n",
       "      <td>20</td>\n",
       "    </tr>\n",
       "    <tr>\n",
       "      <th>2</th>\n",
       "      <td>category_102</td>\n",
       "      <td>5</td>\n",
       "    </tr>\n",
       "    <tr>\n",
       "      <th>3</th>\n",
       "      <td>category_12</td>\n",
       "      <td>13</td>\n",
       "    </tr>\n",
       "    <tr>\n",
       "      <th>4</th>\n",
       "      <td>category_13</td>\n",
       "      <td>10</td>\n",
       "    </tr>\n",
       "  </tbody>\n",
       "</table>\n",
       "</div>"
      ],
      "text/plain": [
       "       category  frequency\n",
       "0    category_0          1\n",
       "1   category_10         20\n",
       "2  category_102          5\n",
       "3   category_12         13\n",
       "4   category_13         10"
      ]
     },
     "execution_count": 33,
     "metadata": {},
     "output_type": "execute_result"
    }
   ],
   "source": [
    "cat_frequency.head()"
   ]
  },
  {
   "cell_type": "code",
   "execution_count": 43,
   "id": "d5293731",
   "metadata": {},
   "outputs": [
    {
     "data": {
      "application/vnd.plotly.v1+json": {
       "config": {
        "displaylogo": false,
        "plotlyServerURL": "https://plot.ly"
       },
       "data": [
        {
         "alignmentgroup": "True",
         "bingroup": "x",
         "histfunc": "sum",
         "hovertemplate": "x=%{x}<br>sum of y=%{y}<extra></extra>",
         "legendgroup": "",
         "marker": {
          "color": "#1F77B4",
          "pattern": {
           "shape": ""
          }
         },
         "name": "",
         "offsetgroup": "",
         "orientation": "v",
         "showlegend": false,
         "type": "histogram",
         "x": [
          "category_0",
          "category_10",
          "category_102",
          "category_12",
          "category_13",
          "category_133",
          "category_138",
          "category_14",
          "category_157",
          "category_158",
          "category_16",
          "category_21",
          "category_217",
          "category_22",
          "category_23",
          "category_24",
          "category_3",
          "category_38",
          "category_4",
          "category_40",
          "category_47",
          "category_56",
          "category_58",
          "category_62",
          "category_7",
          "category_76",
          "category_8",
          "category_84",
          "category_85",
          "category_87",
          "category_89",
          "category_9",
          "category_91"
         ],
         "xaxis": "x",
         "y": [
          1,
          20,
          5,
          13,
          10,
          7,
          19,
          249,
          2,
          3,
          137,
          3,
          2,
          25,
          8,
          122,
          194,
          224,
          14,
          11,
          31,
          44,
          82,
          143,
          52,
          28,
          76,
          55,
          6,
          21,
          1,
          225,
          3
         ],
         "yaxis": "y"
        }
       ],
       "layout": {
        "barmode": "relative",
        "legend": {
         "tracegroupgap": 0
        },
        "template": {
         "data": {
          "pie": [
           {
            "automargin": true,
            "type": "pie"
           }
          ]
         },
         "layout": {
          "yaxis": {
           "showgrid": false
          }
         }
        },
        "title": {
         "text": "Количество заказов по категориям",
         "x": 0.2
        },
        "xaxis": {
         "anchor": "y",
         "categoryorder": "total ascending",
         "domain": [
          0,
          1
         ],
         "title": {
          "text": "x"
         }
        },
        "yaxis": {
         "anchor": "x",
         "domain": [
          0,
          1
         ],
         "title": {
          "text": "Number of Orders"
         }
        }
       }
      },
      "text/html": [
       "<div>                            <div id=\"bc699efe-f148-48f2-804e-9b7e551f4b19\" class=\"plotly-graph-div\" style=\"height:525px; width:100%;\"></div>            <script type=\"text/javascript\">                require([\"plotly\"], function(Plotly) {                    window.PLOTLYENV=window.PLOTLYENV || {};                                    if (document.getElementById(\"bc699efe-f148-48f2-804e-9b7e551f4b19\")) {                    Plotly.newPlot(                        \"bc699efe-f148-48f2-804e-9b7e551f4b19\",                        [{\"alignmentgroup\":\"True\",\"bingroup\":\"x\",\"histfunc\":\"sum\",\"hovertemplate\":\"x=%{x}<br>sum of y=%{y}<extra></extra>\",\"legendgroup\":\"\",\"marker\":{\"color\":\"#1F77B4\",\"pattern\":{\"shape\":\"\"}},\"name\":\"\",\"offsetgroup\":\"\",\"orientation\":\"v\",\"showlegend\":false,\"type\":\"histogram\",\"x\":[\"category_0\",\"category_10\",\"category_102\",\"category_12\",\"category_13\",\"category_133\",\"category_138\",\"category_14\",\"category_157\",\"category_158\",\"category_16\",\"category_21\",\"category_217\",\"category_22\",\"category_23\",\"category_24\",\"category_3\",\"category_38\",\"category_4\",\"category_40\",\"category_47\",\"category_56\",\"category_58\",\"category_62\",\"category_7\",\"category_76\",\"category_8\",\"category_84\",\"category_85\",\"category_87\",\"category_89\",\"category_9\",\"category_91\"],\"xaxis\":\"x\",\"y\":[1,20,5,13,10,7,19,249,2,3,137,3,2,25,8,122,194,224,14,11,31,44,82,143,52,28,76,55,6,21,1,225,3],\"yaxis\":\"y\"}],                        {\"barmode\":\"relative\",\"legend\":{\"tracegroupgap\":0},\"template\":{\"data\":{\"pie\":[{\"automargin\":true,\"type\":\"pie\"}]},\"layout\":{\"yaxis\":{\"showgrid\":false}}},\"title\":{\"text\":\"\\u041a\\u043e\\u043b\\u0438\\u0447\\u0435\\u0441\\u0442\\u0432\\u043e \\u0437\\u0430\\u043a\\u0430\\u0437\\u043e\\u0432 \\u043f\\u043e \\u043a\\u0430\\u0442\\u0435\\u0433\\u043e\\u0440\\u0438\\u044f\\u043c\",\"x\":0.2},\"xaxis\":{\"anchor\":\"y\",\"categoryorder\":\"total ascending\",\"domain\":[0.0,1.0],\"title\":{\"text\":\"x\"}},\"yaxis\":{\"anchor\":\"x\",\"domain\":[0.0,1.0],\"title\":{\"text\":\"Number of Orders\"}}},                        {\"displaylogo\": false, \"responsive\": true}                    ).then(function(){\n",
       "                            \n",
       "var gd = document.getElementById('bc699efe-f148-48f2-804e-9b7e551f4b19');\n",
       "var x = new MutationObserver(function (mutations, observer) {{\n",
       "        var display = window.getComputedStyle(gd).display;\n",
       "        if (!display || display === 'none') {{\n",
       "            console.log([gd, 'removed!']);\n",
       "            Plotly.purge(gd);\n",
       "            observer.disconnect();\n",
       "        }}\n",
       "}});\n",
       "\n",
       "// Listen for the removal of the full notebook cells\n",
       "var notebookContainer = gd.closest('#notebook-container');\n",
       "if (notebookContainer) {{\n",
       "    x.observe(notebookContainer, {childList: true});\n",
       "}}\n",
       "\n",
       "// Listen for the clearing of the current output cell\n",
       "var outputEl = gd.closest('.output');\n",
       "if (outputEl) {{\n",
       "    x.observe(outputEl, {childList: true});\n",
       "}}\n",
       "\n",
       "                        })                };                });            </script>        </div>"
      ]
     },
     "metadata": {},
     "output_type": "display_data"
    }
   ],
   "source": [
    "# plot histogram\n",
    "hist_fig = px.histogram(x=cat_frequency.category, y=cat_frequency.frequency,\n",
    "                        title=\"Количество заказов по категориям\", template= \"ygridoff\" \n",
    "                       ).update_xaxes(categoryorder='total ascending')\n",
    "hist_fig.update_layout(title_x=0.2,\n",
    "#                        xaxis_title=\"Categories\", \n",
    "                       yaxis_title=\"Number of Orders\"\n",
    "                      )\n",
    "\n",
    "hist_fig.show(config={'displaylogo': False})"
   ]
  },
  {
   "cell_type": "code",
   "execution_count": 35,
   "id": "1f7b4188",
   "metadata": {},
   "outputs": [
    {
     "data": {
      "text/html": [
       "<div>\n",
       "<style scoped>\n",
       "    .dataframe tbody tr th:only-of-type {\n",
       "        vertical-align: middle;\n",
       "    }\n",
       "\n",
       "    .dataframe tbody tr th {\n",
       "        vertical-align: top;\n",
       "    }\n",
       "\n",
       "    .dataframe thead th {\n",
       "        text-align: right;\n",
       "    }\n",
       "</style>\n",
       "<table border=\"1\" class=\"dataframe\">\n",
       "  <thead>\n",
       "    <tr style=\"text-align: right;\">\n",
       "      <th></th>\n",
       "      <th>category</th>\n",
       "      <th>frequency</th>\n",
       "    </tr>\n",
       "  </thead>\n",
       "  <tbody>\n",
       "    <tr>\n",
       "      <th>0</th>\n",
       "      <td>category_0</td>\n",
       "      <td>1</td>\n",
       "    </tr>\n",
       "    <tr>\n",
       "      <th>8</th>\n",
       "      <td>category_157</td>\n",
       "      <td>2</td>\n",
       "    </tr>\n",
       "    <tr>\n",
       "      <th>9</th>\n",
       "      <td>category_158</td>\n",
       "      <td>3</td>\n",
       "    </tr>\n",
       "    <tr>\n",
       "      <th>11</th>\n",
       "      <td>category_21</td>\n",
       "      <td>3</td>\n",
       "    </tr>\n",
       "    <tr>\n",
       "      <th>12</th>\n",
       "      <td>category_217</td>\n",
       "      <td>2</td>\n",
       "    </tr>\n",
       "    <tr>\n",
       "      <th>30</th>\n",
       "      <td>category_89</td>\n",
       "      <td>1</td>\n",
       "    </tr>\n",
       "    <tr>\n",
       "      <th>32</th>\n",
       "      <td>category_91</td>\n",
       "      <td>3</td>\n",
       "    </tr>\n",
       "  </tbody>\n",
       "</table>\n",
       "</div>"
      ],
      "text/plain": [
       "        category  frequency\n",
       "0     category_0          1\n",
       "8   category_157          2\n",
       "9   category_158          3\n",
       "11   category_21          3\n",
       "12  category_217          2\n",
       "30   category_89          1\n",
       "32   category_91          3"
      ]
     },
     "execution_count": 35,
     "metadata": {},
     "output_type": "execute_result"
    }
   ],
   "source": [
    "# Катеогории, которые купили менее 5 раз за более, чем два года, стоит удалить\n",
    "cat_frequency[cat_frequency.frequency < 5]"
   ]
  },
  {
   "cell_type": "code",
   "execution_count": 36,
   "id": "78400c40",
   "metadata": {},
   "outputs": [],
   "source": [
    "to_delete = list(cat_frequency[cat_frequency.frequency < 5].category.values)"
   ]
  },
  {
   "cell_type": "code",
   "execution_count": 37,
   "id": "8b4c616e",
   "metadata": {},
   "outputs": [],
   "source": [
    "# Удалим из датасета категории с заказами менее 5\n",
    "data_order_cat = data_order_cat[~data_order_cat.category.isin(to_delete)]"
   ]
  },
  {
   "cell_type": "markdown",
   "id": "7fc5a6fb",
   "metadata": {},
   "source": [
    "#### 1.2.2. Интервал "
   ]
  },
  {
   "cell_type": "code",
   "execution_count": 38,
   "id": "be03daec",
   "metadata": {},
   "outputs": [],
   "source": [
    "for cat in data_order_cat.category.unique():\n",
    "    j = data_order_cat[data_order_cat.category == cat].order_date.diff().astype('timedelta64[D]')\n",
    "    globals()[f\"diff_{cat}\"] = j.mean()"
   ]
  },
  {
   "cell_type": "code",
   "execution_count": 39,
   "id": "9cdb9719",
   "metadata": {},
   "outputs": [],
   "source": [
    "# Создадим признак интервала между заказами в среднем по категории \n",
    "category_interval = pd.DataFrame(columns=['category','interval'])\n",
    "\n",
    "for cat in data_order_cat.category.unique():\n",
    "    i = data_order_cat[data_order_cat.category == cat].order_date.diff().astype('timedelta64[D]')\n",
    "    new_row = {'category':cat, 'interval':i.mean()}\n",
    "    category_interval = category_interval.append(new_row,ignore_index=True)"
   ]
  },
  {
   "cell_type": "code",
   "execution_count": 44,
   "id": "a2a38c71",
   "metadata": {},
   "outputs": [
    {
     "data": {
      "application/vnd.plotly.v1+json": {
       "config": {
        "displaylogo": false,
        "plotlyServerURL": "https://plot.ly"
       },
       "data": [
        {
         "alignmentgroup": "True",
         "bingroup": "x",
         "histfunc": "sum",
         "hovertemplate": "x=%{x}<br>sum of y=%{y}<extra></extra>",
         "legendgroup": "",
         "marker": {
          "color": "#1F77B4",
          "pattern": {
           "shape": ""
          }
         },
         "name": "",
         "offsetgroup": "",
         "orientation": "v",
         "showlegend": false,
         "type": "histogram",
         "x": [
          "category_3",
          "category_9",
          "category_14",
          "category_16",
          "category_24",
          "category_38",
          "category_58",
          "category_76",
          "category_133",
          "category_4",
          "category_12",
          "category_56",
          "category_7",
          "category_8",
          "category_87",
          "category_22",
          "category_84",
          "category_62",
          "category_138",
          "category_102",
          "category_10",
          "category_47",
          "category_85",
          "category_23",
          "category_13",
          "category_40"
         ],
         "xaxis": "x",
         "y": [
          3.948186528497409,
          3.450892857142857,
          3.0725806451612905,
          5.669117647058823,
          6.355371900826446,
          3.4170403587443947,
          9.358024691358025,
          27.59259259259259,
          106,
          57.69230769230769,
          63.583333333333336,
          16.41860465116279,
          14.450980392156863,
          10.133333333333333,
          34.7,
          30.666666666666668,
          13.648148148148149,
          5.26056338028169,
          39.27777777777778,
          169.25,
          36.578947368421055,
          21.833333333333332,
          116,
          78.28571428571429,
          50.55555555555556,
          44.4
         ],
         "yaxis": "y"
        }
       ],
       "layout": {
        "barmode": "relative",
        "legend": {
         "tracegroupgap": 0
        },
        "template": {
         "data": {
          "pie": [
           {
            "automargin": true,
            "type": "pie"
           }
          ]
         },
         "layout": {
          "yaxis": {
           "showgrid": false
          }
         }
        },
        "title": {
         "text": "Интервалы между заказами по категориям",
         "x": 0.2
        },
        "xaxis": {
         "anchor": "y",
         "categoryorder": "total descending",
         "domain": [
          0,
          1
         ],
         "title": {
          "text": "x"
         }
        },
        "yaxis": {
         "anchor": "x",
         "domain": [
          0,
          1
         ],
         "title": {
          "text": "Days between Orders"
         }
        }
       }
      },
      "text/html": [
       "<div>                            <div id=\"a3ccded7-0af6-4a0e-a56b-333fb86d7878\" class=\"plotly-graph-div\" style=\"height:525px; width:100%;\"></div>            <script type=\"text/javascript\">                require([\"plotly\"], function(Plotly) {                    window.PLOTLYENV=window.PLOTLYENV || {};                                    if (document.getElementById(\"a3ccded7-0af6-4a0e-a56b-333fb86d7878\")) {                    Plotly.newPlot(                        \"a3ccded7-0af6-4a0e-a56b-333fb86d7878\",                        [{\"alignmentgroup\":\"True\",\"bingroup\":\"x\",\"histfunc\":\"sum\",\"hovertemplate\":\"x=%{x}<br>sum of y=%{y}<extra></extra>\",\"legendgroup\":\"\",\"marker\":{\"color\":\"#1F77B4\",\"pattern\":{\"shape\":\"\"}},\"name\":\"\",\"offsetgroup\":\"\",\"orientation\":\"v\",\"showlegend\":false,\"type\":\"histogram\",\"x\":[\"category_3\",\"category_9\",\"category_14\",\"category_16\",\"category_24\",\"category_38\",\"category_58\",\"category_76\",\"category_133\",\"category_4\",\"category_12\",\"category_56\",\"category_7\",\"category_8\",\"category_87\",\"category_22\",\"category_84\",\"category_62\",\"category_138\",\"category_102\",\"category_10\",\"category_47\",\"category_85\",\"category_23\",\"category_13\",\"category_40\"],\"xaxis\":\"x\",\"y\":[3.948186528497409,3.450892857142857,3.0725806451612905,5.669117647058823,6.355371900826446,3.4170403587443947,9.358024691358025,27.59259259259259,106.0,57.69230769230769,63.583333333333336,16.41860465116279,14.450980392156863,10.133333333333333,34.7,30.666666666666668,13.648148148148149,5.26056338028169,39.27777777777778,169.25,36.578947368421055,21.833333333333332,116.0,78.28571428571429,50.55555555555556,44.4],\"yaxis\":\"y\"}],                        {\"barmode\":\"relative\",\"legend\":{\"tracegroupgap\":0},\"template\":{\"data\":{\"pie\":[{\"automargin\":true,\"type\":\"pie\"}]},\"layout\":{\"yaxis\":{\"showgrid\":false}}},\"title\":{\"text\":\"\\u0418\\u043d\\u0442\\u0435\\u0440\\u0432\\u0430\\u043b\\u044b \\u043c\\u0435\\u0436\\u0434\\u0443 \\u0437\\u0430\\u043a\\u0430\\u0437\\u0430\\u043c\\u0438 \\u043f\\u043e \\u043a\\u0430\\u0442\\u0435\\u0433\\u043e\\u0440\\u0438\\u044f\\u043c\",\"x\":0.2},\"xaxis\":{\"anchor\":\"y\",\"categoryorder\":\"total descending\",\"domain\":[0.0,1.0],\"title\":{\"text\":\"x\"}},\"yaxis\":{\"anchor\":\"x\",\"domain\":[0.0,1.0],\"title\":{\"text\":\"Days between Orders\"}}},                        {\"displaylogo\": false, \"responsive\": true}                    ).then(function(){\n",
       "                            \n",
       "var gd = document.getElementById('a3ccded7-0af6-4a0e-a56b-333fb86d7878');\n",
       "var x = new MutationObserver(function (mutations, observer) {{\n",
       "        var display = window.getComputedStyle(gd).display;\n",
       "        if (!display || display === 'none') {{\n",
       "            console.log([gd, 'removed!']);\n",
       "            Plotly.purge(gd);\n",
       "            observer.disconnect();\n",
       "        }}\n",
       "}});\n",
       "\n",
       "// Listen for the removal of the full notebook cells\n",
       "var notebookContainer = gd.closest('#notebook-container');\n",
       "if (notebookContainer) {{\n",
       "    x.observe(notebookContainer, {childList: true});\n",
       "}}\n",
       "\n",
       "// Listen for the clearing of the current output cell\n",
       "var outputEl = gd.closest('.output');\n",
       "if (outputEl) {{\n",
       "    x.observe(outputEl, {childList: true});\n",
       "}}\n",
       "\n",
       "                        })                };                });            </script>        </div>"
      ]
     },
     "metadata": {},
     "output_type": "display_data"
    }
   ],
   "source": [
    "# plot histogram\n",
    "hist_fig = px.histogram(x=category_interval.category, y=category_interval.interval,\n",
    "                        title=\"Интервалы между заказами по категориям\", template= \"ygridoff\" \n",
    "                       ).update_xaxes(categoryorder='total descending')\n",
    "hist_fig.update_layout(title_x=0.2,\n",
    "#                        xaxis_title=\"Categories\", \n",
    "                       yaxis_title=\"Days between Orders\"\n",
    "                      )\n",
    "\n",
    "hist_fig.show(config={'displaylogo': False})"
   ]
  },
  {
   "cell_type": "markdown",
   "id": "7fed32d2",
   "metadata": {},
   "source": [
    "### 1.3. Определение целевой переменной"
   ]
  },
  {
   "cell_type": "markdown",
   "id": "31cef8d8",
   "metadata": {},
   "source": [
    "#### 1.3.1. Кодирование признака категории"
   ]
  },
  {
   "cell_type": "code",
   "execution_count": 45,
   "id": "bae33680",
   "metadata": {},
   "outputs": [],
   "source": [
    "label_encoder = LabelEncoder()\n",
    "mapped_category = pd.Series(label_encoder.fit_transform(data_order_cat['category']))\n",
    "# print(dict(enumerate(label_encoder.classes_)))"
   ]
  },
  {
   "cell_type": "code",
   "execution_count": 46,
   "id": "286f1b45",
   "metadata": {},
   "outputs": [
    {
     "data": {
      "text/html": [
       "<div>\n",
       "<style scoped>\n",
       "    .dataframe tbody tr th:only-of-type {\n",
       "        vertical-align: middle;\n",
       "    }\n",
       "\n",
       "    .dataframe tbody tr th {\n",
       "        vertical-align: top;\n",
       "    }\n",
       "\n",
       "    .dataframe thead tr th {\n",
       "        text-align: left;\n",
       "    }\n",
       "</style>\n",
       "<table border=\"1\" class=\"dataframe\">\n",
       "  <thead>\n",
       "    <tr>\n",
       "      <th></th>\n",
       "      <th>order_date</th>\n",
       "      <th>category</th>\n",
       "      <th>ordered</th>\n",
       "      <th>leadtime</th>\n",
       "    </tr>\n",
       "    <tr>\n",
       "      <th></th>\n",
       "      <th></th>\n",
       "      <th></th>\n",
       "      <th>sum</th>\n",
       "      <th>mean</th>\n",
       "    </tr>\n",
       "  </thead>\n",
       "  <tbody>\n",
       "    <tr>\n",
       "      <th>101</th>\n",
       "      <td>2020-02-10</td>\n",
       "      <td>11</td>\n",
       "      <td>2280.0</td>\n",
       "      <td>7.000000</td>\n",
       "    </tr>\n",
       "    <tr>\n",
       "      <th>1091</th>\n",
       "      <td>2021-05-17</td>\n",
       "      <td>12</td>\n",
       "      <td>29466.0</td>\n",
       "      <td>22.666667</td>\n",
       "    </tr>\n",
       "    <tr>\n",
       "      <th>903</th>\n",
       "      <td>2021-02-25</td>\n",
       "      <td>22</td>\n",
       "      <td>14400.0</td>\n",
       "      <td>11.000000</td>\n",
       "    </tr>\n",
       "    <tr>\n",
       "      <th>1235</th>\n",
       "      <td>2021-07-06</td>\n",
       "      <td>20</td>\n",
       "      <td>2925.0</td>\n",
       "      <td>50.000000</td>\n",
       "    </tr>\n",
       "    <tr>\n",
       "      <th>1757</th>\n",
       "      <td>2022-01-14</td>\n",
       "      <td>10</td>\n",
       "      <td>15480.0</td>\n",
       "      <td>28.000000</td>\n",
       "    </tr>\n",
       "  </tbody>\n",
       "</table>\n",
       "</div>"
      ],
      "text/plain": [
       "     order_date category  ordered   leadtime\n",
       "                              sum       mean\n",
       "101  2020-02-10       11   2280.0   7.000000\n",
       "1091 2021-05-17       12  29466.0  22.666667\n",
       "903  2021-02-25       22  14400.0  11.000000\n",
       "1235 2021-07-06       20   2925.0  50.000000\n",
       "1757 2022-01-14       10  15480.0  28.000000"
      ]
     },
     "execution_count": 46,
     "metadata": {},
     "output_type": "execute_result"
    }
   ],
   "source": [
    "data_order_cat['category'] = label_encoder.fit_transform(data_order_cat['category'])\n",
    "data_order_cat.sample(5)"
   ]
  },
  {
   "cell_type": "markdown",
   "id": "78162ddd",
   "metadata": {},
   "source": [
    "#### 1.3.2. Создание признака недели "
   ]
  },
  {
   "cell_type": "code",
   "execution_count": 47,
   "id": "7569ab55",
   "metadata": {},
   "outputs": [],
   "source": [
    "data_order_cat['week'] = data_order_cat.order_date.dt.to_period('W')"
   ]
  },
  {
   "cell_type": "code",
   "execution_count": 48,
   "id": "15cc455f",
   "metadata": {},
   "outputs": [],
   "source": [
    "label_encoder = LabelEncoder()\n",
    "mapped_week = pd.Series(label_encoder.fit_transform(data_order_cat['week']))\n",
    "# print(dict(enumerate(label_encoder.classes_)))"
   ]
  },
  {
   "cell_type": "code",
   "execution_count": 49,
   "id": "415bd22f",
   "metadata": {},
   "outputs": [],
   "source": [
    "data_order_cat['week'] = label_encoder.fit_transform(data_order_cat['week'])"
   ]
  },
  {
   "cell_type": "markdown",
   "id": "466aeb26",
   "metadata": {},
   "source": [
    "7 - это количество контрольных дней, когда будем проверять, был ли заказ"
   ]
  },
  {
   "cell_type": "code",
   "execution_count": 58,
   "id": "8f9cc1e6",
   "metadata": {},
   "outputs": [],
   "source": [
    "# train_1 = data_order_cat[data_order_cat.week <= 26]\n",
    "# val_1 = data_order_cat[(data_order_cat.week > 26)&(data_order_cat.week <= 33)]\n",
    "control_length = 7 "
   ]
  },
  {
   "cell_type": "markdown",
   "id": "93af4654",
   "metadata": {},
   "source": [
    "### 1.4. Preparing Features Set "
   ]
  },
  {
   "cell_type": "code",
   "execution_count": 69,
   "id": "328efa01",
   "metadata": {},
   "outputs": [],
   "source": [
    "feature_list = ['recency', 'interval', 'median_recent', 'remain', 'compare',\n",
    "       'frequency', 'last_volume', 'volume', 'increase_volume',\n",
    "       'last_leadtime', 'leadtime', 'leadtime_diff', 'leadtime_inc']"
   ]
  },
  {
   "cell_type": "code",
   "execution_count": 64,
   "id": "793850b0",
   "metadata": {},
   "outputs": [],
   "source": [
    "# Пример применения функции приготовления признаков для обучения\n",
    "train_1 = data_order_cat[data_order_cat.week <= 35]\n",
    "val_1 = data_order_cat[(data_order_cat.week > 35)&(data_order_cat.week <= 42)]\n",
    "X_train = prepare_x(train_1)\n",
    "y_train = prepare_target(train_1)"
   ]
  },
  {
   "cell_type": "code",
   "execution_count": 65,
   "id": "df9dc7d2",
   "metadata": {},
   "outputs": [],
   "source": [
    "test = y_train.reset_index()"
   ]
  },
  {
   "cell_type": "code",
   "execution_count": 66,
   "id": "fa3f5027",
   "metadata": {},
   "outputs": [
    {
     "data": {
      "image/png": "[encoded data removed]",
      "text/plain": [
       "<Figure size 432x288 with 1 Axes>"
      ]
     },
     "metadata": {
      "needs_background": "light"
     },
     "output_type": "display_data"
    },
    {
     "name": "stdout",
     "output_type": "stream",
     "text": [
      "Во сколько раз положительные значения целевой переменной меньше отрицательных: в 3.0 раз\n"
     ]
    }
   ],
   "source": [
    "plt.figure()\n",
    "sns.histplot(test['target'], kde = False, bins=2)\n",
    "plt.title('target')\n",
    "plt.show()\n",
    "\n",
    "times = len(test[test.target == 0])/len(test[test.target == 1])\n",
    "print(f'Во сколько раз положительные значения целевой переменной меньше отрицательных: в {times} раз')"
   ]
  },
  {
   "cell_type": "code",
   "execution_count": 67,
   "id": "ca7bfa87",
   "metadata": {},
   "outputs": [
    {
     "data": {
      "text/html": [
       "<div>\n",
       "<style scoped>\n",
       "    .dataframe tbody tr th:only-of-type {\n",
       "        vertical-align: middle;\n",
       "    }\n",
       "\n",
       "    .dataframe tbody tr th {\n",
       "        vertical-align: top;\n",
       "    }\n",
       "\n",
       "    .dataframe thead th {\n",
       "        text-align: right;\n",
       "    }\n",
       "</style>\n",
       "<table border=\"1\" class=\"dataframe\">\n",
       "  <thead>\n",
       "    <tr style=\"text-align: right;\">\n",
       "      <th></th>\n",
       "      <th>category</th>\n",
       "      <th>last_order</th>\n",
       "      <th>recency</th>\n",
       "      <th>interval</th>\n",
       "      <th>median_recent</th>\n",
       "      <th>remain</th>\n",
       "      <th>compare</th>\n",
       "      <th>frequency</th>\n",
       "      <th>last_volume</th>\n",
       "      <th>volume</th>\n",
       "      <th>increase_volume</th>\n",
       "      <th>last_leadtime</th>\n",
       "      <th>leadtime</th>\n",
       "      <th>leadtime_diff</th>\n",
       "      <th>leadtime_inc</th>\n",
       "    </tr>\n",
       "  </thead>\n",
       "  <tbody>\n",
       "    <tr>\n",
       "      <th>0</th>\n",
       "      <td>0</td>\n",
       "      <td>2020-03-25</td>\n",
       "      <td>156.0</td>\n",
       "      <td>245.0</td>\n",
       "      <td>89.0</td>\n",
       "      <td>82.0</td>\n",
       "      <td>0</td>\n",
       "      <td>1</td>\n",
       "      <td>3900.0</td>\n",
       "      <td>3900.0</td>\n",
       "      <td>1.000000</td>\n",
       "      <td>29.0</td>\n",
       "      <td>29.000</td>\n",
       "      <td>0.000</td>\n",
       "      <td>0</td>\n",
       "    </tr>\n",
       "    <tr>\n",
       "      <th>1</th>\n",
       "      <td>1</td>\n",
       "      <td>2020-03-12</td>\n",
       "      <td>169.0</td>\n",
       "      <td>245.0</td>\n",
       "      <td>76.0</td>\n",
       "      <td>69.0</td>\n",
       "      <td>0</td>\n",
       "      <td>1</td>\n",
       "      <td>1920.0</td>\n",
       "      <td>1920.0</td>\n",
       "      <td>1.000000</td>\n",
       "      <td>7.0</td>\n",
       "      <td>7.000</td>\n",
       "      <td>0.000</td>\n",
       "      <td>0</td>\n",
       "    </tr>\n",
       "    <tr>\n",
       "      <th>2</th>\n",
       "      <td>2</td>\n",
       "      <td>2020-07-30</td>\n",
       "      <td>29.0</td>\n",
       "      <td>43.0</td>\n",
       "      <td>14.0</td>\n",
       "      <td>7.0</td>\n",
       "      <td>0</td>\n",
       "      <td>4</td>\n",
       "      <td>5496.0</td>\n",
       "      <td>10924.0</td>\n",
       "      <td>0.503112</td>\n",
       "      <td>19.0</td>\n",
       "      <td>17.625</td>\n",
       "      <td>1.375</td>\n",
       "      <td>1</td>\n",
       "    </tr>\n",
       "    <tr>\n",
       "      <th>3</th>\n",
       "      <td>4</td>\n",
       "      <td>2020-05-07</td>\n",
       "      <td>113.0</td>\n",
       "      <td>120.0</td>\n",
       "      <td>7.0</td>\n",
       "      <td>0.0</td>\n",
       "      <td>1</td>\n",
       "      <td>2</td>\n",
       "      <td>6000.0</td>\n",
       "      <td>10000.0</td>\n",
       "      <td>0.600000</td>\n",
       "      <td>12.0</td>\n",
       "      <td>9.500</td>\n",
       "      <td>2.500</td>\n",
       "      <td>1</td>\n",
       "    </tr>\n",
       "    <tr>\n",
       "      <th>4</th>\n",
       "      <td>5</td>\n",
       "      <td>2020-08-27</td>\n",
       "      <td>1.0</td>\n",
       "      <td>15.0</td>\n",
       "      <td>14.0</td>\n",
       "      <td>7.0</td>\n",
       "      <td>0</td>\n",
       "      <td>7</td>\n",
       "      <td>999.0</td>\n",
       "      <td>7992.0</td>\n",
       "      <td>0.125000</td>\n",
       "      <td>6.0</td>\n",
       "      <td>13.000</td>\n",
       "      <td>-7.000</td>\n",
       "      <td>0</td>\n",
       "    </tr>\n",
       "  </tbody>\n",
       "</table>\n",
       "</div>"
      ],
      "text/plain": [
       "   category last_order  recency  interval  median_recent  remain  compare  \\\n",
       "0         0 2020-03-25    156.0     245.0           89.0    82.0        0   \n",
       "1         1 2020-03-12    169.0     245.0           76.0    69.0        0   \n",
       "2         2 2020-07-30     29.0      43.0           14.0     7.0        0   \n",
       "3         4 2020-05-07    113.0     120.0            7.0     0.0        1   \n",
       "4         5 2020-08-27      1.0      15.0           14.0     7.0        0   \n",
       "\n",
       "   frequency  last_volume   volume  increase_volume  last_leadtime  leadtime  \\\n",
       "0          1       3900.0   3900.0         1.000000           29.0    29.000   \n",
       "1          1       1920.0   1920.0         1.000000            7.0     7.000   \n",
       "2          4       5496.0  10924.0         0.503112           19.0    17.625   \n",
       "3          2       6000.0  10000.0         0.600000           12.0     9.500   \n",
       "4          7        999.0   7992.0         0.125000            6.0    13.000   \n",
       "\n",
       "   leadtime_diff  leadtime_inc  \n",
       "0          0.000             0  \n",
       "1          0.000             0  \n",
       "2          1.375             1  \n",
       "3          2.500             1  \n",
       "4         -7.000             0  "
      ]
     },
     "execution_count": 67,
     "metadata": {},
     "output_type": "execute_result"
    }
   ],
   "source": [
    "X_train.head()"
   ]
  },
  {
   "cell_type": "markdown",
   "id": "fef04175",
   "metadata": {},
   "source": [
    "#### Selecting Features"
   ]
  },
  {
   "cell_type": "code",
   "execution_count": 68,
   "id": "14bdb070",
   "metadata": {},
   "outputs": [
    {
     "data": {
      "text/plain": [
       "Index(['category', 'last_order', 'recency', 'interval', 'median_recent',\n",
       "       'remain', 'compare', 'frequency', 'last_volume', 'volume',\n",
       "       'increase_volume', 'last_leadtime', 'leadtime', 'leadtime_diff',\n",
       "       'leadtime_inc'],\n",
       "      dtype='object')"
      ]
     },
     "execution_count": 68,
     "metadata": {},
     "output_type": "execute_result"
    }
   ],
   "source": [
    "X_train.columns"
   ]
  },
  {
   "cell_type": "code",
   "execution_count": 69,
   "id": "66402ee7",
   "metadata": {},
   "outputs": [],
   "source": [
    "feature_list = ['recency', 'interval', 'median_recent', 'remain', 'compare',\n",
    "       'frequency', 'last_volume', 'volume', 'increase_volume',\n",
    "       'last_leadtime', 'leadtime', 'leadtime_diff', 'leadtime_inc']"
   ]
  },
  {
   "cell_type": "code",
   "execution_count": 70,
   "id": "38782222",
   "metadata": {},
   "outputs": [],
   "source": [
    "X_train = X_train[feature_list]"
   ]
  },
  {
   "cell_type": "code",
   "execution_count": 71,
   "id": "db8c0bd8",
   "metadata": {},
   "outputs": [],
   "source": [
    "# train_features"
   ]
  },
  {
   "cell_type": "code",
   "execution_count": 72,
   "id": "137a9e60",
   "metadata": {},
   "outputs": [
    {
     "data": {
      "text/plain": [
       "<AxesSubplot:>"
      ]
     },
     "execution_count": 72,
     "metadata": {},
     "output_type": "execute_result"
    },
    {
     "data": {
      "image/png": "[encoded data removed]",
      "text/plain": [
       "<Figure size 432x288 with 1 Axes>"
      ]
     },
     "metadata": {
      "needs_background": "light"
     },
     "output_type": "display_data"
    }
   ],
   "source": [
    "imp_cat = Series(mutual_info_classif(X_train, y_train),\n",
    "                 index = X_train.columns)\n",
    "imp_cat.sort_values(inplace = True)\n",
    "imp_cat.plot(kind = 'barh')"
   ]
  },
  {
   "cell_type": "markdown",
   "id": "f608d67d",
   "metadata": {},
   "source": [
    "## Training "
   ]
  },
  {
   "cell_type": "markdown",
   "id": "df098181",
   "metadata": {},
   "source": [
    "Важным элементом решения задачи является разбитие данных. \n",
    "\n",
    "Данные разбиваются последовательно на обучающую и валидационные выборки. Но здесь еще стоит обратить внимание, что мы ищем категории, которые будут покупаться в следующую неделю за обучающей и соответственно валидационной выборкой. Для категорий, которые семья покупала, присвоим значение 1, если нет, то 0.\n",
    "\n",
    "Поскольку мы имеем дело с меняющимся таймфремом, эту процедуру применим для нескольких выборок. А обучение будет проходить внутри цикла. Посчитаем среднее."
   ]
  },
  {
   "attachments": {
    "TimeSplit.png": {
     "image/png": "[encoded data removed]"
    }
   },
   "cell_type": "markdown",
   "id": "d1cc0071",
   "metadata": {},
   "source": [
    "![TimeSplit.png](attachment:TimeSplit.png)"
   ]
  },
  {
   "cell_type": "code",
   "execution_count": 73,
   "id": "2e51c367",
   "metadata": {},
   "outputs": [],
   "source": [
    "# Данные разобъем вручную:\n",
    "train_1 = data_order_cat[data_order_cat.week <= 35]\n",
    "val_1 = data_order_cat[(data_order_cat.week > 35)&(data_order_cat.week <= 42)]\n",
    "train_2 = data_order_cat[data_order_cat.week <= 44]\n",
    "val_2 = data_order_cat[(data_order_cat.week > 44)&(data_order_cat.week <= 51)]\n",
    "train_3 = data_order_cat[data_order_cat.week <= 53]\n",
    "val_3 = data_order_cat[(data_order_cat.week > 53)&(data_order_cat.week <= 60)]\n",
    "train_4 = data_order_cat[data_order_cat.week <= 77]\n",
    "val_4 = data_order_cat[(data_order_cat.week > 77)&(data_order_cat.week <= 84)]\n",
    "train_5 = data_order_cat[data_order_cat.week <= 86]\n",
    "val_5 = data_order_cat[(data_order_cat.week > 86)&(data_order_cat.week <= 93)]\n",
    "train_6 = data_order_cat[data_order_cat.week <= 104]\n",
    "val_6 = data_order_cat[(data_order_cat.week > 104)&(data_order_cat.week <= 111)]"
   ]
  },
  {
   "cell_type": "code",
   "execution_count": 77,
   "id": "ca6f8320",
   "metadata": {},
   "outputs": [
    {
     "name": "stdout",
     "output_type": "stream",
     "text": [
      "<class 'pandas.core.frame.DataFrame'>\n",
      "Int64Index: 1821 entries, 0 to 1835\n",
      "Data columns (total 5 columns):\n",
      " #   Column            Non-Null Count  Dtype         \n",
      "---  ------            --------------  -----         \n",
      " 0   (order_date, )    1821 non-null   datetime64[ns]\n",
      " 1   (category, )      1821 non-null   int64         \n",
      " 2   (ordered, sum)    1821 non-null   float64       \n",
      " 3   (leadtime, mean)  1821 non-null   float64       \n",
      " 4   (week, )          1821 non-null   int64         \n",
      "dtypes: datetime64[ns](1), float64(2), int64(2)\n",
      "memory usage: 85.4 KB\n"
     ]
    }
   ],
   "source": [
    "data_order_cat.info()"
   ]
  },
  {
   "cell_type": "markdown",
   "id": "62fe32a6",
   "metadata": {},
   "source": [
    "###  Тестируем различные модели"
   ]
  },
  {
   "cell_type": "markdown",
   "id": "0bc2791b",
   "metadata": {},
   "source": [
    "**Логистическая регрессия**"
   ]
  },
  {
   "cell_type": "code",
   "execution_count": 82,
   "id": "8907936b",
   "metadata": {},
   "outputs": [],
   "source": [
    "feature_list = ['recency', 'interval', 'median_recent', 'remain', 'compare','last_volume', \n",
    "                'increase_volume', 'last_leadtime', 'leadtime', 'leadtime_inc']"
   ]
  },
  {
   "cell_type": "code",
   "execution_count": 83,
   "id": "02623511",
   "metadata": {},
   "outputs": [
    {
     "name": "stdout",
     "output_type": "stream",
     "text": [
      "0.692\n"
     ]
    }
   ],
   "source": [
    "log_reg_score = []\n",
    "for i in range (1,7):\n",
    "    globals()[f\"X_train_{i}\"] = prepare_x(globals()[f\"train_{i}\"])\n",
    "    globals()[f\"X_val_{i}\"] = prepare_x(globals()[f\"val_{i}\"])\n",
    "    X_train = prepare_x(globals()[f\"train_{i}\"])\n",
    "    X_train = X_train[feature_list]\n",
    "    y_train = prepare_target(globals()[f\"train_{i}\"])\n",
    "    \n",
    "    ros = RandomOverSampler(sampling_strategy=0.92, random_state=42)\n",
    "    X_train, y_train = ros.fit_resample(X_train, y_train)\n",
    "    \n",
    "    X_val = prepare_x(globals()[f\"val_{i}\"])\n",
    "    X_val = X_val[feature_list]\n",
    "    y_val = prepare_target(globals()[f\"val_{i}\"])\n",
    "\n",
    "    scaler = StandardScaler()\n",
    "    X_train = scaler.fit_transform(X_train) \n",
    "    X_val = scaler.transform(X_val)\n",
    "    \n",
    "    log_reg = LogisticRegression(C=0.000001,\n",
    "                                 random_state = 42,\n",
    "                                 penalty='l2',\n",
    "                                 max_iter=80, \n",
    "                                 class_weight='balanced',\n",
    "                                 solver='liblinear' \n",
    "                                )\n",
    "    log_reg.fit(X_train, y_train)\n",
    "    y_pred_val = log_reg.predict(X_val)\n",
    "    f1 = f1_score(y_val, y_pred_val)\n",
    "    log_reg_score.append(f1)\n",
    "    \n",
    "log_reg_f1 = round(np.mean(log_reg_score),3)\n",
    "print(log_reg_f1)"
   ]
  },
  {
   "cell_type": "markdown",
   "id": "a8c71ec9",
   "metadata": {},
   "source": [
    "**Bagging**"
   ]
  },
  {
   "cell_type": "code",
   "execution_count": 84,
   "id": "9fa47698",
   "metadata": {},
   "outputs": [],
   "source": [
    "feature_list = ['recency','interval','median_recent', 'remain', 'compare', 'increase_volume', 'last_leadtime', ]"
   ]
  },
  {
   "cell_type": "code",
   "execution_count": 85,
   "id": "45d5fc7e",
   "metadata": {},
   "outputs": [],
   "source": [
    "# X_train.info()"
   ]
  },
  {
   "cell_type": "code",
   "execution_count": 86,
   "id": "54a15c0d",
   "metadata": {},
   "outputs": [
    {
     "name": "stdout",
     "output_type": "stream",
     "text": [
      "0.67\n"
     ]
    }
   ],
   "source": [
    "# feature_list = ['recency','interval','median_recent', 'remain', 'compare', 'increase_volume', 'last_leadtime', ]\n",
    "\n",
    "bagging_score = []\n",
    "for i in range (1,7):\n",
    "    globals()[f\"X_train_{i}\"] = prepare_x(globals()[f\"train_{i}\"])\n",
    "    globals()[f\"X_val_{i}\"] = prepare_x(globals()[f\"val_{i}\"])\n",
    "    X_train = prepare_x(globals()[f\"train_{i}\"])\n",
    "    y_train = prepare_target(globals()[f\"train_{i}\"])\n",
    "    \n",
    "    X_val = prepare_x(globals()[f\"val_{i}\"])\n",
    "    y_val = prepare_target(globals()[f\"val_{i}\"])\n",
    "\n",
    "    # Стандартизируем числовые переменные, записываем в матрицу X\n",
    "    scaler = StandardScaler()\n",
    "    X_train = scaler.fit_transform(X_train) \n",
    "    X_val = scaler.transform(X_val)\n",
    "    \n",
    "    clf = LogisticRegression(C=0.001,random_state = 42,\n",
    "                                 penalty='l2',\n",
    "                                 max_iter=70, \n",
    "                                 class_weight='balanced',\n",
    "                                 solver='liblinear')\n",
    "\n",
    "    bagging = BaggingClassifier(clf, n_estimators=74, random_state=42, n_jobs=-1, oob_score=True)\n",
    "    \n",
    "    \n",
    "    bagging.fit(X_train, y_train)\n",
    "    # Предсказываем на валидационной выборке\n",
    "    y_pred_val = bagging.predict(X_val)\n",
    "    f1 = f1_score(y_val, y_pred_val)\n",
    "    bagging_score.append(f1)\n",
    "    \n",
    "bagging_f1 = round(np.mean(bagging_score),3)\n",
    "print(bagging_f1)"
   ]
  },
  {
   "cell_type": "markdown",
   "id": "a5f860b5",
   "metadata": {},
   "source": [
    "**XGB классификатор**"
   ]
  },
  {
   "cell_type": "code",
   "execution_count": 87,
   "id": "ef54860d",
   "metadata": {},
   "outputs": [],
   "source": [
    "feature_list = ['recency', 'interval', 'median_recent', 'remain', 'compare','frequency', \n",
    "                'last_volume', 'increase_volume','last_leadtime', 'leadtime','leadtime_diff', 'leadtime_inc']"
   ]
  },
  {
   "cell_type": "code",
   "execution_count": 88,
   "id": "07f3e9db",
   "metadata": {},
   "outputs": [
    {
     "name": "stdout",
     "output_type": "stream",
     "text": [
      "0.674\n"
     ]
    }
   ],
   "source": [
    "xgb_score = []\n",
    "for i in range (1,7):\n",
    "    globals()[f\"X_train_{i}\"] = prepare_x(globals()[f\"train_{i}\"])\n",
    "    globals()[f\"X_val_{i}\"] = prepare_x(globals()[f\"val_{i}\"])\n",
    "    X_train = prepare_x(globals()[f\"train_{i}\"])\n",
    "    y_train = prepare_target(globals()[f\"train_{i}\"])\n",
    "    \n",
    "    ros = RandomOverSampler(sampling_strategy=0.92, random_state=42)\n",
    "    X_train, y_train = ros.fit_resample(X_train, y_train)\n",
    "    \n",
    "    X_val = prepare_x(globals()[f\"val_{i}\"])\n",
    "    y_val = prepare_target(globals()[f\"val_{i}\"])\n",
    "\n",
    "    # Стандартизируем числовые переменные, записываем в матрицу X\n",
    "    scaler = StandardScaler()\n",
    "    X_train = scaler.fit_transform(X_train) \n",
    "    X_val = scaler.transform(X_val)\n",
    "    \n",
    "    xgb = XGBClassifier(objective ='reg:squarederror',\n",
    "                        random_state = 42,\n",
    "                        colsample_bytree = 0.02, \n",
    "                        learning_rate = 0.00015, \n",
    "                        use_label_encoder=False, \n",
    "                        scale_pos_weight=2,\n",
    "                        max_depth = 6, \n",
    "                        alpha = 1, \n",
    "                        n_estimators = 80, \n",
    "                        eval_metric='mlogloss')\n",
    "                                         \n",
    "    xgb.fit(X_train, y_train)\n",
    "    # Предсказываем на валидационной выборке\n",
    "    y_pred_val = xgb.predict(X_val)\n",
    "    f1 = f1_score(y_val, y_pred_val)\n",
    "    xgb_score.append(f1)\n",
    "    \n",
    "xgb_f1 = round(np.mean(xgb_score),3)\n",
    "print(xgb_f1)"
   ]
  },
  {
   "cell_type": "markdown",
   "id": "4e219f37",
   "metadata": {},
   "source": [
    "**CatBoost классификатор**"
   ]
  },
  {
   "cell_type": "code",
   "execution_count": 89,
   "id": "042576e2",
   "metadata": {},
   "outputs": [],
   "source": [
    "feature_list = ['recency', 'interval', 'median_recent', 'remain', 'compare','last_leadtime',]"
   ]
  },
  {
   "cell_type": "code",
   "execution_count": 90,
   "id": "6359fea4",
   "metadata": {},
   "outputs": [
    {
     "name": "stdout",
     "output_type": "stream",
     "text": [
      "0.651\n"
     ]
    }
   ],
   "source": [
    "cat_boost_score = []\n",
    "for i in range (1,7):\n",
    "    globals()[f\"X_train_{i}\"] = prepare_x(globals()[f\"train_{i}\"])\n",
    "    globals()[f\"X_val_{i}\"] = prepare_x(globals()[f\"val_{i}\"])\n",
    "    X_train = prepare_x(globals()[f\"train_{i}\"])\n",
    "    y_train = prepare_target(globals()[f\"train_{i}\"])\n",
    "    \n",
    "    X_val = prepare_x(globals()[f\"val_{i}\"])\n",
    "    y_val = prepare_target(globals()[f\"val_{i}\"])\n",
    "\n",
    "    # Стандартизируем числовые переменные, записываем в матрицу X\n",
    "    scaler = StandardScaler()\n",
    "    X_train = scaler.fit_transform(X_train) \n",
    "    X_val = scaler.transform(X_val)\n",
    "    \n",
    "    cat_boost = CatBoostClassifier(verbose=False,\n",
    "                                   n_estimators = 600,\n",
    "                                   l2_leaf_reg= 2,\n",
    "                                   min_data_in_leaf = 2,\n",
    "                                   depth=8,\n",
    "                                   learning_rate = 0.4,\n",
    "                                   random_seed = 42, )\n",
    "    \n",
    "    cat_boost.fit(X_train, y_train)\n",
    "    # Предсказываем на валидационной выборке\n",
    "    y_pred_val = cat_boost.predict(X_val)\n",
    "    f1 = f1_score(y_val, y_pred_val)\n",
    "    cat_boost_score.append(f1)\n",
    "    \n",
    "cat_boost_f1 = round(np.mean(cat_boost_score),3)\n",
    "print(cat_boost_f1)"
   ]
  },
  {
   "cell_type": "markdown",
   "id": "a9288b5b",
   "metadata": {},
   "source": [
    "**ExtraTree классификатор**"
   ]
  },
  {
   "cell_type": "code",
   "execution_count": 91,
   "id": "31a593c0",
   "metadata": {},
   "outputs": [],
   "source": [
    "feature_list = ['recency', 'remain', 'compare', 'last_volume', 'last_leadtime', \n",
    "                'leadtime_diff', 'leadtime_inc']"
   ]
  },
  {
   "cell_type": "code",
   "execution_count": 92,
   "id": "1b681cd7",
   "metadata": {},
   "outputs": [
    {
     "name": "stdout",
     "output_type": "stream",
     "text": [
      "0.702\n"
     ]
    }
   ],
   "source": [
    "x_tree_score = []\n",
    "for i in range (1,7):\n",
    "    globals()[f\"X_train_{i}\"] = prepare_x(globals()[f\"train_{i}\"])\n",
    "    globals()[f\"X_val_{i}\"] = prepare_x(globals()[f\"val_{i}\"])\n",
    "    X_train = prepare_x(globals()[f\"train_{i}\"])\n",
    "    y_train = prepare_target(globals()[f\"train_{i}\"])\n",
    "    \n",
    "    X_val = prepare_x(globals()[f\"val_{i}\"])\n",
    "    y_val = prepare_target(globals()[f\"val_{i}\"])\n",
    "\n",
    "    # Стандартизируем числовые переменные, записываем в матрицу X\n",
    "    scaler = StandardScaler()\n",
    "    X_train = scaler.fit_transform(X_train) \n",
    "    X_val = scaler.transform(X_val)\n",
    "    \n",
    "    \n",
    "    x_tree = ExtraTreesClassifier(random_state=42, \n",
    "                                 max_depth=8,\n",
    "                                 n_estimators = 120,\n",
    "                                 class_weight='balanced_subsample',\n",
    "                                 min_samples_split = 7,\n",
    "                                 max_features='auto' )\n",
    "    \n",
    "    x_tree.fit(X_train, y_train)\n",
    "    # Предсказываем на валидационной выборке\n",
    "    y_pred_val = x_tree.predict(X_val)\n",
    "    f1 = f1_score(y_val, y_pred_val)\n",
    "    x_tree_score.append(f1)\n",
    "    \n",
    "x_tree_f1 = round(np.mean(x_tree_score),3)\n",
    "print(x_tree_f1)"
   ]
  },
  {
   "cell_type": "markdown",
   "id": "6bda9397",
   "metadata": {},
   "source": [
    "**Random Forest классификатор**"
   ]
  },
  {
   "cell_type": "code",
   "execution_count": 93,
   "id": "3d25d86f",
   "metadata": {},
   "outputs": [],
   "source": [
    "feature_list = ['recency', 'interval', 'median_recent','remain', 'compare','last_volume', \n",
    "                'increase_volume','last_leadtime','leadtime', 'leadtime_diff', 'leadtime_inc']"
   ]
  },
  {
   "cell_type": "code",
   "execution_count": 94,
   "id": "4110e29b",
   "metadata": {},
   "outputs": [
    {
     "name": "stdout",
     "output_type": "stream",
     "text": [
      "0.61\n"
     ]
    }
   ],
   "source": [
    "forest_score = []\n",
    "for i in range (1,7):\n",
    "    globals()[f\"X_train_{i}\"] = prepare_x(globals()[f\"train_{i}\"])\n",
    "    globals()[f\"X_val_{i}\"] = prepare_x(globals()[f\"val_{i}\"])\n",
    "    X_train = prepare_x(globals()[f\"train_{i}\"])\n",
    "    y_train = prepare_target(globals()[f\"train_{i}\"])\n",
    "    \n",
    "    ros = RandomOverSampler(sampling_strategy=0.92, random_state=42)\n",
    "    X_train, y_train = ros.fit_resample(X_train, y_train)\n",
    "    \n",
    "    X_val = prepare_x(globals()[f\"val_{i}\"])\n",
    "    y_val = prepare_target(globals()[f\"val_{i}\"])\n",
    "\n",
    "    # Стандартизируем числовые переменные, записываем в матрицу X\n",
    "    scaler = StandardScaler()\n",
    "    X_train = scaler.fit_transform(X_train) \n",
    "    X_val = scaler.transform(X_val)\n",
    "    \n",
    "    forest = RandomForestClassifier(n_estimators=1000,\n",
    "                                    random_state = 42,\n",
    "                                    n_jobs=-1,\n",
    "                                    max_features=9,\n",
    "                                    max_depth=7,\n",
    "                                    class_weight='balanced_subsample',\n",
    "                                    ccp_alpha=0.06)\n",
    "    \n",
    "    forest.fit(X_train, y_train)\n",
    "    # Предсказываем на валидационной выборке\n",
    "    y_pred_val = forest.predict(X_val)\n",
    "    f1 = f1_score(y_val, y_pred_val)\n",
    "    forest_score.append(f1)\n",
    "    \n",
    "random_forest_f1 = round(np.mean(forest_score),3)\n",
    "print(random_forest_f1)"
   ]
  },
  {
   "cell_type": "markdown",
   "id": "1a01902e",
   "metadata": {},
   "source": [
    "###  Итоги"
   ]
  },
  {
   "cell_type": "code",
   "execution_count": 95,
   "id": "d4eb99b9",
   "metadata": {},
   "outputs": [
    {
     "data": {
      "text/html": [
       "<div>\n",
       "<style scoped>\n",
       "    .dataframe tbody tr th:only-of-type {\n",
       "        vertical-align: middle;\n",
       "    }\n",
       "\n",
       "    .dataframe tbody tr th {\n",
       "        vertical-align: top;\n",
       "    }\n",
       "\n",
       "    .dataframe thead th {\n",
       "        text-align: right;\n",
       "    }\n",
       "</style>\n",
       "<table border=\"1\" class=\"dataframe\">\n",
       "  <thead>\n",
       "    <tr style=\"text-align: right;\">\n",
       "      <th></th>\n",
       "      <th>models</th>\n",
       "      <th>evaluation</th>\n",
       "    </tr>\n",
       "  </thead>\n",
       "  <tbody>\n",
       "    <tr>\n",
       "      <th>0</th>\n",
       "      <td>log_reg</td>\n",
       "      <td>0.692</td>\n",
       "    </tr>\n",
       "    <tr>\n",
       "      <th>1</th>\n",
       "      <td>bagging</td>\n",
       "      <td>0.670</td>\n",
       "    </tr>\n",
       "    <tr>\n",
       "      <th>2</th>\n",
       "      <td>xgb</td>\n",
       "      <td>0.674</td>\n",
       "    </tr>\n",
       "    <tr>\n",
       "      <th>3</th>\n",
       "      <td>cat_boost</td>\n",
       "      <td>0.651</td>\n",
       "    </tr>\n",
       "    <tr>\n",
       "      <th>4</th>\n",
       "      <td>x_tree</td>\n",
       "      <td>0.702</td>\n",
       "    </tr>\n",
       "    <tr>\n",
       "      <th>5</th>\n",
       "      <td>random_forest</td>\n",
       "      <td>0.610</td>\n",
       "    </tr>\n",
       "  </tbody>\n",
       "</table>\n",
       "</div>"
      ],
      "text/plain": [
       "          models  evaluation\n",
       "0        log_reg       0.692\n",
       "1        bagging       0.670\n",
       "2            xgb       0.674\n",
       "3      cat_boost       0.651\n",
       "4         x_tree       0.702\n",
       "5  random_forest       0.610"
      ]
     },
     "execution_count": 95,
     "metadata": {},
     "output_type": "execute_result"
    }
   ],
   "source": [
    "models  = {'log_reg': log_reg_f1, 'bagging': bagging_f1, 'xgb':xgb_f1, 'cat_boost':cat_boost_f1,\n",
    "                       'x_tree': x_tree_f1, 'random_forest':random_forest_f1}\n",
    "results = pd.DataFrame(list(models.items()), columns = ['models','evaluation'])\n",
    "results"
   ]
  },
  {
   "cell_type": "code",
   "execution_count": 96,
   "id": "5685539f",
   "metadata": {},
   "outputs": [],
   "source": [
    "results = results.sort_values(['evaluation'], ascending=False)"
   ]
  },
  {
   "cell_type": "code",
   "execution_count": 97,
   "id": "50b1052c",
   "metadata": {},
   "outputs": [
    {
     "data": {
      "image/png": "[encoded data removed]",
      "text/plain": [
       "<Figure size 576x360 with 1 Axes>"
      ]
     },
     "metadata": {
      "needs_background": "light"
     },
     "output_type": "display_data"
    }
   ],
   "source": [
    "plt.figure(figsize=(8,5))\n",
    "plt.grid(True)\n",
    "plt.xticks(rotation=75)\n",
    "plt.title('Метрика F1 обученных моделей ',fontsize=14)\n",
    "bar_plot = sns.barplot(data=results, x='evaluation', y='models', capsize= 0.00001,\n",
    "                       palette='Blues_r',linewidth=1,edgecolor=\".001\")\n",
    "plt.xlabel('F1 score', fontsize=8)\n",
    "plt.ylabel('Models', fontsize=11)\n",
    "plt.show()"
   ]
  },
  {
   "cell_type": "markdown",
   "id": "b21771a0",
   "metadata": {},
   "source": [
    "Целью задачи 2 было предсказание, какие категории будут заказаны в последующую неделю\n",
    "\n",
    "Задача решалась с помощью классификации: будет ли заказанная категория в продажах на следующей неделе или нет.\n",
    "Были созданы признаки, которые могут влиять на предсказание. Эти признаки связаны с последними заказами,  регулярностью заказов, периодичностью заказов, а также сравнением объемов последних заказов с обучным.  \n",
    "Важным элементом является соответствующее разбиение на обучающую и валидационную выборк, определение целевой переменной хронологичечски. Нельзя допустить, чтобы данные признаков \"видели\", были ли заказы в коннтрольный период или нет.\n",
    "\n",
    "Для оптимизации результатов работы алгоритмов кроме настройки гиперпараметров необходимо также соответственно выбирать признаки.\n",
    "\n",
    "Наилучший резельтат получил алгортим extra tree classificator"
   ]
  },
  {
   "cell_type": "code",
   "execution_count": null,
   "id": "91bb1122",
   "metadata": {},
   "outputs": [],
   "source": []
  }
 ],
 "metadata": {
  "kernelspec": {
   "display_name": "Python 3",
   "language": "python",
   "name": "python3"
  },
  "language_info": {
   "codemirror_mode": {
    "name": "ipython",
    "version": 3
   },
   "file_extension": ".py",
   "mimetype": "text/x-python",
   "name": "python",
   "nbconvert_exporter": "python",
   "pygments_lexer": "ipython3",
   "version": "3.8.8"
  }
 },
 "nbformat": 4,
 "nbformat_minor": 5
}
