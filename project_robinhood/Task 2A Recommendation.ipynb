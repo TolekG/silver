{
 "cells": [
  {
   "cell_type": "markdown",
   "id": "29dbddca",
   "metadata": {},
   "source": [
    "# Task 2A: Recommendation What Family Family Would Buy Next"
   ]
  },
  {
   "cell_type": "markdown",
   "id": "01d0f7b5",
   "metadata": {},
   "source": [
    "# I. Imports"
   ]
  },
  {
   "cell_type": "code",
   "execution_count": 2,
   "id": "e6c0bd59",
   "metadata": {},
   "outputs": [],
   "source": [
    "import pandas as pd\n",
    "import pandas as pd\n",
    "import numpy as np\n",
    "import surprise\n",
    "import apyori\n",
    "from apyori import apriori\n",
    "from sklearn.cluster import KMeans\n",
    "import warnings\n",
    "warnings.filterwarnings(\"ignore\")"
   ]
  },
  {
   "cell_type": "code",
   "execution_count": 3,
   "id": "f70cf399",
   "metadata": {},
   "outputs": [],
   "source": [
    "# Загружаем приготовленный датасет\n",
    "df_village = pd.read_csv('village_table.csv')"
   ]
  },
  {
   "cell_type": "markdown",
   "id": "5b466702",
   "metadata": {},
   "source": [
    "# II. Transformation"
   ]
  },
  {
   "cell_type": "code",
   "execution_count": 4,
   "id": "ee4683a3",
   "metadata": {},
   "outputs": [],
   "source": [
    "data = df_village.copy()"
   ]
  },
  {
   "cell_type": "code",
   "execution_count": 5,
   "id": "00b6e524",
   "metadata": {},
   "outputs": [
    {
     "data": {
      "text/html": [
       "<div>\n",
       "<style scoped>\n",
       "    .dataframe tbody tr th:only-of-type {\n",
       "        vertical-align: middle;\n",
       "    }\n",
       "\n",
       "    .dataframe tbody tr th {\n",
       "        vertical-align: top;\n",
       "    }\n",
       "\n",
       "    .dataframe thead th {\n",
       "        text-align: right;\n",
       "    }\n",
       "</style>\n",
       "<table border=\"1\" class=\"dataframe\">\n",
       "  <thead>\n",
       "    <tr style=\"text-align: right;\">\n",
       "      <th></th>\n",
       "      <th>village</th>\n",
       "      <th>year</th>\n",
       "      <th>family</th>\n",
       "      <th>category</th>\n",
       "      <th>fruit</th>\n",
       "      <th>grade</th>\n",
       "      <th>order_date</th>\n",
       "      <th>delivery_date</th>\n",
       "      <th>ordered</th>\n",
       "      <th>shipped</th>\n",
       "      <th>leadtime</th>\n",
       "      <th>leadtime_int</th>\n",
       "      <th>order_date_int</th>\n",
       "    </tr>\n",
       "  </thead>\n",
       "  <tbody>\n",
       "    <tr>\n",
       "      <th>0</th>\n",
       "      <td>Robinhood_village</td>\n",
       "      <td>2020</td>\n",
       "      <td>family_244</td>\n",
       "      <td>category_25</td>\n",
       "      <td>fruit_37</td>\n",
       "      <td>165</td>\n",
       "      <td>2019-12-30</td>\n",
       "      <td>2020-01-03</td>\n",
       "      <td>1650.0</td>\n",
       "      <td>1663.20</td>\n",
       "      <td>4 days</td>\n",
       "      <td>4</td>\n",
       "      <td>1577664000</td>\n",
       "    </tr>\n",
       "    <tr>\n",
       "      <th>1</th>\n",
       "      <td>Robinhood_village</td>\n",
       "      <td>2020</td>\n",
       "      <td>family_127</td>\n",
       "      <td>category_14</td>\n",
       "      <td>fruit_62</td>\n",
       "      <td>250</td>\n",
       "      <td>2019-12-30</td>\n",
       "      <td>2020-01-10</td>\n",
       "      <td>1000.0</td>\n",
       "      <td>1060.00</td>\n",
       "      <td>11 days</td>\n",
       "      <td>11</td>\n",
       "      <td>1577664000</td>\n",
       "    </tr>\n",
       "    <tr>\n",
       "      <th>2</th>\n",
       "      <td>Robinhood_village</td>\n",
       "      <td>2020</td>\n",
       "      <td>family_133</td>\n",
       "      <td>category_16</td>\n",
       "      <td>fruit_48</td>\n",
       "      <td>330</td>\n",
       "      <td>2019-12-30</td>\n",
       "      <td>2020-01-08</td>\n",
       "      <td>1320.0</td>\n",
       "      <td>1336.50</td>\n",
       "      <td>9 days</td>\n",
       "      <td>9</td>\n",
       "      <td>1577664000</td>\n",
       "    </tr>\n",
       "    <tr>\n",
       "      <th>3</th>\n",
       "      <td>Robinhood_village</td>\n",
       "      <td>2020</td>\n",
       "      <td>family_133</td>\n",
       "      <td>category_25</td>\n",
       "      <td>fruit_49</td>\n",
       "      <td>250</td>\n",
       "      <td>2019-12-30</td>\n",
       "      <td>2020-01-08</td>\n",
       "      <td>2500.0</td>\n",
       "      <td>2508.75</td>\n",
       "      <td>9 days</td>\n",
       "      <td>9</td>\n",
       "      <td>1577664000</td>\n",
       "    </tr>\n",
       "    <tr>\n",
       "      <th>4</th>\n",
       "      <td>Robinhood_village</td>\n",
       "      <td>2020</td>\n",
       "      <td>family_133</td>\n",
       "      <td>category_4</td>\n",
       "      <td>fruit_52</td>\n",
       "      <td>315</td>\n",
       "      <td>2019-12-30</td>\n",
       "      <td>2020-01-08</td>\n",
       "      <td>4725.0</td>\n",
       "      <td>4759.65</td>\n",
       "      <td>9 days</td>\n",
       "      <td>9</td>\n",
       "      <td>1577664000</td>\n",
       "    </tr>\n",
       "  </tbody>\n",
       "</table>\n",
       "</div>"
      ],
      "text/plain": [
       "             village  year      family     category     fruit  grade  \\\n",
       "0  Robinhood_village  2020  family_244  category_25  fruit_37    165   \n",
       "1  Robinhood_village  2020  family_127  category_14  fruit_62    250   \n",
       "2  Robinhood_village  2020  family_133  category_16  fruit_48    330   \n",
       "3  Robinhood_village  2020  family_133  category_25  fruit_49    250   \n",
       "4  Robinhood_village  2020  family_133   category_4  fruit_52    315   \n",
       "\n",
       "   order_date delivery_date  ordered  shipped leadtime  leadtime_int  \\\n",
       "0  2019-12-30    2020-01-03   1650.0  1663.20   4 days             4   \n",
       "1  2019-12-30    2020-01-10   1000.0  1060.00  11 days            11   \n",
       "2  2019-12-30    2020-01-08   1320.0  1336.50   9 days             9   \n",
       "3  2019-12-30    2020-01-08   2500.0  2508.75   9 days             9   \n",
       "4  2019-12-30    2020-01-08   4725.0  4759.65   9 days             9   \n",
       "\n",
       "   order_date_int  \n",
       "0      1577664000  \n",
       "1      1577664000  \n",
       "2      1577664000  \n",
       "3      1577664000  \n",
       "4      1577664000  "
      ]
     },
     "execution_count": 5,
     "metadata": {},
     "output_type": "execute_result"
    }
   ],
   "source": [
    "data.head()"
   ]
  },
  {
   "cell_type": "code",
   "execution_count": 6,
   "id": "c1402126",
   "metadata": {},
   "outputs": [
    {
     "data": {
      "text/plain": [
       "'2022-02-20'"
      ]
     },
     "execution_count": 6,
     "metadata": {},
     "output_type": "execute_result"
    }
   ],
   "source": [
    "data.order_date.max()"
   ]
  },
  {
   "cell_type": "code",
   "execution_count": 7,
   "id": "d620d2a8",
   "metadata": {},
   "outputs": [],
   "source": [
    "train = data[data.order_date < '2022-02-12']\n",
    "val = data[data.order_date >= '2022-02-12']"
   ]
  },
  {
   "cell_type": "code",
   "execution_count": 8,
   "id": "3d4da0d5",
   "metadata": {},
   "outputs": [],
   "source": [
    "train = train[['family','fruit','ordered']]\n",
    "val = val[['family','fruit','ordered']]"
   ]
  },
  {
   "cell_type": "code",
   "execution_count": 9,
   "id": "cd95ad1a",
   "metadata": {},
   "outputs": [],
   "source": [
    "# Данные по заказам, которые нужно суммировать\n",
    "train = train.groupby(['family','fruit']).agg(['count'])\n",
    "train.reset_index(inplace=True)\n",
    "train.columns = train.columns.droplevel(1)\n",
    "train.columns = ['family','fruit','order_count']\n",
    "\n",
    "val = val.groupby(['family','fruit']).agg(['count'])\n",
    "val.reset_index(inplace=True)\n",
    "val.columns = val.columns.droplevel(1)\n",
    "val.columns = ['family','fruit','order_count']"
   ]
  },
  {
   "cell_type": "code",
   "execution_count": 10,
   "id": "2d70d92c",
   "metadata": {},
   "outputs": [
    {
     "name": "stdout",
     "output_type": "stream",
     "text": [
      "<class 'pandas.core.frame.DataFrame'>\n",
      "RangeIndex: 18346 entries, 0 to 18345\n",
      "Data columns (total 3 columns):\n",
      " #   Column       Non-Null Count  Dtype \n",
      "---  ------       --------------  ----- \n",
      " 0   family       18346 non-null  object\n",
      " 1   fruit        18346 non-null  object\n",
      " 2   order_count  18346 non-null  int64 \n",
      "dtypes: int64(1), object(2)\n",
      "memory usage: 430.1+ KB\n"
     ]
    }
   ],
   "source": [
    "train.info()"
   ]
  },
  {
   "cell_type": "code",
   "execution_count": 11,
   "id": "0a670cf3",
   "metadata": {},
   "outputs": [
    {
     "name": "stdout",
     "output_type": "stream",
     "text": [
      "<class 'pandas.core.frame.DataFrame'>\n",
      "RangeIndex: 644 entries, 0 to 643\n",
      "Data columns (total 3 columns):\n",
      " #   Column       Non-Null Count  Dtype \n",
      "---  ------       --------------  ----- \n",
      " 0   family       644 non-null    object\n",
      " 1   fruit        644 non-null    object\n",
      " 2   order_count  644 non-null    int64 \n",
      "dtypes: int64(1), object(2)\n",
      "memory usage: 15.2+ KB\n"
     ]
    }
   ],
   "source": [
    "val.info()"
   ]
  },
  {
   "cell_type": "code",
   "execution_count": 12,
   "id": "a2860111",
   "metadata": {},
   "outputs": [
    {
     "data": {
      "text/plain": [
       "count    18346.000000\n",
       "mean        13.240434\n",
       "std         39.971358\n",
       "min          1.000000\n",
       "25%          1.000000\n",
       "50%          4.000000\n",
       "75%         11.000000\n",
       "max       1531.000000\n",
       "Name: order_count, dtype: float64"
      ]
     },
     "execution_count": 12,
     "metadata": {},
     "output_type": "execute_result"
    }
   ],
   "source": [
    "train['order_count'].describe()"
   ]
  },
  {
   "cell_type": "code",
   "execution_count": 13,
   "id": "85bc07bb",
   "metadata": {},
   "outputs": [],
   "source": [
    "# Создаем перечень часто покупаемых фруктов семьями в обучающей выборке\n",
    "train_popular = train[train.order_count > 10].groupby('family')['fruit']\n",
    "# В виде строки разделенных пробелом фруктов\n",
    "train_pop_str = train_popular.apply(lambda r: ' '.join([str(A) for A in r]))\n",
    "# Выведем список частопокупаемых продуктов\n",
    "train_family_list = list(train_pop_str.index)\n",
    "# Таблица по семьям в виде вложенного в ячейку списка\n",
    "train_pop_list = train[train.order_count > 11].groupby('family')['fruit'].apply(list)"
   ]
  },
  {
   "cell_type": "code",
   "execution_count": 14,
   "id": "c96e42db",
   "metadata": {},
   "outputs": [
    {
     "data": {
      "text/plain": [
       "family\n",
       "family_0      [fruit_4470, fruit_4471, fruit_4472, fruit_447...\n",
       "family_1      [fruit_133, fruit_136, fruit_138, fruit_180, f...\n",
       "family_10                                 [fruit_57, fruit_883]\n",
       "family_100    [fruit_1020, fruit_1286, fruit_136, fruit_145,...\n",
       "family_101    [fruit_1149, fruit_182, fruit_189, fruit_345, ...\n",
       "                                    ...                        \n",
       "family_95     [fruit_1168, fruit_1283, fruit_136, fruit_154,...\n",
       "family_96     [fruit_1113, fruit_124, fruit_132, fruit_1424,...\n",
       "family_97     [fruit_1068, fruit_1135, fruit_1149, fruit_115...\n",
       "family_98                               [fruit_1478, fruit_917]\n",
       "family_99     [fruit_1118, fruit_1119, fruit_1222, fruit_124...\n",
       "Name: fruit, Length: 273, dtype: object"
      ]
     },
     "execution_count": 14,
     "metadata": {},
     "output_type": "execute_result"
    }
   ],
   "source": [
    "train_pop_list"
   ]
  },
  {
   "cell_type": "code",
   "execution_count": 15,
   "id": "398fdae6",
   "metadata": {},
   "outputs": [],
   "source": [
    "# Создаем перечень купленных фруктов семьями в валидационной выборке\n",
    "val_grouped = val.groupby('family')['fruit']\n",
    "val_grouped = val_grouped.apply(lambda r: ' '.join([str(A) for A in r]))\n",
    "# Выведем список купленных фруктов в обучающей выборке\n",
    "val_family_list = list(val_grouped.index)\n",
    "# Таблица по семьям в виде вложенного в ячейку списка\n",
    "val_list = val.groupby('family')['fruit'].apply(list)"
   ]
  },
  {
   "cell_type": "code",
   "execution_count": 16,
   "id": "a2074cb1",
   "metadata": {},
   "outputs": [
    {
     "data": {
      "text/plain": [
       "family\n",
       "family_0      fruit_1517 fruit_2853 fruit_4478 fruit_4481 fr...\n",
       "family_100                     fruit_1202 fruit_3117 fruit_4169\n",
       "family_101                                           fruit_1149\n",
       "family_102                                           fruit_3568\n",
       "family_105                     fruit_1318 fruit_2013 fruit_2599\n",
       "                                    ...                        \n",
       "family_92                                            fruit_3455\n",
       "family_93                                   fruit_189 fruit_621\n",
       "family_96     fruit_1113 fruit_143 fruit_1567 fruit_171 frui...\n",
       "family_97     fruit_1774 fruit_1862 fruit_2209 fruit_3 fruit...\n",
       "family_99     fruit_1118 fruit_1222 fruit_155 fruit_2472 fru...\n",
       "Name: fruit, Length: 128, dtype: object"
      ]
     },
     "execution_count": 16,
     "metadata": {},
     "output_type": "execute_result"
    }
   ],
   "source": [
    "val_grouped"
   ]
  },
  {
   "cell_type": "code",
   "execution_count": 17,
   "id": "5d12e9a2",
   "metadata": {},
   "outputs": [
    {
     "data": {
      "text/plain": [
       "277"
      ]
     },
     "execution_count": 17,
     "metadata": {},
     "output_type": "execute_result"
    }
   ],
   "source": [
    "# Перечень семей в обучающей выборке\n",
    "len(train_family_list)"
   ]
  },
  {
   "cell_type": "code",
   "execution_count": 18,
   "id": "f88e39ff",
   "metadata": {},
   "outputs": [
    {
     "data": {
      "text/plain": [
       "128"
      ]
     },
     "execution_count": 18,
     "metadata": {},
     "output_type": "execute_result"
    }
   ],
   "source": [
    "# Перечень семей в валидационной выборке\n",
    "len(val_family_list)"
   ]
  },
  {
   "cell_type": "code",
   "execution_count": 19,
   "id": "6d0afd01",
   "metadata": {},
   "outputs": [
    {
     "data": {
      "text/plain": [
       "['family_379',\n",
       " 'family_236',\n",
       " 'family_161',\n",
       " 'family_322',\n",
       " 'family_395',\n",
       " 'family_292',\n",
       " 'family_399']"
      ]
     },
     "execution_count": 19,
     "metadata": {},
     "output_type": "execute_result"
    }
   ],
   "source": [
    "# Семьи, которые не покупали в период, выбранный для обучающей выборки\n",
    "list(set(val_family_list) - set(train_family_list))"
   ]
  },
  {
   "cell_type": "code",
   "execution_count": 276,
   "id": "c075ddb9",
   "metadata": {},
   "outputs": [
    {
     "data": {
      "text/plain": [
       "True"
      ]
     },
     "execution_count": 276,
     "metadata": {},
     "output_type": "execute_result"
    }
   ],
   "source": [
    "val[val.family == 'family_399'].family.iloc[0] not in train_family_list\n",
    "# not in train_family_list"
   ]
  },
  {
   "cell_type": "code",
   "execution_count": 277,
   "id": "a93e94e4",
   "metadata": {},
   "outputs": [
    {
     "data": {
      "text/plain": [
       "'fruit_1020 fruit_1286 fruit_136 fruit_145 fruit_176 fruit_1776 fruit_19 fruit_2085 fruit_252 fruit_283 fruit_29 fruit_2926 fruit_2991 fruit_331 fruit_3329 fruit_3518 fruit_56 fruit_57'"
      ]
     },
     "execution_count": 277,
     "metadata": {},
     "output_type": "execute_result"
    }
   ],
   "source": [
    "# Выводим строку часто покупаемых фруктов для семьи 100\n",
    "train_pop_str['family_100']"
   ]
  },
  {
   "cell_type": "markdown",
   "id": "975f0053",
   "metadata": {},
   "source": [
    "### Ranking "
   ]
  },
  {
   "cell_type": "markdown",
   "id": "a77d8f16",
   "metadata": {},
   "source": [
    "Выведем ранкинг наиболее часто покупаемых фруктов в деревне:"
   ]
  },
  {
   "cell_type": "code",
   "execution_count": 278,
   "id": "c3b35955",
   "metadata": {},
   "outputs": [],
   "source": [
    "train_total_rank = train.copy()\n",
    "train_total_rank = train_total_rank.groupby(['fruit']).sum()\n",
    "train_total_rank = train_total_rank.sort_values(['order_count'], ascending=False)"
   ]
  },
  {
   "cell_type": "code",
   "execution_count": 279,
   "id": "add08029",
   "metadata": {},
   "outputs": [
    {
     "data": {
      "text/html": [
       "<div>\n",
       "<style scoped>\n",
       "    .dataframe tbody tr th:only-of-type {\n",
       "        vertical-align: middle;\n",
       "    }\n",
       "\n",
       "    .dataframe tbody tr th {\n",
       "        vertical-align: top;\n",
       "    }\n",
       "\n",
       "    .dataframe thead th {\n",
       "        text-align: right;\n",
       "    }\n",
       "</style>\n",
       "<table border=\"1\" class=\"dataframe\">\n",
       "  <thead>\n",
       "    <tr style=\"text-align: right;\">\n",
       "      <th></th>\n",
       "      <th>order_count</th>\n",
       "    </tr>\n",
       "    <tr>\n",
       "      <th>fruit</th>\n",
       "      <th></th>\n",
       "    </tr>\n",
       "  </thead>\n",
       "  <tbody>\n",
       "    <tr>\n",
       "      <th>fruit_19</th>\n",
       "      <td>7912</td>\n",
       "    </tr>\n",
       "    <tr>\n",
       "      <th>fruit_59</th>\n",
       "      <td>7585</td>\n",
       "    </tr>\n",
       "    <tr>\n",
       "      <th>fruit_189</th>\n",
       "      <td>6359</td>\n",
       "    </tr>\n",
       "  </tbody>\n",
       "</table>\n",
       "</div>"
      ],
      "text/plain": [
       "           order_count\n",
       "fruit                 \n",
       "fruit_19          7912\n",
       "fruit_59          7585\n",
       "fruit_189         6359"
      ]
     },
     "execution_count": 279,
     "metadata": {},
     "output_type": "execute_result"
    }
   ],
   "source": [
    "train_total_rank.head(3)"
   ]
  },
  {
   "cell_type": "code",
   "execution_count": 280,
   "id": "dc662662",
   "metadata": {},
   "outputs": [],
   "source": [
    "train_total_top_3 = list(train_total_rank.index)[:3]"
   ]
  },
  {
   "cell_type": "code",
   "execution_count": 281,
   "id": "e5ca11fe",
   "metadata": {},
   "outputs": [],
   "source": [
    "train_total_top_5 = list(train_total_rank.index)[:5]"
   ]
  },
  {
   "cell_type": "markdown",
   "id": "bb2facf6",
   "metadata": {},
   "source": [
    "Для более детального прогнозирования можно вывести наиболее популярных фруктов для каждой семьи в обучающей выборке"
   ]
  },
  {
   "cell_type": "code",
   "execution_count": 282,
   "id": "832cd6ad",
   "metadata": {},
   "outputs": [],
   "source": [
    "train_rank = train.copy()\n",
    "train_rank = train_rank.sort_values(['family','order_count'], ascending=False)\n",
    "train_rank = train_rank.groupby(['family']).first()\n",
    "\n",
    "train_rank_2 = train.copy()\n",
    "train_rank_2 = train_rank_2.sort_values(['family','order_count'], ascending=False)\n",
    "train_rank_2 = train_rank_2.groupby(['family']).nth(1)\n",
    "\n",
    "train_rank_3 = train.copy()\n",
    "train_rank_3 = train_rank_3.sort_values(['family','order_count'], ascending=False)\n",
    "train_rank_3 = train_rank_3.groupby(['family']).nth(2)\n",
    "\n",
    "train_frames = [train_rank, train_rank_2, train_rank_3]\n",
    "train_top_3_ranking = pd.concat(train_frames)\n",
    "train_top_3_ranking.reset_index(inplace=True)\n",
    "\n",
    "train_ranking = train_top_3_ranking.groupby('family')['fruit']\n",
    "train_ranking = train_ranking.apply(lambda r: ' '.join([str(A) for A in r]))\n",
    "\n",
    "train_top_list = train_top_3_ranking.groupby('family')['fruit'].apply(list)\n",
    "train_top_df = train_top_list.reset_index()\n",
    "train_top_df\n",
    "train_top_df.columns = ['family','top_3']"
   ]
  },
  {
   "cell_type": "markdown",
   "id": "87f62936",
   "metadata": {},
   "source": [
    "Альтернативный вариант для 5 наиболее покупаемых продуктах"
   ]
  },
  {
   "cell_type": "code",
   "execution_count": 283,
   "id": "7a95bd98",
   "metadata": {},
   "outputs": [],
   "source": [
    "train_rank = train.copy()\n",
    "train_rank = train_rank.sort_values(['family','order_count'], ascending=False)\n",
    "train_rank = train_rank.groupby(['family']).first()\n",
    "\n",
    "train_rank_2 = train.copy()\n",
    "train_rank_2 = train_rank_2.sort_values(['family','order_count'], ascending=False)\n",
    "train_rank_2 = train_rank_2.groupby(['family']).nth(1)\n",
    "\n",
    "train_rank_3 = train.copy()\n",
    "train_rank_3 = train_rank_3.sort_values(['family','order_count'], ascending=False)\n",
    "train_rank_3 = train_rank_3.groupby(['family']).nth(2)\n",
    "\n",
    "train_rank_4 = train.copy()\n",
    "train_rank_4 = train_rank_4.sort_values(['family','order_count'], ascending=False)\n",
    "train_rank_4 = train_rank_4.groupby(['family']).nth(3)\n",
    "\n",
    "train_rank_5 = train.copy()\n",
    "train_rank_5 = train_rank_5.sort_values(['family','order_count'], ascending=False)\n",
    "train_rank_5 = train_rank_5.groupby(['family']).nth(3)\n",
    "\n",
    "train_frames = [train_rank, train_rank_2, train_rank_3, train_rank_4, train_rank_5]\n",
    "train_top_5_ranking = pd.concat(train_frames)\n",
    "train_top_5_ranking.reset_index(inplace=True)\n",
    "\n",
    "train_ranking = train_top_5_ranking.groupby('family')['fruit']\n",
    "train_ranking = train_ranking.apply(lambda r: ' '.join([str(A) for A in r]))\n",
    "\n",
    "train_top_list = train_top_5_ranking.groupby('family')['fruit'].apply(list)\n",
    "train_top_df = train_top_list.reset_index()\n",
    "train_top_df\n",
    "train_top_df.columns = ['family','top']"
   ]
  },
  {
   "cell_type": "markdown",
   "id": "bc88be61",
   "metadata": {},
   "source": [
    "Список купленных фруктов в валидационной выборке будет служить для определения точности предсказания"
   ]
  },
  {
   "cell_type": "code",
   "execution_count": 285,
   "id": "7ad9795b",
   "metadata": {},
   "outputs": [
    {
     "data": {
      "text/plain": [
       "family\n",
       "family_0      fruit_1517 fruit_2853 fruit_4478 fruit_4481 fr...\n",
       "family_100                     fruit_1202 fruit_3117 fruit_4169\n",
       "family_101                                           fruit_1149\n",
       "family_102                                           fruit_3568\n",
       "family_105                     fruit_1318 fruit_2013 fruit_2599\n",
       "                                    ...                        \n",
       "family_92                                            fruit_3455\n",
       "family_93                                   fruit_189 fruit_621\n",
       "family_96     fruit_1113 fruit_143 fruit_1567 fruit_171 frui...\n",
       "family_97     fruit_1774 fruit_1862 fruit_2209 fruit_3 fruit...\n",
       "family_99     fruit_1118 fruit_1222 fruit_155 fruit_2472 fru...\n",
       "Name: fruit, Length: 128, dtype: object"
      ]
     },
     "execution_count": 285,
     "metadata": {},
     "output_type": "execute_result"
    }
   ],
   "source": [
    "val_grouped"
   ]
  },
  {
   "cell_type": "code",
   "execution_count": 286,
   "id": "4e594039",
   "metadata": {},
   "outputs": [
    {
     "data": {
      "text/plain": [
       "family\n",
       "family_0      [fruit_1517, fruit_2853, fruit_4478, fruit_448...\n",
       "family_100                 [fruit_1202, fruit_3117, fruit_4169]\n",
       "family_101                                         [fruit_1149]\n",
       "family_102                                         [fruit_3568]\n",
       "family_105                 [fruit_1318, fruit_2013, fruit_2599]\n",
       "                                    ...                        \n",
       "family_92                                          [fruit_3455]\n",
       "family_93                                [fruit_189, fruit_621]\n",
       "family_96     [fruit_1113, fruit_143, fruit_1567, fruit_171,...\n",
       "family_97     [fruit_1774, fruit_1862, fruit_2209, fruit_3, ...\n",
       "family_99     [fruit_1118, fruit_1222, fruit_155, fruit_2472...\n",
       "Name: fruit, Length: 128, dtype: object"
      ]
     },
     "execution_count": 286,
     "metadata": {},
     "output_type": "execute_result"
    }
   ],
   "source": [
    "val_list"
   ]
  },
  {
   "cell_type": "markdown",
   "id": "c027d397",
   "metadata": {},
   "source": [
    "# III. Creating Recomendation Rules"
   ]
  },
  {
   "cell_type": "markdown",
   "id": "46f32c34",
   "metadata": {},
   "source": [
    "### Method 1"
   ]
  },
  {
   "cell_type": "code",
   "execution_count": 313,
   "id": "18448bba",
   "metadata": {},
   "outputs": [],
   "source": [
    "# Создаем ассоциативные правила\n",
    "association_rules = apriori(train_pop_str.apply(lambda r: r.split(' ')), \n",
    "                                   min_support=0.022, \n",
    "                                   min_confidence=0.1, \n",
    "                                   min_lift=3, \n",
    "                                   min_length=1)\n",
    "\n",
    "association_result = list(association_rules)"
   ]
  },
  {
   "cell_type": "markdown",
   "id": "43921201",
   "metadata": {},
   "source": [
    "Посмотрим на количество созданных правил"
   ]
  },
  {
   "cell_type": "code",
   "execution_count": 314,
   "id": "1d584de4",
   "metadata": {},
   "outputs": [
    {
     "data": {
      "text/plain": [
       "10687"
      ]
     },
     "execution_count": 314,
     "metadata": {},
     "output_type": "execute_result"
    }
   ],
   "source": [
    "len(association_result)"
   ]
  },
  {
   "cell_type": "markdown",
   "id": "e2591151",
   "metadata": {},
   "source": [
    "Ассоциативые правила необходимо преобразовать в таблицу рекомендаций, чтобы правила были более удобными для прочиеня"
   ]
  },
  {
   "cell_type": "code",
   "execution_count": 319,
   "id": "54a46d38",
   "metadata": {},
   "outputs": [],
   "source": [
    "results = []\n",
    "for item in association_result:\n",
    "    pair = item[0] \n",
    "    items = [x for x in pair]\n",
    "    value_0 = str(items[0])\n",
    "    value_1 = str(items[1])\n",
    "    value_2 = str(item[1])[:7]\n",
    "    value_3 = str(item[2][0][2])[:7]\n",
    "    value_4 = str(item[2][0][3])[:7]\n",
    "    \n",
    "    rows = value_0, value_1, value_2, value_3, value_4\n",
    "\n",
    "    results.append(rows)\n",
    "    label = ['title_1', 'title_2', 'support', 'confidence','lift']\n",
    "    \n",
    "    store_suggestion = pd.DataFrame.from_records(results, columns=label)"
   ]
  },
  {
   "cell_type": "markdown",
   "id": "0b93abfe",
   "metadata": {},
   "source": [
    "Для какого количества фруктов созданы рекомендации:"
   ]
  },
  {
   "cell_type": "code",
   "execution_count": 316,
   "id": "30115e3a",
   "metadata": {},
   "outputs": [
    {
     "data": {
      "text/plain": [
       "79"
      ]
     },
     "execution_count": 316,
     "metadata": {},
     "output_type": "execute_result"
    }
   ],
   "source": [
    "len(store_suggestion.title_1.value_counts())"
   ]
  },
  {
   "cell_type": "markdown",
   "id": "e6211d6f",
   "metadata": {},
   "source": [
    "Всего в валидационной выборке уникальных фруктов"
   ]
  },
  {
   "cell_type": "code",
   "execution_count": 317,
   "id": "20f11702",
   "metadata": {},
   "outputs": [
    {
     "data": {
      "text/plain": [
       "494"
      ]
     },
     "execution_count": 317,
     "metadata": {},
     "output_type": "execute_result"
    }
   ],
   "source": [
    "val.fruit.nunique()"
   ]
  },
  {
   "cell_type": "code",
   "execution_count": 324,
   "id": "15d04604",
   "metadata": {},
   "outputs": [
    {
     "data": {
      "text/html": [
       "<div>\n",
       "<style scoped>\n",
       "    .dataframe tbody tr th:only-of-type {\n",
       "        vertical-align: middle;\n",
       "    }\n",
       "\n",
       "    .dataframe tbody tr th {\n",
       "        vertical-align: top;\n",
       "    }\n",
       "\n",
       "    .dataframe thead th {\n",
       "        text-align: right;\n",
       "    }\n",
       "</style>\n",
       "<table border=\"1\" class=\"dataframe\">\n",
       "  <thead>\n",
       "    <tr style=\"text-align: right;\">\n",
       "      <th></th>\n",
       "      <th>level_0</th>\n",
       "      <th>index</th>\n",
       "      <th>title_1</th>\n",
       "      <th>title_2</th>\n",
       "      <th>support</th>\n",
       "      <th>confidence</th>\n",
       "      <th>lift</th>\n",
       "    </tr>\n",
       "  </thead>\n",
       "  <tbody>\n",
       "    <tr>\n",
       "      <th>0</th>\n",
       "      <td>0</td>\n",
       "      <td>459</td>\n",
       "      <td>fruit_123</td>\n",
       "      <td>fruit_154</td>\n",
       "      <td>0.02527</td>\n",
       "      <td>0.53846</td>\n",
       "      <td>9.94358</td>\n",
       "    </tr>\n",
       "    <tr>\n",
       "      <th>1</th>\n",
       "      <td>1</td>\n",
       "      <td>372</td>\n",
       "      <td>fruit_407</td>\n",
       "      <td>fruit_381</td>\n",
       "      <td>0.02527</td>\n",
       "      <td>0.53846</td>\n",
       "      <td>9.94358</td>\n",
       "    </tr>\n",
       "    <tr>\n",
       "      <th>2</th>\n",
       "      <td>3</td>\n",
       "      <td>1638</td>\n",
       "      <td>fruit_59</td>\n",
       "      <td>fruit_123</td>\n",
       "      <td>0.02527</td>\n",
       "      <td>0.53846</td>\n",
       "      <td>9.94358</td>\n",
       "    </tr>\n",
       "    <tr>\n",
       "      <th>3</th>\n",
       "      <td>4</td>\n",
       "      <td>439</td>\n",
       "      <td>fruit_124</td>\n",
       "      <td>fruit_123</td>\n",
       "      <td>0.02527</td>\n",
       "      <td>0.53846</td>\n",
       "      <td>9.94358</td>\n",
       "    </tr>\n",
       "    <tr>\n",
       "      <th>4</th>\n",
       "      <td>6</td>\n",
       "      <td>483</td>\n",
       "      <td>fruit_59</td>\n",
       "      <td>fruit_123</td>\n",
       "      <td>0.02527</td>\n",
       "      <td>0.53846</td>\n",
       "      <td>9.94358</td>\n",
       "    </tr>\n",
       "    <tr>\n",
       "      <th>5</th>\n",
       "      <td>2</td>\n",
       "      <td>364</td>\n",
       "      <td>fruit_345</td>\n",
       "      <td>fruit_381</td>\n",
       "      <td>0.02527</td>\n",
       "      <td>0.46666</td>\n",
       "      <td>9.94358</td>\n",
       "    </tr>\n",
       "    <tr>\n",
       "      <th>6</th>\n",
       "      <td>5</td>\n",
       "      <td>340</td>\n",
       "      <td>fruit_399</td>\n",
       "      <td>fruit_31</td>\n",
       "      <td>0.02527</td>\n",
       "      <td>0.46666</td>\n",
       "      <td>9.94358</td>\n",
       "    </tr>\n",
       "    <tr>\n",
       "      <th>7</th>\n",
       "      <td>7</td>\n",
       "      <td>1145</td>\n",
       "      <td>fruit_39</td>\n",
       "      <td>fruit_2150</td>\n",
       "      <td>0.02527</td>\n",
       "      <td>0.38888</td>\n",
       "      <td>9.79292</td>\n",
       "    </tr>\n",
       "    <tr>\n",
       "      <th>8</th>\n",
       "      <td>8</td>\n",
       "      <td>1472</td>\n",
       "      <td>fruit_59</td>\n",
       "      <td>fruit_323</td>\n",
       "      <td>0.02527</td>\n",
       "      <td>0.35</td>\n",
       "      <td>9.695</td>\n",
       "    </tr>\n",
       "    <tr>\n",
       "      <th>9</th>\n",
       "      <td>9</td>\n",
       "      <td>3601</td>\n",
       "      <td>fruit_193</td>\n",
       "      <td>fruit_2366</td>\n",
       "      <td>0.02527</td>\n",
       "      <td>0.27999</td>\n",
       "      <td>9.69499</td>\n",
       "    </tr>\n",
       "  </tbody>\n",
       "</table>\n",
       "</div>"
      ],
      "text/plain": [
       "   level_0  index    title_1     title_2  support confidence     lift\n",
       "0        0    459  fruit_123   fruit_154  0.02527    0.53846  9.94358\n",
       "1        1    372  fruit_407   fruit_381  0.02527    0.53846  9.94358\n",
       "2        3   1638   fruit_59   fruit_123  0.02527    0.53846  9.94358\n",
       "3        4    439  fruit_124   fruit_123  0.02527    0.53846  9.94358\n",
       "4        6    483   fruit_59   fruit_123  0.02527    0.53846  9.94358\n",
       "5        2    364  fruit_345   fruit_381  0.02527    0.46666  9.94358\n",
       "6        5    340  fruit_399    fruit_31  0.02527    0.46666  9.94358\n",
       "7        7   1145   fruit_39  fruit_2150  0.02527    0.38888  9.79292\n",
       "8        8   1472   fruit_59   fruit_323  0.02527       0.35    9.695\n",
       "9        9   3601  fruit_193  fruit_2366  0.02527    0.27999  9.69499"
      ]
     },
     "execution_count": 324,
     "metadata": {},
     "output_type": "execute_result"
    }
   ],
   "source": [
    "store_suggestion = store_suggestion.sort_values(['lift','confidence'], ascending=False).reset_index()\n",
    "store_suggestion.head(10)"
   ]
  },
  {
   "cell_type": "markdown",
   "id": "1cd9c766",
   "metadata": {},
   "source": [
    "### Предсказания"
   ]
  },
  {
   "cell_type": "markdown",
   "id": "9932dbc5",
   "metadata": {},
   "source": [
    "Создаем датафрейм с предсказаниями на основе рекоммендации априори. \n",
    "* Выбираем правила на основании фруктов, которые семья относительно часто покупала до этого (train_pop_str). \n",
    "* В случае, если в ассоцитивых правилах не было фруктов, которые покупала семья, предлагаем семье фрукты, которые ранее семья чаще всего покупала. \n",
    "* Есть также семьи, которые не покупали в период, который был выбран за обучающую выборку. Для таких семей можно порекомендовать наиболее популярные продукты во всей деревне (train_total_top_3)"
   ]
  },
  {
   "cell_type": "code",
   "execution_count": 294,
   "id": "9d06e5da",
   "metadata": {},
   "outputs": [
    {
     "data": {
      "text/html": [
       "<div>\n",
       "<style scoped>\n",
       "    .dataframe tbody tr th:only-of-type {\n",
       "        vertical-align: middle;\n",
       "    }\n",
       "\n",
       "    .dataframe tbody tr th {\n",
       "        vertical-align: top;\n",
       "    }\n",
       "\n",
       "    .dataframe thead th {\n",
       "        text-align: right;\n",
       "    }\n",
       "</style>\n",
       "<table border=\"1\" class=\"dataframe\">\n",
       "  <thead>\n",
       "    <tr style=\"text-align: right;\">\n",
       "      <th></th>\n",
       "      <th>family</th>\n",
       "      <th>top</th>\n",
       "    </tr>\n",
       "  </thead>\n",
       "  <tbody>\n",
       "    <tr>\n",
       "      <th>0</th>\n",
       "      <td>family_0</td>\n",
       "      <td>[fruit_4478, fruit_4482, fruit_4481, fruit_449...</td>\n",
       "    </tr>\n",
       "    <tr>\n",
       "      <th>1</th>\n",
       "      <td>family_1</td>\n",
       "      <td>[fruit_663, fruit_182, fruit_133, fruit_136, f...</td>\n",
       "    </tr>\n",
       "    <tr>\n",
       "      <th>2</th>\n",
       "      <td>family_10</td>\n",
       "      <td>[fruit_57, fruit_883, fruit_478, fruit_730, fr...</td>\n",
       "    </tr>\n",
       "    <tr>\n",
       "      <th>3</th>\n",
       "      <td>family_100</td>\n",
       "      <td>[fruit_1776, fruit_176, fruit_19, fruit_252, f...</td>\n",
       "    </tr>\n",
       "    <tr>\n",
       "      <th>4</th>\n",
       "      <td>family_101</td>\n",
       "      <td>[fruit_182, fruit_59, fruit_189, fruit_60, fru...</td>\n",
       "    </tr>\n",
       "  </tbody>\n",
       "</table>\n",
       "</div>"
      ],
      "text/plain": [
       "       family                                                top\n",
       "0    family_0  [fruit_4478, fruit_4482, fruit_4481, fruit_449...\n",
       "1    family_1  [fruit_663, fruit_182, fruit_133, fruit_136, f...\n",
       "2   family_10  [fruit_57, fruit_883, fruit_478, fruit_730, fr...\n",
       "3  family_100  [fruit_1776, fruit_176, fruit_19, fruit_252, f...\n",
       "4  family_101  [fruit_182, fruit_59, fruit_189, fruit_60, fru..."
      ]
     },
     "execution_count": 294,
     "metadata": {},
     "output_type": "execute_result"
    }
   ],
   "source": [
    "train_top_df.head()"
   ]
  },
  {
   "cell_type": "code",
   "execution_count": 295,
   "id": "eace3013",
   "metadata": {},
   "outputs": [
    {
     "data": {
      "text/plain": [
       "['fruit_19', 'fruit_59', 'fruit_189', 'fruit_124', 'fruit_133']"
      ]
     },
     "execution_count": 295,
     "metadata": {},
     "output_type": "execute_result"
    }
   ],
   "source": [
    "train_total_top_5"
   ]
  },
  {
   "cell_type": "code",
   "execution_count": 296,
   "id": "f472c2d9",
   "metadata": {},
   "outputs": [],
   "source": [
    "# Семьи, которые не покупали в периоде обучающей выбоки. Т.е. новые клиенты\n",
    "missing = list(set(val_family_list) - set(train_family_list))"
   ]
  },
  {
   "cell_type": "code",
   "execution_count": 297,
   "id": "c47fbb5d",
   "metadata": {},
   "outputs": [
    {
     "data": {
      "text/plain": [
       "['family_399',\n",
       " 'family_292',\n",
       " 'family_161',\n",
       " 'family_379',\n",
       " 'family_395',\n",
       " 'family_322',\n",
       " 'family_236']"
      ]
     },
     "execution_count": 297,
     "metadata": {},
     "output_type": "execute_result"
    }
   ],
   "source": [
    "missing"
   ]
  },
  {
   "cell_type": "markdown",
   "id": "128a2e00",
   "metadata": {},
   "source": [
    "Создание датафрейма предсказаний"
   ]
  },
  {
   "cell_type": "code",
   "execution_count": 331,
   "id": "ac8b061c",
   "metadata": {},
   "outputs": [],
   "source": [
    "missing = list(set(val_family_list) - set(train_family_list))\n",
    "\n",
    "result = pd.DataFrame(columns = ['family','recommended'])\n",
    "for family in val_family_list:\n",
    "\n",
    "    element = []\n",
    "    x = 0\n",
    "    y = 0\n",
    "    list_1 = train_top_list.loc[family]\n",
    "    list_2 = store_suggestion['title_1'].unique()\n",
    "    common = list(set(list_1).intersection(list_2))\n",
    "    \n",
    "    if family in missing:\n",
    "        for l in train_total_top_3:\n",
    "            element.append(l)\n",
    "        new_row = {'family':family, 'recommended':element}\n",
    "\n",
    "    elif len(common) > 0:\n",
    "        for i in store_suggestion.index:\n",
    "            if store_suggestion['title_1'].loc[i].split(' ')[0] in train_pop_str.loc[family]:\n",
    "                if store_suggestion['title_2'].loc[i] not in element:\n",
    "                    element.append(store_suggestion['title_2'].loc[i])\n",
    "                    x += 1\n",
    "                    if x >= 3:\n",
    "                        break\n",
    "                else:\n",
    "                    continue\n",
    "        new_row = {'family':family, 'recommended':element}\n",
    "    else:\n",
    "        for j in train_top_df[train_top_df.family == family].top:\n",
    "            for k in j:\n",
    "                element.append(k)\n",
    "        new_row = {'family':family, 'recommended':element}       \n",
    "        \n",
    "    result = result.append(new_row,ignore_index=True)"
   ]
  },
  {
   "cell_type": "markdown",
   "id": "4430c1ae",
   "metadata": {},
   "source": [
    "Альтернативный вариант"
   ]
  },
  {
   "cell_type": "code",
   "execution_count": 329,
   "id": "5da66e53",
   "metadata": {},
   "outputs": [],
   "source": [
    "missing = list(set(val_family_list) - set(train_family_list))\n",
    "\n",
    "result = pd.DataFrame(columns = ['family','recommended'])\n",
    "for family in val_family_list:\n",
    "\n",
    "    element = []\n",
    "    x = 0\n",
    "    y = 0\n",
    "    list_1 = train_top_list.loc[family]\n",
    "    list_2 = store_suggestion['title_1'].unique()\n",
    "    common = list(set(list_1).intersection(list_2))\n",
    "    \n",
    "    if family in missing:\n",
    "        for l in train_total_top_5:\n",
    "            element.append(l)\n",
    "        new_row = {'family':family, 'recommended':element}\n",
    "\n",
    "    elif len(common) > 0:\n",
    "        for i in store_suggestion.index:\n",
    "            if store_suggestion['title_1'].loc[i].split(' ')[0] in train_pop_str.loc[family]:\n",
    "                if store_suggestion['title_2'].loc[i] not in element:\n",
    "                    element.append(store_suggestion['title_2'].loc[i])\n",
    "                    x += 1\n",
    "                    if x >= 3:\n",
    "                        break\n",
    "                else:\n",
    "                    continue\n",
    "        new_row = {'family':family, 'recommended':element}\n",
    "    else:\n",
    "        for j in train_top_df[train_top_df.family == family].top:\n",
    "            for k in j:\n",
    "                element.append(k)\n",
    "        new_row = {'family':family, 'recommended':element}       \n",
    "        \n",
    "    result = result.append(new_row,ignore_index=True)"
   ]
  },
  {
   "cell_type": "markdown",
   "id": "9f65c1ac",
   "metadata": {},
   "source": [
    "Альтернативный вариант 2"
   ]
  },
  {
   "cell_type": "code",
   "execution_count": 327,
   "id": "3b573676",
   "metadata": {},
   "outputs": [],
   "source": [
    "missing = list(set(val_family_list) - set(train_family_list))\n",
    "\n",
    "result = pd.DataFrame(columns = ['family','recommended'])\n",
    "for family in val_family_list:\n",
    "\n",
    "    element = []\n",
    "    x = 0\n",
    "    y = 0\n",
    "    list_1 = train_top_list.loc[family]\n",
    "    list_2 = store_suggestion['title_1'].unique()\n",
    "    common = list(set(list_1).intersection(list_2))\n",
    "    \n",
    "    if family in missing:\n",
    "        for l in train_total_top_5:\n",
    "            element.append(l)\n",
    "        new_row = {'family':family, 'recommended':element}\n",
    "\n",
    "    elif len(common) > 0:\n",
    "        for i in store_suggestion.index:\n",
    "            if store_suggestion['title_1'].loc[i].split(' ')[0] in train_pop_str.loc[family]:\n",
    "                if store_suggestion['title_2'].loc[i] not in element:\n",
    "                    element.append(store_suggestion['title_2'].loc[i])\n",
    "                    x += 1\n",
    "                    if x >= 10:\n",
    "                        break\n",
    "                else:\n",
    "                    continue\n",
    "        new_row = {'family':family, 'recommended':element}\n",
    "    else:\n",
    "        for j in train_top_df[train_top_df.family == family].top:\n",
    "            for k in j:\n",
    "                element.append(k)\n",
    "        new_row = {'family':family, 'recommended':element}       \n",
    "        \n",
    "    result = result.append(new_row,ignore_index=True)"
   ]
  },
  {
   "cell_type": "code",
   "execution_count": 300,
   "id": "b07bcd73",
   "metadata": {},
   "outputs": [
    {
     "data": {
      "text/html": [
       "<div>\n",
       "<style scoped>\n",
       "    .dataframe tbody tr th:only-of-type {\n",
       "        vertical-align: middle;\n",
       "    }\n",
       "\n",
       "    .dataframe tbody tr th {\n",
       "        vertical-align: top;\n",
       "    }\n",
       "\n",
       "    .dataframe thead th {\n",
       "        text-align: right;\n",
       "    }\n",
       "</style>\n",
       "<table border=\"1\" class=\"dataframe\">\n",
       "  <thead>\n",
       "    <tr style=\"text-align: right;\">\n",
       "      <th></th>\n",
       "      <th>family</th>\n",
       "      <th>recommended</th>\n",
       "    </tr>\n",
       "  </thead>\n",
       "  <tbody>\n",
       "    <tr>\n",
       "      <th>2</th>\n",
       "      <td>family_101</td>\n",
       "      <td>[fruit_124, fruit_19, fruit_2366]</td>\n",
       "    </tr>\n",
       "  </tbody>\n",
       "</table>\n",
       "</div>"
      ],
      "text/plain": [
       "       family                        recommended\n",
       "2  family_101  [fruit_124, fruit_19, fruit_2366]"
      ]
     },
     "execution_count": 300,
     "metadata": {},
     "output_type": "execute_result"
    }
   ],
   "source": [
    "# Проверяем результат\n",
    "result[result.family == 'family_101']"
   ]
  },
  {
   "cell_type": "markdown",
   "id": "5e9cda31",
   "metadata": {},
   "source": [
    "### Evaluation"
   ]
  },
  {
   "cell_type": "code",
   "execution_count": 332,
   "id": "dd4a2823",
   "metadata": {},
   "outputs": [
    {
     "name": "stdout",
     "output_type": "stream",
     "text": [
      "true positive =  49\n",
      "false positive =  382\n",
      "precision =  0.1136890951276102\n"
     ]
    }
   ],
   "source": [
    "evaluation = pd.DataFrame(columns = ['family','fruit','eval'])\n",
    "\n",
    "true_positive = 0\n",
    "false_positive = 0\n",
    "for fam in val_family_list:\n",
    "    for i in result[result.family == fam]['recommended'].iloc[0]:\n",
    "        if i in val_df[val_df.family == fam].true_top.iloc[0]:\n",
    "            true_positive += 1\n",
    "        else:\n",
    "            false_positive += 1\n",
    "            \n",
    "precision = true_positive/(true_positive+false_positive)\n",
    "print('true positive = ', true_positive)\n",
    "print('false positive = ', false_positive)\n",
    "print('precision = ', precision)\n"
   ]
  },
  {
   "cell_type": "markdown",
   "id": "bb4cf573",
   "metadata": {},
   "source": [
    "### Alternative Method Association Rules #2"
   ]
  },
  {
   "cell_type": "code",
   "execution_count": null,
   "id": "736f05bb",
   "metadata": {},
   "outputs": [],
   "source": [
    "# Создаем ассоциативные правила\n",
    "association_rules_2 = apyori.apriori(data_pop_str.apply(lambda r: r.split(' ')), \n",
    "                                   min_support=0.04, \n",
    "                                   min_confidence=0.1, \n",
    "                                   min_lift=2, \n",
    "                                   min_length=2)"
   ]
  },
  {
   "cell_type": "code",
   "execution_count": null,
   "id": "c49004d2",
   "metadata": {},
   "outputs": [],
   "source": [
    "# Функция для вывода рекомендации на экран\n",
    "asr_df = pd.DataFrame(columns = ['from', 'to', 'confidence', 'support', 'lift'])\n",
    "for item in association_rules_2:\n",
    "    pair = item[0] \n",
    "    items = [x for x in pair]\n",
    "    asr_df.loc[len(asr_df), :] =  ' '.join(list(item[2][0][0])), \\\n",
    "                                  ' '.join(list(item[2][0][1])),\\\n",
    "                                  item[2][0][2], item[1], item[2][0][3]"
   ]
  },
  {
   "cell_type": "code",
   "execution_count": null,
   "id": "465c1a06",
   "metadata": {},
   "outputs": [],
   "source": [
    "len(asr_df)"
   ]
  },
  {
   "cell_type": "code",
   "execution_count": null,
   "id": "2c04ffb4",
   "metadata": {},
   "outputs": [],
   "source": [
    "asr_df.sort_values(['support','confidence'], ascending=False).head(10)"
   ]
  },
  {
   "cell_type": "code",
   "execution_count": null,
   "id": "15634fdf",
   "metadata": {},
   "outputs": [],
   "source": [
    "asr_df.sort_values(['to'], ascending=False).head(10)"
   ]
  },
  {
   "cell_type": "code",
   "execution_count": null,
   "id": "23760251",
   "metadata": {},
   "outputs": [],
   "source": [
    "asr_df.iloc[0]"
   ]
  },
  {
   "cell_type": "code",
   "execution_count": null,
   "id": "c66c9e59",
   "metadata": {},
   "outputs": [],
   "source": [
    "asr_df"
   ]
  },
  {
   "cell_type": "markdown",
   "id": "9c788e23",
   "metadata": {},
   "source": [
    "### Alternative Method #3"
   ]
  },
  {
   "cell_type": "code",
   "execution_count": null,
   "id": "2bc70fb9",
   "metadata": {},
   "outputs": [],
   "source": [
    "# !pip install mlxtend  "
   ]
  },
  {
   "cell_type": "code",
   "execution_count": null,
   "id": "fdf01f8d",
   "metadata": {},
   "outputs": [],
   "source": [
    "from mlxtend.preprocessing import TransactionEncoder\n",
    "from mlxtend.frequent_patterns import apriori, association_rules"
   ]
  },
  {
   "cell_type": "code",
   "execution_count": null,
   "id": "5d749d5f",
   "metadata": {},
   "outputs": [],
   "source": [
    "df = data.copy()\n",
    "df = df[data.order_count > 11].groupby('family')['fruit'].apply(list)\n",
    "\n",
    "test = df\n",
    "oht = TransactionEncoder()\n",
    "oht_ary = oht.fit(test).transform(test)\n",
    "d = pd.DataFrame(oht_ary,columns=oht.columns_)\n",
    "r_test = apriori(d,min_support=0.001, use_colnames=True, max_len = 2).sort_values(by='support', ascending=False)"
   ]
  },
  {
   "cell_type": "code",
   "execution_count": null,
   "id": "22feacec",
   "metadata": {},
   "outputs": [],
   "source": [
    "res_test = association_rules(r_test, min_threshold=0.0001).sort_values(['antecedent support','confidence'], ascending=False)"
   ]
  },
  {
   "cell_type": "code",
   "execution_count": null,
   "id": "f5e2abeb",
   "metadata": {},
   "outputs": [],
   "source": [
    "res_test"
   ]
  }
 ],
 "metadata": {
  "kernelspec": {
   "display_name": "Python 3",
   "language": "python",
   "name": "python3"
  },
  "language_info": {
   "codemirror_mode": {
    "name": "ipython",
    "version": 3
   },
   "file_extension": ".py",
   "mimetype": "text/x-python",
   "name": "python",
   "nbconvert_exporter": "python",
   "pygments_lexer": "ipython3",
   "version": "3.8.8"
  }
 },
 "nbformat": 4,
 "nbformat_minor": 5
}
