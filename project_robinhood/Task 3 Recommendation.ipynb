{
 "cells": [
  {
   "cell_type": "markdown",
   "id": "29dbddca",
   "metadata": {
    "heading_collapsed": true
   },
   "source": [
    "# Задача 3: Рекомендации, какой фрукт купить"
   ]
  },
  {
   "cell_type": "markdown",
   "id": "01d0f7b5",
   "metadata": {},
   "source": [
    "# I. Импорт библиотек"
   ]
  },
  {
   "cell_type": "code",
   "execution_count": 1,
   "id": "e6c0bd59",
   "metadata": {},
   "outputs": [],
   "source": [
    "import pandas as pd\n",
    "import pandas as pd\n",
    "import numpy as np\n",
    "import surprise\n",
    "import apyori\n",
    "from apyori import apriori\n",
    "from sklearn.cluster import KMeans\n",
    "import warnings\n",
    "warnings.filterwarnings(\"ignore\")"
   ]
  },
  {
   "cell_type": "code",
   "execution_count": 2,
   "id": "f70cf399",
   "metadata": {},
   "outputs": [],
   "source": [
    "# Загружаем приготовленный датасет\n",
    "df_village = pd.read_csv('village_table.csv')"
   ]
  },
  {
   "cell_type": "markdown",
   "id": "5b466702",
   "metadata": {
    "heading_collapsed": true
   },
   "source": [
    "# II. Преобразования"
   ]
  },
  {
   "cell_type": "code",
   "execution_count": 3,
   "id": "ee4683a3",
   "metadata": {
    "hidden": true
   },
   "outputs": [],
   "source": [
    "data = df_village.copy()"
   ]
  },
  {
   "cell_type": "code",
   "execution_count": 4,
   "id": "00b6e524",
   "metadata": {
    "hidden": true
   },
   "outputs": [
    {
     "data": {
      "text/html": [
       "<div>\n",
       "<style scoped>\n",
       "    .dataframe tbody tr th:only-of-type {\n",
       "        vertical-align: middle;\n",
       "    }\n",
       "\n",
       "    .dataframe tbody tr th {\n",
       "        vertical-align: top;\n",
       "    }\n",
       "\n",
       "    .dataframe thead th {\n",
       "        text-align: right;\n",
       "    }\n",
       "</style>\n",
       "<table border=\"1\" class=\"dataframe\">\n",
       "  <thead>\n",
       "    <tr style=\"text-align: right;\">\n",
       "      <th></th>\n",
       "      <th>village</th>\n",
       "      <th>year</th>\n",
       "      <th>family</th>\n",
       "      <th>category</th>\n",
       "      <th>fruit</th>\n",
       "      <th>grade</th>\n",
       "      <th>order_date</th>\n",
       "      <th>delivery_date</th>\n",
       "      <th>ordered</th>\n",
       "      <th>shipped</th>\n",
       "      <th>leadtime</th>\n",
       "    </tr>\n",
       "  </thead>\n",
       "  <tbody>\n",
       "    <tr>\n",
       "      <th>0</th>\n",
       "      <td>Robinhood_village</td>\n",
       "      <td>2020</td>\n",
       "      <td>family_244</td>\n",
       "      <td>category_25</td>\n",
       "      <td>fruit_37</td>\n",
       "      <td>165</td>\n",
       "      <td>2019-12-30</td>\n",
       "      <td>2020-01-03</td>\n",
       "      <td>1650.0</td>\n",
       "      <td>1663.20</td>\n",
       "      <td>4 days</td>\n",
       "    </tr>\n",
       "    <tr>\n",
       "      <th>1</th>\n",
       "      <td>Robinhood_village</td>\n",
       "      <td>2020</td>\n",
       "      <td>family_127</td>\n",
       "      <td>category_14</td>\n",
       "      <td>fruit_62</td>\n",
       "      <td>250</td>\n",
       "      <td>2019-12-30</td>\n",
       "      <td>2020-01-10</td>\n",
       "      <td>1000.0</td>\n",
       "      <td>1060.00</td>\n",
       "      <td>11 days</td>\n",
       "    </tr>\n",
       "    <tr>\n",
       "      <th>2</th>\n",
       "      <td>Robinhood_village</td>\n",
       "      <td>2020</td>\n",
       "      <td>family_133</td>\n",
       "      <td>category_16</td>\n",
       "      <td>fruit_48</td>\n",
       "      <td>330</td>\n",
       "      <td>2019-12-30</td>\n",
       "      <td>2020-01-08</td>\n",
       "      <td>1320.0</td>\n",
       "      <td>1336.50</td>\n",
       "      <td>9 days</td>\n",
       "    </tr>\n",
       "    <tr>\n",
       "      <th>3</th>\n",
       "      <td>Robinhood_village</td>\n",
       "      <td>2020</td>\n",
       "      <td>family_133</td>\n",
       "      <td>category_25</td>\n",
       "      <td>fruit_49</td>\n",
       "      <td>250</td>\n",
       "      <td>2019-12-30</td>\n",
       "      <td>2020-01-08</td>\n",
       "      <td>2500.0</td>\n",
       "      <td>2508.75</td>\n",
       "      <td>9 days</td>\n",
       "    </tr>\n",
       "    <tr>\n",
       "      <th>4</th>\n",
       "      <td>Robinhood_village</td>\n",
       "      <td>2020</td>\n",
       "      <td>family_133</td>\n",
       "      <td>category_4</td>\n",
       "      <td>fruit_52</td>\n",
       "      <td>315</td>\n",
       "      <td>2019-12-30</td>\n",
       "      <td>2020-01-08</td>\n",
       "      <td>4725.0</td>\n",
       "      <td>4759.65</td>\n",
       "      <td>9 days</td>\n",
       "    </tr>\n",
       "  </tbody>\n",
       "</table>\n",
       "</div>"
      ],
      "text/plain": [
       "             village  year      family     category     fruit  grade  \\\n",
       "0  Robinhood_village  2020  family_244  category_25  fruit_37    165   \n",
       "1  Robinhood_village  2020  family_127  category_14  fruit_62    250   \n",
       "2  Robinhood_village  2020  family_133  category_16  fruit_48    330   \n",
       "3  Robinhood_village  2020  family_133  category_25  fruit_49    250   \n",
       "4  Robinhood_village  2020  family_133   category_4  fruit_52    315   \n",
       "\n",
       "   order_date delivery_date  ordered  shipped leadtime  \n",
       "0  2019-12-30    2020-01-03   1650.0  1663.20   4 days  \n",
       "1  2019-12-30    2020-01-10   1000.0  1060.00  11 days  \n",
       "2  2019-12-30    2020-01-08   1320.0  1336.50   9 days  \n",
       "3  2019-12-30    2020-01-08   2500.0  2508.75   9 days  \n",
       "4  2019-12-30    2020-01-08   4725.0  4759.65   9 days  "
      ]
     },
     "execution_count": 4,
     "metadata": {},
     "output_type": "execute_result"
    }
   ],
   "source": [
    "data.head()"
   ]
  },
  {
   "cell_type": "code",
   "execution_count": 5,
   "id": "c1402126",
   "metadata": {
    "hidden": true
   },
   "outputs": [
    {
     "data": {
      "text/plain": [
       "'2022-02-20'"
      ]
     },
     "execution_count": 5,
     "metadata": {},
     "output_type": "execute_result"
    }
   ],
   "source": [
    "data.order_date.max()"
   ]
  },
  {
   "cell_type": "markdown",
   "id": "5318dad8",
   "metadata": {
    "hidden": true
   },
   "source": [
    "Разделим выборку хронологически на обучающую и валидационную"
   ]
  },
  {
   "cell_type": "code",
   "execution_count": 6,
   "id": "d620d2a8",
   "metadata": {
    "hidden": true
   },
   "outputs": [],
   "source": [
    "train = data[data.order_date < '2022-02-12']\n",
    "val = data[data.order_date >= '2022-02-12']"
   ]
  },
  {
   "cell_type": "code",
   "execution_count": 7,
   "id": "3d4da0d5",
   "metadata": {
    "hidden": true
   },
   "outputs": [],
   "source": [
    "train = train[['family','fruit','ordered']]\n",
    "val = val[['family','fruit','ordered']]"
   ]
  },
  {
   "cell_type": "code",
   "execution_count": 8,
   "id": "cd95ad1a",
   "metadata": {
    "hidden": true
   },
   "outputs": [],
   "source": [
    "# Данные по заказам, которые нужно суммировать\n",
    "train = train.groupby(['family','fruit']).agg(['count'])\n",
    "train.reset_index(inplace=True)\n",
    "train.columns = train.columns.droplevel(1)\n",
    "train.columns = ['family','fruit','order_count']\n",
    "\n",
    "val = val.groupby(['family','fruit']).agg(['count'])\n",
    "val.reset_index(inplace=True)\n",
    "val.columns = val.columns.droplevel(1)\n",
    "val.columns = ['family','fruit','order_count']"
   ]
  },
  {
   "cell_type": "code",
   "execution_count": 9,
   "id": "2d70d92c",
   "metadata": {
    "hidden": true
   },
   "outputs": [
    {
     "name": "stdout",
     "output_type": "stream",
     "text": [
      "<class 'pandas.core.frame.DataFrame'>\n",
      "RangeIndex: 18346 entries, 0 to 18345\n",
      "Data columns (total 3 columns):\n",
      " #   Column       Non-Null Count  Dtype \n",
      "---  ------       --------------  ----- \n",
      " 0   family       18346 non-null  object\n",
      " 1   fruit        18346 non-null  object\n",
      " 2   order_count  18346 non-null  int64 \n",
      "dtypes: int64(1), object(2)\n",
      "memory usage: 430.1+ KB\n"
     ]
    }
   ],
   "source": [
    "train.info()"
   ]
  },
  {
   "cell_type": "code",
   "execution_count": 10,
   "id": "0a670cf3",
   "metadata": {
    "hidden": true
   },
   "outputs": [
    {
     "name": "stdout",
     "output_type": "stream",
     "text": [
      "<class 'pandas.core.frame.DataFrame'>\n",
      "RangeIndex: 644 entries, 0 to 643\n",
      "Data columns (total 3 columns):\n",
      " #   Column       Non-Null Count  Dtype \n",
      "---  ------       --------------  ----- \n",
      " 0   family       644 non-null    object\n",
      " 1   fruit        644 non-null    object\n",
      " 2   order_count  644 non-null    int64 \n",
      "dtypes: int64(1), object(2)\n",
      "memory usage: 15.2+ KB\n"
     ]
    }
   ],
   "source": [
    "val.info()"
   ]
  },
  {
   "cell_type": "code",
   "execution_count": 11,
   "id": "a2860111",
   "metadata": {
    "hidden": true
   },
   "outputs": [
    {
     "data": {
      "text/plain": [
       "count    18346.000000\n",
       "mean        13.240434\n",
       "std         39.971358\n",
       "min          1.000000\n",
       "25%          1.000000\n",
       "50%          4.000000\n",
       "75%         11.000000\n",
       "max       1531.000000\n",
       "Name: order_count, dtype: float64"
      ]
     },
     "execution_count": 11,
     "metadata": {},
     "output_type": "execute_result"
    }
   ],
   "source": [
    "train['order_count'].describe()"
   ]
  },
  {
   "cell_type": "markdown",
   "id": "34184e45",
   "metadata": {
    "hidden": true
   },
   "source": [
    "Создаем перечень часто покупаемых фруктов семьями в обучающей выборке  \n",
    "В виде строки разделенных пробелом фруктов, а также в виде таблицы по семьям в виде вложенного в ячейку списка"
   ]
  },
  {
   "cell_type": "code",
   "execution_count": 12,
   "id": "85bc07bb",
   "metadata": {
    "hidden": true
   },
   "outputs": [],
   "source": [
    "train_popular = train[train.order_count > 10].groupby('family')['fruit']\n",
    "train_pop_str = train_popular.apply(lambda r: ' '.join([str(A) for A in r]))\n",
    "train_family_list = list(train_pop_str.index)\n",
    "train_pop_list = train[train.order_count > 11].groupby('family')['fruit'].apply(list)"
   ]
  },
  {
   "cell_type": "code",
   "execution_count": 13,
   "id": "c96e42db",
   "metadata": {
    "hidden": true
   },
   "outputs": [
    {
     "data": {
      "text/plain": [
       "family\n",
       "family_0      [fruit_4470, fruit_4471, fruit_4472, fruit_447...\n",
       "family_1      [fruit_133, fruit_136, fruit_138, fruit_180, f...\n",
       "family_10                                 [fruit_57, fruit_883]\n",
       "family_100    [fruit_1020, fruit_1286, fruit_136, fruit_145,...\n",
       "family_101    [fruit_1149, fruit_182, fruit_189, fruit_345, ...\n",
       "                                    ...                        \n",
       "family_95     [fruit_1168, fruit_1283, fruit_136, fruit_154,...\n",
       "family_96     [fruit_1113, fruit_124, fruit_132, fruit_1424,...\n",
       "family_97     [fruit_1068, fruit_1135, fruit_1149, fruit_115...\n",
       "family_98                               [fruit_1478, fruit_917]\n",
       "family_99     [fruit_1118, fruit_1119, fruit_1222, fruit_124...\n",
       "Name: fruit, Length: 273, dtype: object"
      ]
     },
     "execution_count": 13,
     "metadata": {},
     "output_type": "execute_result"
    }
   ],
   "source": [
    "train_pop_list"
   ]
  },
  {
   "cell_type": "code",
   "execution_count": 14,
   "id": "398fdae6",
   "metadata": {
    "hidden": true
   },
   "outputs": [],
   "source": [
    "# Создаем перечень купленных фруктов семьями в валидационной выборке\n",
    "val_grouped = val.groupby('family')['fruit']\n",
    "val_grouped = val_grouped.apply(lambda r: ' '.join([str(A) for A in r]))\n",
    "\n",
    "# Выведем список купленных фруктов в обучающей выборке\n",
    "val_family_list = list(val_grouped.index)\n",
    "\n",
    "# Таблица по семьям в виде вложенного в ячейку списка\n",
    "val_list = val.groupby('family')['fruit'].apply(list)"
   ]
  },
  {
   "cell_type": "code",
   "execution_count": 15,
   "id": "cf0f3d44",
   "metadata": {
    "hidden": true
   },
   "outputs": [
    {
     "data": {
      "text/plain": [
       "family\n",
       "family_0      [fruit_1517, fruit_2853, fruit_4478, fruit_448...\n",
       "family_100                 [fruit_1202, fruit_3117, fruit_4169]\n",
       "family_101                                         [fruit_1149]\n",
       "family_102                                         [fruit_3568]\n",
       "family_105                 [fruit_1318, fruit_2013, fruit_2599]\n",
       "                                    ...                        \n",
       "family_92                                          [fruit_3455]\n",
       "family_93                                [fruit_189, fruit_621]\n",
       "family_96     [fruit_1113, fruit_143, fruit_1567, fruit_171,...\n",
       "family_97     [fruit_1774, fruit_1862, fruit_2209, fruit_3, ...\n",
       "family_99     [fruit_1118, fruit_1222, fruit_155, fruit_2472...\n",
       "Name: fruit, Length: 128, dtype: object"
      ]
     },
     "execution_count": 15,
     "metadata": {},
     "output_type": "execute_result"
    }
   ],
   "source": [
    "val_list"
   ]
  },
  {
   "cell_type": "code",
   "execution_count": 16,
   "id": "a2074cb1",
   "metadata": {
    "hidden": true
   },
   "outputs": [
    {
     "data": {
      "text/plain": [
       "family\n",
       "family_0      fruit_1517 fruit_2853 fruit_4478 fruit_4481 fr...\n",
       "family_100                     fruit_1202 fruit_3117 fruit_4169\n",
       "family_101                                           fruit_1149\n",
       "family_102                                           fruit_3568\n",
       "family_105                     fruit_1318 fruit_2013 fruit_2599\n",
       "                                    ...                        \n",
       "family_92                                            fruit_3455\n",
       "family_93                                   fruit_189 fruit_621\n",
       "family_96     fruit_1113 fruit_143 fruit_1567 fruit_171 frui...\n",
       "family_97     fruit_1774 fruit_1862 fruit_2209 fruit_3 fruit...\n",
       "family_99     fruit_1118 fruit_1222 fruit_155 fruit_2472 fru...\n",
       "Name: fruit, Length: 128, dtype: object"
      ]
     },
     "execution_count": 16,
     "metadata": {},
     "output_type": "execute_result"
    }
   ],
   "source": [
    "val_grouped"
   ]
  },
  {
   "cell_type": "code",
   "execution_count": 17,
   "id": "5d12e9a2",
   "metadata": {
    "hidden": true
   },
   "outputs": [
    {
     "data": {
      "text/plain": [
       "277"
      ]
     },
     "execution_count": 17,
     "metadata": {},
     "output_type": "execute_result"
    }
   ],
   "source": [
    "# Перечень семей в обучающей выборке\n",
    "len(train_family_list)"
   ]
  },
  {
   "cell_type": "code",
   "execution_count": 18,
   "id": "f88e39ff",
   "metadata": {
    "hidden": true
   },
   "outputs": [
    {
     "data": {
      "text/plain": [
       "128"
      ]
     },
     "execution_count": 18,
     "metadata": {},
     "output_type": "execute_result"
    }
   ],
   "source": [
    "# Перечень семей в валидационной выборке\n",
    "len(val_family_list)"
   ]
  },
  {
   "cell_type": "code",
   "execution_count": 19,
   "id": "6d0afd01",
   "metadata": {
    "hidden": true
   },
   "outputs": [
    {
     "data": {
      "text/plain": [
       "['family_236',\n",
       " 'family_399',\n",
       " 'family_292',\n",
       " 'family_395',\n",
       " 'family_322',\n",
       " 'family_379',\n",
       " 'family_161']"
      ]
     },
     "execution_count": 19,
     "metadata": {},
     "output_type": "execute_result"
    }
   ],
   "source": [
    "# Семьи, которые не покупали в период, выбранный для обучающей выборки\n",
    "list(set(val_family_list) - set(train_family_list))"
   ]
  },
  {
   "cell_type": "code",
   "execution_count": 20,
   "id": "c075ddb9",
   "metadata": {
    "hidden": true
   },
   "outputs": [
    {
     "data": {
      "text/plain": [
       "True"
      ]
     },
     "execution_count": 20,
     "metadata": {},
     "output_type": "execute_result"
    }
   ],
   "source": [
    "val[val.family == 'family_399'].family.iloc[0] not in train_family_list\n",
    "# not in train_family_list"
   ]
  },
  {
   "cell_type": "code",
   "execution_count": 21,
   "id": "a93e94e4",
   "metadata": {
    "hidden": true
   },
   "outputs": [
    {
     "data": {
      "text/plain": [
       "'fruit_1020 fruit_1286 fruit_136 fruit_145 fruit_176 fruit_1776 fruit_19 fruit_2085 fruit_252 fruit_283 fruit_29 fruit_2926 fruit_2991 fruit_331 fruit_3329 fruit_3518 fruit_56 fruit_57'"
      ]
     },
     "execution_count": 21,
     "metadata": {},
     "output_type": "execute_result"
    }
   ],
   "source": [
    "# Выводим строку часто покупаемых фруктов для семьи 100\n",
    "train_pop_str['family_100']"
   ]
  },
  {
   "cell_type": "markdown",
   "id": "975f0053",
   "metadata": {
    "hidden": true
   },
   "source": [
    "### Ранкинг"
   ]
  },
  {
   "cell_type": "markdown",
   "id": "a77d8f16",
   "metadata": {
    "hidden": true
   },
   "source": [
    "Выведем ранкинг наиболее часто покупаемых фруктов в деревне:"
   ]
  },
  {
   "cell_type": "code",
   "execution_count": 22,
   "id": "c3b35955",
   "metadata": {
    "hidden": true
   },
   "outputs": [],
   "source": [
    "train_total_rank = train.copy()\n",
    "train_total_rank = train_total_rank.groupby(['fruit']).sum()\n",
    "train_total_rank = train_total_rank.sort_values(['order_count'], ascending=False)"
   ]
  },
  {
   "cell_type": "code",
   "execution_count": 23,
   "id": "add08029",
   "metadata": {
    "hidden": true
   },
   "outputs": [
    {
     "data": {
      "text/html": [
       "<div>\n",
       "<style scoped>\n",
       "    .dataframe tbody tr th:only-of-type {\n",
       "        vertical-align: middle;\n",
       "    }\n",
       "\n",
       "    .dataframe tbody tr th {\n",
       "        vertical-align: top;\n",
       "    }\n",
       "\n",
       "    .dataframe thead th {\n",
       "        text-align: right;\n",
       "    }\n",
       "</style>\n",
       "<table border=\"1\" class=\"dataframe\">\n",
       "  <thead>\n",
       "    <tr style=\"text-align: right;\">\n",
       "      <th></th>\n",
       "      <th>order_count</th>\n",
       "    </tr>\n",
       "    <tr>\n",
       "      <th>fruit</th>\n",
       "      <th></th>\n",
       "    </tr>\n",
       "  </thead>\n",
       "  <tbody>\n",
       "    <tr>\n",
       "      <th>fruit_19</th>\n",
       "      <td>7912</td>\n",
       "    </tr>\n",
       "    <tr>\n",
       "      <th>fruit_59</th>\n",
       "      <td>7585</td>\n",
       "    </tr>\n",
       "    <tr>\n",
       "      <th>fruit_189</th>\n",
       "      <td>6359</td>\n",
       "    </tr>\n",
       "  </tbody>\n",
       "</table>\n",
       "</div>"
      ],
      "text/plain": [
       "           order_count\n",
       "fruit                 \n",
       "fruit_19          7912\n",
       "fruit_59          7585\n",
       "fruit_189         6359"
      ]
     },
     "execution_count": 23,
     "metadata": {},
     "output_type": "execute_result"
    }
   ],
   "source": [
    "train_total_rank.head(3)"
   ]
  },
  {
   "cell_type": "code",
   "execution_count": 24,
   "id": "dc662662",
   "metadata": {
    "hidden": true
   },
   "outputs": [],
   "source": [
    "train_total_top_3 = list(train_total_rank.index)[:3]"
   ]
  },
  {
   "cell_type": "code",
   "execution_count": 25,
   "id": "e5ca11fe",
   "metadata": {
    "hidden": true
   },
   "outputs": [],
   "source": [
    "train_total_top_5 = list(train_total_rank.index)[:5]"
   ]
  },
  {
   "cell_type": "markdown",
   "id": "bb2facf6",
   "metadata": {
    "hidden": true
   },
   "source": [
    "Для более детального прогнозирования можно вывести наиболее популярных фруктов для каждой семьи в обучающей выборке"
   ]
  },
  {
   "cell_type": "markdown",
   "id": "f6ca44e0",
   "metadata": {
    "hidden": true
   },
   "source": [
    "Создадим список наиболее популярных фруктов в каждой семье в трех форматах (для более удобного пользования в дальнейших действиях)"
   ]
  },
  {
   "cell_type": "code",
   "execution_count": 76,
   "id": "8d225bd8",
   "metadata": {
    "hidden": true
   },
   "outputs": [],
   "source": [
    "train_rank = train.copy()\n",
    "train_top_3_ranking = pd.DataFrame()\n",
    "for i in range(0,3):\n",
    "    test_df = train_rank.copy()\n",
    "    test_df = test_df.sort_values(['family','order_count'], ascending=False)\n",
    "    test_df = test_df.groupby(['family']).nth(i)\n",
    "    train_top_3_ranking = pd.concat([train_top_3_ranking, test_df])\n",
    "\n",
    "train_top_3_ranking.reset_index(inplace=True)\n",
    "train_ranking = train_top_3_ranking.groupby('family')['fruit']\n",
    "\n",
    "train_ranking = train_ranking.apply(lambda r: ' '.join([str(A) for A in r]))\n",
    "train_top_list = train_top_3_ranking.groupby('family')['fruit'].apply(list)\n",
    "train_top_df = train_top_list.reset_index()\n",
    "train_top_df.columns = ['family','top']"
   ]
  },
  {
   "cell_type": "markdown",
   "id": "bb4d7829",
   "metadata": {
    "hidden": true
   },
   "source": [
    "В виде серии с разбитеем на семьи и одной ячейкой. Фрукты разделены пробелами"
   ]
  },
  {
   "cell_type": "code",
   "execution_count": 77,
   "id": "eece8fd3",
   "metadata": {
    "hidden": true
   },
   "outputs": [
    {
     "data": {
      "text/plain": [
       "family\n",
       "family_0      fruit_4478 fruit_4482 fruit_4481\n",
       "family_1         fruit_663 fruit_182 fruit_133\n",
       "family_10         fruit_57 fruit_883 fruit_478\n",
       "family_100       fruit_1776 fruit_176 fruit_19\n",
       "family_101        fruit_182 fruit_59 fruit_189\n",
       "Name: fruit, dtype: object"
      ]
     },
     "execution_count": 77,
     "metadata": {},
     "output_type": "execute_result"
    }
   ],
   "source": [
    "train_ranking.head()"
   ]
  },
  {
   "cell_type": "markdown",
   "id": "347e5d11",
   "metadata": {
    "hidden": true
   },
   "source": [
    "В виде серии с разбитеем на семьи и одной ячейкой в виде списка. Фрукты разделены запятыми"
   ]
  },
  {
   "cell_type": "code",
   "execution_count": 78,
   "id": "91df4cb8",
   "metadata": {
    "hidden": true
   },
   "outputs": [
    {
     "data": {
      "text/plain": [
       "family\n",
       "family_0      [fruit_4478, fruit_4482, fruit_4481]\n",
       "family_1         [fruit_663, fruit_182, fruit_133]\n",
       "family_10         [fruit_57, fruit_883, fruit_478]\n",
       "family_100       [fruit_1776, fruit_176, fruit_19]\n",
       "family_101        [fruit_182, fruit_59, fruit_189]\n",
       "Name: fruit, dtype: object"
      ]
     },
     "execution_count": 78,
     "metadata": {},
     "output_type": "execute_result"
    }
   ],
   "source": [
    "train_top_list.head()"
   ]
  },
  {
   "cell_type": "markdown",
   "id": "ea12fc46",
   "metadata": {
    "hidden": true
   },
   "source": [
    "В виде датафрейма с вложенным списком в ячейке"
   ]
  },
  {
   "cell_type": "code",
   "execution_count": 79,
   "id": "87c65aaa",
   "metadata": {
    "hidden": true
   },
   "outputs": [
    {
     "data": {
      "text/html": [
       "<div>\n",
       "<style scoped>\n",
       "    .dataframe tbody tr th:only-of-type {\n",
       "        vertical-align: middle;\n",
       "    }\n",
       "\n",
       "    .dataframe tbody tr th {\n",
       "        vertical-align: top;\n",
       "    }\n",
       "\n",
       "    .dataframe thead th {\n",
       "        text-align: right;\n",
       "    }\n",
       "</style>\n",
       "<table border=\"1\" class=\"dataframe\">\n",
       "  <thead>\n",
       "    <tr style=\"text-align: right;\">\n",
       "      <th></th>\n",
       "      <th>family</th>\n",
       "      <th>top</th>\n",
       "    </tr>\n",
       "  </thead>\n",
       "  <tbody>\n",
       "    <tr>\n",
       "      <th>0</th>\n",
       "      <td>family_0</td>\n",
       "      <td>[fruit_4478, fruit_4482, fruit_4481]</td>\n",
       "    </tr>\n",
       "    <tr>\n",
       "      <th>1</th>\n",
       "      <td>family_1</td>\n",
       "      <td>[fruit_663, fruit_182, fruit_133]</td>\n",
       "    </tr>\n",
       "    <tr>\n",
       "      <th>2</th>\n",
       "      <td>family_10</td>\n",
       "      <td>[fruit_57, fruit_883, fruit_478]</td>\n",
       "    </tr>\n",
       "    <tr>\n",
       "      <th>3</th>\n",
       "      <td>family_100</td>\n",
       "      <td>[fruit_1776, fruit_176, fruit_19]</td>\n",
       "    </tr>\n",
       "    <tr>\n",
       "      <th>4</th>\n",
       "      <td>family_101</td>\n",
       "      <td>[fruit_182, fruit_59, fruit_189]</td>\n",
       "    </tr>\n",
       "  </tbody>\n",
       "</table>\n",
       "</div>"
      ],
      "text/plain": [
       "       family                                   top\n",
       "0    family_0  [fruit_4478, fruit_4482, fruit_4481]\n",
       "1    family_1     [fruit_663, fruit_182, fruit_133]\n",
       "2   family_10      [fruit_57, fruit_883, fruit_478]\n",
       "3  family_100     [fruit_1776, fruit_176, fruit_19]\n",
       "4  family_101      [fruit_182, fruit_59, fruit_189]"
      ]
     },
     "execution_count": 79,
     "metadata": {},
     "output_type": "execute_result"
    }
   ],
   "source": [
    "train_top_df.head()"
   ]
  },
  {
   "cell_type": "markdown",
   "id": "bc88be61",
   "metadata": {
    "hidden": true
   },
   "source": [
    "Список купленных фруктов в валидационной выборке будет служить для определения точности предсказания"
   ]
  },
  {
   "cell_type": "code",
   "execution_count": 37,
   "id": "7ad9795b",
   "metadata": {
    "hidden": true
   },
   "outputs": [
    {
     "data": {
      "text/plain": [
       "family\n",
       "family_0      fruit_1517 fruit_2853 fruit_4478 fruit_4481 fr...\n",
       "family_100                     fruit_1202 fruit_3117 fruit_4169\n",
       "family_101                                           fruit_1149\n",
       "family_102                                           fruit_3568\n",
       "family_105                     fruit_1318 fruit_2013 fruit_2599\n",
       "Name: fruit, dtype: object"
      ]
     },
     "execution_count": 37,
     "metadata": {},
     "output_type": "execute_result"
    }
   ],
   "source": [
    "val_grouped.head()"
   ]
  },
  {
   "cell_type": "code",
   "execution_count": 38,
   "id": "4e594039",
   "metadata": {
    "hidden": true
   },
   "outputs": [
    {
     "data": {
      "text/plain": [
       "family\n",
       "family_0      [fruit_1517, fruit_2853, fruit_4478, fruit_448...\n",
       "family_100                 [fruit_1202, fruit_3117, fruit_4169]\n",
       "family_101                                         [fruit_1149]\n",
       "family_102                                         [fruit_3568]\n",
       "family_105                 [fruit_1318, fruit_2013, fruit_2599]\n",
       "Name: fruit, dtype: object"
      ]
     },
     "execution_count": 38,
     "metadata": {},
     "output_type": "execute_result"
    }
   ],
   "source": [
    "val_list.head()"
   ]
  },
  {
   "cell_type": "code",
   "execution_count": 39,
   "id": "1a814d51",
   "metadata": {
    "hidden": true
   },
   "outputs": [],
   "source": [
    "val_df = val_list.reset_index()\n",
    "val_df.columns = ['family','true_top']"
   ]
  },
  {
   "cell_type": "code",
   "execution_count": 40,
   "id": "5f9930de",
   "metadata": {
    "hidden": true
   },
   "outputs": [
    {
     "data": {
      "text/html": [
       "<div>\n",
       "<style scoped>\n",
       "    .dataframe tbody tr th:only-of-type {\n",
       "        vertical-align: middle;\n",
       "    }\n",
       "\n",
       "    .dataframe tbody tr th {\n",
       "        vertical-align: top;\n",
       "    }\n",
       "\n",
       "    .dataframe thead th {\n",
       "        text-align: right;\n",
       "    }\n",
       "</style>\n",
       "<table border=\"1\" class=\"dataframe\">\n",
       "  <thead>\n",
       "    <tr style=\"text-align: right;\">\n",
       "      <th></th>\n",
       "      <th>family</th>\n",
       "      <th>true_top</th>\n",
       "    </tr>\n",
       "  </thead>\n",
       "  <tbody>\n",
       "    <tr>\n",
       "      <th>0</th>\n",
       "      <td>family_0</td>\n",
       "      <td>[fruit_1517, fruit_2853, fruit_4478, fruit_448...</td>\n",
       "    </tr>\n",
       "    <tr>\n",
       "      <th>1</th>\n",
       "      <td>family_100</td>\n",
       "      <td>[fruit_1202, fruit_3117, fruit_4169]</td>\n",
       "    </tr>\n",
       "    <tr>\n",
       "      <th>2</th>\n",
       "      <td>family_101</td>\n",
       "      <td>[fruit_1149]</td>\n",
       "    </tr>\n",
       "    <tr>\n",
       "      <th>3</th>\n",
       "      <td>family_102</td>\n",
       "      <td>[fruit_3568]</td>\n",
       "    </tr>\n",
       "    <tr>\n",
       "      <th>4</th>\n",
       "      <td>family_105</td>\n",
       "      <td>[fruit_1318, fruit_2013, fruit_2599]</td>\n",
       "    </tr>\n",
       "  </tbody>\n",
       "</table>\n",
       "</div>"
      ],
      "text/plain": [
       "       family                                           true_top\n",
       "0    family_0  [fruit_1517, fruit_2853, fruit_4478, fruit_448...\n",
       "1  family_100               [fruit_1202, fruit_3117, fruit_4169]\n",
       "2  family_101                                       [fruit_1149]\n",
       "3  family_102                                       [fruit_3568]\n",
       "4  family_105               [fruit_1318, fruit_2013, fruit_2599]"
      ]
     },
     "execution_count": 40,
     "metadata": {},
     "output_type": "execute_result"
    }
   ],
   "source": [
    "val_df.head()"
   ]
  },
  {
   "cell_type": "markdown",
   "id": "c027d397",
   "metadata": {
    "heading_collapsed": true
   },
   "source": [
    "# III. Создание рекомендации "
   ]
  },
  {
   "cell_type": "markdown",
   "id": "46f32c34",
   "metadata": {
    "hidden": true
   },
   "source": [
    "### 1. Построение ассоциативных правил"
   ]
  },
  {
   "cell_type": "markdown",
   "id": "5048b4a0",
   "metadata": {
    "hidden": true
   },
   "source": [
    "Правила можно изменять, модифицируя support, confidence или lift."
   ]
  },
  {
   "cell_type": "code",
   "execution_count": 102,
   "id": "17793678",
   "metadata": {
    "hidden": true
   },
   "outputs": [],
   "source": [
    "# Создаем ассоциативные правила\n",
    "association_rules = apyori.apriori(train_pop_str.apply(lambda r: r.split(' ')), \n",
    "                                   min_support=0.025, \n",
    "                                   min_confidence=0.1, \n",
    "                                   min_lift=3, \n",
    "                                   min_length=2)"
   ]
  },
  {
   "cell_type": "markdown",
   "id": "e2591151",
   "metadata": {
    "hidden": true
   },
   "source": [
    "Ассоциативые правила необходимо преобразовать в таблицу рекомендаций, чтобы правила были более удобными для прочиеня"
   ]
  },
  {
   "cell_type": "code",
   "execution_count": 103,
   "id": "494604ed",
   "metadata": {
    "hidden": true
   },
   "outputs": [],
   "source": [
    "# Функция для вывода рекомендации на экран\n",
    "asr_df = pd.DataFrame(columns = ['from', 'to', 'confidence', 'support', 'lift'])\n",
    "for item in association_rules:\n",
    "    pair = item[0] \n",
    "    items = [x for x in pair]\n",
    "    asr_df.loc[len(asr_df), :] =  ' '.join(list(item[2][0][0])), \\\n",
    "                                  ' '.join(list(item[2][0][1])),\\\n",
    "                                  item[2][0][2], item[1], item[2][0][3]"
   ]
  },
  {
   "cell_type": "markdown",
   "id": "43921201",
   "metadata": {
    "hidden": true
   },
   "source": [
    "После экспериментов были выбраны параметры, которые улучшали precision  \n",
    "Посмотрим на количество созданных правил"
   ]
  },
  {
   "cell_type": "code",
   "execution_count": 104,
   "id": "0d4a6589",
   "metadata": {
    "hidden": true
   },
   "outputs": [
    {
     "data": {
      "text/plain": [
       "10687"
      ]
     },
     "execution_count": 104,
     "metadata": {},
     "output_type": "execute_result"
    }
   ],
   "source": [
    "len(asr_df)"
   ]
  },
  {
   "cell_type": "code",
   "execution_count": 54,
   "id": "6cf094ce",
   "metadata": {
    "hidden": true
   },
   "outputs": [
    {
     "data": {
      "text/html": [
       "<div>\n",
       "<style scoped>\n",
       "    .dataframe tbody tr th:only-of-type {\n",
       "        vertical-align: middle;\n",
       "    }\n",
       "\n",
       "    .dataframe tbody tr th {\n",
       "        vertical-align: top;\n",
       "    }\n",
       "\n",
       "    .dataframe thead th {\n",
       "        text-align: right;\n",
       "    }\n",
       "</style>\n",
       "<table border=\"1\" class=\"dataframe\">\n",
       "  <thead>\n",
       "    <tr style=\"text-align: right;\">\n",
       "      <th></th>\n",
       "      <th>from</th>\n",
       "      <th>to</th>\n",
       "      <th>confidence</th>\n",
       "      <th>support</th>\n",
       "      <th>lift</th>\n",
       "    </tr>\n",
       "  </thead>\n",
       "  <tbody>\n",
       "    <tr>\n",
       "      <th>1486</th>\n",
       "      <td>fruit_469</td>\n",
       "      <td>fruit_642 fruit_81</td>\n",
       "      <td>1.0</td>\n",
       "      <td>0.028881</td>\n",
       "      <td>34.625</td>\n",
       "    </tr>\n",
       "    <tr>\n",
       "      <th>1488</th>\n",
       "      <td>fruit_469</td>\n",
       "      <td>fruit_642 fruit_83</td>\n",
       "      <td>1.0</td>\n",
       "      <td>0.028881</td>\n",
       "      <td>34.625</td>\n",
       "    </tr>\n",
       "    <tr>\n",
       "      <th>3026</th>\n",
       "      <td>fruit_469</td>\n",
       "      <td>fruit_501 fruit_642 fruit_81</td>\n",
       "      <td>1.0</td>\n",
       "      <td>0.028881</td>\n",
       "      <td>34.625</td>\n",
       "    </tr>\n",
       "    <tr>\n",
       "      <th>3028</th>\n",
       "      <td>fruit_469</td>\n",
       "      <td>fruit_501 fruit_642 fruit_83</td>\n",
       "      <td>1.0</td>\n",
       "      <td>0.028881</td>\n",
       "      <td>34.625</td>\n",
       "    </tr>\n",
       "    <tr>\n",
       "      <th>3046</th>\n",
       "      <td>fruit_469</td>\n",
       "      <td>fruit_642 fruit_81 fruit_76</td>\n",
       "      <td>1.0</td>\n",
       "      <td>0.028881</td>\n",
       "      <td>34.625</td>\n",
       "    </tr>\n",
       "    <tr>\n",
       "      <th>3048</th>\n",
       "      <td>fruit_469</td>\n",
       "      <td>fruit_642 fruit_83 fruit_76</td>\n",
       "      <td>1.0</td>\n",
       "      <td>0.028881</td>\n",
       "      <td>34.625</td>\n",
       "    </tr>\n",
       "    <tr>\n",
       "      <th>3050</th>\n",
       "      <td>fruit_469</td>\n",
       "      <td>fruit_642 fruit_81 fruit_77</td>\n",
       "      <td>1.0</td>\n",
       "      <td>0.028881</td>\n",
       "      <td>34.625</td>\n",
       "    </tr>\n",
       "    <tr>\n",
       "      <th>3052</th>\n",
       "      <td>fruit_469</td>\n",
       "      <td>fruit_642 fruit_83 fruit_77</td>\n",
       "      <td>1.0</td>\n",
       "      <td>0.028881</td>\n",
       "      <td>34.625</td>\n",
       "    </tr>\n",
       "    <tr>\n",
       "      <th>3053</th>\n",
       "      <td>fruit_469</td>\n",
       "      <td>fruit_642 fruit_81 fruit_79</td>\n",
       "      <td>1.0</td>\n",
       "      <td>0.028881</td>\n",
       "      <td>34.625</td>\n",
       "    </tr>\n",
       "    <tr>\n",
       "      <th>3055</th>\n",
       "      <td>fruit_469</td>\n",
       "      <td>fruit_642 fruit_83 fruit_79</td>\n",
       "      <td>1.0</td>\n",
       "      <td>0.028881</td>\n",
       "      <td>34.625</td>\n",
       "    </tr>\n",
       "  </tbody>\n",
       "</table>\n",
       "</div>"
      ],
      "text/plain": [
       "           from                            to confidence   support    lift\n",
       "1486  fruit_469            fruit_642 fruit_81        1.0  0.028881  34.625\n",
       "1488  fruit_469            fruit_642 fruit_83        1.0  0.028881  34.625\n",
       "3026  fruit_469  fruit_501 fruit_642 fruit_81        1.0  0.028881  34.625\n",
       "3028  fruit_469  fruit_501 fruit_642 fruit_83        1.0  0.028881  34.625\n",
       "3046  fruit_469   fruit_642 fruit_81 fruit_76        1.0  0.028881  34.625\n",
       "3048  fruit_469   fruit_642 fruit_83 fruit_76        1.0  0.028881  34.625\n",
       "3050  fruit_469   fruit_642 fruit_81 fruit_77        1.0  0.028881  34.625\n",
       "3052  fruit_469   fruit_642 fruit_83 fruit_77        1.0  0.028881  34.625\n",
       "3053  fruit_469   fruit_642 fruit_81 fruit_79        1.0  0.028881  34.625\n",
       "3055  fruit_469   fruit_642 fruit_83 fruit_79        1.0  0.028881  34.625"
      ]
     },
     "execution_count": 54,
     "metadata": {},
     "output_type": "execute_result"
    }
   ],
   "source": [
    "asr_df.sort_values(['lift','confidence'], ascending=False).head(10)"
   ]
  },
  {
   "cell_type": "code",
   "execution_count": 99,
   "id": "d12e8ec7",
   "metadata": {
    "hidden": true
   },
   "outputs": [
    {
     "data": {
      "text/html": [
       "<div>\n",
       "<style scoped>\n",
       "    .dataframe tbody tr th:only-of-type {\n",
       "        vertical-align: middle;\n",
       "    }\n",
       "\n",
       "    .dataframe tbody tr th {\n",
       "        vertical-align: top;\n",
       "    }\n",
       "\n",
       "    .dataframe thead th {\n",
       "        text-align: right;\n",
       "    }\n",
       "</style>\n",
       "<table border=\"1\" class=\"dataframe\">\n",
       "  <thead>\n",
       "    <tr style=\"text-align: right;\">\n",
       "      <th></th>\n",
       "      <th>from</th>\n",
       "      <th>to</th>\n",
       "      <th>confidence</th>\n",
       "      <th>support</th>\n",
       "      <th>lift</th>\n",
       "    </tr>\n",
       "  </thead>\n",
       "  <tbody>\n",
       "    <tr>\n",
       "      <th>3055</th>\n",
       "      <td>fruit_469</td>\n",
       "      <td>fruit_642 fruit_83 fruit_79</td>\n",
       "      <td>1.0</td>\n",
       "      <td>0.028881</td>\n",
       "      <td>34.625</td>\n",
       "    </tr>\n",
       "    <tr>\n",
       "      <th>3052</th>\n",
       "      <td>fruit_469</td>\n",
       "      <td>fruit_642 fruit_83 fruit_77</td>\n",
       "      <td>1.0</td>\n",
       "      <td>0.028881</td>\n",
       "      <td>34.625</td>\n",
       "    </tr>\n",
       "    <tr>\n",
       "      <th>3048</th>\n",
       "      <td>fruit_469</td>\n",
       "      <td>fruit_642 fruit_83 fruit_76</td>\n",
       "      <td>1.0</td>\n",
       "      <td>0.028881</td>\n",
       "      <td>34.625</td>\n",
       "    </tr>\n",
       "    <tr>\n",
       "      <th>1488</th>\n",
       "      <td>fruit_469</td>\n",
       "      <td>fruit_642 fruit_83</td>\n",
       "      <td>1.0</td>\n",
       "      <td>0.028881</td>\n",
       "      <td>34.625</td>\n",
       "    </tr>\n",
       "    <tr>\n",
       "      <th>3053</th>\n",
       "      <td>fruit_469</td>\n",
       "      <td>fruit_642 fruit_81 fruit_79</td>\n",
       "      <td>1.0</td>\n",
       "      <td>0.028881</td>\n",
       "      <td>34.625</td>\n",
       "    </tr>\n",
       "    <tr>\n",
       "      <th>3050</th>\n",
       "      <td>fruit_469</td>\n",
       "      <td>fruit_642 fruit_81 fruit_77</td>\n",
       "      <td>1.0</td>\n",
       "      <td>0.028881</td>\n",
       "      <td>34.625</td>\n",
       "    </tr>\n",
       "    <tr>\n",
       "      <th>3046</th>\n",
       "      <td>fruit_469</td>\n",
       "      <td>fruit_642 fruit_81 fruit_76</td>\n",
       "      <td>1.0</td>\n",
       "      <td>0.028881</td>\n",
       "      <td>34.625</td>\n",
       "    </tr>\n",
       "    <tr>\n",
       "      <th>1486</th>\n",
       "      <td>fruit_469</td>\n",
       "      <td>fruit_642 fruit_81</td>\n",
       "      <td>1.0</td>\n",
       "      <td>0.028881</td>\n",
       "      <td>34.625</td>\n",
       "    </tr>\n",
       "    <tr>\n",
       "      <th>3028</th>\n",
       "      <td>fruit_469</td>\n",
       "      <td>fruit_501 fruit_642 fruit_83</td>\n",
       "      <td>1.0</td>\n",
       "      <td>0.028881</td>\n",
       "      <td>34.625</td>\n",
       "    </tr>\n",
       "    <tr>\n",
       "      <th>3026</th>\n",
       "      <td>fruit_469</td>\n",
       "      <td>fruit_501 fruit_642 fruit_81</td>\n",
       "      <td>1.0</td>\n",
       "      <td>0.028881</td>\n",
       "      <td>34.625</td>\n",
       "    </tr>\n",
       "  </tbody>\n",
       "</table>\n",
       "</div>"
      ],
      "text/plain": [
       "           from                            to confidence   support    lift\n",
       "3055  fruit_469   fruit_642 fruit_83 fruit_79        1.0  0.028881  34.625\n",
       "3052  fruit_469   fruit_642 fruit_83 fruit_77        1.0  0.028881  34.625\n",
       "3048  fruit_469   fruit_642 fruit_83 fruit_76        1.0  0.028881  34.625\n",
       "1488  fruit_469            fruit_642 fruit_83        1.0  0.028881  34.625\n",
       "3053  fruit_469   fruit_642 fruit_81 fruit_79        1.0  0.028881  34.625\n",
       "3050  fruit_469   fruit_642 fruit_81 fruit_77        1.0  0.028881  34.625\n",
       "3046  fruit_469   fruit_642 fruit_81 fruit_76        1.0  0.028881  34.625\n",
       "1486  fruit_469            fruit_642 fruit_81        1.0  0.028881  34.625\n",
       "3028  fruit_469  fruit_501 fruit_642 fruit_83        1.0  0.028881  34.625\n",
       "3026  fruit_469  fruit_501 fruit_642 fruit_81        1.0  0.028881  34.625"
      ]
     },
     "execution_count": 99,
     "metadata": {},
     "output_type": "execute_result"
    }
   ],
   "source": [
    "asr_df.sort_values(['to'], ascending=False).head(10)"
   ]
  },
  {
   "cell_type": "code",
   "execution_count": 91,
   "id": "7be7aad3",
   "metadata": {
    "hidden": true
   },
   "outputs": [],
   "source": [
    "asr_df = asr_df.sort_values(['lift','confidence'], ascending=False).head(10)"
   ]
  },
  {
   "cell_type": "code",
   "execution_count": 98,
   "id": "77718c6f",
   "metadata": {
    "hidden": true
   },
   "outputs": [
    {
     "data": {
      "text/plain": [
       "from                   fruit_469\n",
       "to            fruit_642 fruit_83\n",
       "confidence                   1.0\n",
       "support                 0.028881\n",
       "lift                      34.625\n",
       "Name: 1488, dtype: object"
      ]
     },
     "execution_count": 98,
     "metadata": {},
     "output_type": "execute_result"
    }
   ],
   "source": [
    "asr_df.iloc[1]"
   ]
  },
  {
   "cell_type": "markdown",
   "id": "0b93abfe",
   "metadata": {
    "hidden": true
   },
   "source": [
    "Для какого количества фруктов созданы рекомендации:"
   ]
  },
  {
   "cell_type": "code",
   "execution_count": 105,
   "id": "30115e3a",
   "metadata": {
    "hidden": true
   },
   "outputs": [
    {
     "data": {
      "text/plain": [
       "78"
      ]
     },
     "execution_count": 105,
     "metadata": {},
     "output_type": "execute_result"
    }
   ],
   "source": [
    "len(asr_df['from'].value_counts())"
   ]
  },
  {
   "cell_type": "markdown",
   "id": "e6211d6f",
   "metadata": {
    "hidden": true
   },
   "source": [
    "Всего в валидационной выборке уникальных фруктов"
   ]
  },
  {
   "cell_type": "code",
   "execution_count": 106,
   "id": "20f11702",
   "metadata": {
    "hidden": true
   },
   "outputs": [
    {
     "data": {
      "text/plain": [
       "494"
      ]
     },
     "execution_count": 106,
     "metadata": {},
     "output_type": "execute_result"
    }
   ],
   "source": [
    "val.fruit.nunique()"
   ]
  },
  {
   "cell_type": "markdown",
   "id": "1cd9c766",
   "metadata": {
    "hidden": true
   },
   "source": [
    "### 2. Предсказания"
   ]
  },
  {
   "cell_type": "markdown",
   "id": "9932dbc5",
   "metadata": {
    "hidden": true
   },
   "source": [
    "Создаем датафрейм с предсказаниями на основе рекоммендации априори. \n",
    "* Выбираем правила на основании фруктов, которые семья относительно часто покупала до этого (train_pop_str). \n",
    "* В случае, если в ассоцитивых правилах не было фруктов, которые покупала семья, предлагаем семье фрукты, которые ранее семья чаще всего покупала. \n",
    "* Есть также семьи, которые не покупали в период, который был выбран за обучающую выборку. Для таких семей можно порекомендовать наиболее популярные продукты во всей деревне (train_total_top_3)"
   ]
  },
  {
   "cell_type": "code",
   "execution_count": 80,
   "id": "9d06e5da",
   "metadata": {
    "hidden": true
   },
   "outputs": [
    {
     "data": {
      "text/html": [
       "<div>\n",
       "<style scoped>\n",
       "    .dataframe tbody tr th:only-of-type {\n",
       "        vertical-align: middle;\n",
       "    }\n",
       "\n",
       "    .dataframe tbody tr th {\n",
       "        vertical-align: top;\n",
       "    }\n",
       "\n",
       "    .dataframe thead th {\n",
       "        text-align: right;\n",
       "    }\n",
       "</style>\n",
       "<table border=\"1\" class=\"dataframe\">\n",
       "  <thead>\n",
       "    <tr style=\"text-align: right;\">\n",
       "      <th></th>\n",
       "      <th>family</th>\n",
       "      <th>top</th>\n",
       "    </tr>\n",
       "  </thead>\n",
       "  <tbody>\n",
       "    <tr>\n",
       "      <th>0</th>\n",
       "      <td>family_0</td>\n",
       "      <td>[fruit_4478, fruit_4482, fruit_4481]</td>\n",
       "    </tr>\n",
       "    <tr>\n",
       "      <th>1</th>\n",
       "      <td>family_1</td>\n",
       "      <td>[fruit_663, fruit_182, fruit_133]</td>\n",
       "    </tr>\n",
       "    <tr>\n",
       "      <th>2</th>\n",
       "      <td>family_10</td>\n",
       "      <td>[fruit_57, fruit_883, fruit_478]</td>\n",
       "    </tr>\n",
       "    <tr>\n",
       "      <th>3</th>\n",
       "      <td>family_100</td>\n",
       "      <td>[fruit_1776, fruit_176, fruit_19]</td>\n",
       "    </tr>\n",
       "    <tr>\n",
       "      <th>4</th>\n",
       "      <td>family_101</td>\n",
       "      <td>[fruit_182, fruit_59, fruit_189]</td>\n",
       "    </tr>\n",
       "  </tbody>\n",
       "</table>\n",
       "</div>"
      ],
      "text/plain": [
       "       family                                   top\n",
       "0    family_0  [fruit_4478, fruit_4482, fruit_4481]\n",
       "1    family_1     [fruit_663, fruit_182, fruit_133]\n",
       "2   family_10      [fruit_57, fruit_883, fruit_478]\n",
       "3  family_100     [fruit_1776, fruit_176, fruit_19]\n",
       "4  family_101      [fruit_182, fruit_59, fruit_189]"
      ]
     },
     "execution_count": 80,
     "metadata": {},
     "output_type": "execute_result"
    }
   ],
   "source": [
    "train_top_df.head()"
   ]
  },
  {
   "cell_type": "code",
   "execution_count": 81,
   "id": "eace3013",
   "metadata": {
    "hidden": true
   },
   "outputs": [
    {
     "data": {
      "text/plain": [
       "['fruit_19', 'fruit_59', 'fruit_189']"
      ]
     },
     "execution_count": 81,
     "metadata": {},
     "output_type": "execute_result"
    }
   ],
   "source": [
    "# Это три из наиболее популярных фруктов, которые можно рекомендовать новым семьям\n",
    "train_total_top_3"
   ]
  },
  {
   "cell_type": "code",
   "execution_count": 82,
   "id": "f472c2d9",
   "metadata": {
    "hidden": true
   },
   "outputs": [],
   "source": [
    "# Семьи, которые не покупали в периоде обучающей выбоки. Т.е. новые клиенты\n",
    "missing = list(set(val_family_list) - set(train_family_list))"
   ]
  },
  {
   "cell_type": "code",
   "execution_count": 83,
   "id": "c47fbb5d",
   "metadata": {
    "hidden": true
   },
   "outputs": [
    {
     "data": {
      "text/plain": [
       "['family_236',\n",
       " 'family_399',\n",
       " 'family_292',\n",
       " 'family_395',\n",
       " 'family_322',\n",
       " 'family_379',\n",
       " 'family_161']"
      ]
     },
     "execution_count": 83,
     "metadata": {},
     "output_type": "execute_result"
    }
   ],
   "source": [
    "missing"
   ]
  },
  {
   "cell_type": "markdown",
   "id": "26778591",
   "metadata": {
    "heading_collapsed": true,
    "hidden": true
   },
   "source": [
    "#### 2.1. Рекомендации на основании выбранного фрукта"
   ]
  },
  {
   "cell_type": "markdown",
   "id": "65dd41c3",
   "metadata": {
    "hidden": true
   },
   "source": [
    "Принцип действия такой: если семье нравится один фрукт, то предложим фрукты, которые наиболее часто ассоциируются с этим фруктом.  \n",
    "Пример рекомендации для кого-то, кто любит (в нашем случае \"покупает\") выбранный продукт"
   ]
  },
  {
   "cell_type": "code",
   "execution_count": 72,
   "id": "886616ca",
   "metadata": {
    "hidden": true
   },
   "outputs": [
    {
     "data": {
      "text/html": [
       "<div>\n",
       "<style scoped>\n",
       "    .dataframe tbody tr th:only-of-type {\n",
       "        vertical-align: middle;\n",
       "    }\n",
       "\n",
       "    .dataframe tbody tr th {\n",
       "        vertical-align: top;\n",
       "    }\n",
       "\n",
       "    .dataframe thead th {\n",
       "        text-align: right;\n",
       "    }\n",
       "</style>\n",
       "<table border=\"1\" class=\"dataframe\">\n",
       "  <thead>\n",
       "    <tr style=\"text-align: right;\">\n",
       "      <th></th>\n",
       "      <th>from</th>\n",
       "      <th>to</th>\n",
       "      <th>confidence</th>\n",
       "      <th>support</th>\n",
       "      <th>lift</th>\n",
       "    </tr>\n",
       "  </thead>\n",
       "  <tbody>\n",
       "    <tr>\n",
       "      <th>377</th>\n",
       "      <td>fruit_407</td>\n",
       "      <td>fruit_471</td>\n",
       "      <td>0.466667</td>\n",
       "      <td>0.025271</td>\n",
       "      <td>7.181481</td>\n",
       "    </tr>\n",
       "    <tr>\n",
       "      <th>378</th>\n",
       "      <td>fruit_407</td>\n",
       "      <td>fruit_57</td>\n",
       "      <td>0.6</td>\n",
       "      <td>0.032491</td>\n",
       "      <td>4.616667</td>\n",
       "    </tr>\n",
       "  </tbody>\n",
       "</table>\n",
       "</div>"
      ],
      "text/plain": [
       "          from         to confidence   support      lift\n",
       "377  fruit_407  fruit_471   0.466667  0.025271  7.181481\n",
       "378  fruit_407   fruit_57        0.6  0.032491  4.616667"
      ]
     },
     "execution_count": 72,
     "metadata": {},
     "output_type": "execute_result"
    }
   ],
   "source": [
    "asr_df[asr_df['from'] == 'fruit_407']"
   ]
  },
  {
   "cell_type": "markdown",
   "id": "ab02233d",
   "metadata": {
    "hidden": true
   },
   "source": [
    "Создадим датафрейм с рекомендациями по выбранному фрукту"
   ]
  },
  {
   "cell_type": "code",
   "execution_count": null,
   "id": "e857b960",
   "metadata": {
    "hidden": true
   },
   "outputs": [],
   "source": [
    "test = ['fruit_407']"
   ]
  },
  {
   "cell_type": "code",
   "execution_count": 69,
   "id": "4ea1a143",
   "metadata": {
    "hidden": true
   },
   "outputs": [],
   "source": [
    "recom = pd.DataFrame(columns = ['fruit','recommended'])\n",
    "list_from = []\n",
    "\n",
    "for fruit in asr_df['from'].unique():\n",
    "# for fruit in test:\n",
    "    element = []\n",
    "    base = asr_df[asr_df['from'] == fruit]\n",
    "    title_1 = fruit\n",
    "    x = 0\n",
    "    for i in base['to'].unique():\n",
    "        if i not in element:\n",
    "            element.append(i)\n",
    "            x += 1\n",
    "            if x > 5:\n",
    "                break\n",
    "        else:\n",
    "            continue\n",
    "    new_row = {'fruit':title_1, 'recommended':element}\n",
    "\n",
    "    recom = recom.append(new_row,ignore_index=True)"
   ]
  },
  {
   "cell_type": "code",
   "execution_count": 71,
   "id": "32d0f97c",
   "metadata": {
    "hidden": true
   },
   "outputs": [
    {
     "data": {
      "text/html": [
       "<div>\n",
       "<style scoped>\n",
       "    .dataframe tbody tr th:only-of-type {\n",
       "        vertical-align: middle;\n",
       "    }\n",
       "\n",
       "    .dataframe tbody tr th {\n",
       "        vertical-align: top;\n",
       "    }\n",
       "\n",
       "    .dataframe thead th {\n",
       "        text-align: right;\n",
       "    }\n",
       "</style>\n",
       "<table border=\"1\" class=\"dataframe\">\n",
       "  <thead>\n",
       "    <tr style=\"text-align: right;\">\n",
       "      <th></th>\n",
       "      <th>fruit</th>\n",
       "      <th>recommended</th>\n",
       "    </tr>\n",
       "  </thead>\n",
       "  <tbody>\n",
       "    <tr>\n",
       "      <th>0</th>\n",
       "      <td>fruit_123</td>\n",
       "      <td>[fruit_133, fruit_154, fruit_19, fruit_193, fr...</td>\n",
       "    </tr>\n",
       "    <tr>\n",
       "      <th>1</th>\n",
       "      <td>fruit_124</td>\n",
       "      <td>[fruit_142, fruit_177, fruit_193, fruit_200, f...</td>\n",
       "    </tr>\n",
       "    <tr>\n",
       "      <th>2</th>\n",
       "      <td>fruit_1272</td>\n",
       "      <td>[fruit_133, fruit_154, fruit_2150, fruit_271, ...</td>\n",
       "    </tr>\n",
       "    <tr>\n",
       "      <th>3</th>\n",
       "      <td>fruit_131</td>\n",
       "      <td>[fruit_154, fruit_2366, fruit_2366 fruit_59]</td>\n",
       "    </tr>\n",
       "    <tr>\n",
       "      <th>4</th>\n",
       "      <td>fruit_132</td>\n",
       "      <td>[fruit_189, fruit_193, fruit_568, fruit_133 fr...</td>\n",
       "    </tr>\n",
       "  </tbody>\n",
       "</table>\n",
       "</div>"
      ],
      "text/plain": [
       "        fruit                                        recommended\n",
       "0   fruit_123  [fruit_133, fruit_154, fruit_19, fruit_193, fr...\n",
       "1   fruit_124  [fruit_142, fruit_177, fruit_193, fruit_200, f...\n",
       "2  fruit_1272  [fruit_133, fruit_154, fruit_2150, fruit_271, ...\n",
       "3   fruit_131       [fruit_154, fruit_2366, fruit_2366 fruit_59]\n",
       "4   fruit_132  [fruit_189, fruit_193, fruit_568, fruit_133 fr..."
      ]
     },
     "execution_count": 71,
     "metadata": {},
     "output_type": "execute_result"
    }
   ],
   "source": [
    "# Так выглядит таблица рекомендаций\n",
    "recom.head()"
   ]
  },
  {
   "cell_type": "code",
   "execution_count": null,
   "id": "c01aea57",
   "metadata": {
    "hidden": true
   },
   "outputs": [],
   "source": [
    "recom.to_csv('recomm_fruit.csv', index=False)"
   ]
  },
  {
   "cell_type": "markdown",
   "id": "ae21a43f",
   "metadata": {
    "hidden": true
   },
   "source": [
    "#### 2.2. Рекомендации на основании прошлых заказов семьи"
   ]
  },
  {
   "cell_type": "markdown",
   "id": "128a2e00",
   "metadata": {
    "hidden": true
   },
   "source": [
    "Создание датафрейма предсказаний"
   ]
  },
  {
   "cell_type": "code",
   "execution_count": 92,
   "id": "b2de3e9a",
   "metadata": {
    "hidden": true
   },
   "outputs": [],
   "source": [
    "missing = list(set(val_family_list) - set(train_family_list))\n",
    "\n",
    "result = pd.DataFrame(columns = ['family','recommended'])\n",
    "for family in val_family_list:\n",
    "\n",
    "    element = []\n",
    "    x = 0\n",
    "    y = 0\n",
    "    list_1 = train_top_list.loc[family]\n",
    "    list_2 = asr_df['from'].unique()\n",
    "    common = list(set(list_1).intersection(list_2))\n",
    "    \n",
    "    if family in missing:\n",
    "        for l in train_total_top_3:\n",
    "            element.append(l)\n",
    "        new_row = {'family':family, 'recommended':element}\n",
    "\n",
    "    elif len(common) > 0:\n",
    "        for i in asr_df.index:\n",
    "            if asr_df['from'].loc[i].split(' ')[0] in train_pop_str.loc[family]:\n",
    "                if asr_df['to'].loc[i] not in element:\n",
    "                    element.append(asr_df['to'].loc[i])\n",
    "                    x += 1\n",
    "                    if x >= 3:\n",
    "                        break\n",
    "                else:\n",
    "                    continue\n",
    "        new_row = {'family':family, 'recommended':element}\n",
    "    else:\n",
    "        for j in train_top_df[train_top_df.family == family].top:\n",
    "            for k in j:\n",
    "                element.append(k)\n",
    "        new_row = {'family':family, 'recommended':element}       \n",
    "        \n",
    "    result = result.append(new_row,ignore_index=True)"
   ]
  },
  {
   "cell_type": "code",
   "execution_count": 107,
   "id": "b39baf37",
   "metadata": {
    "hidden": true
   },
   "outputs": [
    {
     "data": {
      "text/html": [
       "<div>\n",
       "<style scoped>\n",
       "    .dataframe tbody tr th:only-of-type {\n",
       "        vertical-align: middle;\n",
       "    }\n",
       "\n",
       "    .dataframe tbody tr th {\n",
       "        vertical-align: top;\n",
       "    }\n",
       "\n",
       "    .dataframe thead th {\n",
       "        text-align: right;\n",
       "    }\n",
       "</style>\n",
       "<table border=\"1\" class=\"dataframe\">\n",
       "  <thead>\n",
       "    <tr style=\"text-align: right;\">\n",
       "      <th></th>\n",
       "      <th>family</th>\n",
       "      <th>recommended</th>\n",
       "    </tr>\n",
       "  </thead>\n",
       "  <tbody>\n",
       "    <tr>\n",
       "      <th>0</th>\n",
       "      <td>family_0</td>\n",
       "      <td>[fruit_4478, fruit_4482, fruit_4481]</td>\n",
       "    </tr>\n",
       "    <tr>\n",
       "      <th>1</th>\n",
       "      <td>family_100</td>\n",
       "      <td>[fruit_1776, fruit_176, fruit_19]</td>\n",
       "    </tr>\n",
       "    <tr>\n",
       "      <th>2</th>\n",
       "      <td>family_101</td>\n",
       "      <td>[fruit_182, fruit_59, fruit_189]</td>\n",
       "    </tr>\n",
       "    <tr>\n",
       "      <th>3</th>\n",
       "      <td>family_102</td>\n",
       "      <td>[fruit_38, fruit_132, fruit_200]</td>\n",
       "    </tr>\n",
       "    <tr>\n",
       "      <th>4</th>\n",
       "      <td>family_105</td>\n",
       "      <td>[fruit_834, fruit_19, fruit_138]</td>\n",
       "    </tr>\n",
       "  </tbody>\n",
       "</table>\n",
       "</div>"
      ],
      "text/plain": [
       "       family                           recommended\n",
       "0    family_0  [fruit_4478, fruit_4482, fruit_4481]\n",
       "1  family_100     [fruit_1776, fruit_176, fruit_19]\n",
       "2  family_101      [fruit_182, fruit_59, fruit_189]\n",
       "3  family_102      [fruit_38, fruit_132, fruit_200]\n",
       "4  family_105      [fruit_834, fruit_19, fruit_138]"
      ]
     },
     "execution_count": 107,
     "metadata": {},
     "output_type": "execute_result"
    }
   ],
   "source": [
    "result.head()"
   ]
  },
  {
   "cell_type": "code",
   "execution_count": 89,
   "id": "b07bcd73",
   "metadata": {
    "hidden": true
   },
   "outputs": [
    {
     "data": {
      "text/html": [
       "<div>\n",
       "<style scoped>\n",
       "    .dataframe tbody tr th:only-of-type {\n",
       "        vertical-align: middle;\n",
       "    }\n",
       "\n",
       "    .dataframe tbody tr th {\n",
       "        vertical-align: top;\n",
       "    }\n",
       "\n",
       "    .dataframe thead th {\n",
       "        text-align: right;\n",
       "    }\n",
       "</style>\n",
       "<table border=\"1\" class=\"dataframe\">\n",
       "  <thead>\n",
       "    <tr style=\"text-align: right;\">\n",
       "      <th></th>\n",
       "      <th>family</th>\n",
       "      <th>recommended</th>\n",
       "    </tr>\n",
       "  </thead>\n",
       "  <tbody>\n",
       "    <tr>\n",
       "      <th>2</th>\n",
       "      <td>family_101</td>\n",
       "      <td>[fruit_144, fruit_174, fruit_175]</td>\n",
       "    </tr>\n",
       "  </tbody>\n",
       "</table>\n",
       "</div>"
      ],
      "text/plain": [
       "       family                        recommended\n",
       "2  family_101  [fruit_144, fruit_174, fruit_175]"
      ]
     },
     "execution_count": 89,
     "metadata": {},
     "output_type": "execute_result"
    }
   ],
   "source": [
    "# Проверяем результат\n",
    "result[result.family == 'family_101']"
   ]
  },
  {
   "cell_type": "code",
   "execution_count": null,
   "id": "f63be68d",
   "metadata": {
    "hidden": true
   },
   "outputs": [],
   "source": [
    "result.to_csv('recommendation.csv', index=False)"
   ]
  },
  {
   "cell_type": "markdown",
   "id": "5e9cda31",
   "metadata": {
    "hidden": true
   },
   "source": [
    "### 3. Оценка качества"
   ]
  },
  {
   "cell_type": "code",
   "execution_count": 94,
   "id": "dd4a2823",
   "metadata": {
    "hidden": true
   },
   "outputs": [
    {
     "name": "stdout",
     "output_type": "stream",
     "text": [
      "true positive =  49\n",
      "false positive =  335\n",
      "precision =  0.12760416666666666\n"
     ]
    }
   ],
   "source": [
    "evaluation = pd.DataFrame(columns = ['family','fruit','eval'])\n",
    "\n",
    "true_positive = 0\n",
    "false_positive = 0\n",
    "for fam in val_family_list:\n",
    "    for i in result[result.family == fam]['recommended'].iloc[0]:\n",
    "        if i in val_df[val_df.family == fam].true_top.iloc[0]:\n",
    "            true_positive += 1\n",
    "        else:\n",
    "            false_positive += 1\n",
    "            \n",
    "precision = true_positive/(true_positive+false_positive)\n",
    "print('true positive = ', true_positive)\n",
    "print('false positive = ', false_positive)\n",
    "print('precision = ', precision)\n"
   ]
  },
  {
   "cell_type": "code",
   "execution_count": null,
   "id": "3448e25d",
   "metadata": {
    "hidden": true
   },
   "outputs": [],
   "source": [
    "result.to_csv('recommendation.csv', index=False)"
   ]
  },
  {
   "cell_type": "markdown",
   "id": "57f45861",
   "metadata": {},
   "source": [
    "# III Итоги по задаче 3"
   ]
  },
  {
   "cell_type": "markdown",
   "id": "4062cabe",
   "metadata": {},
   "source": [
    "Главной целью задачи 3 было построение рекомендаций для запросов на основании исторических данных, а также на основании запрашиваемого фрукта\n",
    "* Был использован алгоритм априори\n",
    "* Были подобраны параметры support, confidence, lift для улучшения метрики precision\n",
    "* В данных нет информации о том, нравится ли семье покупаемый фрукт, но можно использовать количество закупок\n",
    "* Минусом использования данного метода решения поставленной бизнес задачи то, что семей, у которых ассортимент очень большой, а также имеется различная периодичность закупок различных фруктов, рекоммендация может не сработать в ближайший период, а алгоритм выдает ограниченнон количество рекомендаций."
   ]
  },
  {
   "cell_type": "code",
   "execution_count": null,
   "id": "a630d7c7",
   "metadata": {},
   "outputs": [],
   "source": []
  }
 ],
 "metadata": {
  "kernelspec": {
   "display_name": "Python 3",
   "language": "python",
   "name": "python3"
  },
  "language_info": {
   "codemirror_mode": {
    "name": "ipython",
    "version": 3
   },
   "file_extension": ".py",
   "mimetype": "text/x-python",
   "name": "python",
   "nbconvert_exporter": "python",
   "pygments_lexer": "ipython3",
   "version": "3.8.8"
  }
 },
 "nbformat": 4,
 "nbformat_minor": 5
}
